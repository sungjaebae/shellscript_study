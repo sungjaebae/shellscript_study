{
 "cells": [
  {
   "cell_type": "markdown",
   "metadata": {},
   "source": [
    "# 처음 배우는 셸 스크립트#6\n",
    "\n",
    "## 3부 예제와 함께 활용하는 셸 스크립트 활용\n",
    "시스템 운영, 개발환경 구축, 클라우드 시스템 운영 시 발생하는 다양한 상황에서 셸 스크립트를 활용한다.  \n",
    "상황 -> 방법 찾기 -> 스크립트 생성 -> 문제 해결  \n",
    "\n",
    "## 9 환경 설정\n",
    "여러 애플리케이션을 설치하다보면, 환경설정을 해야할 상황이 발생한다.  \n",
    "예를 들어 클러스터된 서비스를 구축한다고 가정해보자. 클러스터간 ssh를 통해 패스워드 없이 ssh-key로 접속설정하거나  \n",
    "클러스터간 시간 동기화를 위해 NTP 설정을 해야 하는 경우도 있다.  \n",
    "소스 공유를 위해 NFS 스토리지에 마운트를 해야 하는 상황도 발생한다. 다 셸 스크립트로 할 수 있다\n",
    "\n",
    "### 9.1 sshd 환경 설정 변경할 때\n",
    "##### 상황 \n",
    "보안을 위해 접근을 제한하거나, 포트를 변경하기도 한다. 모든 서버의 sshd 환경 설정을 동일하게 해야 한다.  \n",
    "##### 방법 찾기\n",
    "ssh에서 가장 설정 변경을 많이 하는 항목을 알아보고, 환경 설정파일의 위치와 해당 항목들의 설정값을 확인한다  \n",
    "필요한 정보\n",
    "- SSH 환경 설정파일 경로: /etc/ssh/sshd_config\n",
    "- Port: SSH 기본 포트인 22번을 다른 번호로 변경할 때 주로 사용\n",
    "- PermitRootLogin: root 계정으로 SSH 접근을 허용하는지 여부\n",
    "- PasswordAuthentication: 패스워드를 이용한 인증을 허용할지에 대한 여부\n",
    "- PubkeyAuthentication: 퍼블릭키를 이용한 인증을 허용할지에 대한 여부\n",
    "프로세스\n",
    "- 환경 설정파일 경로를 변수에 저장한다\n",
    "- Switch~case문을 이용하여 해당 번호를 입력받으면 환경 설정을 한다\n",
    "- 해당 경로에서 해당 항목을 찾아 sed를 이용하여 값을 변경하고, 파일에 적용한다\n",
    "- 설정이 변경되었으면 SSH 서비스를 재시작한다\n",
    "- 운영체제가 레드햇 리눅스이고, Port를 변경했다면 Selinux 설정을 변경한다\n",
    "##### 스크립트 생성"
   ]
  },
  {
   "cell_type": "code",
   "execution_count": null,
   "metadata": {
    "vscode": {
     "languageId": "shellscript"
    }
   },
   "outputs": [],
   "source": [
    "%%bash\n",
    "#!/bin/bash\n",
    "\n",
    "conf_path=/etc/ssh/sshd_config\n",
    "\n",
    "function restart_system()\n",
    "{\n",
    "  echo \"Restart sshd\"\n",
    "  systemctl restart sshd\n",
    "}\n",
    "\n",
    "function selinux()\n",
    "{\n",
    "  # 운영체제가 레드햇 리눅스이고, port를 수정했을 경우\n",
    "  if [[ $(cat /etc/*release | grep -i redhat | wc -l) > 1 ]] && [[ $1 == 1 ]]\n",
    "  then\n",
    "    # SELinux에 해당 port 추가\n",
    "    echo \"Add port $port to selinux\"\n",
    "    semanage port -a -t ssh_port_t -p tcp $port\n",
    "  fi\n",
    "}\n",
    "\n",
    "# 환경설정 파일 백업\n",
    "cp $conf_path ${conf_path}.bak.$(date +%Y%m%d)\n",
    "\n",
    "case $1 in\n",
    "  1)\n",
    "  # Port 변경\n",
    "  read -p \"Please input port: \" port\n",
    "  exist_conf=$(cat $conf_path | grep -e '^#Port' -e '^Port')\n",
    "  sed -i \"s/$exist_conf/Port $port/g\" $conf_path\n",
    "  restart_system\n",
    "  selinux $1\n",
    "  ;;\n",
    "  2)\n",
    "  # PermitRootLogin 변경\n",
    "  read -p \"Please input PermitRootLogin yes or no: \" rootyn\n",
    "  exist_conf=$(cat $conf_path | grep -e '^#PermitRootLogin' -e '^PermitRootLogin')\n",
    "  sed -i \"s/$exist_conf/PermitRootLogin $rootyn/g\" $conf_path\n",
    "  restart_system\n",
    "  ;;\n",
    "  3)\n",
    "  # PasswordAuthentication 변경\n",
    "  read -p \"Please input PasswordAuthentication yes or no: \" pwyn\n",
    "  exist_conf=$(cat $conf_path | grep -e '^#PasswordAuthentication' -e '^PasswordAuthentication')\n",
    "  sed -i \"s/$exist_conf/PasswordAuthentication $pwyn/g\" $conf_path\n",
    "  restart_system\n",
    "  ;;\n",
    "  4)\n",
    "  # PubkeyAuthentication 변경\n",
    "  read -p \"Please input PubkeyAuthentication yes or no: \" keyyn\n",
    "  exist_conf=$(cat $conf_path | grep -e '^#PubkeyAuthentication' -e '^PubkeyAuthentication')\n",
    "  sed -i \"s/$exist_conf/PubkeyAuthentication $keyyn/g\" $conf_path\n",
    "  restart_system\n",
    "  ;;\n",
    "  *)\n",
    "  echo \"Please input with following number\"\n",
    "  echo \"1) Port  2) PermitRootLogin  3) PasswordAuthentication  4)PubkeyAuthentication\"\n",
    "  echo \"Usage: config-sshd.sh 2\"\n",
    "esac\n",
    "\n"
   ]
  },
  {
   "cell_type": "code",
   "execution_count": null,
   "metadata": {
    "vscode": {
     "languageId": "shellscript"
    }
   },
   "outputs": [],
   "source": [
    "%%bash\n",
    "## 문제해결\n",
    "bash conf-sshd.sh\n",
    "bash conf.sshd.sh 1\n",
    "bash conf.sshd.sh 2\n",
    "bash conf.sshd.sh 3\n",
    "bash conf.sshd.sh 4\n",
    "cat /etc/ssh/sshd_config | grep -e '^Port' -e '^Permit' -e '^Password' -e '^Pubkey'\n",
    "semanage port -l | grep ssh"
   ]
  },
  {
   "cell_type": "markdown",
   "metadata": {},
   "source": [
    "### 9.2 ntp 서버 환경 설정할 때\n",
    "##### 상황 \n",
    "NTP 서버는 ntp를 설치하여 구축할 수도 있고, 보완하여 나온 chrony를 설치하여 구축할 수도 있다.  \n",
    "NTP 패키지를 확인하고, 환경 설정을 동일하게 수정하자    \n",
    "##### 방법 찾기\n",
    "NTP에서 가장 설정 변경을 많이 하는 항목을 알아보고, 환경 설정파일의 위치와 해당 항목들의 설정값을 확인한다  \n",
    "필요한 정보\n",
    "- Chrony일 경우 환경 설정파일 경로: /etc/chrony.conf\n",
    "- Ntp일 경우 환경 설정파일 경로: /etc/ntp.conf\n",
    "- ntp server pool: ntp.conf와 chrony.cnf에서 동일하게 사용되는 ntp 서버 목록\n",
    "- allow: ntp를 접근할 수 있는 네트워크 대역을 제한할 때 사용하며, chrony.conf에서 쓰임\n",
    "- restrict: ntp를 접근할 수 있는 네트워크 대역을 제한할 때 사용하며, ntp.conf에서 쓰임\n",
    "프로세스\n",
    "- 파라미터로 ip 대역을 입력받아 정규 표현식에 의해 ip 대역인지를 확인한다\n",
    "- 잘못 입력했다면 메시지를 출력한다\n",
    "- 설치된 ntp 패키지 정보를 확인한다\n",
    "- 기본으로 설정되어 있는 ntp 서버 풀을 주석 처리한다\n",
    "- 주석 처리된 서버 풀 아래에 로컬 서버 정보를 서버 풀로 추가한다\n",
    "- IP 대역을 확인 후 있으면 allow나 restrict로 설정한다\n",
    "- Ntp 서비스를 재시작한다\n",
    "- Firewall에 ntp 포트를 추가한다\n",
    "##### 스크립트 생성"
   ]
  },
  {
   "cell_type": "code",
   "execution_count": null,
   "metadata": {
    "vscode": {
     "languageId": "shellscript"
    }
   },
   "outputs": [],
   "source": [
    "%%bash\n",
    "#!/bin/bash\n",
    "\n",
    "ip=\"\"\n",
    "netmask=\"\"\n",
    "conf=\"\"\n",
    "service=\"\"\n",
    "\n",
    "# IP CIDR을 NetMask로 변경함.\n",
    "function transfer_iprange()\n",
    "{\n",
    "    ip=${1%/*}  # 매개변수 확장자 %으로 /이후의 글자를 날려버린다\n",
    "    if [[ ${1#*/} == 16 ]]; then netmask=\"255.255.0.0\"; fi  # 매개변수 확장자 #으로 /이전의 글자를 날려버린다\n",
    "    if [[ ${1#*/} == 23 ]]; then netmask=\"255.255.254.0\"; fi\n",
    "    if [[ ${1#*/} == 24 ]]; then netmask=\"255.255.255.0\"; fi\n",
    "    if [[ ${1#*/} == 28 ]]; then netmask=\"255.255.240.0\"; fi\n",
    "}\n",
    "\n",
    "if [[ -n $1 ]]; then\n",
    "  # 정규 표현식을 이용하여 IP 범위를 정상적으로 입력했는지 확인\n",
    "  range_chk=$(echo \"$1\" | grep -E \"^[0-9]{1,3}.[0-9]{1,3}.[0-9]{1,3}.0/[0-9]{2}$\" | wc -l)\n",
    "  # 정규 표현식과 다르다면 메시지를 출력하고 스크립트 종료\n",
    "  if [[ range_chk -eq 0 ]]; then\n",
    "    echo \"This ip cidr is wrong. Please input the right ip cidr.\"\n",
    "    exit;\n",
    "  fi\n",
    "fi\n",
    "\n",
    "# chrony가 설치되어 있는지 ntp가 설치되어 있는지 환경설정 파일을 통해 확인\n",
    "if [[ -f /etc/chrony.conf ]]; then \n",
    "  conf=/etc/chrony.conf\n",
    "  service=chronyd.service\n",
    "elif [[ -f /etc/ntp.conf ]]; then \n",
    "  conf=/etc/ntp.conf\n",
    "  service=ntpd.service\n",
    "fi\n",
    "\n",
    "# 서버 주소 변경\n",
    "sed -i \"s/^server/#server/g\" $conf\n",
    "sed -i \"/^#server 3/ a \\server 127.127.1.0\" $conf\n",
    "  \n",
    "# 파라메터로 IP가 있으면  allow 설정\n",
    "if [[ -n $1 && -f /etc/chrony.conf ]]; then\n",
    "    sed -i \"/^#allow/ a \\allow $1\" $conf\n",
    "# 환경설정 파일이 ntp.conf 일 경우\n",
    "elif [[ -n $1 && -f /etc/ntp.conf ]]; then\n",
    "    transfer_iprange $1\n",
    "    restrict=\"restrict $ip mask $netmask nomodify notrap\"\n",
    "    sed -i \"/^#restrict/ a \\restrict $restrict\" $conf\n",
    "fi\n",
    "\n",
    "# 서비스 재시작  \n",
    "echo \"systemctl restart $service\"\n",
    "systemctl restart $service\n",
    "\n",
    "# 포트 추가\n",
    "echo \"firewall-cmd --add-service=ntp\"\n",
    "firewall-cmd --add-service=ntp\n",
    "echo \"firewall-cmd --add-service=ntp --permanant\"\n",
    "firewall-cmd --add-service=ntp --permanant\n"
   ]
  },
  {
   "cell_type": "code",
   "execution_count": null,
   "metadata": {
    "vscode": {
     "languageId": "shellscript"
    }
   },
   "outputs": [],
   "source": [
    "%%bash\n",
    "## 문제해결\n",
    "bash conf-ntp.sh\n",
    "bash conf-ntp.sh 10.10.0.10/24\n",
    "bash conf-ntp.sh 10.10.0.0/24\n",
    "cat /etc/chrony.conf | grep -e server -e allow"
   ]
  },
  {
   "cell_type": "markdown",
   "metadata": {},
   "source": [
    "### 9.3 lvm 환경 설정할 때 (생략)\n",
    "### 9.4 NFS 스토리지 마운트할 때\n",
    "##### 상황 \n",
    "NFS 스토리지는 네트워크를 통해 볼륨을 사용할 수 있으며, 여러 서버에서 동시에 접근하여 볼륨을 사용할 수 있는 공유 스토리지이다.  \n",
    "개발 환경을 구축할 때, 데이터베이스 시스템을 구축할 때 많이 사용된다.  \n",
    "NFS 스토리지를 리눅스에서 사용할 경우, 스토리지와 마운트할 디렉터리를 생성해야 한다.  \n",
    "재부팅 시에도 스토리지 연결을 유지하기 위해 /etc/fstab에 NFS 스토리지 정보를 등록해야 한다.  \n",
    "셸 스크립트로 만들어두면 필요시 유용하게 NFS 스토리지를 마운트하여 사용할 수 있다.  \n",
    "##### 방법 찾기\n",
    "NFS 스토리지 마운트는 베어메탈 환경의 서버, 가상머신 환경의 서버에서도 사용할 수 있다.\n",
    "필요한 정보\n",
    "- 마운트 명령어: mount\n",
    "- 마운트할 대상 NFS 서버 경로\n",
    "- 마운트할 디렉터리\n",
    "- 마운트할 NFS 버전 및 옵션\n",
    "프로세스\n",
    "- 마운트할 대상 NFS 서버 경로를 변수에 저장한다\n",
    "- 마운트할 디렉터리명은 변수에 저장한다\n",
    "- 마운트할 디렉터리가 있는지 체크 후 디렉터리를 생성한다\n",
    "- 생성한 디렉터리에 마운트 대상 NFS를 기본 옵션으로 마운트한다\n",
    "- 마운트가 되면 mount 명령어를 이용하여 마운트된 디렉터리의 NFS 정보를 확인한다\n",
    "- /etc/fstab에 해당 정보를 추가한다\n",
    "- /etc/fstab을 열어 추가된 정보를 확인한다\n",
    "##### 스크립트 생성"
   ]
  },
  {
   "cell_type": "code",
   "execution_count": null,
   "metadata": {
    "vscode": {
     "languageId": "shellscript"
    }
   },
   "outputs": [],
   "source": [
    "%%bash\n",
    "#!/bin/bash\n",
    "\n",
    "# 변수에 마운트 대상 NFS 경로 및 디렉토리 저장 \n",
    "nfs_server=\"nfs.host01:/temp\"\n",
    "nfs_dir=/nfs_temp\n",
    "\n",
    "# 마운트할 디렉토리가 있는지 체크후 없으면 디렉토리 생성\n",
    "if [ ! -d $nfs_dir ]; then mkdir -p $nfs_dir; fi\n",
    "\n",
    "# 해당 NFS와 디렉토리 마운트\n",
    "mount -t nfs $nfs_server $nfs_dir\n",
    "\n",
    "# 마운트 정보에서 마운트 타입과 옵션 추출\n",
    "nfs_type=$(mount | grep $nfs_dir | awk '{print $5}')\n",
    "nfs_opt=$(mount | grep $nfs_dir | awk '{print $6}' | awk -F ',' '{print $1\",\"$2\",\"$3}')\n",
    "\n",
    "# 추출한 마운트 정보를 조합하여 /etc/fstab에 설정\n",
    "echo \"$nfs_server  $nfs_dir  $nfs_type  ${nfs_opt:1}  1  1\" >> /etc/fstab\n",
    "\n",
    "# 설정한 /etc/fstab 내용 확인\n",
    "cat /etc/fstab | grep $nfs_dir \n",
    "\n",
    "# 마운트 된 디렉토리 정보 확인\n",
    "df -h | grep $nfs_dir\n"
   ]
  },
  {
   "cell_type": "code",
   "execution_count": null,
   "metadata": {
    "vscode": {
     "languageId": "shellscript"
    }
   },
   "outputs": [],
   "source": [
    "%%bash\n",
    "##문제 해결\n",
    "mount | grep /nfs_temp\n",
    "mount | grep /nfs_temp | awk '{print $5}'\n",
    "mount | grep nfs_dir | awk '{print $6}' | awk -F ',' ' {print $1\",\"$2\",\"$3}'\n",
    "bash conf-nfs.sh"
   ]
  },
  {
   "cell_type": "markdown",
   "metadata": {},
   "source": [
    "### 9.5 네트워크 ip 설정할 때\n",
    "##### 상황 \n",
    "엔지니어는 쉽지만 일반인은 ip설정이 매우 어려운 일일 수 있다.  \n",
    "처음 네트워크ip를 설정할 때 스크립트화해 놓는다면 좋다.  \n",
    "##### 방법 찾기\n",
    "리눅스 종류와 버전에 따라 다르다. 데비안은 우분투 18.04이상, 페도라는 레드햇 8, centos8이상에서 설정한다.  \n",
    "필요한 정보\n",
    "- 데비안 계열의 네트워크 설정 방법: netplan 파일 설정\n",
    "- 페도라 계열의 네트워크 설정 방법: nmcli 명령어로 설정\n",
    "- network interface name\n",
    "- ip/cidr\n",
    "- gateway\n",
    "- dns\n",
    "프로세스\n",
    "- 운영체제 타입을 확인 후 변수에 저장한다\n",
    "- 네트워크 디바이스 명을 조회하여 보여준다\n",
    "- 네트워크 IP 설정에 필요한 정보를 사용자로부터 입력받는다\n",
    "- 네트워크 정보를 입력받지 않았을 경우 입력하라는 메시지 출력 후 스크립트를 종료한다\n",
    "- 운영체제 타입이 페도라일 경우 nmcli를 이용해 네트워크 IP 설정한다\n",
    "- 운영체제 타입이 데비안인 경우 netplan 파일을 생성하여 IP 설정한다\n",
    "\n",
    "##### 스크립트 생성"
   ]
  },
  {
   "cell_type": "code",
   "execution_count": null,
   "metadata": {
    "vscode": {
     "languageId": "shellscript"
    }
   },
   "outputs": [],
   "source": [
    "%%bash\n",
    "#!/bin/bash\n",
    "\n",
    "# 운영체제 타입 확인\n",
    "ostype=$(cat /etc/*release| grep ID_LIKE | sed \"s/ID_LIKE=//;s/\\\"//g\")\n",
    "\n",
    "# 네트워크 정보를 사용자로부터 입력 받음\n",
    "echo \"=== Network Devices ===\"\n",
    "ip a | grep '^[0-9]' | awk '{print $1\" \"$2}' | grep -v -e 'lo' -e 'v' -e 't'\n",
    "read -p \"Please input network interface: \" net_name\n",
    "read -p \"Please input network ip(ex:192.168.122.10/24): \" net_ip\n",
    "read -p \"Please input network gateway: \" net_gw\n",
    "read -p \"Please input network dns: \" net_dns\n",
    "\n",
    "# 하나라도 입력하지 않았을 경우 입력하라는 메시지 출력후 스크립트 종료\n",
    "if [[ -z $net_name ]] || [[ -z $net_ip ]] || [[ -z $net_gw ]] || [[ -z $net_dns ]]; then\n",
    "  echo \"You need to input network information. Please retry this script\" \n",
    "  exit;\n",
    "fi \n",
    "\n",
    "# 운영체제가 페도라 계열일 경우 nmcli 명령어를 이용하여 네트워크 IP 설정\n",
    "if [[ $ostype == \"fedora\" ]]; then\n",
    "  nmcli con add con-name $net_name type ethernet ifname $net_name ipv4.address $net_ip ipv4.gateway $net_gw ipv4.dns $net_dns ipv4.method manual\n",
    "  nmcli con up $net_name\n",
    "# 운영체제가 데미안 계열일 경우 netplan에 yaml 파일을 생성하여 네트워크 IP 설정\n",
    "elif [[ $ostype == \"debian\" ]]; then\n",
    "  ip_chk=$(grep $net_name /etc/netplan/*.yaml|wc -l)\n",
    "  # 설정하고자 하는 IP로 설정파일이 없을 경우 관련 네트워크 yaml 파일 생성\n",
    "  if [ $ip_chk -eq 0 ]; then                      #EOF 다음 라인부터 EOF가 나올 떄까지의 모든 문자열을 .yaml파일에 저장한다는 의미다\n",
    "    cat > /etc/netplan/${net_name}.yaml << EOF  \n",
    "network:\n",
    " version: 2\n",
    " renderer: networkd\n",
    " ethernets:\n",
    "   $net_name:\n",
    "     dhcp4: no\n",
    "     dhcp6: no\n",
    "     addresses: [$net_ip]\n",
    "     gateway4: $net_gw\n",
    "     nameservers:\n",
    "       addresses: [$net_dns]\n",
    "EOF\n",
    "    echo \"cat /etc/netplan/${net_name}.yaml\"\n",
    "    cat /etc/netplan/${net_name}.yaml\n",
    "    echo \"apply netplan\"\n",
    "    netplan apply\n",
    "  else\n",
    "    echo \"This $net_name is configured already.\" \n",
    "  fi\n",
    "fi\n",
    "\n"
   ]
  },
  {
   "cell_type": "code",
   "execution_count": null,
   "metadata": {
    "vscode": {
     "languageId": "shellscript"
    }
   },
   "outputs": [],
   "source": [
    "%%bash\n",
    "##문제 해결\n",
    "bash conf-netip.sh\n",
    "ip a s"
   ]
  }
 ],
 "metadata": {
  "kernelspec": {
   "display_name": "Python 3.8.10 64-bit",
   "language": "python",
   "name": "python3"
  },
  "language_info": {
   "name": "python",
   "version": "3.8.10"
  },
  "orig_nbformat": 4,
  "vscode": {
   "interpreter": {
    "hash": "e7370f93d1d0cde622a1f8e1c04877d8463912d04d973331ad4851f04de6915a"
   }
  }
 },
 "nbformat": 4,
 "nbformat_minor": 2
}
