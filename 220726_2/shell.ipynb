{
 "cells": [
  {
   "cell_type": "markdown",
   "metadata": {},
   "source": [
    "# 처음 배우는 셸 스크립트#4\n",
    "\n",
    "## 5장 특정 인덱스 문자열을 출력할 수 있는 awk\n",
    "\n",
    "출력되는 목록에서 특정 컬럼에 해당하는 문자열을 추출해야 할 때가 있다.  \n",
    "추출한 값을 또다른 명령어를 실행하기 위한 파라미터로 사용해야 할 때가 있다.  \n",
    "\n",
    "awk는 사전에 실행된 명령어의 결과나 파일로부터 레코드를 선택하고, 선택된 레코드의 특정 인덱스에 해당하는 값을 출력할 수 있다. 또한 선택된 레코드를 가지고, 패턴과 일치하는지 확인하고, 데이터 조작 및 연산 등의 액션을 수행하여 그 결과를 출력한다\n",
    "\n",
    "## 5.1 awk 사용법 알아보기\n",
    "awk은 GNU 기반의 gawk와 BSD Debian 계열의 mawk가 사용된다.\n",
    "여기서는 gawk를 기준으로 설명한다.\n",
    "\n",
    "awk [옵션] '패턴 { 액션 }' 대상파일  \n",
    "awk [옵션] -f awk스크립트 대상파일  \n",
    "명령어 | awk [옵션] '패턴 { 액션 }\n",
    "테이블을 대상으로 값을 추출할 때 사용한다  "
   ]
  },
  {
   "cell_type": "code",
   "execution_count": 9,
   "metadata": {
    "vscode": {
     "languageId": "shellscript"
    }
   },
   "outputs": [
    {
     "name": "stderr",
     "output_type": "stream",
     "text": [
      "awk: cmd. line:1:  $1 = dr* { print }\n",
      "awk: cmd. line:1:           ^ syntax error\n"
     ]
    },
    {
     "ename": "CalledProcessError",
     "evalue": "Command 'b\"#!/bin/bash\\n## \\xeb\\x91\\x90 \\xeb\\xb2\\x88\\xec\\xa7\\xb8 \\xed\\x95\\x84\\xeb\\x93\\x9c\\xea\\xb0\\x92\\xec\\x9d\\xb4 2\\xec\\x9d\\xb8 \\xeb\\xa0\\x88\\xec\\xbd\\x94\\xeb\\x93\\x9c\\xec\\x9d\\x98 \\xeb\\xac\\xb8\\xec\\x9e\\x90\\xec\\x97\\xb4 \\xec\\xb6\\x9c\\xeb\\xa0\\xa5\\nls -al Script/ > file-list.txt\\nawk ' $1 = dr* { print }' file-list.txt\\n\"' returned non-zero exit status 1.",
     "output_type": "error",
     "traceback": [
      "\u001b[0;31m---------------------------------------------------------------------------\u001b[0m",
      "\u001b[0;31mCalledProcessError\u001b[0m                        Traceback (most recent call last)",
      "\u001b[1;32m/home/ubuntu/workspace/shellscript_study/220726_2/shell.ipynb 셀 2\u001b[0m in \u001b[0;36m<cell line: 1>\u001b[0;34m()\u001b[0m\n\u001b[0;32m----> <a href='vscode-notebook-cell://ssh-remote%2Boracle/home/ubuntu/workspace/shellscript_study/220726_2/shell.ipynb#ch0000001vscode-remote?line=0'>1</a>\u001b[0m get_ipython()\u001b[39m.\u001b[39;49mrun_cell_magic(\u001b[39m'\u001b[39;49m\u001b[39mbash\u001b[39;49m\u001b[39m'\u001b[39;49m, \u001b[39m'\u001b[39;49m\u001b[39m'\u001b[39;49m, \u001b[39m\"\u001b[39;49m\u001b[39m#!/bin/bash\u001b[39;49m\u001b[39m\\n\u001b[39;49;00m\u001b[39m## 두 번째 필드값이 2인 레코드의 문자열 출력\u001b[39;49m\u001b[39m\\n\u001b[39;49;00m\u001b[39mls -al Script/ > file-list.txt\u001b[39;49m\u001b[39m\\n\u001b[39;49;00m\u001b[39mawk \u001b[39;49m\u001b[39m'\u001b[39;49m\u001b[39m $1 = dr* \u001b[39;49m\u001b[39m{\u001b[39;49m\u001b[39m print }\u001b[39;49m\u001b[39m'\u001b[39;49m\u001b[39m file-list.txt\u001b[39;49m\u001b[39m\\n\u001b[39;49;00m\u001b[39m\"\u001b[39;49m)\n",
      "File \u001b[0;32m~/.local/lib/python3.8/site-packages/IPython/core/interactiveshell.py:2358\u001b[0m, in \u001b[0;36mInteractiveShell.run_cell_magic\u001b[0;34m(self, magic_name, line, cell)\u001b[0m\n\u001b[1;32m   2356\u001b[0m \u001b[39mwith\u001b[39;00m \u001b[39mself\u001b[39m\u001b[39m.\u001b[39mbuiltin_trap:\n\u001b[1;32m   2357\u001b[0m     args \u001b[39m=\u001b[39m (magic_arg_s, cell)\n\u001b[0;32m-> 2358\u001b[0m     result \u001b[39m=\u001b[39m fn(\u001b[39m*\u001b[39;49margs, \u001b[39m*\u001b[39;49m\u001b[39m*\u001b[39;49mkwargs)\n\u001b[1;32m   2359\u001b[0m \u001b[39mreturn\u001b[39;00m result\n",
      "File \u001b[0;32m~/.local/lib/python3.8/site-packages/IPython/core/magics/script.py:153\u001b[0m, in \u001b[0;36mScriptMagics._make_script_magic.<locals>.named_script_magic\u001b[0;34m(line, cell)\u001b[0m\n\u001b[1;32m    151\u001b[0m \u001b[39melse\u001b[39;00m:\n\u001b[1;32m    152\u001b[0m     line \u001b[39m=\u001b[39m script\n\u001b[0;32m--> 153\u001b[0m \u001b[39mreturn\u001b[39;00m \u001b[39mself\u001b[39;49m\u001b[39m.\u001b[39;49mshebang(line, cell)\n",
      "File \u001b[0;32m~/.local/lib/python3.8/site-packages/IPython/core/magics/script.py:305\u001b[0m, in \u001b[0;36mScriptMagics.shebang\u001b[0;34m(self, line, cell)\u001b[0m\n\u001b[1;32m    300\u001b[0m \u001b[39mif\u001b[39;00m args\u001b[39m.\u001b[39mraise_error \u001b[39mand\u001b[39;00m p\u001b[39m.\u001b[39mreturncode \u001b[39m!=\u001b[39m \u001b[39m0\u001b[39m:\n\u001b[1;32m    301\u001b[0m     \u001b[39m# If we get here and p.returncode is still None, we must have\u001b[39;00m\n\u001b[1;32m    302\u001b[0m     \u001b[39m# killed it but not yet seen its return code. We don't wait for it,\u001b[39;00m\n\u001b[1;32m    303\u001b[0m     \u001b[39m# in case it's stuck in uninterruptible sleep. -9 = SIGKILL\u001b[39;00m\n\u001b[1;32m    304\u001b[0m     rc \u001b[39m=\u001b[39m p\u001b[39m.\u001b[39mreturncode \u001b[39mor\u001b[39;00m \u001b[39m-\u001b[39m\u001b[39m9\u001b[39m\n\u001b[0;32m--> 305\u001b[0m     \u001b[39mraise\u001b[39;00m CalledProcessError(rc, cell)\n",
      "\u001b[0;31mCalledProcessError\u001b[0m: Command 'b\"#!/bin/bash\\n## \\xeb\\x91\\x90 \\xeb\\xb2\\x88\\xec\\xa7\\xb8 \\xed\\x95\\x84\\xeb\\x93\\x9c\\xea\\xb0\\x92\\xec\\x9d\\xb4 2\\xec\\x9d\\xb8 \\xeb\\xa0\\x88\\xec\\xbd\\x94\\xeb\\x93\\x9c\\xec\\x9d\\x98 \\xeb\\xac\\xb8\\xec\\x9e\\x90\\xec\\x97\\xb4 \\xec\\xb6\\x9c\\xeb\\xa0\\xa5\\nls -al Script/ > file-list.txt\\nawk ' $1 = dr* { print }' file-list.txt\\n\"' returned non-zero exit status 1."
     ]
    }
   ],
   "source": [
    "%%bash\n",
    "#!/bin/bash\n",
    "## 두 번째 필드값이 2인 레코드의 문자열 출력\n",
    "ls -al Script/ > file-list.txt\n",
    "awk ' $1 = dr* { print $3 }' file-list.txt\n"
   ]
  },
  {
   "cell_type": "markdown",
   "metadata": {},
   "source": [
    "$2는 두 번째 필드값을 의미한다  \n",
    "$2 == 2는 패턴에 해당한다  \n",
    "{}  안의 print 문은 액션에 해당한다  \n",
    "$NF는 number of field의 약자로 마지막 필드의 문자열을 출력하겠다는 의미로 awk에서 제공하는 내장 변수다"
   ]
  },
  {
   "cell_type": "markdown",
   "metadata": {},
   "source": [
    "### 5.2 awk 프로그래밍\n",
    "어떤 인덱스의 값을 추출할 것인지 명시한다  \n",
    "1. 어떤 값을 추출할 것인지 명시하는 패턴\n",
    "2. 추출된 레코드를 전부 출력할 것인지, 특정 필드의 값만 출력할 것인지 명시하는 액션\n",
    " 패턴은 생략 가능하다. 패턴이 명시되지 않으면 모든 인덱스가 액션에 들어간다.\n",
    "\n",
    " ### 액션\n",
    " {} 사이에 기술된다. 액션은 제어문과 입출력문으로 구성된다.  \n",
    " 제어문은 셸 스크립트 기본 문법과 매우 유사하고, 입출력문은 C언어와 유사하다.\n",
    "\n",
    " |액션|설명|\n",
    " |----|----|\n",
    " |print|대상 파일 내용을 그대로 출력함|\n",
    " |print 필드리스트| 대상 파일의 필드 인덱스($0~$n), 자체변수 $NF, $FNR, 문자열등을 조합하여 출력|\n",
    " |print 필드리스트 > 파일| 파일에 출력함|\n",
    " |printf 포맷, 필드리스트| 포맷에 맞춰서 출력함|\n",
    " |printf 포맷, 필드리스트 > 파일| 포맷에 맞춰서 파일에 출력함|\n",
    " |getline|대상 파일의 짝수 라인과 마지막 라인을 읽어들임. 단독으로 사용할 수 없으며, print 등과 함께 사용해야 함|\n",
    " |getline var|대상 파일의 홀수 라인을 읽어들임. 단독으로 사용할 수 없으며, print 등과 함께 사용해야 함|\n",
    " |getline < 파일|명시한 파일의 값을 읽어들임. 단독으로 사용할 수 없으며, print 등과 함께 사용해야 함|\n",
    " |getline var <파일|명시한 파일의 값을 읽어 var에 저장함. 단독으로 사용할 수 없으며, print 등과 함께 사용해야 함|"
   ]
  },
  {
   "cell_type": "code",
   "execution_count": 10,
   "metadata": {
    "vscode": {
     "languageId": "shellscript"
    }
   },
   "outputs": [
    {
     "name": "stdout",
     "output_type": "stream",
     "text": [
      "-rw-rw----.  1   nalee nalee  65942 05-15 16:49 aa.txt\n",
      "-rw-------.  1   nalee nalee     40 05-22 16:34 amin.txt\n",
      "-rw-rw----.  1   nalee nalee  65942 05-15 16:49 bb.txt\n",
      "-rw-rw-r--.  1   nalee nalee    750 05-13 14:40 expression.tar.gz\n",
      "-rw-------.  1   nalee nalee    717 05-21 12:26 expression.txt\n",
      "drwxrwxr-x.  2   nalee nalee     87 05-20 17:09 File\n",
      "-rw-rw-r--.  1   test   test      0 05-22 14:28 findtestfile\n",
      "-rwxr-xr-x.  1   nalee nalee 159024 05-13 20:31 grep-test\n",
      "drwxrwxr-x.  2   nalee nalee     86 05-21 13:07 pattern\n",
      "-rw-r--r--.  1   root   root      0 05-24 11:52 rootfile\n",
      "-rw-rw-rw-.  1   nalee nalee     60 05-21 12:27 Separator.txt\n",
      "-r--r--r--.  1   nalee nalee    721 05-19 11:14 test.txt\n",
      "\n",
      "-rw-rw----.  1   nalee nalee  65942 05-15 16:49 aa.txt\n",
      "-rw-------.  1   nalee nalee     40 05-22 16:34 amin.txt\n",
      "-rw-rw----.  1   nalee nalee  65942 05-15 16:49 bb.txt\n"
     ]
    }
   ],
   "source": [
    "%%bash\n",
    "#!/bin/bash\n",
    "cat awk-sample.txt\n",
    "echo \"\"\n",
    "cat awk-sample1.txt"
   ]
  },
  {
   "cell_type": "code",
   "execution_count": 12,
   "metadata": {
    "vscode": {
     "languageId": "shellscript"
    }
   },
   "outputs": [
    {
     "name": "stdout",
     "output_type": "stream",
     "text": [
      "aa.txt\n",
      "amin.txt\n",
      "bb.txt\n"
     ]
    }
   ],
   "source": [
    "%%bash\n",
    "#!/bin/bash\n",
    "## 액션 print는 파일의 내용을 그대로 출력한다. cat과 동일하다\n",
    "awk '{ print $NF }' awk-sample1.txt"
   ]
  },
  {
   "cell_type": "code",
   "execution_count": 15,
   "metadata": {
    "vscode": {
     "languageId": "shellscript"
    }
   },
   "outputs": [
    {
     "name": "stdout",
     "output_type": "stream",
     "text": [
      "-rw-rw----.  1   nalee nalee  65942 05-15 16:49 aa.txt\n",
      "-rw-------.  1   nalee nalee     40 05-22 16:34 amin.txt\n",
      "-rw-rw----.  1   nalee nalee  65942 05-15 16:49 bb.txt\n"
     ]
    }
   ],
   "source": [
    "%%bash\n",
    "#!/bin/bash\n",
    "## 액션 print 필드리스트는 명시한 필드만 출력한다.\n",
    "## $0은 파일 전체 내용을 보여준다\n",
    "awk '{ print }' awk-sample1.txt"
   ]
  },
  {
   "cell_type": "code",
   "execution_count": 16,
   "metadata": {
    "vscode": {
     "languageId": "shellscript"
    }
   },
   "outputs": [],
   "source": [
    "%%bash\n",
    "#!/bin/bash\n",
    "## 액션 print 필드리스트 > 파일은 파일에 저장한다\n",
    "awk '{ print $1, $8 } ' > awk-result.txt awk-sample1.txt"
   ]
  },
  {
   "cell_type": "code",
   "execution_count": 17,
   "metadata": {
    "vscode": {
     "languageId": "shellscript"
    }
   },
   "outputs": [
    {
     "name": "stdout",
     "output_type": "stream",
     "text": [
      "aa.txt     05-15\n",
      "amin.txt   05-22\n",
      "bb.txt     05-15\n"
     ]
    }
   ],
   "source": [
    "%%bash\n",
    "#!/bin/bash\n",
    "## 액션 printf 포맷 필드리스트\n",
    "awk '{ printf \"%-10s %s\\n\", $8, $6 } ' awk-sample1.txt"
   ]
  },
  {
   "cell_type": "code",
   "execution_count": 18,
   "metadata": {
    "vscode": {
     "languageId": "shellscript"
    }
   },
   "outputs": [],
   "source": [
    "%%bash\n",
    "#!/bin/bash\n",
    "## 액션 printf 포맷 필드리스트>파일\n",
    "awk '{ printf \"%-10s %s\\n\", $8, $6 } '>awk-res.txt awk-sample1.txt"
   ]
  },
  {
   "cell_type": "markdown",
   "metadata": {},
   "source": [
    "### printf문에서 사용할 수 있는 포맷 유형\n",
    "\n",
    "|포맷 기호|설명|\n",
    "|---------|---|\n",
    "|%c|단일 문자|\n",
    "|%d, %i|정수|\n",
    "|%e,%E|소수|\n",
    "|%f,%F|소수|\n",
    "|%g, %G|%e, %f형식의 숫자를 줄여줌|\n",
    "|%o|8진수 정수|\n",
    "|%u|부호 없는 10진수|\n",
    "|%s|문자열|\n",
    "|%x,%X|16진수|\n",
    "|%%|%기호|\n",
    "\n",
    "------------\n",
    "\n",
    "|파라미터|설명|\n",
    "|-------|----|\n",
    "|count$|count는 숫자를 의미하며, 출력할 필드리스트 중 해당 count번째 해당하는 값을 출력하라는 의미|\n",
    "|-|왼쪽 정렬|\n",
    "|space|양수는 space, 음수는 -로 출력|\n",
    "|+|양수는+,음수는-로 출력|\n",
    "|#|제어 문자 표현시 대체 형식을 사용|\n",
    "|0|숫자를 표현할 때 공백 대신 0을 출력|\n",
    "|with|너비. 명시한 너비 안에서 오른쪽 정렬|\n",
    "|.prce|소수는 소수점 자리수, 문자열은 문자 개수|"
   ]
  },
  {
   "cell_type": "code",
   "execution_count": 25,
   "metadata": {
    "vscode": {
     "languageId": "shellscript"
    }
   },
   "outputs": [
    {
     "name": "stdout",
     "output_type": "stream",
     "text": [
      "b\n",
      "b\n"
     ]
    }
   ],
   "source": [
    "%%bash\n",
    "#!/bin/bash\n",
    "echo \"a b c\" | awk '{printf \"%2$s\\n\", $1, $2, $3}'\n",
    "echo \"a b c\" | awk '{printf \"%3$s\\n\", $1, $3, $2}'"
   ]
  },
  {
   "cell_type": "code",
   "execution_count": 27,
   "metadata": {
    "vscode": {
     "languageId": "shellscript"
    }
   },
   "outputs": [
    {
     "name": "stdout",
     "output_type": "stream",
     "text": [
      "    aa.txt, aa.txt    , \n",
      "  amin.txt, amin.txt  , \n",
      "    bb.txt, bb.txt    , \n"
     ]
    }
   ],
   "source": [
    "%%bash\n",
    "#!/bin/bash\n",
    "## 오른쪽 정렬과 왼쪽 정렬\n",
    "awk '{printf \"%10s, %-10s, \\n\", $NF, $NF}' awk-sample1.txt"
   ]
  },
  {
   "cell_type": "code",
   "execution_count": 30,
   "metadata": {
    "vscode": {
     "languageId": "shellscript"
    }
   },
   "outputs": [
    {
     "name": "stdout",
     "output_type": "stream",
     "text": [
      "30-20=10\n",
      "10.568000     10.57%\n"
     ]
    }
   ],
   "source": [
    "%%bash\n",
    "#!/bin/bash\n",
    "\n",
    "echo \"30 -20 10\" | awk '{printf \"%d%-d=%d\\n\", $1, $2, $3}'\n",
    "echo \"10.568\" | awk '{printf \"%f %9.2f%%\\n\", $1, $1}'\n"
   ]
  },
  {
   "cell_type": "code",
   "execution_count": 31,
   "metadata": {
    "vscode": {
     "languageId": "shellscript"
    }
   },
   "outputs": [
    {
     "name": "stdout",
     "output_type": "stream",
     "text": [
      "amin.txt\n",
      "bb.txt\n",
      "\n",
      "aa.txt\n",
      "bb.txt\n"
     ]
    }
   ],
   "source": [
    "%%bash\n",
    "#!/bin/bash\n",
    "## 짝수 번째 라인과 마지막 라인을 읽어 마지막 필드값 출력\n",
    "awk '{ getline; print $NF }' awk-sample1.txt\n",
    "echo \"\"\n",
    "## 홀수 번째 라인과 마지막 라인을 읽어 마지막 필드값 출력\n",
    "awk '{ getline var; print $NF }' awk-sample1.txt"
   ]
  },
  {
   "cell_type": "markdown",
   "metadata": {},
   "source": [
    "### awk의 내장 변수\n",
    "|변수명|설명|\n",
    "|-----|----|\n",
    "|ARGC|명령어의 인수 개수|\n",
    "|ARGIND|현재 파일의 ARGV 인덱스|\n",
    "|ARGV|명령줄 인수 배열|\n",
    "|FILENAME|대상 파일명|\n",
    "|FNR|대상 파일 라인 번호|\n",
    "|FS|필드 구분 기호|\n",
    "|NF|대상 파일 필드 개수|\n",
    "|NR|대상 파일 총 레코드 개수|\n",
    "|OFMT|숫자의 기본 출력 포맷|\n",
    "|OFS|출력 필드 구분 기호|\n",
    "|ORS|출력 레코드 구분 기호|\n",
    "|RS|대상 파일의 레코드 구분 기호|"
   ]
  },
  {
   "cell_type": "code",
   "execution_count": 31,
   "metadata": {
    "vscode": {
     "languageId": "shellscript"
    }
   },
   "outputs": [
    {
     "name": "stdout",
     "output_type": "stream",
     "text": [
      "Ascii_text 1 nalee nalee 65942 05-15 16:49 aa.txt\n",
      "Ascii_text 1 nalee nalee 40 05-22 16:34 amin.txt\n",
      "Ascii_text 1 nalee nalee 65942 05-15 16:49 bb.txt\n"
     ]
    }
   ],
   "source": [
    "%%bash\n",
    "#!/bin/bash\n",
    "## getline <파일은 파일로부터 데이터를 읽어, 출력시 대상 파일의 데이터를 교체한다.\n",
    "## 파일에 저장되진 않음\n",
    "echo \"Ascii_text\" >> awk-filetype.txt\n",
    "echo \"Ascii_text\" >> awk-filetype.txt\n",
    "echo \"Ascii_text\" >> awk-filetype.txt\n",
    "\n",
    "awk '{ getline $1 < \"awk-filetype.txt\"; print }' awk-sample1.txt"
   ]
  },
  {
   "cell_type": "code",
   "execution_count": 32,
   "metadata": {
    "vscode": {
     "languageId": "shellscript"
    }
   },
   "outputs": [
    {
     "name": "stdout",
     "output_type": "stream",
     "text": [
      "aa.txt\n",
      "amin.txt\n",
      "bb.txt\n"
     ]
    }
   ],
   "source": [
    "%%bash\n",
    "#!/bin/bash\n",
    "## getline var <파일\n",
    "echo \"8\" >> awk-test.txt\n",
    "echo \"8\" >> awk-test.txt\n",
    "echo \"8\" >> awk-test.txt\n",
    "\n",
    "awk '{ getline var < \"awk-test.txt\"; print $var }' awk-sample1.txt"
   ]
  },
  {
   "cell_type": "markdown",
   "metadata": {},
   "source": [
    "### 패턴\n",
    "패턴은 대상 파일에서 어떤 레코드를 출력할 것인지에 대해 명시하는 것이다.\n",
    "|패턴|설명|\n",
    "|----|----|\n",
    "|BEGIN { 액션 } END { 액션 } |입력된 데이터를 처리하기 전에 선언된 액션을 처리하고, 모든 처리가 끝난후 선언된 액션을 처리|\n",
    "|BEGINFILE { 액션 } ENDFILE { 액션 }|위와 동일하며, FILENAME이라는 awk 자체 변수를 사용할 경우 사용|\n",
    "|/정규표현식/|패턴을 정규표현식 형태로 작성할 경우 슬래시 사이에 표현함|\n",
    "|관계식|필드와 패턴값을 비교할 경우 산술 연산자를 사용하여 비교할 수 있음|\n",
    "|패턴1 && 패턴2| AND|\n",
    "|패턴1 \\|\\| 패턴2| OR|\n",
    "|패턴 1 ? 패턴2 : 패턴3|삼항연산자|\n",
    "| ( 패턴 ) | 그룹핑, 우선순위를 높임|\n",
    "| !패턴 | NOT|\n",
    "| 패턴1, 패턴2 | 패턴1부터 패턴2 사이에 해당하는 레코드를 출력함|"
   ]
  },
  {
   "cell_type": "code",
   "execution_count": 33,
   "metadata": {
    "vscode": {
     "languageId": "shellscript"
    }
   },
   "outputs": [
    {
     "name": "stdout",
     "output_type": "stream",
     "text": [
      "# Filename #\n",
      "-rw-rw----.  1   nalee nalee  65942 05-15 16:49 aa.txt\n",
      "-rw-------.  1   nalee nalee     40 05-22 16:34 amin.txt\n",
      "-rw-rw----.  1   nalee nalee  65942 05-15 16:49 bb.txt\n",
      "*the file is 3\n"
     ]
    }
   ],
   "source": [
    "%%bash\n",
    "#!/bin/bash\n",
    "awk 'BEGIN {print \"# Filename #\"} {print } END { print \"*the file is \" NR}' awk-sample1.txt"
   ]
  },
  {
   "cell_type": "code",
   "execution_count": 34,
   "metadata": {
    "vscode": {
     "languageId": "shellscript"
    }
   },
   "outputs": [
    {
     "name": "stdout",
     "output_type": "stream",
     "text": [
      "S Filename #\n",
      "aa.txt\n",
      "amin.txt\n",
      "bb.txt\n",
      "*the file is 3\n"
     ]
    }
   ],
   "source": [
    "%%bash\n",
    "#!/bin/bash\n",
    "awk 'BEGINFILE {print \"S Filename #\"} {print $8} ENDFILE { print \"*the file is \" NR}' awk-sample1.txt"
   ]
  },
  {
   "cell_type": "code",
   "execution_count": 40,
   "metadata": {
    "vscode": {
     "languageId": "shellscript"
    }
   },
   "outputs": [
    {
     "name": "stdout",
     "output_type": "stream",
     "text": [
      "-rw-rw----. 1 nalee nalee 65942 05-15 16:49 1\n",
      "-rw-------. 1 nalee nalee 40 05-22 16:34 1\n"
     ]
    }
   ],
   "source": [
    "%%bash\n",
    "#!/bin/bash\n",
    "## 소유자만 읽고 쓸 수 있는 파일 목록\n",
    "awk '/^-rw-{7}/ { print }' awk-sample1.txt\n",
    "\n",
    "## a로 시작해 txt로 끝나는 파일 목록\n",
    "#awk '/a[[:lower:]]*.txt/ { print }' awk-sample1.txt"
   ]
  },
  {
   "cell_type": "code",
   "execution_count": 41,
   "metadata": {
    "vscode": {
     "languageId": "shellscript"
    }
   },
   "outputs": [
    {
     "name": "stdout",
     "output_type": "stream",
     "text": [
      "File\n",
      "pattern\n"
     ]
    }
   ],
   "source": [
    "%%bash\n",
    "#!/bin/bash\n",
    "awk '$2 == 2 { print $NF }' awk-sample.txt"
   ]
  },
  {
   "cell_type": "code",
   "execution_count": 42,
   "metadata": {
    "vscode": {
     "languageId": "shellscript"
    }
   },
   "outputs": [
    {
     "name": "stdout",
     "output_type": "stream",
     "text": [
      "-rw-------.  1   nalee nalee     40 05-22 16:34 amin.txt\n",
      "-rw-rw-r--.  1   test   test      0 05-22 14:28 findtestfile\n",
      "-rw-r--r--.  1   root   root      0 05-24 11:52 rootfile\n"
     ]
    }
   ],
   "source": [
    "%%bash\n",
    "#!/bin/bash\n",
    "\n",
    "awk '($6 >= \"05-22\") { print }' awk-sample.txt"
   ]
  },
  {
   "cell_type": "markdown",
   "metadata": {},
   "source": [
    "복잡하면 파이썬 판다스를 쓰는게 나을 것 같다.  "
   ]
  },
  {
   "cell_type": "code",
   "execution_count": null,
   "metadata": {
    "vscode": {
     "languageId": "shellscript"
    }
   },
   "outputs": [],
   "source": []
  }
 ],
 "metadata": {
  "kernelspec": {
   "display_name": "Python 3.8.10 64-bit",
   "language": "python",
   "name": "python3"
  },
  "language_info": {
   "codemirror_mode": {
    "name": "ipython",
    "version": 3
   },
   "file_extension": ".py",
   "mimetype": "text/x-python",
   "name": "python",
   "nbconvert_exporter": "python",
   "pygments_lexer": "ipython3",
   "version": "3.8.10"
  },
  "orig_nbformat": 4,
  "vscode": {
   "interpreter": {
    "hash": "e7370f93d1d0cde622a1f8e1c04877d8463912d04d973331ad4851f04de6915a"
   }
  }
 },
 "nbformat": 4,
 "nbformat_minor": 2
}
