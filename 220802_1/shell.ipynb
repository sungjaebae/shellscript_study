{
 "cells": [
  {
   "cell_type": "markdown",
   "metadata": {},
   "source": [
    "# 처음 배우는 셸 스크립트#6\n",
    "\n",
    "## 3부 예제와 함께 활용하는 셸 스크립트 활용\n",
    "시스템 운영, 개발환경 구축, 클라우드 시스템 운영 시 발생하는 다양한 상황에서 셸 스크립트를 활용한다.  \n",
    "상황 -> 방법 찾기 -> 스크립트 생성 -> 문제 해결  \n",
    "\n",
    "## 8 시스템 구축\n",
    "1. 사용자 계정을 만든다\n",
    "2. 사용자 계정으로 시스템에 접속할 수 있도록 SSH Key를 생성한다\n",
    "3. 여러 시스템의 시간대를 설정하고 동기화한다\n",
    "4. 위 과정을 셸 스크립트로 작성한다\n",
    "\n",
    "### 8.1 사용자 계정을 만들 때\n",
    "##### 상황 \n",
    "시스템 하나에 사용자 계정 하나만 만들면 상관 없지만, 여러 서버에 만들거나 여러 계정을 만든다면 시간이 많이 든다\n",
    "##### 방법 찾기\n",
    "셸 스크립트를  개발하기 위해서 프로세스 설계가 반드시 필요하다.  \n",
    "필요한 정보  \n",
    "- 사용자 계정 ID와 패스워드\n",
    "- 사용자 계정 생성 명령어: useradd\n",
    "- 패스워드 설정 명령어: passwd\n",
    "프로세스\n",
    "- 사용자 계정과 패스워드를 입력받는다\n",
    "- 입력 정보가 없으면 에러 메시지를 보여주고 셸 스크립트를 종료한다\n",
    "- 여러 명의 사용자 계정을 생성할 경우 for문을 사용한다\n",
    "- 생성하고자 하는 사용자 계정이 이미 있는지 확인한다\n",
    "- 사용자 계정이 없으면 사용자 계정을 생성하고 패스워드를 설정한다\n",
    "- 사용자 계정이 있으면 계정이 있다고 메시지를 보여준다\n",
    "##### 스크립트 생성"
   ]
  },
  {
   "cell_type": "code",
   "execution_count": null,
   "metadata": {
    "vscode": {
     "languageId": "shellscript"
    }
   },
   "outputs": [],
   "source": [
    "%%bash\n",
    "#!/bin/bash\n",
    "## 하나의 시스템에 복수의 계정 생성\n",
    "# 사용자 계정 및 패스워드가 입력되었는지 확인\n",
    "if [[ -n $1 ]] && [[ -n $2 ]]\n",
    "then\n",
    "\n",
    "  UserList=($1)\n",
    "  Password=($2)\n",
    "\n",
    "  # for문을 이용하여 사용자 계정 생성\n",
    "  for (( i=0; i < ${#UserList[@]}; i++ ))\n",
    "  do\n",
    "    # if문을 사용하여 사용자 계정이 있는지 확인\n",
    "    if [[ $(cat /etc/passwd | grep ${UserList[$i]} | wc -l) == 0 ]]\n",
    "    then\n",
    "      # 사용자 생성 및 패스워드 설정\n",
    "      useradd ${UserList[$i]}\n",
    "      echo ${Password[$i]} | passwd ${UserList[$i]} --stdin\n",
    "    else\n",
    "      # 사용자가 있다고 메시지를 보여줌.\n",
    "      echo \"this user ${UserList[$i]} is existing.\"\n",
    "    fi\n",
    "  done\n",
    "\n",
    "else\n",
    "  # 사용자 계정과 패스워드를 입력하라는 메시지를 보여줌.\n",
    "  echo -e 'Please input user id and password.\\nUsage: adduser-script.sh \"user01 user02\" \"pw01 pw02\"'\n",
    "fi\n"
   ]
  },
  {
   "cell_type": "code",
   "execution_count": null,
   "metadata": {
    "vscode": {
     "languageId": "shellscript"
    }
   },
   "outputs": [],
   "source": [
    "%%bash\n",
    "#!/bin/bash\n",
    "## 여러 시스템에 하나의 동일한 계정 생성\n",
    "## 이 스크립트를 사용하기 전, 서버의 도메인주소나 IP주소를 알아야 하며, ssh로 root계정에 접속할 수 있어야 한다.\n",
    "for server in \"host01 host02 host03\"\n",
    "do\n",
    "  # 여러대의 시스템에 사용자 생성 및 패스워드 설정\n",
    "  echo $server\n",
    "  ssh root@$server \"useradd $1\"\n",
    "  ssh root@$server \"echo $2 | passwd $1 --stdin\"\n",
    "done\n"
   ]
  },
  {
   "cell_type": "code",
   "execution_count": null,
   "metadata": {
    "vscode": {
     "languageId": "shellscript"
    }
   },
   "outputs": [],
   "source": [
    "%%bash\n",
    "## 문제해결\n",
    "bash adduser-script.sh\n",
    "bash adduser-script.sh \"user01 user02\" \"user01pw! user02pw!\"\n",
    "bash adduser-script.sh \"user01 user02\" \"user01pw! user02pw!\""
   ]
  },
  {
   "cell_type": "markdown",
   "metadata": {},
   "source": [
    "### 8.2 SSH Key를 여러 서버에 복사할 때\n",
    "##### 상황 \n",
    "서버들에 접속할 때 SSH 키를 주로 사용한다. 쉽고 빠르게 SSH 공개 키를 서버들에 복사하자\n",
    "##### 방법 찾기\n",
    "SSH키를 먼저 생성한 후 해당 키를 여러 서버에 복사한다  \n",
    "이때 계정과 패스워드를 알고 있어야 한다.\n",
    "필요한 정보  \n",
    "- SSH Key 생성 명령어: ssh-keygen\n",
    "- SSH Key 복사 명령어: ssh-copy-id\n",
    "- 접속할 서버 정보: IP, 접속 계정 및 패스워드\n",
    "프로세스\n",
    "- 접속할 서버 정보 및 SSH 키, 공개 키 경로를 변수에 저장한다\n",
    "- SSH Key를 생성한다\n",
    "- 생성한 SSH 공개 키를 해당 서버에 복사한다\n",
    "##### 스크립트 생성"
   ]
  },
  {
   "cell_type": "code",
   "execution_count": null,
   "metadata": {
    "vscode": {
     "languageId": "shellscript"
    }
   },
   "outputs": [],
   "source": [
    "%%bash\n",
    "#!/bin/bash\n",
    "\n",
    "# 접속할 서버 정보, SSH 키 경로, 공개키 경로를 변수에 저장\n",
    "servers=\"host01 host02\"\n",
    "sshKey=\"$HOME/.ssh/key.pem\"\n",
    "sshPub=\"$HOME/.ssh/key.pem.pub\"\n",
    "\n",
    "# SSH Key 생성\n",
    "ssh-keygen -q -N \"\" -f $sshKey\n",
    "\n",
    "# 생성된 SSH Key를 해당 서버에 복사\n",
    "for server in $servers\n",
    "do\n",
    "  echo $server\n",
    "  sshpass -p \"$1\" ssh-copy-id -i $sshPub stack@$server\n",
    "done"
   ]
  },
  {
   "cell_type": "code",
   "execution_count": null,
   "metadata": {
    "vscode": {
     "languageId": "shellscript"
    }
   },
   "outputs": [],
   "source": [
    "## 문제 해결\n",
    "bash send-new-ssh-key.sh stackpw\n",
    "ssh stack@host01"
   ]
  },
  {
   "cell_type": "markdown",
   "metadata": {},
   "source": [
    "### 8.3 다수의 서버에 NTP 서버를 설치할 때\n",
    "##### 상황 \n",
    "NTP는 Netowrk Time Protocol의 약자로 서버들의 시간을 동기화하기 위해 설치하는 서비스다.\n",
    "이 서비스를 여러 서버에 설치해야 할 경우 셸 스크립트를 활용하자\n",
    "##### 방법 찾기\n",
    "NTP를 설치하기 위해서는 패키지 리포지토리에 접속할 수 있어야 한다.\n",
    "필요한 정보  \n",
    "- NTP 설치 명령어: 페도라 계열 리눅스 yum install ntp\n",
    "- NTP 설치 명령어: 데비안 계열 리눅스 apt-get install ntp\n",
    "- NTP 서버 정보, NTP를 설치할 대상 서버 정보\n",
    "프로세스\n",
    "- NTP를 설치할 대상 서버 정보를 변수에 저장한다\n",
    "- 리눅스가 페도라 계열인지 데비안 계열인지 체크한다\n",
    "- 페도라 계열이면 yum install로 ntp를 해당 서버에 설치한다\n",
    "- 데비안 계열이면 apt-get install로 ntp를 해당 서버에 설치한다\n",
    "\n",
    "##### 스크립트 생성\n",
    "SSH를 통해 NTP를 설치하려면 root 권한이 있는 사용자 계정이나 root 계정을 사용해야 한다"
   ]
  },
  {
   "cell_type": "code",
   "execution_count": null,
   "metadata": {
    "vscode": {
     "languageId": "shellscript"
    }
   },
   "outputs": [],
   "source": [
    "%%bash\n",
    "#!/bin/bash\n",
    "\n",
    "# NTP를 설치할 대상서버정보 저장\n",
    "servers='host01 host02 host03'\n",
    "cmd1='cat /etc/*release| grep ID_LIKE | sed \"s/ID_LIKE=//;s/\\\"//g\"' # ID_LIKE=\"fedora\" 출력을 fedora로 바꿔줌\n",
    "cmd2=''\n",
    "\n",
    "for server in $servers; do\n",
    "  # 해당 서버의 운영체제 타입 확인\n",
    "  ostype=$(sshpass -p $1 ssh root@$server $cmd1)\n",
    "\n",
    "  # 운영체제가 Fedora 계열인지 Debian 계열인지 체크\n",
    "  if [[ $ostype == \"fedora\" ]]; then\n",
    "    cmd2=\"yum install -y ntp\"\n",
    "  elif [[ $ostype == \"debian\" ]]; then\n",
    "    cmd2=\"apt-get install -y ntp\"\n",
    "  fi\n",
    "  \n",
    "  # 해당 운영체제에 ntp 설치\n",
    "  sshpass -p $1 ssh root@$server $cmd2\n",
    "done\n"
   ]
  },
  {
   "cell_type": "code",
   "execution_count": null,
   "metadata": {
    "vscode": {
     "languageId": "shellscript"
    }
   },
   "outputs": [],
   "source": [
    "%%bash\n",
    "#!/bin/bash\n",
    "## 문제 해결\n",
    "sh install-ntp.sh rootpw"
   ]
  },
  {
   "cell_type": "markdown",
   "metadata": {},
   "source": [
    "### 8.4 다수의 서버에 Timezone을 설정할 때\n",
    "##### 상황 \n",
    "UTC를 기준으로 각 나라마다 설정하는 Timezone이 다르다.  \n",
    "한국은 Asia/Seoul이다. 서버의 Timezoen이 설정되지 않은 경우, 설정해주자  \n",
    "##### 방법 찾기\n",
    "Timezone을 설정하기 위해 필요한 명령어와 프로세스를 알아본다\n",
    "필요한 정보  \n",
    "- Timezone을 확인하는 명령어: datetimectl status\n",
    "- Timezone을 설정하는 명령어: datetimectl set-timezone\n",
    "프로세스\n",
    "- 파라미터로 입력받은 Timezone을 변수에 저장한다\n",
    "- 해당 서버의 Timezone을 확인하기 위한 명령어를 저장한다\n",
    "- For문을 돌면서 해당 서버의 Timezone을 확인한다\n",
    "- 입력받은 Timezone과 해당 서버의 Timezone이 일치하는지 확인한다\n",
    "- 일치하지 않으면 입력받은 Timezone으로 해당 서버의 Timezone을 변경한다\n",
    "\n",
    "##### 스크립트 생성"
   ]
  },
  {
   "cell_type": "code",
   "execution_count": null,
   "metadata": {
    "vscode": {
     "languageId": "shellscript"
    }
   },
   "outputs": [],
   "source": [
    "%%bash\n",
    "#!/bin/bash\n",
    "\n",
    "# Timezone을 설정할 대상정보 및 명령어 저장\n",
    "servers=\"host01 host02 host03\"\n",
    "cmd1=\"timedatectl status | grep 'Time zone'\"\n",
    "cmd2=\"timedatectl set-timezone $1\"\n",
    "\n",
    "# timezone 또는 패스워드 둘 중 하나라도 입력하지 않았다면 스크립트 종료\n",
    "if [[ -z $1 ]] || [[ -z $1 ]]; then\n",
    "  echo -e 'Please input timezone and password\\nUsage: sh set-timezone.sh Seoul/Asia password'\n",
    "  exit; \n",
    "fi\n",
    "\n",
    "for server in $servers\n",
    "do\n",
    "  # 해당 서버의 설정된 timezone 정보 조회\n",
    "  timezone=$(sshpass -p $2 ssh root@$server \"$cmd1\" | awk '{print $3}')\n",
    "  echo \"$server: $timezone\"\n",
    "\n",
    "  # 설정하고자 하는 timezone과 조회된 timezone이 다른지 확인\n",
    "  if [[ $timezone != $1 ]]\n",
    "  then\n",
    "    # timezone이 서로 다르면 해당 서버에 입력받은 timezone으로 설정 \n",
    "    sshpass -p $2 ssh root@$server $cmd2\n",
    "    echo \"$server timezone changed to $1\"\n",
    "  fi\n",
    "done\n",
    "\n"
   ]
  },
  {
   "cell_type": "code",
   "execution_count": null,
   "metadata": {
    "vscode": {
     "languageId": "shellscript"
    }
   },
   "outputs": [],
   "source": [
    "%%bash\n",
    "#!/bin/bash\n",
    "## 문제 해결\n",
    "timedatectl list-timezones\n",
    "bash set-timezone.sh\n",
    "bash set-timezone.sh Asia/Seoul rootpw"
   ]
  },
  {
   "cell_type": "markdown",
   "metadata": {},
   "source": [
    "### 8.5 CLI를 이용하여 오픈스택 인스턴스를 생성할 때 : 생략\n",
    "### 8.6 패키지 리포지터리 다운로드할 때\n",
    "##### 상황 \n",
    "회사에 구축되는 리눅스 서버는 인터넷이 되지 않는 환경에서 구축되는 경우가 많다.  \n",
    "회사 내부에 패키지 리포지터리를 구성하는 경우가 많다. 그런 경우 시스템 엔지니어는 인터넷이 되는 DMZ 구간의 서버에서 외부 리포지터리와 내부 리포지터리를 동기화해야 한다.  \n",
    "이런 경우, 셸 스크립트를 이용하면 쉽게 리포지터리의 패키지들을 다운로드할 수 있다. 데비안 계열도 방법이 있지만, 많이 사용하지 않으므로 레드햇 리눅스에 대한 동기화만 알아본다.\n",
    "##### 방법 찾기\n",
    "패키지 리포지터리를 다운받는 명령어를 알아본다\n",
    "필요한 정보  \n",
    "- 패키지 리포지터리 동기화 명령어: reposync\n",
    "- 디렉터리의 리포지터리화하는 명령어: createrepo\n",
    "프로세스\n",
    "- 동기화할 리포지터리는 외부로부터 입력받아 변수에 저장한다\n",
    "- 리포지터리를 저장할 경로를 저장한다\n",
    "- 운영체제 버전을 확인한다\n",
    "- 리포지터리를 동기화한다\n",
    "- 동기화가 끝나면 리포지터리를 다운받은 경로를 createrepo를 통해 리포지터리화 한다\n",
    "\n",
    "##### 스크립트 생성\n",
    "리포지터리 서버는 주로 아파치 웹 서버를 사용한다. 레드햇 리눅스와 같은 경우, 서브스크립션을 등록해야 한다."
   ]
  },
  {
   "cell_type": "code",
   "execution_count": null,
   "metadata": {
    "vscode": {
     "languageId": "shellscript"
    }
   },
   "outputs": [],
   "source": [
    "%%bash\n",
    "#!/bin/bash\n",
    "\n",
    "# 레파지토지 목록을 입력받지 않고, 파일에 직접 입력해도 됨\n",
    "repolist=$1\n",
    "repopath=/var/www/html/repo/\n",
    "osversion=$(cat /etc/redhat-release | awk '{print $(NF-1)}')\n",
    "\n",
    "# 레파지토리 입력이 없으면 메시지를 보여주고 스크립트 종료\n",
    "if [[ -z $1 ]]; then\n",
    "  echo \"Please input repository list. You can get repository from [yum repolist]\"\n",
    "  echo \"Rhel7 Usage: reposync.sh \\\"rhel-7-server-rpms\\\"\"\n",
    "  echo \"Rhel8 Usage: reposync.sh \\\"rhel-8-for-x86_64-baseos-rpms\\\"\"\n",
    "  exit;\n",
    "fi\n",
    "\n",
    "# 운영체제 버전에 따라 입력한 레포지토리만큼 동기화를 함.\n",
    "for repo in $repolist; do\n",
    "  # OS가 Rhel7일 경우\n",
    "  if [ ${osversion:0:1} == 7 ]; then\n",
    "    reposync --gpgcheck -l -n --repoid=$repo --download_path=$repopath\n",
    "  # OS가 Rhel8일 경우\n",
    "  elif [ ${osversion:0:1} == 8 ]; then\n",
    "    reposync --download-metadata --repo=$repo -p $repopath\n",
    "  fi\n",
    "  # 해당 디렉토리를 레파지토리화한다.\n",
    "  createrepo $repopath$repo\n",
    "done\n"
   ]
  },
  {
   "cell_type": "code",
   "execution_count": null,
   "metadata": {
    "vscode": {
     "languageId": "shellscript"
    }
   },
   "outputs": [],
   "source": [
    "%%bash\n",
    "#!/bin/bash\n",
    "## 문제 해결\n",
    "sudo bash reposync.sh\n",
    "sudo bash reposync.sh \"rhel-7-server-rpms\""
   ]
  }
 ],
 "metadata": {
  "kernelspec": {
   "display_name": "Python 3.8.10 64-bit",
   "language": "python",
   "name": "python3"
  },
  "language_info": {
   "name": "python",
   "version": "3.8.10"
  },
  "orig_nbformat": 4,
  "vscode": {
   "interpreter": {
    "hash": "e7370f93d1d0cde622a1f8e1c04877d8463912d04d973331ad4851f04de6915a"
   }
  }
 },
 "nbformat": 4,
 "nbformat_minor": 2
}
