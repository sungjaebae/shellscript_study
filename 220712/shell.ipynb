{
 "cells": [
  {
   "cell_type": "markdown",
   "metadata": {},
   "source": [
    "# 처음 배우는 셸 스크립트#2\n",
    "\n",
    "### switch-case문\n",
    "switch-case 문은 어떤 셸을 사용하느냐에 따라 사용법이 다르다\n",
    "여기서는 BASH를 기준으로 설명한다.\n",
    "\n",
    "```\n",
    "case $변수 in\n",
    "    조건값1)\n",
    "    수행문1 ;;\n",
    "    조건값2)\n",
    "    수행문2 ;;\n",
    "    *)\n",
    "    수행문4\n",
    "esac\n",
    "```\n",
    "\n",
    "쉘 스크립트에서 세미콜론; 는 구분자다. 줄바꿈 대신 쓴다.  \n",
    ";;는 ;와 별개의 연산자다. "
   ]
  },
  {
   "cell_type": "code",
   "execution_count": 107,
   "metadata": {
    "vscode": {
     "languageId": "shellscript"
    }
   },
   "outputs": [
    {
     "name": "stdout",
     "output_type": "stream",
     "text": [
      "Please input sub command\n"
     ]
    }
   ],
   "source": [
    "%%bash\n",
    "#!/bin/bash\n",
    "## case-example.sh\n",
    "case $1 in\n",
    "    start)\n",
    "    echo \"Start\" ;;\n",
    "    stop)\n",
    "    echo \"Stop\" ;;\n",
    "    restart)\n",
    "    echo \"Restart\" ;;\n",
    "    help)\n",
    "    echo \"Help\" ;;\n",
    "    *)\n",
    "    echo \"Please input sub command\"\n",
    "esac"
   ]
  },
  {
   "cell_type": "markdown",
   "metadata": {},
   "source": [
    "## 2.4 반복문 for, while\n",
    "\n",
    "### for문\n",
    "리스트나 배열과 같이 다수의 값을 이용하여 동일한 작업을 처리할 경우에 주로 사용한다.  \n",
    "사용법 1\n",
    "```\n",
    "for 변수 in [범위(리스트, 배열, 튜플 등)]\n",
    "do\n",
    "    반복할 수행문\n",
    "done\n",
    "```\n",
    "\n",
    "사용법2\n",
    "for ((변수=초기값; 조건식; 증가값))\n",
    "do\n",
    "    반복할 수행문\n",
    "done"
   ]
  },
  {
   "cell_type": "code",
   "execution_count": 108,
   "metadata": {
    "vscode": {
     "languageId": "shellscript"
    }
   },
   "outputs": [
    {
     "name": "stdout",
     "output_type": "stream",
     "text": [
      "1\n",
      "2\n",
      "3\n"
     ]
    }
   ],
   "source": [
    "%%bash\n",
    "#!/bin/bash\n",
    "# 사용법1 범위에 숫자\n",
    "for num in 1 2 3\n",
    "do\n",
    "    echo $num\n",
    "done"
   ]
  },
  {
   "cell_type": "code",
   "execution_count": 109,
   "metadata": {
    "vscode": {
     "languageId": "shellscript"
    }
   },
   "outputs": [
    {
     "name": "stdout",
     "output_type": "stream",
     "text": [
      "1\n",
      "2\n",
      "3\n"
     ]
    }
   ],
   "source": [
    "%%bash\n",
    "#!/bin/bash\n",
    "# 사용법1 범위에 문자열\n",
    "numbers=\"1 2 3\"\n",
    "for num in $numbers\n",
    "do\n",
    "    echo $num\n",
    "done"
   ]
  },
  {
   "cell_type": "code",
   "execution_count": 110,
   "metadata": {
    "vscode": {
     "languageId": "shellscript"
    }
   },
   "outputs": [
    {
     "name": "stdout",
     "output_type": "stream",
     "text": [
      "/home/ubuntu/backup\n",
      "/home/ubuntu/codingtest\n",
      "/home/ubuntu/workspace\n"
     ]
    }
   ],
   "source": [
    "%%bash\n",
    "#!/bin/bash\n",
    "# 사용법1 범위에 환경변수\n",
    "for file in $HOME/*\n",
    "do\n",
    "    echo $file\n",
    "done"
   ]
  },
  {
   "cell_type": "code",
   "execution_count": 111,
   "metadata": {
    "vscode": {
     "languageId": "shellscript"
    }
   },
   "outputs": [
    {
     "name": "stdout",
     "output_type": "stream",
     "text": [
      "1\n",
      "2\n",
      "3\n",
      "4\n",
      "5\n"
     ]
    }
   ],
   "source": [
    "%%bash\n",
    "#!/bin/bash\n",
    "# 사용법1 범위에 중괄호\n",
    "for num in {1..5}\n",
    "do\n",
    "    echo $num\n",
    "done\n"
   ]
  },
  {
   "cell_type": "code",
   "execution_count": 112,
   "metadata": {
    "vscode": {
     "languageId": "shellscript"
    }
   },
   "outputs": [
    {
     "name": "stdout",
     "output_type": "stream",
     "text": [
      "1\n",
      "3\n",
      "5\n",
      "7\n",
      "9\n"
     ]
    }
   ],
   "source": [
    "%%bash\n",
    "#!/bin/bash\n",
    "# 사용법1 범위에 중괄호2\n",
    "for num in {1..10..2}\n",
    "do\n",
    "    echo $num\n",
    "done\n"
   ]
  },
  {
   "cell_type": "code",
   "execution_count": 113,
   "metadata": {
    "vscode": {
     "languageId": "shellscript"
    }
   },
   "outputs": [
    {
     "name": "stdout",
     "output_type": "stream",
     "text": [
      "apple\n",
      "banana\n",
      "pineapple\n"
     ]
    }
   ],
   "source": [
    "%%bash\n",
    "#!/bin/bash\n",
    "# 사용법1 범위에 배열\n",
    "# 배열 선언시 값과 값 사이에 쉼표를 사용해서는 안된다\n",
    "# 배열의 모든 아이템을 범위로 사용할 경우 ${배열[@]}로 명시해야 한다\n",
    "array=(\"apple\" \"banana\" \"pineapple\")\n",
    "for fruit in ${array[@]}\n",
    "do\n",
    "    echo $fruit\n",
    "done\n"
   ]
  },
  {
   "cell_type": "code",
   "execution_count": 114,
   "metadata": {
    "vscode": {
     "languageId": "shellscript"
    }
   },
   "outputs": [
    {
     "name": "stdout",
     "output_type": "stream",
     "text": [
      "0\n",
      "1\n",
      "2\n"
     ]
    }
   ],
   "source": [
    "%%bash\n",
    "#!/bin/bash\n",
    "# 사용법2\n",
    "for ((num=0; num<3; num++))\n",
    "do\n",
    "    echo $num\n",
    "done"
   ]
  },
  {
   "cell_type": "markdown",
   "metadata": {},
   "source": [
    "### while문\n",
    "```\n",
    "while [$변수1 연산자 $변수2]\n",
    "do\n",
    "    반복할 수행문\n",
    "done\n",
    "```\n",
    "무한루프에 빠지지 않도록 수행문 안에서 처리를 해야 한다"
   ]
  },
  {
   "cell_type": "code",
   "execution_count": 115,
   "metadata": {
    "vscode": {
     "languageId": "shellscript"
    }
   },
   "outputs": [
    {
     "name": "stdout",
     "output_type": "stream",
     "text": [
      "0\n",
      "1\n",
      "2\n"
     ]
    }
   ],
   "source": [
    "%%bash\n",
    "#!/bin/bash\n",
    "# \n",
    "num=0\n",
    "while [ $num -lt 3 ]\n",
    "do\n",
    "    echo $num\n",
    "    num=$((num+1))\n",
    "done"
   ]
  },
  {
   "cell_type": "markdown",
   "metadata": {},
   "source": [
    "## 2.5 연산자\n",
    "\n",
    "### 문자열 연산자\n",
    "문자열 연산자와 함께 사용하면 변수에 저장된 값의 타입이 숫자든 객체든 모두 문자열로 취급한다. \n",
    "\n",
    "|연산자|사용법|설명|\n",
    "|-----|------|---|\n",
    "|-z|if[-z $변수]|문자열 길이가 0이면 참|\n",
    "|-n|if[ -n $변수]|문자열 길이가 0이 아니면 참|"
   ]
  },
  {
   "cell_type": "code",
   "execution_count": 116,
   "metadata": {
    "vscode": {
     "languageId": "shellscript"
    }
   },
   "outputs": [
    {
     "name": "stdout",
     "output_type": "stream",
     "text": [
      "True\n"
     ]
    }
   ],
   "source": [
    "%%bash\n",
    "#!/bin/bash\n",
    "## if_example1.sh\n",
    "## 파라미터로 받은 변수값의 길이가 0이면 True, 아니면 False 출력\n",
    "if [ -z $1 ]\n",
    "then\n",
    "    echo True\n",
    "else\n",
    "    echo False\n",
    "fi"
   ]
  },
  {
   "cell_type": "code",
   "execution_count": 117,
   "metadata": {
    "vscode": {
     "languageId": "shellscript"
    }
   },
   "outputs": [
    {
     "name": "stdout",
     "output_type": "stream",
     "text": [
      "True\n"
     ]
    }
   ],
   "source": [
    "%%bash\n",
    "#!/bin/bash\n",
    "## if_example2.sh\n",
    "## 파라미터로 받은 변수값의 길이가 0이 아니면 True, 0이면 False 출력\n",
    "if [ -n $1 ]   #이상하게 []로 하면 언제나 True로 나옴.\n",
    "then\n",
    "    echo True\n",
    "else\n",
    "    echo False\n",
    "fi"
   ]
  },
  {
   "cell_type": "markdown",
   "metadata": {},
   "source": [
    "### 비교 연산자\n",
    "비교 연산자는 두 개의 변수에 저장된 값의 크기를 비교할 때 사용한다.  \n",
    "변수의 유형은 1 2 3 같은 숫자형과 세미콜론이나 콜론을 함께 사용할 문자형으로 나눌 수 있다. \n",
    "\n",
    "#### 정수 비교 연산자\n",
    "|연산자|사용법|설명|\n",
    "|-----|-----|----|\n",
    "|-eq|if [ $변수1 -eq $변수2 ]|변수1과 변수2의 값이 같으면 참. =와 동일|\n",
    "|-ne|if [ $변수1 -ne $변수2 ]|변수1과 변수2의 값이 다르면 참. !=와 동일|\n",
    "|-gt|if [ $변수1 -gt $변수2 ]|변수1의 값이 변수2의 값보다 크면 참|\n",
    "|-ge|if [ $변수1 -ge $변수2 ]|변수1의 값이 변수2의 값보다 크거나 같으면 참|\n",
    "|-lt|if [ $변수1 -lt $변수2 ]|변수1의 값이 변수2의 값보다 작으면 참|\n",
    "|-le|if [ $변수1 -le $변수2 ]|변수1의 값이 변수2의 값보다 작거나 같으면 참|\n",
    "|>| if (( $변수1 > $변수2 ))|-gt와 같은데, >기호를 사용할 경우 (())를 사용해야함|\n",
    "|>=| if (( $변수1 >= $변수2 ))|-ge와 같은데, >=기호를 사용할 경우 (())를 사용해야함|\n",
    "|<| if (( $변수1 < $변수2 ))|-lt와 같은데, <기호를 사용할 경우 (())를 사용해야함|\n",
    "|<=| if (( $변수1 <= $변수2 ))|-le와 같은데, <=기호를 사용할 경우 (())를 사용해야함|\n",
    "\n",
    "\n"
   ]
  },
  {
   "cell_type": "code",
   "execution_count": 118,
   "metadata": {
    "vscode": {
     "languageId": "shellscript"
    }
   },
   "outputs": [
    {
     "name": "stdout",
     "output_type": "stream",
     "text": [
      "True\n"
     ]
    }
   ],
   "source": [
    "%%bash\n",
    "#!/bin/bash\n",
    "## eq예제\n",
    "VAR1=10\n",
    "VAR2=10\n",
    "if [ $VAR1 -eq $VAR2 ] # =로 바꿔도 가능\n",
    "then\n",
    "    echo True\n",
    "else\n",
    "    echo False\n",
    "fi"
   ]
  },
  {
   "cell_type": "code",
   "execution_count": 119,
   "metadata": {
    "vscode": {
     "languageId": "shellscript"
    }
   },
   "outputs": [
    {
     "name": "stdout",
     "output_type": "stream",
     "text": [
      "False\n"
     ]
    }
   ],
   "source": [
    "%%bash\n",
    "#!/bin/bash\n",
    "## ne예제\n",
    "VAR1=10\n",
    "VAR2=10\n",
    "if [ $VAR1 -ne $VAR2 ] # !=로 바꿔도 가능\n",
    "then\n",
    "    echo True\n",
    "else\n",
    "    echo False\n",
    "fi"
   ]
  },
  {
   "cell_type": "code",
   "execution_count": 120,
   "metadata": {
    "vscode": {
     "languageId": "shellscript"
    }
   },
   "outputs": [
    {
     "name": "stdout",
     "output_type": "stream",
     "text": [
      "True\n"
     ]
    }
   ],
   "source": [
    "%%bash\n",
    "#!/bin/bash\n",
    "## -gt, -ge, lt, -le\n",
    "VAR1=10\n",
    "VAR2=10\n",
    "if [ $VAR1 -ge $VAR2 ] #gt lt le\n",
    "then\n",
    "    echo True\n",
    "else\n",
    "    echo False\n",
    "fi"
   ]
  },
  {
   "cell_type": "code",
   "execution_count": 121,
   "metadata": {
    "vscode": {
     "languageId": "shellscript"
    }
   },
   "outputs": [
    {
     "name": "stderr",
     "output_type": "stream",
     "text": [
      "bash: line 7: ((: 10 => 10 : attempted assignment to non-variable (error token is \"=> 10 \")\n"
     ]
    },
    {
     "name": "stdout",
     "output_type": "stream",
     "text": [
      "False\n"
     ]
    }
   ],
   "source": [
    "%%bash\n",
    "#!/bin/bash\n",
    "## 왜 기호연산자를 []에서 사용할 수 없는가\n",
    "## 리다이렉션 기호 > < >> | 들과 겹치기 때문이다.\n",
    "## 기호연산자를 사용할 때는 (())안에서 사용한다\n",
    "VAR1=10\n",
    "VAR2=10\n",
    "if (( $VAR1 => $VAR2 )) #>=, <, <=\n",
    "then\n",
    "    echo True\n",
    "else\n",
    "    echo False\n",
    "fi"
   ]
  },
  {
   "cell_type": "markdown",
   "metadata": {},
   "source": [
    "### 문자열 비교 연산자\n",
    "변수의 값이 문자열이면 -gt, -ge -eq같은걸 사용하지 않고 기호 연산자를 사용한다.  \n",
    "문자형 연산자를 사용하면 휴먼 에러 발생확률이 높기 때문이다.  \n",
    "리다이렉션 기호와 동일한 <, >를 사용할 경우에는 구분하기 위해 [[]]를 사용한다  \n",
    "\n",
    "|연산자|사용법|설명|\n",
    "|------|-----|----|\n",
    "|=|if [ $변수1 = $변수2 ]|동일한 문자열일 경우 참|\n",
    "|==|if [ $변수1 == $변수2 ]|동일한 문자열일 경우 참|\n",
    "|!=|if [ $변수1 != $변수2 ]|서로 다른 문자열일 경우 참|\n",
    "|>|if [[ $변수1 > $변수2 ]]| 변수1의 ASCII 코드값이 변수2보다 크면 참|\n",
    "|<|if [[ $변수1 < $변수2 ]]| 변수1의 ASCII 코드값이 변수2보다 작으면 참|"
   ]
  },
  {
   "cell_type": "code",
   "execution_count": 122,
   "metadata": {
    "vscode": {
     "languageId": "shellscript"
    }
   },
   "outputs": [
    {
     "name": "stdout",
     "output_type": "stream",
     "text": [
      "False\n"
     ]
    }
   ],
   "source": [
    "%%bash\n",
    "#!/bin/bash\n",
    "\n",
    "VAR1=\"abc\"\n",
    "VAR2=\"def\"\n",
    "if [ $VAR1 = $VAR2 ] # == !=\n",
    "then\n",
    "    echo True\n",
    "else\n",
    "    echo False\n",
    "fi"
   ]
  },
  {
   "cell_type": "code",
   "execution_count": 123,
   "metadata": {
    "vscode": {
     "languageId": "shellscript"
    }
   },
   "outputs": [
    {
     "name": "stdout",
     "output_type": "stream",
     "text": [
      "False\n"
     ]
    }
   ],
   "source": [
    "%%bash\n",
    "#!/bin/bash\n",
    "\n",
    "VAR1=\"abc\"\n",
    "VAR2=\"def\"\n",
    "if [[ $VAR1 > $VAR2 ]] # < 사전순 비교\n",
    "then\n",
    "    echo True\n",
    "else\n",
    "    echo False\n",
    "fi"
   ]
  },
  {
   "cell_type": "markdown",
   "metadata": {},
   "source": [
    "### 논리 연산자\n",
    "논리 연산자에는 AND와 OR 가 있다.\n",
    "|연산자|사용법|설명|\n",
    "|-----|------|---|\n",
    "|-a|if [ 조건식1 -a 조건식2 ]| 조건식1와 조건식2 둘 다 참이면 참|\n",
    "|-o|if [ 조건식1 -o 조건식2 ]| 조건식1이나 조건식2 하나만 참이면 참|\n",
    "|&&|if [ 조건식1 ] && [ 조건식2 ] </br> if [[ 조건식1 && 조건식2 ]]| 조건식1와 조건식2 둘 다 참이면 참|\n",
    "|\\|\\||if [ 조건식1 \\|\\| 조건식2 ] </br> if [[ 조건식1 \\|\\| 조건식2 ]]| 조건식1이나 조건식2 하나만 참이면 참|\n"
   ]
  },
  {
   "cell_type": "code",
   "execution_count": 124,
   "metadata": {
    "vscode": {
     "languageId": "shellscript"
    }
   },
   "outputs": [
    {
     "name": "stdout",
     "output_type": "stream",
     "text": [
      "False\n",
      "True\n"
     ]
    }
   ],
   "source": [
    "%%bash\n",
    "#!/bin/bash\n",
    "## 문자형 연산자\n",
    "VAR1=10\n",
    "VAR2=20\n",
    "VAR3=30\n",
    "if [ $VAR1 -lt $VAR2 -a $VAR2 -gt $VAR3 ] \n",
    "then\n",
    "    echo True\n",
    "else\n",
    "    echo False\n",
    "fi\n",
    "\n",
    "if [ $VAR1 -lt $VAR2 -o $VAR2 -gt $VAR3 ] \n",
    "then\n",
    "    echo True\n",
    "else\n",
    "    echo False\n",
    "fi"
   ]
  },
  {
   "cell_type": "code",
   "execution_count": 125,
   "metadata": {
    "vscode": {
     "languageId": "shellscript"
    }
   },
   "outputs": [
    {
     "name": "stdout",
     "output_type": "stream",
     "text": [
      "False\n",
      "True\n"
     ]
    }
   ],
   "source": [
    "%%bash\n",
    "#!/bin/bash\n",
    "## 기호 연산자\n",
    "VAR1=10\n",
    "VAR2=20\n",
    "VAR3=30\n",
    "if [ $VAR1 -lt $VAR2 ] && [ $VAR2 -gt $VAR3 ] \n",
    "then\n",
    "    echo True\n",
    "else\n",
    "    echo False\n",
    "fi\n",
    "\n",
    "\n",
    "if [ $VAR1 -lt $VAR2 ] || [ $VAR2 -gt $VAR3 ] \n",
    "then\n",
    "    echo True\n",
    "else\n",
    "    echo False\n",
    "fi"
   ]
  },
  {
   "cell_type": "code",
   "execution_count": 126,
   "metadata": {
    "vscode": {
     "languageId": "shellscript"
    }
   },
   "outputs": [
    {
     "name": "stdout",
     "output_type": "stream",
     "text": [
      "False\n",
      "True\n"
     ]
    }
   ],
   "source": [
    "%%bash\n",
    "#!/bin/bash\n",
    "## 기호 연산자와 [[]]\n",
    "VAR1=10\n",
    "VAR2=20\n",
    "VAR3=30\n",
    "if [[ $VAR1 < $VAR2 && $VAR2 > $VAR3 ]]  # <=, >=는 [[]]에서도 에러남\n",
    "then\n",
    "    echo True\n",
    "else\n",
    "    echo False\n",
    "fi\n",
    "\n",
    "\n",
    "if [[ $VAR1 < $VAR2 || $VAR2 > $VAR3 ]] \n",
    "then\n",
    "    echo True\n",
    "else\n",
    "    echo False\n",
    "fi"
   ]
  },
  {
   "cell_type": "code",
   "execution_count": 127,
   "metadata": {
    "vscode": {
     "languageId": "shellscript"
    }
   },
   "outputs": [
    {
     "name": "stdout",
     "output_type": "stream",
     "text": [
      "False\n",
      "True\n"
     ]
    }
   ],
   "source": [
    "%%bash\n",
    "#!/bin/bash\n",
    "## 기호 연산자와 (())\n",
    "VAR1=10\n",
    "VAR2=20\n",
    "VAR3=30\n",
    "if (( $VAR1 < $VAR2 )) && (( $VAR2 > $VAR3 )) # 잘된다\n",
    "then\n",
    "    echo True\n",
    "else\n",
    "    echo False\n",
    "fi\n",
    "\n",
    "\n",
    "if (( $VAR1 < $VAR2 || $VAR2 > $VAR3 ))\n",
    "then\n",
    "    echo True\n",
    "else\n",
    "    echo False\n",
    "fi"
   ]
  },
  {
   "cell_type": "markdown",
   "metadata": {},
   "source": [
    "### 디렉터리 연산자\n",
    "디렉터리 연산자는 변수 타입이 디렉터리일 경우 사용할 수 있는 연산자이다.  \n",
    "특정 디렉터리 내 파일 목록 중에 디렉터리가 있는지를 체크하는 경우 매우 유용하다.  \n",
    "또한 디렉터리 내에 디렉터리나 파일이 존재하는지 확인할 수 있다.\n",
    "\n",
    "|연산자|사용법|설명|\n",
    "|-----|-----|-----|\n",
    "|-d|if [ -d $변수 ]|변수 타입이 디렉터리이면 참|\n",
    "|-e|if [ -e $변수 ]|변수 타입이 디렉터리이거나 파일이면 참|"
   ]
  },
  {
   "cell_type": "code",
   "execution_count": 128,
   "metadata": {
    "vscode": {
     "languageId": "shellscript"
    }
   },
   "outputs": [
    {
     "name": "stdout",
     "output_type": "stream",
     "text": [
      "True\n",
      "True\n"
     ]
    }
   ],
   "source": [
    "%%bash\n",
    "#!/bin/bash\n",
    "if [ -d $HOME ] # $HOME이 디렉터리인가\n",
    "then\n",
    "    echo True\n",
    "else\n",
    "    echo False\n",
    "fi\n",
    "\n",
    "if [ -e $HOME ] # $HOME이 디렉터리이거나 파일인가\n",
    "then\n",
    "    echo True\n",
    "else\n",
    "    echo False\n",
    "fi"
   ]
  },
  {
   "cell_type": "markdown",
   "metadata": {},
   "source": [
    "### 파일 연산자\n",
    "파일 연산자는 파일이 가진 다양한 속성을 체크하는 연산자이다\n",
    "\n",
    "|연산자|사용법|설명|\n",
    "|-----|------|----|\n",
    "|-f|if [ -f $변수 ]|변수 타입이 파일이면 참|\n",
    "|-L|if [ -L $변수 ]|변수 타입이 파일이면서 심볼릭 링크이면 참|\n",
    "|-r|if [ -r $변수 ]|변수 타입이 파일이거나 디렉터리이면서 읽기 권한이 있으면 참|\n",
    "|-w|if [ -w $변수 ]|변수 타입이 파일이거나 디렉터리이면서 쓰기 권한이 있으면 참|\n",
    "|-x|if [ -x $변수 ]|변수 타입이 파일이거나 디렉터리이면서 실행 권한이 있으면 참|\n",
    "|-s|if [ -s $변수 ]|변수 타입이 파일이거나 디렉터리이면서 사이즈가 0보다 크면 참|\n",
    "|-O|if [ -O $변수 ]|변수 타입이 파일이거나 디렉터리이면서 스크립트 실행 소유자와 동일하면 참|\n",
    "|-G|if [ -G $변수 ]|변수 타입이 파일이거나 디렉터리이면서 스크립트 실행 그룹과 동일하면 참|"
   ]
  },
  {
   "cell_type": "code",
   "execution_count": 129,
   "metadata": {
    "vscode": {
     "languageId": "shellscript"
    }
   },
   "outputs": [
    {
     "name": "stdout",
     "output_type": "stream",
     "text": [
      "True\n",
      "True\n"
     ]
    }
   ],
   "source": [
    "%%bash\n",
    "#!/bin/bash\n",
    "## /etc/localtime이 심볼릭 파일인지 체크하기\n",
    "FILE=/etc/localtime\n",
    "if [ -f $FILE ] #파일이면 True\n",
    "then\n",
    "    echo True\n",
    "else\n",
    "    echo False\n",
    "fi\n",
    "\n",
    "if [ -L $FILE ] # 파일이고 심볼릭 링크이면 True\n",
    "then\n",
    "    echo True\n",
    "else\n",
    "    echo False\n",
    "fi\n"
   ]
  },
  {
   "cell_type": "code",
   "execution_count": 130,
   "metadata": {
    "vscode": {
     "languageId": "shellscript"
    }
   },
   "outputs": [
    {
     "name": "stdout",
     "output_type": "stream",
     "text": [
      "True\n",
      "False\n",
      "False\n",
      "True\n"
     ]
    }
   ],
   "source": [
    "%%bash\n",
    "#!/bin/bash\n",
    "## 파일 권한 체크하기. \n",
    "## 심볼릭 링크에 대해 권한을 체크하면 원 파일의 권한이 나온다\n",
    "FILE=/etc/localtime\n",
    "if [ -r $FILE ] #읽기 권한이 있으면 True\n",
    "then\n",
    "    echo True\n",
    "else\n",
    "    echo False\n",
    "fi\n",
    "\n",
    "if [ -w $FILE ] # 쓰기 권한이 있으면 True\n",
    "then\n",
    "    echo True\n",
    "else\n",
    "    echo False\n",
    "fi\n",
    "\n",
    "if [ -x $FILE ] # 실행 권한이 있으면 True\n",
    "then\n",
    "    echo True\n",
    "else\n",
    "    echo False\n",
    "fi\n",
    "\n",
    "if [ -s $FILE ] # 파일 크기가 0보다 크면 True\n",
    "then\n",
    "    echo True\n",
    "else\n",
    "    echo False\n",
    "fi"
   ]
  },
  {
   "cell_type": "code",
   "execution_count": 131,
   "metadata": {
    "vscode": {
     "languageId": "shellscript"
    }
   },
   "outputs": [
    {
     "name": "stdout",
     "output_type": "stream",
     "text": [
      "False\n",
      "False\n"
     ]
    }
   ],
   "source": [
    "%%bash\n",
    "#!/bin/bash\n",
    "## 파일 소유권 체크하기\n",
    "## 심볼릭 링크에 대해 권한을 체크하면 원 파일의 권한이 나온다\n",
    "FILE=/etc/localtime\n",
    "if [ -O $FILE ] #소유자와 일치하면 True\n",
    "then\n",
    "    echo True\n",
    "else\n",
    "    echo False\n",
    "fi\n",
    "\n",
    "if [ -G $FILE ] # 소유 그룹에 속하면 True\n",
    "then\n",
    "    echo True\n",
    "else\n",
    "    echo False\n",
    "fi"
   ]
  },
  {
   "cell_type": "markdown",
   "metadata": {},
   "source": [
    "### 파일 비교 연산자\n",
    "어느 파일이 더 최근에 생성된 것인지 비교할 수 있다\n",
    "동일한 파일인지 확인할 수 있다\n",
    "|연산자|사용법|설명|\n",
    "|-----|------|----|\n",
    "|-nt| if [ $변수1 -nt $변수2 ]|변수 타입이 파일이면서, 변수1이 변수2보다 최신 파일이면 참|\n",
    "|-ot| if [ $변수1 -ot $변수2 ]|변수 타입이 파일이면서, 변수1이 변수2보다 이전 파일이면 참|\n",
    "|-ef| if [ $변수1 -ef $변수2 ]|변수 타입이 파일이면서, 변수1과 변수2가 동일 파일이면 참|\n"
   ]
  },
  {
   "cell_type": "code",
   "execution_count": 132,
   "metadata": {
    "vscode": {
     "languageId": "shellscript"
    }
   },
   "outputs": [
    {
     "name": "stdout",
     "output_type": "stream",
     "text": [
      "True\n",
      "False\n",
      "True\n"
     ]
    }
   ],
   "source": [
    "%%bash\n",
    "#!/bin/bash\n",
    "\n",
    "FILE1=if_example1.sh\n",
    "FILE2=if_example2.sh\n",
    "\n",
    "if [ $FILE1 -nt $FILE2 ]\n",
    "then\n",
    "    echo True\n",
    "else\n",
    "    echo False\n",
    "fi\n",
    "\n",
    "if [ $FILE1 -ot $FILE2 ]\n",
    "then\n",
    "    echo True\n",
    "else\n",
    "    echo False\n",
    "fi\n",
    "\n",
    "if [ /etc/localtime -ef /usr/share/zoneinfo/Etc/UTC ] #심볼릭 링크인 파일을 비교하면 타고 들어가서 비교함\n",
    "then\n",
    "    echo True\n",
    "else\n",
    "    echo False\n",
    "fi"
   ]
  },
  {
   "cell_type": "markdown",
   "metadata": {},
   "source": [
    "## 2.6 정규 표현식\n",
    "사용자가 입력한 이름, 전화번호, 생년월일에 문제가 없는지 체크할 경우  \n",
    "시스템에서 특정 환경변수를 찾는 경우  \n",
    "정규 표현식이 사용된다.\n",
    "정규 표현식은 리눅스나 유닉스에 특별한 특징을 부여하는 문자들과 메타 문자들의 집합이다.\n",
    "\n",
    "### POSIX 기본 및 확장 문법\n",
    "패턴을 기술하는 문자열 내의 각 문자들은 메타 문자(특별한 의미)이거나 정규 문자이다.\n",
    "\n",
    "|메타 문자|설명|\n",
    "|--------|----|\n",
    "|.|뉴라인을 제외한 한 개의 문자와 일치함|\n",
    "|?|0-1개의 문자와 일치함|\n",
    "|*|0개 이상의 문자와 일치함|\n",
    "|+|1개 이상의 문자와 일치함|\n",
    "|{N}|정확히 N번 일치함|\n",
    "|{N,}|N번 이상과 일치함|\n",
    "|{N,M}|N번 이상 M번 이하와 일치함|\n",
    "|-|알파벳이나 숫자의 범위를 나타낼 때 사용 A-Z|\n",
    "|^|라인의 시작에서 공백 문자열을 나타냄. 또한 목록의 범위에 없는 문자들을 나타냄|\n",
    "|$|라인 마지막에서 공백 문자열을 나타냄|\n",
    "|^$|빈 줄과 일치함|\n",
    "|[...]|대괄호는 단일 정규 표현식에서 문자들을 집합으로 묶어줌|\n",
    "|\\\\|특수 문자를 이스케이프함|\n",
    "|\\\\b|단어 끝의 공백 문자열을 나타냄|\n",
    "|\\\\B|라인 끝의 공백 문자열을 나타냄|\n",
    "|\\\\<|단어 시작에서 공백 문자열을 나타냄|\n",
    "|\\\\>|단어 끝에서 공백 문자열을 나타냄|\n"
   ]
  },
  {
   "cell_type": "markdown",
   "metadata": {},
   "source": [
    "### POSIX 문자클래스\n",
    "찾고자 하는 문자열의 종류가 바로 문자클래스이다.  \n",
    "전화번호라면 숫자가 아닌 문자가 입력되지 않았는지 체크할 때 사용되는 문자가 바로 문자클래스다.\n",
    "\n",
    "|POSIX|설명|\n",
    "|-----|----|\n",
    "|[:alnum:]|알파벳이나 숫자로 이루어진 문자열로 [A-Za-z0-9]와 같은 표현이다|\n",
    "|[:alpha:]|알파벳 문자를 의미하며, [A-Za-z]와 같은 표현이다|\n",
    "|[:blank:]|스페이스나 탭을 의미한다|\n",
    "|[:cntrl:]|제어 문자들을 의미한다|\n",
    "|[:digit:]|0~9사이의 숫자를 의미하며, [0-9]와 같은 표현이다|\n",
    "|[:graph:]|출력 가능한 그래픽 문자들로 ASCI 33~126와 일치한다|\n",
    "|[:lower:]|소문자를 의미하며 [a-z]와 같은 표현이다|\n",
    "|[:print:]|출력 가능한 그래픡 문자들로 ASCI 32~126와 일치한다. 32는 스페이스 문자|\n",
    "|[:punct:]|문장 부호들을 의미한다|\n",
    "|[:space:]|뉴라인 줄바꿈, 스페이스, 탭과 같은 모든 공백 문자들을 의미한다|\n",
    "|[:upper:]|알파벳 대문자를 의미하며 [A-Z]와 같은 표현이다|\n",
    "|[:xdigit:]|16진수의 숫자와 문자를 의미하며 [0-9a-fA-F]와 일치한다|"
   ]
  },
  {
   "cell_type": "code",
   "execution_count": 133,
   "metadata": {
    "vscode": {
     "languageId": "shellscript"
    }
   },
   "outputs": [
    {
     "name": "stdout",
     "output_type": "stream",
     "text": [
      "====================\n",
      " Regular Expression\n",
      "====================\n",
      "  \n",
      "#===========================================#\n",
      "# Date: 2020-05-05\n",
      "# Author: NaleeJang\n",
      "# Description: regular expression test file\n",
      "#===========================================#\n",
      "\n",
      "\n",
      "Today is 05-May-2020.\n",
      "Current time is 6:04PM.\n",
      "This is an example file for testing regular expressions.\tThis example file includes control characters.\n",
      "\n",
      "# System Information\n",
      "CPU model is Intel(R) Core(TM) i7-8665U CPU @ 1.90GHz\n",
      "Memory size is 32GiB\n",
      "Disk is 512 GB\n",
      "IP Address is 192.168.35.7\n",
      "\n",
      "# Help\n",
      "Do you have any questions? or Do you need any help?\n",
      "If you have any questions, Please send a mail to the email below.\n",
      "\n",
      "# Contacts\n",
      "e-mail: nalee999@gmail.com\n",
      "phone: 010-2222-5668\n"
     ]
    }
   ],
   "source": [
    "%%bash\n",
    "#!/bin/bash\n",
    "## 예제 파일 expression.txt로 실습\n",
    "\n",
    "cat expression.txt"
   ]
  },
  {
   "cell_type": "code",
   "execution_count": 134,
   "metadata": {
    "vscode": {
     "languageId": "shellscript"
    }
   },
   "outputs": [
    {
     "name": "stdout",
     "output_type": "stream",
     "text": [
      "====================\n",
      " Regular Expression\n",
      "====================\n",
      "  \n",
      "#===========================================#\n",
      "# Date: 2020-05-05\n",
      "# Author: NaleeJang\n",
      "# Description: regular expression test file\n",
      "#===========================================#\n",
      "\n",
      "\n",
      "Today is 05-May-2020.\n",
      "Current time is 6:04PM.\n",
      "This is an example file for testing regular expressions.\tThis example file includes control characters.\n",
      "\n",
      "# System Information\n",
      "CPU model is Intel(R) Core(TM) i7-8665U CPU @ 1.90GHz\n",
      "Memory size is 32GiB\n",
      "Disk is 512 GB\n",
      "IP Address is 192.168.35.7\n",
      "\n",
      "# Help\n",
      "Do you have any questions? or Do you need any help?\n",
      "If you have any questions, Please send a mail to the email below.\n",
      "\n",
      "# Contacts\n",
      "e-mail: nalee999@gmail.com\n",
      "phone: 010-2222-5668\n"
     ]
    }
   ],
   "source": [
    "%%bash\n",
    "#!/bin/bash\n",
    "## 예제 파일 expression.txt로 실습\n",
    "\n",
    "cat expression.txt"
   ]
  },
  {
   "cell_type": "code",
   "execution_count": 135,
   "metadata": {
    "vscode": {
     "languageId": "shellscript"
    }
   },
   "outputs": [
    {
     "name": "stdout",
     "output_type": "stream",
     "text": [
      "CPU model is Intel(R) Core(TM) i7-8665U CPU @ 1.90GHz\n",
      "CPU model is Intel(R) Core(TM) i7-8665U CPU @ 1.90GHz\n"
     ]
    }
   ],
   "source": [
    "%%bash\n",
    "#!/bin/bash\n",
    "## 메타 문자 .을 이용할 경우\n",
    "## .은 뉴라인을 제외한 한 개의 문자를 의미한다.\n",
    "\n",
    "grep 'C.U' expression.txt\n",
    "## C로 시작해 U로 끝나는 세 글자 단어이고, 가운데 글자는 뭐든 상관없음\n",
    "\n",
    "\n",
    "grep 'C..e' expression.txt\n",
    "## C로 시작해 e로 끝나는 네 글자 단어이고, 가운데 글자는 뭐든 상관없음\n"
   ]
  },
  {
   "cell_type": "code",
   "execution_count": 136,
   "metadata": {
    "vscode": {
     "languageId": "shellscript"
    }
   },
   "outputs": [
    {
     "name": "stdout",
     "output_type": "stream",
     "text": [
      "Do you have any questions? or Do you need any help?\n",
      "Do you have any questions? or Do you need any help?\n",
      "If you have any questions, Please send a mail to the email below.\n"
     ]
    }
   ],
   "source": [
    "%%bash\n",
    "#!/bin/bash\n",
    "## 메타 문자 * \\ ? 문자클래스 [:lower:]을 이용할 경우\n",
    "## *은 문자와 문자 사이 또는 문자 뒤에 어떤 문자열이 와도 상관 없을 경우\n",
    "## \\은 특수 문자를 사용할 경우 해당 문자를 이스케이프해준다\n",
    "## ?은 앞에서 검색한 단어 하나가 일치하거나 일치하지 않을 경우에도 검색한다\n",
    "## [:lower:]은 알파벳 소문자를 의미하며 grep과 함께 쓰일 때는 [[]]를 사용해야 한다\n",
    "\n",
    "grep -E 'q[[:lower:]]*\\?' expression.txt\n",
    "## q로 시작하며 ?로 끝나는 단어이고, 그 사이는 소문자인 단어\n",
    "\n",
    "\n",
    "grep -E 'q[[:lower:]]*\\??' expression.txt\n",
    "## q로 시작해 ?로 끝나거나 말거나 단어이고, 그 사이는 소문자인 단어\n"
   ]
  },
  {
   "cell_type": "code",
   "execution_count": 137,
   "metadata": {
    "vscode": {
     "languageId": "shellscript"
    }
   },
   "outputs": [
    {
     "name": "stdout",
     "output_type": "stream",
     "text": [
      "phone: 010-2222-5668\n",
      "#===========================================#\n",
      "# Date: 2020-05-05\n",
      "# Author: NaleeJang\n",
      "# Description: regular expression test file\n",
      "#===========================================#\n",
      "# System Information\n",
      "# Help\n",
      "# Contacts\n"
     ]
    }
   ],
   "source": [
    "%%bash\n",
    "#!/bin/bash\n",
    "## 메타 문자 + ^ 이용할 경우\n",
    "## +는 앞에서 검색한 문자 하나가 계속 반복되는 경우\n",
    "## ^는 라인 시작 문자가 검색하고자 하는 단어인 경우\n",
    "\n",
    "grep -E '\\-2+\\-' expression.txt\n",
    "## -2로 시작해 -로 끝나며, 2가 계속 반복되는 단어\n",
    "\n",
    "\n",
    "grep -E '^#' expression.txt\n",
    "## 라인 시작 문자가 #으로 시작되는 라인\n"
   ]
  },
  {
   "cell_type": "code",
   "execution_count": 138,
   "metadata": {
    "vscode": {
     "languageId": "shellscript"
    }
   },
   "outputs": [
    {
     "name": "stdout",
     "output_type": "stream",
     "text": [
      "phone: 010-2222-5668\n",
      "Today is 05-May-2020.\n",
      "Current time is 6:04PM.\n",
      "Memory size is 32GiB\n"
     ]
    }
   ],
   "source": [
    "%%bash\n",
    "#!/bin/bash\n",
    "## 메타 문자 ^ {N} {N,} 메타클래스 [:alpha:] 이용할 경우\n",
    "## [:alpha:]는 알파벳 한글자를 의미한다\n",
    "## {N}은 앞의 문자나 문자클래스가 몇 번 반복되는지를 나타낸다\n",
    "## {N,}은 앞에 검색한 문자나 문자 클래스가 최소 N번 이상임을 나타낸다\n",
    "\n",
    "\n",
    "grep -E '^[[:alpha:]]{5}:' expression.txt\n",
    "## 라인 시작시 알파벳 5글자로 시작하고, 그 뒤에 :로 끝나는 단어가 있는 라인\n",
    "\n",
    "\n",
    "grep -E '^[[:alpha:]]{5,}[[:space:]]' expression.txt\n",
    "## 라인 시작 알파벳 5글자 이상이며, 뒤에 공백을 가진 단어가 있는 라인"
   ]
  },
  {
   "cell_type": "code",
   "execution_count": 139,
   "metadata": {
    "vscode": {
     "languageId": "shellscript"
    }
   },
   "outputs": [
    {
     "name": "stdout",
     "output_type": "stream",
     "text": [
      " Regular Expression\n",
      "# Author: NaleeJang\n",
      "# Description: regular expression test file\n",
      "# System Information\n",
      "# Help\n",
      "# Contacts\n",
      "Today is 05-May-2020.\n"
     ]
    }
   ],
   "source": [
    "%%bash\n",
    "#!/bin/bash\n",
    "## 메타 문자 {N,M} $ 메타클래스 [:alpha:] [:digit:] 이용할 경우\n",
    "\n",
    "grep -E '[[:alpha:]]{4,6}$' expression.txt\n",
    "## 라인 종료시 알파벳 4~6인 단어로 끝나는 라인\n",
    "\n",
    "\n",
    "grep -E '[[:digit:]]{4,6}.$' expression.txt\n",
    "## 라인 종료시 숫자 4~6인 단어에 끝이.인 라인"
   ]
  },
  {
   "cell_type": "code",
   "execution_count": 140,
   "metadata": {
    "vscode": {
     "languageId": "shellscript"
    }
   },
   "outputs": [
    {
     "name": "stdout",
     "output_type": "stream",
     "text": [
      "====================\n",
      " Regular Expression\n",
      "====================\n",
      "  \n",
      "Today is 05-May-2020.\n",
      "Current time is 6:04PM.\n",
      "This is an example file for testing regular expressions.\tThis example file includes control characters.\n",
      "CPU model is Intel(R) Core(TM) i7-8665U CPU @ 1.90GHz\n",
      "Memory size is 32GiB\n",
      "Disk is 512 GB\n",
      "IP Address is 192.168.35.7\n",
      "Do you have any questions? or Do you need any help?\n",
      "If you have any questions, Please send a mail to the email below.\n",
      "e-mail: nalee999@gmail.com\n",
      "phone: 010-2222-5668\n"
     ]
    }
   ],
   "source": [
    "%%bash\n",
    "#!/bin/bash\n",
    "## 메타 문자 ^ ^$ 이용할 경우\n",
    "\n",
    "cat expression.txt | grep -v '^#' | grep -v '^$'\n",
    "## 라인 시작시 #로 시작하고, 공백인 라인 제거"
   ]
  },
  {
   "cell_type": "code",
   "execution_count": 141,
   "metadata": {
    "vscode": {
     "languageId": "shellscript"
    }
   },
   "outputs": [
    {
     "name": "stdout",
     "output_type": "stream",
     "text": [
      "CPU model is Intel(R) Core(TM) i7-8665U CPU @ 1.90GHz\n",
      "IP Address is 192.168.35.7\n",
      "e-mail: nalee999@gmail.com\n",
      "    inet 127.0.0.1/8 scope host lo\n",
      "    inet 10.0.0.13/24 brd 10.0.0.255 scope global enp0s3\n",
      "Today is 05-May-2020.\n",
      "Current time is 6:04PM.\n",
      "This is an example file for testing regular expressions.\tThis example file includes control characters.\n",
      "If you have any questions, Please send a mail to the email below.\n"
     ]
    }
   ],
   "source": [
    "%%bash\n",
    "#!/bin/bash\n",
    "## 메타 문자 \\ \\b \\B 이용할 경우\n",
    "## \\B와 $는 동일한 의미를 가진다\n",
    "## \\b는 단어의 끝을 의미한다.\n",
    "\n",
    "grep '\\.\\b' expression.txt\n",
    "## .으로 끝나는 단어가 있는 라인\n",
    "\n",
    "ip address show | grep '\\.'\n",
    "## .가 있는 라인\n",
    "\n",
    "grep '\\.\\B' expression.txt\n",
    "## .으로 끝나는 라인"
   ]
  },
  {
   "cell_type": "code",
   "execution_count": 142,
   "metadata": {
    "vscode": {
     "languageId": "shellscript"
    }
   },
   "outputs": [
    {
     "name": "stdout",
     "output_type": "stream",
     "text": [
      "Current time is 6:04PM.\n",
      "CPU model is Intel(R) Core(TM) i7-8665U CPU @ 1.90GHz\n",
      "# Contacts\n",
      " Regular Expression\n",
      "# Description: regular expression test file\n",
      "This is an example file for testing regular expressions.\tThis example file includes control characters.\n",
      "# System Information\n"
     ]
    }
   ],
   "source": [
    "%%bash\n",
    "#!/bin/bash\n",
    "## 메타 문자 \\< \\> 이용할 경우\n",
    "## \\<는 단어의 시작, \\>는 단어의 끝을 의미한다.\n",
    "\n",
    "grep '\\<C' expression.txt\n",
    "## C로 시작하는 단어가 있는 라인\n",
    "\n",
    "grep 'n\\>' expression.txt\n",
    "## n으로 끝나는 단어가 있는 라인"
   ]
  },
  {
   "cell_type": "code",
   "execution_count": 143,
   "metadata": {
    "vscode": {
     "languageId": "shellscript"
    }
   },
   "outputs": [
    {
     "name": "stdout",
     "output_type": "stream",
     "text": [
      "This is an example file for testing regular expressions.\tThis example file includes control characters.\n",
      "====================\n",
      " Regular Expression\n",
      "====================\n",
      "#===========================================#\n",
      "# Date: 2020-05-05\n",
      "# Author: NaleeJang\n",
      "# Description: regular expression test file\n",
      "#===========================================#\n",
      "Today is 05-May-2020.\n",
      "Current time is 6:04PM.\n",
      "This is an example file for testing regular expressions.\tThis example file includes control characters.\n",
      "# System Information\n",
      "CPU model is Intel(R) Core(TM) i7-8665U CPU @ 1.90GHz\n",
      "Memory size is 32GiB\n",
      "Disk is 512 GB\n",
      "IP Address is 192.168.35.7\n",
      "# Help\n",
      "Do you have any questions? or Do you need any help?\n",
      "If you have any questions, Please send a mail to the email below.\n",
      "# Contacts\n",
      "e-mail: nalee999@gmail.com\n",
      "phone: 010-2222-5668\n"
     ]
    }
   ],
   "source": [
    "%%bash\n",
    "#!/bin/bash\n",
    "## 문자클래스 [:cntrl:] [:graph:] 이용할 경우\n",
    "## [:cntrl:] 특수문자는 탭, 캐리지 리턴 등으로 눈으로 볼 수 없는 문단 부호들이다.\n",
    "## [:graph:] 는 스페이스를 제외한 아스키 코드다\n",
    "\n",
    "grep '[[:cntrl:]]' expression.txt\n",
    "## 특수문자가 포함된 라인\n",
    "\n",
    "grep '[[:graph:]]' expression.txt\n",
    "## 아스키 코드가 있는 모든 라인"
   ]
  },
  {
   "cell_type": "code",
   "execution_count": 144,
   "metadata": {
    "vscode": {
     "languageId": "shellscript"
    }
   },
   "outputs": [
    {
     "name": "stdout",
     "output_type": "stream",
     "text": [
      "====================\n",
      " Regular Expression\n",
      "====================\n",
      "  \n",
      "#===========================================#\n",
      "# Date: 2020-05-05\n",
      "# Author: NaleeJang\n",
      "# Description: regular expression test file\n",
      "#===========================================#\n",
      "Today is 05-May-2020.\n",
      "Current time is 6:04PM.\n",
      "This is an example file for testing regular expressions.\tThis example file includes control characters.\n",
      "# System Information\n",
      "CPU model is Intel(R) Core(TM) i7-8665U CPU @ 1.90GHz\n",
      "Memory size is 32GiB\n",
      "Disk is 512 GB\n",
      "IP Address is 192.168.35.7\n",
      "# Help\n",
      "Do you have any questions? or Do you need any help?\n",
      "If you have any questions, Please send a mail to the email below.\n",
      "# Contacts\n",
      "e-mail: nalee999@gmail.com\n",
      "phone: 010-2222-5668\n"
     ]
    }
   ],
   "source": [
    "%%bash\n",
    "#!/bin/bash\n",
    "## 문자클래스 [:print:] 이용할 경우\n",
    "## [:print:]는 [:grpah:]에 스페이스를 포함한 아스키 코드이다\n",
    "\n",
    "grep '[[:print:]]' expression.txt\n",
    "## 스페이스를 포함한 아스키 코드가 있는 라인\n"
   ]
  },
  {
   "cell_type": "code",
   "execution_count": 145,
   "metadata": {
    "vscode": {
     "languageId": "shellscript"
    }
   },
   "outputs": [
    {
     "name": "stdout",
     "output_type": "stream",
     "text": [
      "# Author: NaleeJang\n",
      "# Description: regular expression test file\n",
      "This is an example file for testing regular expressions.\tThis example file includes control characters.\n",
      "Do you have any questions? or Do you need any help?\n",
      "If you have any questions, Please send a mail to the email below.\n"
     ]
    }
   ],
   "source": [
    "%%bash\n",
    "#!/bin/bash\n",
    "## 메타 문자 {N,} 문자클래스 [:alpha:] [:punct:] 이용할 경우\n",
    "## [:punct:] 문장 부호는 . , ? : 등을 의미한다\n",
    "\n",
    "\n",
    "grep -E '[[:alpha:]]{6,}[[:punct:]]' expression.txt\n",
    "## 알파벳 6글자 이상이며 문장 부호로 끝나는 단어가 있는 라인\n"
   ]
  },
  {
   "cell_type": "code",
   "execution_count": 146,
   "metadata": {
    "vscode": {
     "languageId": "shellscript"
    }
   },
   "outputs": [
    {
     "name": "stdout",
     "output_type": "stream",
     "text": [
      "    link/loopback 00:00:00:00:00:00 brd 00:00:00:00:00:00\n",
      "    link/ether 02:00:17:02:b7:8a brd ff:ff:ff:ff:ff:ff\n"
     ]
    }
   ],
   "source": [
    "%%bash\n",
    "#!/bin/bash\n",
    "## 메타 문자 \\< \\> * {N} 문자클래스 [:xdigit:] 이용할 경우\n",
    "\n",
    "ip a | grep -E '\\<[[:xdigit:]]{2}:*:[[:xdigit:]]{2}\\>'\n",
    "## 16진수 2글자:로 시작하며, :16진수 2글자로 끝나는 단어가 있는 라인\n"
   ]
  },
  {
   "cell_type": "code",
   "execution_count": null,
   "metadata": {
    "vscode": {
     "languageId": "shellscript"
    }
   },
   "outputs": [],
   "source": []
  }
 ],
 "metadata": {
  "kernelspec": {
   "display_name": "Python 3.8.10 64-bit",
   "language": "python",
   "name": "python3"
  },
  "language_info": {
   "codemirror_mode": {
    "name": "ipython",
    "version": 3
   },
   "file_extension": ".py",
   "mimetype": "text/x-python",
   "name": "python",
   "nbconvert_exporter": "python",
   "pygments_lexer": "ipython3",
   "version": "3.8.10"
  },
  "orig_nbformat": 4,
  "vscode": {
   "interpreter": {
    "hash": "e7370f93d1d0cde622a1f8e1c04877d8463912d04d973331ad4851f04de6915a"
   }
  }
 },
 "nbformat": 4,
 "nbformat_minor": 2
}
