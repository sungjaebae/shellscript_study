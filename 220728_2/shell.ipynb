{
 "cells": [
  {
   "cell_type": "markdown",
   "metadata": {},
   "source": [
    "# 처음 배우는 셸 스크립트#5\n",
    "\n",
    "## 7 날짜와 시간을 알려주는 date\n",
    "date는 개발, 데이터 동기화, 데이터 백업시 등등 많이 사용한다.  \n",
    "date는 로케일과 타임존에 따라 현재 시각을 보여준다.  \n",
    "\n",
    "date [옵션]\n",
    "date +포맷\n",
    "date [옵션] +포맷"
   ]
  },
  {
   "cell_type": "code",
   "execution_count": 1,
   "metadata": {
    "vscode": {
     "languageId": "shellscript"
    }
   },
   "outputs": [
    {
     "name": "stdout",
     "output_type": "stream",
     "text": [
      "Thu Jul 28 12:57:53 UTC 2022\n",
      "Wed Jul 27 12:57:53 UTC 2022\n",
      "2022-07-28 12:57 PM\n",
      "2022-07-27 12:57 PM\n"
     ]
    }
   ],
   "source": [
    "%%bash\n",
    "#!/bin/bash\n",
    "date\n",
    "date -d yesterday #특정 일자의 시간을 확인하는 옵션\n",
    "date '+%Y-%m-%d %l:%M %p'\n",
    "date '+%Y-%m-%d %l:%M %p' -d yesterday"
   ]
  },
  {
   "cell_type": "markdown",
   "metadata": {},
   "source": [
    "### 7.2 옵션\n",
    "|옵션|설명|\n",
    "|---|----|\n",
    "|-d 문자열, --date=문자열|문자열이 나타내는 일자를 보여줌|\n",
    "|-f 파일, --file=파일| -d 옵션과 동일하다|\n",
    "|-I[타임스팩],--iso-8601[=타임스팩]|ISO 8601 형식으로 날짜와 시간을 보여줌. 타임스팩으로 hours, minutes, date, seconds, ns를 사용할 수 있음|\n",
    "|-r 파일, --reference=파일|파일의 최근 수정일자를 보여줌|\n",
    "|-R, --rfc-2822|RFC 2822 포맷으로 날짜와 시간을 보여줌|\n",
    "|--rfc-3339=타임스팩|RFC 3339 포맷으로 날짜와 시간을 보여줌|\n",
    "|-s 문자열, --set=문자열|문자열이 나타내는 시간으로 설정|\n",
    "|-u, --utc, --universal|UTC 타입으로 설정하고 출력|\n",
    "|--help||\n",
    "|--version||"
   ]
  },
  {
   "cell_type": "code",
   "execution_count": 5,
   "metadata": {
    "vscode": {
     "languageId": "shellscript"
    }
   },
   "outputs": [
    {
     "name": "stdout",
     "output_type": "stream",
     "text": [
      "Fri Jul 29 02:21:18 UTC 2022\n",
      "Sat Jul 28 02:21:18 UTC 2012\n",
      "Sun Aug  7 02:21:18 UTC 2022\n",
      "Thu Jul  7 02:21:18 UTC 2022\n"
     ]
    }
   ],
   "source": [
    "%%bash\n",
    "#!/bin/bash\n",
    "date -d \"tomorrow\"\n",
    "date --date=\"10 years ago\"\n",
    "date --date=\"+10 day\"\n",
    "date -d \"-3 week\""
   ]
  },
  {
   "cell_type": "code",
   "execution_count": 7,
   "metadata": {
    "vscode": {
     "languageId": "shellscript"
    }
   },
   "outputs": [
    {
     "name": "stdout",
     "output_type": "stream",
     "text": [
      "2022-07-28\n",
      "2022-07-28T02+00:00\n",
      "2022-07-28T02:22:41,775925164+00:00\n"
     ]
    }
   ],
   "source": [
    "%%bash\n",
    "#!/bin/bash\n",
    "## ISO 8601 스팩\n",
    "date -I\n",
    "date -Ihours\n",
    "date --iso-8601=ns"
   ]
  },
  {
   "cell_type": "code",
   "execution_count": 2,
   "metadata": {
    "vscode": {
     "languageId": "shellscript"
    }
   },
   "outputs": [
    {
     "name": "stdout",
     "output_type": "stream",
     "text": [
      "Thu Jul 28 02:23:25 UTC 2022\n"
     ]
    }
   ],
   "source": [
    "%%bash\n",
    "#!/bin/bash\n",
    "## 파일의 최근 수정 일자\n",
    "date -r date-test.txt"
   ]
  },
  {
   "cell_type": "code",
   "execution_count": 13,
   "metadata": {
    "vscode": {
     "languageId": "shellscript"
    }
   },
   "outputs": [
    {
     "name": "stdout",
     "output_type": "stream",
     "text": [
      "Thu, 07 Jul 2022 02:24:49 +0000\n",
      "2022-07-28 02:24:49+00:00\n"
     ]
    }
   ],
   "source": [
    "%%bash\n",
    "#!/bin/bash\n",
    "## RFC 2822 형식\n",
    "date -R -d \"3 weeks ago\"\n",
    "## RFC 3339 형식\n",
    "date --rfc-3339=seconds"
   ]
  },
  {
   "cell_type": "code",
   "execution_count": 3,
   "metadata": {
    "vscode": {
     "languageId": "shellscript"
    }
   },
   "outputs": [
    {
     "name": "stdout",
     "output_type": "stream",
     "text": [
      "Thu Jul 28 12:58:48 UTC 2022\n"
     ]
    },
    {
     "name": "stderr",
     "output_type": "stream",
     "text": [
      "date: cannot set date: Operation not permitted\n"
     ]
    },
    {
     "name": "stdout",
     "output_type": "stream",
     "text": [
      "Fri Jul 29 12:58:48 UTC 2022\n",
      "Thu Jul 28 12:58:48 UTC 2022\n"
     ]
    }
   ],
   "source": [
    "%%bash\n",
    "#!/bin/bash\n",
    "## 시간 변경은 root 권한이 있어야 함\n",
    "date\n",
    "date -s \"1 day\"\n",
    "date"
   ]
  },
  {
   "cell_type": "code",
   "execution_count": 4,
   "metadata": {
    "vscode": {
     "languageId": "shellscript"
    }
   },
   "outputs": [
    {
     "name": "stdout",
     "output_type": "stream",
     "text": [
      "Thu Jul 28 12:59:16 UTC 2022\n",
      "Thu Jul 28 12:59:16 UTC 2022\n"
     ]
    }
   ],
   "source": [
    "%%bash\n",
    "#!/bin/bash\n",
    "## UTC 형식\n",
    "date\n",
    "date -u"
   ]
  },
  {
   "cell_type": "markdown",
   "metadata": {},
   "source": [
    "### 7.3 date 포맷\n",
    "%기호와 함꼐 사용되며 요일,년,월,일,시,분,초 등을 조합하여 출력한다\n",
    "|포맷|설명|\n",
    "|----|----|\n",
    "|%%|%기호|\n",
    "|%a|로케일 타입의 짧은 요일(Thu)|\n",
    "|%A|로케일 타입의 요일(Thursday)|\n",
    "|%b|로케일 타입의 짧은 월(Jul)|\n",
    "|%B|로케일 타입의 월(July)|\n",
    "|%c|로케일에 따른 날짜와 시간(Thu Jul 28 02:29:11 2022)|\n",
    "|%C|세기(20?)|\n",
    "|%d|일(28)|\n",
    "|%D|날짜 (%m/%d/%y)|\n",
    "|%e|%d와 동일|\n",
    "|%F|날짜 (%Y-%m-%d)|\n",
    "|%g|2자리수 연도(22)|\n",
    "|%G|4자리수 연도(2022)|\n",
    "|%N|나노초|\n",
    "|%p|로케일 타입의 AM또는 PM|\n",
    "|%P|로케일 타입의 am또는 pm|\n",
    "|%r|로케일 타입의 시(02:32:20 AM)|\n",
    "|%R|24시간 기준의 시와 분(%H:%M)|\n",
    "|%s|UTC타입의 초|\n",
    "|%S|초|\n",
    "|%t|탭|\n",
    "|%T|시간(%H:%M:%S)|\n",
    "|%u| 요일(1..7) 1은 월요일|\n",
    "|%U| 일요일로 시작하는 연도의 주수(00..53)|\n",
    "|%V|월요일로 시작하는 연도의 주수(01..53)|\n",
    "|%w|주별 일수 (0..6) 0은 일요일|\n",
    "|%W|월요일로 시작하는 연도별 주수(00..53)|\n",
    "|%h|%b와 동일|\n",
    "|%H|시(00..23)|\n",
    "|%l|시(01..12)|\n",
    "|%j|일(001...366)|\n",
    "|%k|시(0..23)|\n",
    "|%I|시(1..12)}\n",
    "|%m|월(01..12)|\n",
    "|%M|분(00..59)|\n",
    "|%n|뉴라인|\n",
    "|%x|로케일 타입의 날짜(07/28/22)|\n",
    "|%X|로케일 타입의 시간(02:39:25)|\n",
    "|%y|연도(00..99)|\n",
    "|%Y|연도|\n",
    "|%z|타임존 +0000|\n",
    "|%:z|타임존 +00:00|\n",
    "|%::z|타임존 +00:00:00|\n",
    "|%:::z|타임존 +00|\n",
    "|%Z|타임존 UTC|"
   ]
  },
  {
   "cell_type": "code",
   "execution_count": 26,
   "metadata": {
    "vscode": {
     "languageId": "shellscript"
    }
   },
   "outputs": [
    {
     "name": "stdout",
     "output_type": "stream",
     "text": [
      "2022-07-28\n",
      "07-28-22\n",
      "28-Jul-2022\n",
      " 2:49:12 AM\n",
      " 2:49:12\n",
      "2022-07-28  2:49 AM\n",
      "2022-07-28  2:49 UTC +00:00\n",
      "Thursday, July 28, 2022\n",
      "Thursday, July 28, 2022 at 02:49:12 AM\n",
      "2022024912\n",
      "\n",
      "Thu Jul 28 02:49:12 2022\n",
      "07/28/22\n",
      "02:49:12\n",
      "The 2122 is the 21 centry.\n",
      "Today is the 4th day of the week\n",
      "This week is the 30th week of the year.\n"
     ]
    }
   ],
   "source": [
    "%%bash\n",
    "#!/bin/bash\n",
    "## 자주 사용하는 포맷\n",
    "date +%Y-%m-%d #년-월-일\n",
    "date +%m-%d-%y #월-일-년\n",
    "date +%d-%b-%Y #일-문자월-년\n",
    "date '+%l:%M:%S %p' #12시간 기준 시간\n",
    "date '+%k:%M:%S' #24시간 기준 시간\n",
    "date '+%Y-%m-%d %l:%M %p' #날짜와 시간\n",
    "date '+%Y-%m-%d %k:%M %Z %:z' #타임존\n",
    "date '+%A, %B %d, %Y' #문자로\n",
    "date '+%A, %B %d, %Y at %H:%M:%S %p' #문자로\n",
    "date +%Y$m$d%H%M%S #전부 붙여서. 로그파일용\n",
    "echo \"\"\n",
    "# 기타\n",
    "date +%c\n",
    "date +%x\n",
    "date +%X\n",
    "echo \"The $(date -d '100 years' +%Y) is the $(date -d '+100 years' +%C) centry.\"\n",
    "echo \"Today is the $(date +%u)th day of the week\"\n",
    "echo \"This week is the $(date +%V)th week of the year.\""
   ]
  }
 ],
 "metadata": {
  "kernelspec": {
   "display_name": "Python 3.8.10 64-bit",
   "language": "python",
   "name": "python3"
  },
  "language_info": {
   "codemirror_mode": {
    "name": "ipython",
    "version": 3
   },
   "file_extension": ".py",
   "mimetype": "text/x-python",
   "name": "python",
   "nbconvert_exporter": "python",
   "pygments_lexer": "ipython3",
   "version": "3.8.10"
  },
  "orig_nbformat": 4,
  "vscode": {
   "interpreter": {
    "hash": "e7370f93d1d0cde622a1f8e1c04877d8463912d04d973331ad4851f04de6915a"
   }
  }
 },
 "nbformat": 4,
 "nbformat_minor": 2
}
