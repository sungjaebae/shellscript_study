{
 "cells": [
  {
   "cell_type": "markdown",
   "metadata": {},
   "source": [
    "# 처음 배우는 셸 스크립트#5\n",
    "\n",
    "## 6장 찾은 문자열을 바꿀 수 있는 sed\n",
    "\n",
    "리눅스에서 sed를 이용하면 쉽게 변경하고자 하는 문자열을 찾아 변경할 수 있다  \n",
    "\n",
    "### 6.1 sed 사용법\n",
    "sed는 스트림 편집기이다. 스트림 편집기는 입력 스트림에서 텍스트 변환을 수행하는 데 사용된다.  \n",
    "입력 스트림: 대상 파일  \n",
    "스크립트: 어떤 텍스트를 어떻게 변환할지 정의. 대상 파일의 범위를 지정하는 어드레스+ 명령어  \n",
    "\n",
    "가장 기본적인 사용법은  \n",
    "sed 스크립트 대상파일\n",
    "sed [옵션] '[어드레스] 명령어' 대상파일   \n",
    "sed [옵션] -f 스크립트파일 대상파일\n",
    "명령어 | sed [옵션] '스크립트'\n",
    "\n",
    "대상파일이 변경되지 않고, 변경시의 결과물이 표준출력으로 나온다"
   ]
  },
  {
   "cell_type": "code",
   "execution_count": 13,
   "metadata": {
    "vscode": {
     "languageId": "shellscript"
    }
   },
   "outputs": [
    {
     "name": "stdout",
     "output_type": "stream",
     "text": [
      "34:#PermitRootLogin prohibit-password\n",
      "34:PermitRootLogin prohibit-password\n"
     ]
    }
   ],
   "source": [
    "%%bash\n",
    "#!/bin/bash\n",
    "## 명령어 s/찾을문자열/변경문자열/ 의 형태\n",
    "cat /etc/ssh/sshd_config | grep '^#PermitRoot' -n\n",
    "sed 's/#PermitRoot/PermitRoot/' /etc/ssh/sshd_config | grep '^PermitRoot' -n"
   ]
  },
  {
   "cell_type": "code",
   "execution_count": 15,
   "metadata": {
    "vscode": {
     "languageId": "shellscript"
    }
   },
   "outputs": [
    {
     "name": "stdout",
     "output_type": "stream",
     "text": [
      "34:PermitRootLogin prohibit-password\n"
     ]
    }
   ],
   "source": [
    "%%bash\n",
    "#!/bin/bash\n",
    "## 스크립트 파일\n",
    "echo 's/#PermitRoot/PermitRoot/' > sed-script5.txt\n",
    "sed -f sed-script5.txt /etc/ssh/sshd_config | grep '^PermitRoot' -n"
   ]
  },
  {
   "cell_type": "code",
   "execution_count": 19,
   "metadata": {
    "vscode": {
     "languageId": "shellscript"
    }
   },
   "outputs": [
    {
     "name": "stdout",
     "output_type": "stream",
     "text": [
      "PermitRootLogin prohibit-password\n"
     ]
    }
   ],
   "source": [
    "%%bash\n",
    "#!/bin/bash\n",
    "## 파이프연산자\n",
    "cat /etc/ssh/sshd_config | sed -e 's/#PermitRoot/PermitRoot/' | grep '^PermitRoot'"
   ]
  },
  {
   "cell_type": "markdown",
   "metadata": {},
   "source": [
    "### 6.2 sed 스크립트\n",
    "sed 스크립트는 어드레스와 명령어로 구성된다.  \n",
    "\n",
    "어드레스  \n",
    "대상 파일에서 범위를 정의한다.\n",
    "|옵션|설명|\n",
    "|----|---|\n",
    "|number|명시된 숫자에 해당하는 라인 번호일 경우 명령어를 수행함|\n",
    "|number~step|number부터 step간격으로 명령어를 수행함|\n",
    "|$|파일의 마지막 라인일 경우 명령어를 수행함|\n",
    "|/regexp/|명시한 정규 표현식과 일치하는 라인일 경우 명령어를 수행함|\n",
    "|\\cregexpc|명시한 정규 표현식과 일치하는 라인일 경우 다음 명령어를 수행함|\n",
    "|0,addr2|1번째 라인부터 addr2가 포함된 라인까지가 범위이며, addr2는 정규표현식이어야 함|\n",
    "|addr1,+N|addr1이 포함된 라인부터 +N라인 까지가 범위다. addr1은 정규표현식이고, N은 숫자여야 함|\n",
    "|addr1,~N|addr1이 포함된 라인을 기준으로 N라인 까지가 범위다. addr1은 정규표현식이고, N은 숫자여야 함|\n",
    "\n",
    "라인 넘버는 0부터 시작한다\n",
    "명령어는 한 라인에 하나만 사용할 수 있다. 아니면 ;로 구분 가능하다.\n"
   ]
  },
  {
   "cell_type": "code",
   "execution_count": 20,
   "metadata": {
    "vscode": {
     "languageId": "shellscript"
    }
   },
   "outputs": [
    {
     "name": "stdout",
     "output_type": "stream",
     "text": [
      "# This is Sed Sample File\n",
      "# We will test to replace from a-text to b-text.\n",
      "# It was created by NaleeJang.\n",
      "\n",
      "127.0.0.1   localhost\n",
      "\n",
      "# Development\n",
      "192.168.100.250 git.example.com\n",
      "192.168.100.10  servera.example.com\n",
      "192.168.100.11  dev.example.com\n",
      "\n",
      "# Test\n",
      "\n",
      "172.10.2.12 test1.example.com\n",
      "172.10.2.13 test2.example.com\n",
      "\n",
      "# Production\n",
      "122.10.10.31 service.example.com\n",
      "122.10.10.32 service1.example.com\n",
      "122.10.10.33 service2.example.com\n"
     ]
    }
   ],
   "source": [
    "%%bash\n",
    "#!/bin/bash\n",
    "## 예제 파일 확인. sed는 주로 환경 설정 파일의 특정 문자열을 변경할 때 사용된다\n",
    "cat hosts"
   ]
  },
  {
   "cell_type": "code",
   "execution_count": 24,
   "metadata": {
    "vscode": {
     "languageId": "shellscript"
    }
   },
   "outputs": [
    {
     "name": "stdout",
     "output_type": "stream",
     "text": [
      "127.0.0.1   localhost\n"
     ]
    }
   ],
   "source": [
    "%%bash\n",
    "#!/bin/bash\n",
    "## -n 옵션은 대상 파일 내용을 출력하지 않겠다는 옵션\n",
    "## '5 p'는 어드레스 5, 명령어 p(print)\n",
    "sed -n '5 p' hosts"
   ]
  },
  {
   "cell_type": "code",
   "execution_count": 38,
   "metadata": {
    "vscode": {
     "languageId": "shellscript"
    }
   },
   "outputs": [
    {
     "name": "stdout",
     "output_type": "stream",
     "text": [
      "1\n",
      "4\n",
      "7\n",
      "10\n",
      "13\n",
      "16\n",
      "19\n"
     ]
    }
   ],
   "source": [
    "%%bash\n",
    "#!/bin/bash\n",
    "## = 명령어는 라인의 라인 번호를 출력하라는 의미\n",
    "sed -n '1~3 = ' hosts"
   ]
  },
  {
   "cell_type": "code",
   "execution_count": 41,
   "metadata": {
    "vscode": {
     "languageId": "shellscript"
    }
   },
   "outputs": [
    {
     "name": "stdout",
     "output_type": "stream",
     "text": [
      "20\n",
      "122.10.10.33 service2.example.com\n"
     ]
    }
   ],
   "source": [
    "%%bash\n",
    "#!/bin/bash\n",
    "## $ 어드레스는 파일의 마지막 라인\n",
    "sed -n '$ =' hosts\n",
    "sed -n '$ p' hosts"
   ]
  },
  {
   "cell_type": "code",
   "execution_count": 43,
   "metadata": {
    "vscode": {
     "languageId": "shellscript"
    }
   },
   "outputs": [
    {
     "name": "stdout",
     "output_type": "stream",
     "text": [
      "172.10.2.12 test1.example.com\n",
      "172.10.2.13 test2.example.com\n",
      "172.10.2.12 test1.example.com\n",
      "172.10.2.13 test2.example.com\n"
     ]
    }
   ],
   "source": [
    "%%bash\n",
    "#!/bin/bash\n",
    "## /regexp/\n",
    "sed -n '/test[0-9].*/ p' hosts\n",
    "sed -n '\\ctest[0-9].*c p' hosts\n"
   ]
  },
  {
   "cell_type": "code",
   "execution_count": 55,
   "metadata": {
    "vscode": {
     "languageId": "shellscript"
    }
   },
   "outputs": [
    {
     "name": "stdout",
     "output_type": "stream",
     "text": [
      "# Development\n",
      "192.168.100.250 git.example.com\n",
      "192.168.100.10  servera.example.com\n",
      "192.168.100.11  dev.example.com\n",
      "# Development\n",
      "192.168.100.250 git.example.com\n",
      "192.168.100.10  servera.example.com\n"
     ]
    }
   ],
   "source": [
    "%%bash\n",
    "#!/bin/bash\n",
    "## 0부터  # Devel로 시작하는 라인까지 출력\n",
    "#sed -n '0,/^# Devel*/ p' hosts\n",
    "## # Devel로 시작하는 라인부터 아래 3줄까지 출력\n",
    "sed -n '/^# Devel*/,+3 p' hosts\n",
    "## # Devel로 시작하는 라인을 포함해 3줄까지 출력\n",
    "sed -n '/^# Devel*/,~3 p' hosts\n"
   ]
  },
  {
   "cell_type": "markdown",
   "metadata": {},
   "source": [
    "명령어  \n",
    "\n",
    "0 OR 1 어드레스 명령어  \n",
    "0 OR 1 어드레스 명령어는 라벨, 주석, 블록과 같이 파일 내용에 아무런 영향을 주지 않는 명령어와  \n",
    "문자열 추가, 삽입, 스크립트 종료, 파일 내용 추가와 같은 명령어로 어드레스가 필요한 명령어가 있다.\n",
    "|옵션|설명|\n",
    "|---|----|\n",
    "|:label|라벨|\n",
    "|#comment|주석|\n",
    "|{ ... }|블록|\n",
    "|=|현재 라인 번호 출력|\n",
    "|a \\ text| 문자열 추가|\n",
    "|i \\ text| 문자열 삽입|\n",
    "|q|스크립트 실행 종료|\n",
    "|Q|스크립트 실행 종료|\n",
    "|r 파일명|파일 내용 추가|\n",
    "|R 파일명|파일 첫라인 추가|"
   ]
  },
  {
   "cell_type": "code",
   "execution_count": 47,
   "metadata": {
    "vscode": {
     "languageId": "shellscript"
    }
   },
   "outputs": [
    {
     "name": "stdout",
     "output_type": "stream",
     "text": [
      "/# Test/,+3 {\n",
      "=\n",
      "# first label\n",
      ":label1\n",
      "}\n",
      "12\n",
      "13\n",
      "14\n",
      "15\n"
     ]
    }
   ],
   "source": [
    "%%bash\n",
    "#!/bin/bash\n",
    "cat sed-script.txt\n",
    "sed -n -f sed-script.txt hosts"
   ]
  },
  {
   "cell_type": "code",
   "execution_count": 5,
   "metadata": {
    "vscode": {
     "languageId": "shellscript"
    }
   },
   "outputs": [
    {
     "name": "stdout",
     "output_type": "stream",
     "text": [
      "172.10.2.13 test2.example.com\n",
      "172.10.2.14 test3.example.com\n"
     ]
    }
   ],
   "source": [
    "%%bash\n",
    "#!/bin/bash\n",
    "sed -n '/172.10.2.13/ { a\\172.10.2.14 test3.example.com\n",
    "p}' hosts"
   ]
  },
  {
   "cell_type": "code",
   "execution_count": 104,
   "metadata": {
    "vscode": {
     "languageId": "shellscript"
    }
   },
   "outputs": [
    {
     "name": "stdout",
     "output_type": "stream",
     "text": [
      "172.10.2.14 test3.example.com \n",
      "172.10.2.13 test2.example.com\n"
     ]
    }
   ],
   "source": [
    "%%bash\n",
    "#!/bin/bash\n",
    "sed -n '/172.10.2.13/ { i\\172.10.2.14 test3.example.com \n",
    "p}' hosts"
   ]
  },
  {
   "cell_type": "code",
   "execution_count": 7,
   "metadata": {
    "vscode": {
     "languageId": "shellscript"
    }
   },
   "outputs": [
    {
     "name": "stdout",
     "output_type": "stream",
     "text": [
      "172.10.2.14 test3.example.com \n"
     ]
    }
   ],
   "source": [
    "%%bash\n",
    "#!/bin/bash\n",
    "#q는 수행중이던 스크립트를 종료한다. 따라서  텍스트 추가가 종료되고 그냥 추가될 텍스트를 p한다.\n",
    "sed -n '/172.10.2.13/ {a\\172.10.2.14 test3.example.com \n",
    "q\n",
    "p}' hosts"
   ]
  },
  {
   "cell_type": "code",
   "execution_count": 8,
   "metadata": {
    "vscode": {
     "languageId": "shellscript"
    }
   },
   "outputs": [],
   "source": [
    "%%bash\n",
    "#!/bin/bash\n",
    "#Q는 수행중이던 스크립트를 종료한다. 뒤에 출력도 안한다\n",
    "sed -n '/172.10.2.13/ {a\\172.10.2.14 test3.example.com \n",
    "Q\n",
    "p}' hosts"
   ]
  },
  {
   "cell_type": "code",
   "execution_count": 9,
   "metadata": {
    "vscode": {
     "languageId": "shellscript"
    }
   },
   "outputs": [
    {
     "name": "stdout",
     "output_type": "stream",
     "text": [
      "172.10.2.14 test3.example.com\n",
      "172.10.2.15 test4.example.com\n",
      "\n",
      "172.10.2.13 test2.example.com\n",
      "172.10.2.14 test3.example.com\n",
      "172.10.2.15 test4.example.com\n"
     ]
    }
   ],
   "source": [
    "%%bash\n",
    "#!/bin/bash\n",
    "cat sed-read.txt\n",
    "echo \"\"\n",
    "sed -n '/172.10.2.13/ {r sed-read.txt\n",
    "p}' hosts"
   ]
  },
  {
   "cell_type": "code",
   "execution_count": 10,
   "metadata": {
    "vscode": {
     "languageId": "shellscript"
    }
   },
   "outputs": [
    {
     "name": "stdout",
     "output_type": "stream",
     "text": [
      "# This is Sed Sample File\n",
      "# We will test to replace from a-text to b-text.\n",
      "# It was created by NaleeJang.\n",
      "\n",
      "127.0.0.1   localhost\n",
      "\n",
      "# Development\n",
      "192.168.100.250 git.example.com\n",
      "192.168.100.10  servera.example.com\n",
      "192.168.100.11  dev.example.com\n",
      "\n",
      "# Test\n",
      "\n",
      "172.10.2.12 test1.example.com\n",
      "172.10.2.13 test2.example.com\n",
      "172.10.2.14 test3.example.com\n",
      "\n",
      "# Production\n",
      "122.10.10.31 service.example.com\n",
      "122.10.10.32 service1.example.com\n",
      "122.10.10.33 service2.example.com\n"
     ]
    }
   ],
   "source": [
    "%%bash\n",
    "#!/bin/bash\n",
    "##R은 해당 파일의 첫 라인만 읽어서 추가한다\n",
    "sed -n '/172.10.2.13/ {R sed-read.txt\n",
    "p}' hosts"
   ]
  },
  {
   "cell_type": "markdown",
   "metadata": {},
   "source": [
    "어드레스 범위 명령어  \n",
    "범위도 받을 수 있다  \n",
    "|옵션|설명|\n",
    "|----|----|\n",
    "|b, label|라벨을 호출함|\n",
    "|c\\text|앞에서 명시된 패턴이 포함된 라인을 text로 변경|\n",
    "|d, B|앞에서 명시된 패턴 삭제|\n",
    "|h, H|패턴 공간을 홀드 공간에 복사/추가|\n",
    "|g, G|홀드 공간을 패턴 공간에 복사/추가|\n",
    "|l|입력된 데이터의 현재 라인 출력|\n",
    "|l width| 명시한 너비에 맞게 입력된 데이터의 현재 라인 출력|\n",
    "|n N|입력된 데이터의 다음 라인을 복사/추가|\n",
    "|p P|현재 패턴 공간 출력|\n",
    "|s/regexp/replacement/| 정규표현식에 해당하는 데이터를 replacement로 변경함|\n",
    "|t label / T label| 앞에서 선언된 명령어를 실행 후 라벨로 분기|\n",
    "|w 파일명 / W 파일명| 명시한 파일에 현재 패턴 공간을 저장|\n",
    "|x|홀드와 패턴 공간의 콘텐츠를 교환함|\n",
    "|y/source/dest/|패턴이 포함된 라인의 문자열을 dest문자열로 변경|"
   ]
  },
  {
   "cell_type": "code",
   "execution_count": 13,
   "metadata": {
    "vscode": {
     "languageId": "shellscript"
    }
   },
   "outputs": [
    {
     "name": "stdout",
     "output_type": "stream",
     "text": [
      "/# Test/,+3 {\n",
      "# if input line is empty, doesn’t execute replacing\n",
      "/^$/ b label1\n",
      "s/[tT]est/dev/\n",
      ": label1\n",
      "p\n",
      "}\n",
      "\n",
      "# dev\n",
      "\n",
      "172.10.2.12 dev1.example.com\n",
      "172.10.2.13 dev2.example.com\n"
     ]
    }
   ],
   "source": [
    "%%bash\n",
    "#!/bin/bash\n",
    "## b label 로 goto\n",
    "cat sed-script1.txt\n",
    "echo \"\"\n",
    "sed -n -f sed-script1.txt hosts"
   ]
  },
  {
   "cell_type": "code",
   "execution_count": 16,
   "metadata": {
    "vscode": {
     "languageId": "shellscript"
    }
   },
   "outputs": [
    {
     "name": "stdout",
     "output_type": "stream",
     "text": [
      "# Production\n",
      "122.10.10.30 vip.service.example.com\n",
      "122.10.10.32 service1.example.com\n",
      "122.10.10.33 service2.example.com\n"
     ]
    }
   ],
   "source": [
    "%%bash\n",
    "#!/bin/bash\n",
    "## c\\text로 변경\n",
    "sed '/service.e/ c\\122.10.10.30 vip.service.example.com' hosts | tail -n4"
   ]
  },
  {
   "cell_type": "code",
   "execution_count": 19,
   "metadata": {
    "vscode": {
     "languageId": "shellscript"
    }
   },
   "outputs": [
    {
     "name": "stdout",
     "output_type": "stream",
     "text": [
      "# This is Sed Sample File\n",
      "# It was created by NaleeJang.\n",
      "\n",
      "# This is Sed Sample File\n",
      "replace from a-text to b-text.\n",
      "# It was created by NaleeJang.\n"
     ]
    }
   ],
   "source": [
    "%%bash\n",
    "#!/bin/bash\n",
    "## d, D로 삭제. d는 뉴라인과 상관없이 해당 문자열이 포함된 라인을 삭제, D는 뉴라인까지만 삭제\n",
    "\n",
    "sed -n '0,/NaleeJang/ {\n",
    "s/We will test to replace/We will test to\\nreplace/\n",
    "/test/ d\n",
    "p }' hosts\n",
    "echo \"\"\n",
    "sed -n '0,/NaleeJang/ {\n",
    "s/We will test to replace/We will test to\\nreplace/\n",
    "/test/ D\n",
    "p }' hosts"
   ]
  },
  {
   "cell_type": "code",
   "execution_count": 28,
   "metadata": {
    "vscode": {
     "languageId": "shellscript"
    }
   },
   "outputs": [
    {
     "name": "stdout",
     "output_type": "stream",
     "text": [
      "# Production\n",
      "122.10.10.31 Production.example.com\n",
      "122.10.10.32 Production1.example.com\n",
      "122.10.10.33 Production2.example.com\n"
     ]
    }
   ],
   "source": [
    "%%bash\n",
    "#!/bin/bash\n",
    "## h, H는 홀드 버퍼의 내용을 패턴 버퍼로 복사한다\n",
    "## p는 패턴 버퍼의 내용을 출력한다\n",
    "## 잘못된 예제\n",
    "sed -n '/Product/,+3 {\n",
    "s/service/Production/\n",
    "h\n",
    "p}' hosts"
   ]
  },
  {
   "cell_type": "markdown",
   "metadata": {},
   "source": [
    "패턴 버퍼와 홀드 버퍼  \n",
    "sed는 명령어를 수행할 때 대상 파일의 내용을 한 줄씩 읽어 패턴 버퍼(패턴 공간)에 삽입한다  \n",
    "패턴 버퍼는 현재 정보를 저장하는 버퍼 메모리이며, sed를 통해 출력을 실행하면 패턴 버퍼의 내용이 인쇄된다\n",
    "\n",
    "이외에도 홀드 버퍼(홀드 공간)이라 불리는 임시 버퍼 메모리 공간이 있다.  \n",
    "홀드 버퍼에는 대상 파일의 라인 수만큼의 빈 공간을 가지고 있으며, sed가 다른 라인을 처리할 때 재사용한다  \n",
    "대부분의 명령어는 패턴 버퍼에서 작업이 이루어진다 \n"
   ]
  },
  {
   "cell_type": "code",
   "execution_count": 35,
   "metadata": {
    "vscode": {
     "languageId": "shellscript"
    }
   },
   "outputs": [
    {
     "name": "stdout",
     "output_type": "stream",
     "text": [
      "# Production\n",
      "\n",
      "# Production\n",
      "199.9.9.31 Production.example.com\n",
      "\n",
      "# Production\n",
      "122.10.10.31 Production.example.com\n",
      "199.9.9.32 Production1.example.com\n",
      "\n",
      "# Production\n",
      "122.10.10.31 Production.example.com\n",
      "122.10.10.32 Production1.example.com\n",
      "199.9.9.33 Production2.example.com\n",
      "\n",
      "# Production\n",
      "122.10.10.31 Production.example.com\n",
      "122.10.10.32 Production1.example.com\n",
      "122.10.10.33 Production2.example.com\n"
     ]
    }
   ],
   "source": [
    "%%bash\n",
    "#!/bin/bash\n",
    "## g, G는 패턴 버퍼의 내용을 홀드 버퍼로 복사한다\n",
    "## 대문자 H,G를 사용하면 변경과정이 나옴\n",
    "sed -n '/Product/,+3 {\n",
    "s/service/Production/\n",
    "H\n",
    "s/122.10.10/199.9.9/\n",
    "G\n",
    "p}' hosts"
   ]
  },
  {
   "cell_type": "markdown",
   "metadata": {},
   "source": [
    "## 6.3 sed 옵션\n",
    "|옵션|설명|\n",
    "|-n,--quiet,--silent|현재 패턴 공간을 출력하지 않음|\n",
    "|-e 스크립트, --expression=스크립트|여러 개의 스크립트를 실행할 때 사용함|\n",
    "|-f 스크립트파일, --file=스크립트파일|파일로 실행|\n",
    "|--folow-symlinks|심볼릭 링크 대상파일에 사용|\n",
    "|-i파일 확장자, --in-place=파일확장자|현재 파일에 결과를 그대로 저장함. 파일확장자를 넣으면 백업 파일이 생성됨|\n",
    "|-c, --copy|파일명 뒤에 c가 붙은 백업파일이 생성됨|\n",
    "|-r,--regexp-extended|sed는 기본적으로 basic regex이다. 확장으로 변경함|\n",
    "|-s, --separate|여러 개의 파일을 각각 처리한다|\n",
    "|-u, --unbuffered|버퍼를 자주 비워 성능이 향상됨|\n",
    "|-z,--null-data|구분 기호가 null인 데이터의 문자열을 변경할 때 사용|\n",
    "-E is for compatibility with BSD. It's the same as -r or --regexp-extended -\n"
   ]
  },
  {
   "cell_type": "markdown",
   "metadata": {},
   "source": [
    "https://mug896.github.io/sed-stream-editor/index.html 를 참고하자\n"
   ]
  }
 ],
 "metadata": {
  "kernelspec": {
   "display_name": "Python 3.8.10 64-bit",
   "language": "python",
   "name": "python3"
  },
  "language_info": {
   "codemirror_mode": {
    "name": "ipython",
    "version": 3
   },
   "file_extension": ".py",
   "mimetype": "text/x-python",
   "name": "python",
   "nbconvert_exporter": "python",
   "pygments_lexer": "ipython3",
   "version": "3.8.10"
  },
  "orig_nbformat": 4,
  "vscode": {
   "interpreter": {
    "hash": "e7370f93d1d0cde622a1f8e1c04877d8463912d04d973331ad4851f04de6915a"
   }
  }
 },
 "nbformat": 4,
 "nbformat_minor": 2
}
