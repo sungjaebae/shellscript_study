{
 "cells": [
  {
   "cell_type": "markdown",
   "metadata": {},
   "source": [
    "# 처음 배우는 셸 스크립트#7\n",
    "\n",
    "## 3부 예제와 함께 활용하는 셸 스크립트 활용\n",
    "시스템 운영, 개발환경 구축, 클라우드 시스템 운영 시 발생하는 다양한 상황에서 셸 스크립트를 활용한다.  \n",
    "상황 -> 방법 찾기 -> 스크립트 생성 -> 문제 해결  \n",
    "\n",
    "## 11 모니터링\n",
    "대부분 모니터링 솔루션이나 시스템을 이용하여 모니터링을 하지만, 그런 상황이 되지 않을 경우에는 셸 스크립트로 모니터링 한다.\n",
    "\n",
    "### 11.1 IPItool을 이용하여 서버 전원 체크할 때\n",
    "##### 상황 \n",
    "물리 서버의 전원이 정상인지 모니터링하는 일은 매우 중요하다. 대부분의 서버 업체는 전용 네트워크 인터페이스를 통해 서버의 전원을 제어할 수 있는 시스템을 제공한다.  \n",
    "리눅스에서는 IPMItool을 이용하여 시스템의 전원 상태를 체크하고 전원을 제어할 수 있다.  \n",
    "\n",
    "##### 방법 찾기\n",
    "IPMI는 Intelligent Platform Management Interface의 약자로 하드웨어를 원격으로 관리하기 위한 인터페이스이다.  \n",
    "IPMI를 사용하기 위해서는 서버에 구성된 IPMI용 포트에 네트워크가 연결되어 있어야 한다. 그리고 물리 서버 바이오스의 IPMI 정보에 해당 IP 및 포트, 그리고 사용자 계정과 패스워드가 설정되어 있어야 한다. 이런 구성 하에 관리 서버에서 클러스터링으로 묶인 서버들의 전원 상태를 확인할 수 있다.\n",
    "필요한 정보  \n",
    "- 모니터링하고자 하는 서버의 IPMI IP, Port, User ID, User Password\n",
    "- 전원 체크를 위한 IPMI 명령어: ipmitool\n",
    "\n",
    "프로세스\n",
    "- 모니터링하고자 하는 서버의 IPMI IP 정보를 변수에 저장한다\n",
    "- IPMI 접근을 위한 해당 계정의 패스워드를 입력받는다\n",
    "- for문을 돌면서 ipmitool 명령어를 이용하여 해당 서버의 전원을 체크한다\n",
    "- 모니터링 결과를 echo로 출력한다\n",
    "\n",
    "##### 스크립트 생성\n"
   ]
  },
  {
   "cell_type": "code",
   "execution_count": null,
   "metadata": {
    "vscode": {
     "languageId": "shellscript"
    }
   },
   "outputs": [],
   "source": [
    "%%bash\n",
    "#!/bin/bash\n",
    "\n",
    "# IPMI IP 및 User ID를 변수에 저장\n",
    "ipmi_hosts=\"192.168.122.10 192.168.122.11 192.168.122.12 192.168.122.13\"\n",
    "ipmi_userid=\"admin\"\n",
    "\n",
    "# IPMI User ID에 해당하는 패스워드를 입력받음.\n",
    "read -p \"Please input ipmi password : \" ipmi_pw\n",
    "# 패스워드 입력을 안했으면 입력을 하지 않았다는 메시지를 보여주고, 스크립트 종료\n",
    "if [[ -z $ipmi_pw ]]; then echo \"You didn't input ipmi password. Please retry.\"; exit; fi\n",
    "\n",
    "# ipmitool 명령어를 이용하여 해당 서버의 전원 체크\n",
    "for host in $ipmi_hosts\n",
    "do\n",
    "  echo \"#### IPMI HOST:: $host ####\"\n",
    "  power_stat=$(ipmitool -I lanplus -H $host -L ADMINISTRATOR -U $ipmi_userid -P $impi_pw -v power status)\n",
    "  echo \"$power_stat\"\n",
    "done\n"
   ]
  },
  {
   "cell_type": "code",
   "execution_count": null,
   "metadata": {
    "vscode": {
     "languageId": "shellscript"
    }
   },
   "outputs": [],
   "source": [
    "%%bash\n",
    "#!/bin/bash\n",
    "## 문제 해결\n",
    "bash chk_ipmi.sh"
   ]
  },
  {
   "cell_type": "markdown",
   "metadata": {},
   "source": [
    "### 11.2 네트워크 상태 모니터링할 때\n",
    "##### 상황 \n",
    "외부에 서비스할 경우 외부에서 유입되는 경로로 네트워크 상태를 모니터링하는 일은 매우 중요하다.  \n",
    "가상화가 되면서 많은 가상 시스템들이 하나의 물리 네트워크 인터페이스를 통해 통신되므로, 네트워크에 문제가 생기면 서비스에 많은 영향을 미친다.  \n",
    "\n",
    "##### 방법 찾기\n",
    "ip address show 혹은 ifconfig로 확인할 수 있다.  \n",
    "필요한 정보  \n",
    "- 네트워크 모니터링 대상 서버 정보\n",
    "- SSH를 통해 접근할 수 있는 전용 계정\n",
    "- 네트워크 모니터링 대상 인터페이스 정보\n",
    "- 네트워크 인터페이스 상태 확인 명령어: ip address show, ip link show\n",
    "\n",
    "프로세스\n",
    "- 네트워크 모니터링 대상 서버 정보를 변수에 저장한다\n",
    "- 네트워크 모니터링 대상 인터페이스 정보를 변수에 저장한다\n",
    "- 네트워크 인터페이스 상태 확인 명령어를 이용해 네트워크 상태를 모니터링한다\n",
    "- echo 명령어로 결과를 보여준다\n",
    "\n",
    "##### 스크립트 생성"
   ]
  },
  {
   "cell_type": "code",
   "execution_count": null,
   "metadata": {
    "vscode": {
     "languageId": "shellscript"
    }
   },
   "outputs": [],
   "source": [
    "%%bash\n",
    "#!/bin/bash\n",
    "\n",
    "# 네트워크 모니터링 대상서버 정보 저장\n",
    "hosts=\"host01 host02 host03\"\n",
    "nic_name=\"eno1 eno3 enp24s0f0 enp24s0f1\"\n",
    "\n",
    "# 모니터링 대상 NIC을 검색하기 위한 grep 옵션 생성\n",
    "grep_nic=\"\"\n",
    "for nic in $nic_name; do\n",
    "  grep_nic=$(echo \"$grep_nic -e $nic\") \n",
    "done\n",
    "\n",
    "# For문을 돌면서 네트워크 상태 체크\n",
    "for host in $hosts; do\n",
    "  echo \"#### HOST:: $host ####\"\n",
    "  down_link=$(ssh mon@$host \"ip link show | grep $grep_nic | grep 'state DOWN' | awk -F ': ' '{print \\$2}'\")\n",
    "  down_link_cnt=$(ssh mon@$host \"ip link show | grep $grep_nic | grep 'state DOWN' | wc -l\")\n",
    "\n",
    "  # 네트워크 상태 체크 결과 출력\n",
    "  if [[ $down_link_cnt -eq 0 ]]; then\n",
    "    echo \"Network States are normal.\"\n",
    "  else\n",
    "    echo \"Network $down_link is down. Please check network status.\" \n",
    "  fi\n",
    "done"
   ]
  },
  {
   "cell_type": "code",
   "execution_count": null,
   "metadata": {
    "vscode": {
     "languageId": "shellscript"
    }
   },
   "outputs": [],
   "source": [
    "%%bash\n",
    "#!/bin/bash\n",
    "## 문제 해결\n",
    "bash chk_network.sh"
   ]
  },
  {
   "cell_type": "markdown",
   "metadata": {},
   "source": [
    "### 11.3 서비스 상태 체크할 떄\n",
    "##### 상황 \n",
    "IPMI로 전원을 체크하고, 네트워크 상태를 확인했다면, 이제 시스템에 설치되어 있는 중요 서비스들의 상태를 확인해야 한다.  \n",
    "서비스가 정상적으로 실행중인지 아니면 시스템의 문제로 인해 서비스가 정지되어 있는지 확인해야 한다.  \n",
    "\n",
    "##### 방법 찾기\n",
    "systemctl로 실행중인지 여부를 확인할 수 있다. netstat으로 해당 포트가 서비스중인지 확인할 수 있다.    \n",
    "필요한 정보  \n",
    "- 서비스 모니터링 대상 서버 정보\n",
    "- SSH를 통해 접근할 수 있는 전용 계정\n",
    "- 모니터링 대상 서비스들\n",
    "- 모니터링 대상 서비스 포트들\n",
    "- 서비스 상태 체크 명령어: systemctl\n",
    "- 서비스 포트 체크 명령어: netstat\n",
    "\n",
    "프로세스\n",
    "- 서비스 모니터링 대상 서버 정보들을 변수에 저장한다\n",
    "- 모니터링 대상 서비스들을 변수에 저장한다\n",
    "- 모니터링 대상 포트들을 변수에 저장한다\n",
    "- for문을 돌면서 대상 서버의 서비스 상태와 포트를 체크한다\n",
    "- echo 명령어를 이용하여 모니터링 결과를 보여준다\n",
    "##### 스크립트 생성"
   ]
  },
  {
   "cell_type": "code",
   "execution_count": null,
   "metadata": {
    "vscode": {
     "languageId": "shellscript"
    }
   },
   "outputs": [],
   "source": [
    "%%bash\n",
    "#!/bin/bash\n",
    "\n",
    "# 서비스 모니터링 대상서버 정보 저장\n",
    "hosts=\"host01 host02 host03\"\n",
    "services=\"httpd haproxy rabbitmq\"\n",
    "ports=\"80 443 8080 5672 15672\"\n",
    "\n",
    "for host in $hosts; do\n",
    "  echo \"#### HOST:: $host ####\"\n",
    "  # 호스트별 서비스 상태 체크\n",
    "  for service in $services; do\n",
    "    chk_service=$(ssh mon@$host sudo systemctl is-active $service)\n",
    "    # 서비스 상태 체크 결과 출력\n",
    "    if [[ $chk_service == \"active\" ]]; then\n",
    "      echo \"$service state is active.\"\n",
    "    else\n",
    "      echo \"$service state is inactive. Please check $service\"\n",
    "    fi\n",
    "  done\n",
    "\n",
    "  # 호스트별 서비스 포트 상태 체크\n",
    "  for port in $ports; do\n",
    "    chk_port=$(ssh mon@$host sudo netstat -ntpl | grep $port | wc -l)\n",
    "    if [[ $chk_port > 0 ]]; then\n",
    "       echo \"This port $port is open.\"\n",
    "    else\n",
    "       echo \"This port $port is not found. Please check your system.\"\n",
    "    fi\n",
    "  done\n",
    "done"
   ]
  },
  {
   "cell_type": "code",
   "execution_count": null,
   "metadata": {
    "vscode": {
     "languageId": "shellscript"
    }
   },
   "outputs": [],
   "source": [
    "%%bash\n",
    "#!/bin/bash\n",
    "## 문제 해결\n",
    "bash chk_service.sh"
   ]
  },
  {
   "cell_type": "markdown",
   "metadata": {},
   "source": [
    "### 11.4 클러스터 관리 툴 Pacemaker 상태 체크할 때\n",
    "##### 상황 \n",
    "리눅스에서 HA를 구성할 때 pacemaker라는 클러스터 관리 툴을 주로 이용한다. 시스템을 이중화할 경우 pacemaker에 해당 시스템을 자원으로 등록하면 pacemaker가 해당 시스템에 문제가 발생했을 경우 시스템을 재시작해 주기도 하고, 주요 시스템에 문제가 발생했을 경우 시스템을 재부팅시켜 주기도 한다. 따라서 대상 시스템이 pacemaker를 사용하고 있다면 해당 pacemaker의 상태도 함께 모니터링해야 한다.   \n",
    "\n",
    "##### 방법 찾기\n",
    "여러 클러스터의 pacemaker 상태를 확인할 경우 셸 스크립트로 쉽게 모니터링한다\n",
    "필요한 정보   \n",
    "- Pacemaker가 구성되어 있는 서버 주소\n",
    "- SSH를 통해 접근할 수 있는 전용 계정\n",
    "- Pacemaker 상태 체크 명령어: pcs status\n",
    "\n",
    "프로세스\n",
    "- 모니터링할 대상 서버 주소를 변수에 저장한다\n",
    "- for문을 돌면서 대상 서버의 Pacemaker 상태 체크를 한다\n",
    "- echo 명령어를 이용해 해당 결과를 보여준다\n",
    "##### 스크립트 생성"
   ]
  },
  {
   "cell_type": "code",
   "execution_count": null,
   "metadata": {
    "vscode": {
     "languageId": "shellscript"
    }
   },
   "outputs": [],
   "source": [
    "%%bash\n",
    "#!/bin/bash\n",
    "\n",
    "# Pacemaker 모니터링 대상서버 정보 저장\n",
    "hosts=\"cluster01 cluster02\"\n",
    "\n",
    "for host in $hosts; do\n",
    "  echo \"#### HOST:: $host ####\"\n",
    "  # pacemaker 상태 체크\n",
    "  chk_cluster=$(ssh -q mon@$host sudo pcs status | grep 'failed' | wc -l)\n",
    "  \n",
    "  # pacemaker 상태 체크 결과가 없으면 문제가 없는것으로 인식\n",
    "  if [[ $chk_cluster -eq 0 ]]\n",
    "  then\n",
    "     echo \"Pacemaker status is normal.\"\n",
    "  # pacemaker 상태 체크 결과가 있으면 문제가 있으므로 pacemaker 상태를 보여줌.\n",
    "  else\n",
    "     echo \"Please check pacemaker status.\"\n",
    "     echo \"***********************************\"\n",
    "     echo \"$(ssh -q mon@$host sudo pcs status)\"\n",
    "  fi\n",
    "done\n"
   ]
  },
  {
   "cell_type": "code",
   "execution_count": null,
   "metadata": {
    "vscode": {
     "languageId": "shellscript"
    }
   },
   "outputs": [],
   "source": [
    "%%bash\n",
    "#!/bin/bash\n",
    "## 문제 해결\n",
    "bash chk_pacemaker.sh"
   ]
  },
  {
   "cell_type": "markdown",
   "metadata": {},
   "source": [
    "### 11.5 CPU 및 메모리 상태 체크할 때\n",
    "##### 상황 \n",
    "CPU, 메모리는 늘 확인이 필요하다. 자원 증설이나 자원 축소등의 계획을 세울 수 있다.  \n",
    "\n",
    "##### 방법 찾기\n",
    "top으로 실시간 모니터링할 수 있지만, 셸 스크립트는 mpstat, free로 체크한다\n",
    "필요한 정보   \n",
    "- 모니터링할 대상 서버 정보\n",
    "- SSH를 통해 접근할 수 있는 전용 계정\n",
    "- CPU 상태 체크 명령어: mpstat\n",
    "- 메모리 상태 체크 명령어: free\n",
    "\n",
    "프로세스\n",
    "- 모니터링할 대상 서버 주소를 변수에 저장한다\n",
    "- for문을 돌면서 CPU 사용률과 메모리 사용률을 체크한다\n",
    "- 모니터링 결과를 echo 명령어로 출력한다\n",
    "##### 스크립트 생성\n",
    "mpstat 명령어는 기본 제공 명령어가 아니므로 사용하기 위해서는 sysstat을 설치해야 한다"
   ]
  },
  {
   "cell_type": "code",
   "execution_count": null,
   "metadata": {
    "vscode": {
     "languageId": "shellscript"
    }
   },
   "outputs": [],
   "source": [
    "#!/bin/bash\n",
    "\n",
    "# 모니터링 대상서버 정보 저장\n",
    "hosts=\"host01 host02 host03\"\n",
    "\n",
    "for host in $hosts; do\n",
    "  echo \"#### HOST:: $host ####\"\n",
    "  # cpu, memory 사용률 체크\n",
    "  chk_cpu=$(ssh -q mon@$host mpstat | grep all | awk '{print $4}')\n",
    "  chk_mem=$(ssh -q mon@$host free -h | grep Mem | awk '{print $4}')\n",
    "  \n",
    "  # cpu, memory 사용률 체크 결과\n",
    "  echo \"CPU usage is ${chk_cpu}%\"\n",
    "  echo \"Memory free size is ${chk_mem}\"\n",
    "done\n"
   ]
  },
  {
   "cell_type": "code",
   "execution_count": null,
   "metadata": {
    "vscode": {
     "languageId": "shellscript"
    }
   },
   "outputs": [],
   "source": [
    "%%bash\n",
    "#!/bin/bash\n",
    "## 문제 해결\n",
    "bash chk_cpumem.sh"
   ]
  },
  {
   "cell_type": "markdown",
   "metadata": {},
   "source": [
    "### 11.6 서비스 로그 모니터링할 때\n",
    "##### 상황 \n",
    "서비스의 실행 상태 말고, 코드에 의한 버그나 잘못 입력한 파라미터, 관련 시스템의 문제로 인한 에러 로그 등을 모니터링해야 한다.  \n",
    "수많은 서비스가 있다면 서비스들의 로그를 전부 모니터링하는 것은 쉬운 일이 아니다.  \n",
    "전용 모니터링 시스템만큼은 아니지만 그럭저럭 셸 스크립트로 할 수 있다  \n",
    "\n",
    "##### 방법 찾기\n",
    "서비스 로그 모니터링을 하기 위해서는 서비스 로그가 쌓이는 대상 디렉터리를 알고 있어야 한다.\n",
    "필요한 정보   \n",
    "- 서비스 로그 모니터링 대상 서버 정보\n",
    "- SSH를 통해 접근할 수 있는 전용 계정\n",
    "- 서버별 실행 서비스 및 로그 디렉터리 정보\n",
    "\n",
    "프로세스\n",
    "- 서비스 로그 모니터링 대상 서버 정보들을 변수에 저장한다\n",
    "- for문을 돌면서 대상 서버의 서비스 로그를 확인한다\n",
    "- 확인된 결과를 echo로 출력한다\n",
    "\n",
    "##### 스크립트 생성\n",
    "모든 로그를 모니터링하기보다는 ERROR 로그를 검색하여 모니터링하는 것이 좋다"
   ]
  },
  {
   "cell_type": "code",
   "execution_count": null,
   "metadata": {
    "vscode": {
     "languageId": "shellscript"
    }
   },
   "outputs": [],
   "source": [
    "#!/bin/bash\n",
    "\n",
    "# 모니터링 대상서버 정보 저장\n",
    "hosts=\"host01 host02 host03\"\n",
    "# 모니터링 대상 서비스 정보 저장\n",
    "services=\"httpd rabbitmq nginx\"\n",
    "\n",
    "for host in $hosts; do\n",
    "  echo \"#### HOST:: $host ####\"\n",
    "\n",
    "  for service in $services; do\n",
    "    # service's error log 검색\n",
    "    chk_log=$(ssh mon@$host sudo tail /var/log/$service/*.log | grep -i error | wc -l)\n",
    "    \n",
    "    # error log가 없으면 없다고 메시지를 보여줌.\n",
    "    if [[ $chk_log -eq 0 ]]; then\n",
    "      echo \"No error services logs. The $service is normal\"\n",
    "    else\n",
    "      # error log가 있는 경우에는 체크하라고 메시지를 보여줌.\n",
    "      echo \"Please check service $service logs and service $service\"\n",
    "      echo \"$(ssh mon@$host sudo tail /var/log/$service/*.log | grep -i error)\"\n",
    "    fi\n",
    "  done\n",
    "done\n"
   ]
  },
  {
   "cell_type": "code",
   "execution_count": null,
   "metadata": {
    "vscode": {
     "languageId": "shellscript"
    }
   },
   "outputs": [],
   "source": [
    "%%bash\n",
    "#!/bin/bash\n",
    "## 문제 해결\n",
    "bash chk_servicelog.sh"
   ]
  },
  {
   "cell_type": "markdown",
   "metadata": {},
   "source": [
    "### 11.7 컨테이너 실행 상태 모니터링할 때\n",
    "##### 상황 \n",
    "시스템에서 컨테이너를 이용해 서비스를 한다면, 컨테이너의 실행 상태 역시 모니터링이 필요하다.  \n",
    "Docker 서비스 상태도 확인이 필요하다  \n",
    "\n",
    "##### 방법 찾기\n",
    "컨테이너 엔진이 Docker인지 Podman인지 알아야 한다\n",
    "필요한 정보   \n",
    "- 컨테이너 서비스가 운영 중인 서버 정보\n",
    "- 컨테이너 엔진 확인 명령어: systemctl list-units\n",
    "- 컨테이너 실행 상태 확인 명령어: docker ps 혹은 podman ps\n",
    "\n",
    "프로세스\n",
    "- 컨테이너 서비스가 운영중인 서버 정보를 변수에 저장한다\n",
    "- for문을 돌면서 어떤 컨테이너 엔진이 실행중인지 확인한다\n",
    "- 컨테이너 실행 상태를 확인한다\n",
    "- 모니터링 결과를 echo를 이용해 보여준다\n",
    "\n",
    "##### 스크립트 생성"
   ]
  },
  {
   "cell_type": "code",
   "execution_count": null,
   "metadata": {
    "vscode": {
     "languageId": "shellscript"
    }
   },
   "outputs": [],
   "source": [
    "#!/bin/bash\n",
    "\n",
    "# 모니터링 대상서버 정보 저장\n",
    "hosts=\"host01 host02 host03\"\n",
    "\n",
    "for host in $hosts;do\n",
    "  echo \"#### HOST:: $host ####\"\n",
    "  # 해당 호스트에 Docker가 설치되어 있는지 확인\n",
    "  chk_docker=$(ssh -q mon@$host rpm -qa | grep -c docker)\n",
    "  if [[ $chk_docker > 0]]; then\n",
    "    echo \"This system's container engine is docker.\"\n",
    "    # docker 서비스가 실행중인지 확인\n",
    "    chk_service=$(ssh -q mon@$host systemctl is-active docker)\n",
    "    if [[ $chk_service == \"active\" ]]; then\n",
    "      echo \"docker running state is active.\"\n",
    "    else\n",
    "      echo \"Please check your docker state.\"\n",
    "    fi\n",
    "    # container 프로세스 확인\n",
    "    chk_container=$(ssh -q mon@$host docker ps | grep -c seconds)  #초가 계속 반복되는 컨테이너는 문제가 있는 것으로 판정 (restart 걸어놓음)\n",
    "    if [[ $chk_container > 0 ]]; then\n",
    "      echo \"Please check your container state.\"\n",
    "      echo \"$(ssh -q mon@$host docker ps | grep seconds)\"\n",
    "    else\n",
    "      echo \"Container status is normal.\"\n",
    "    fi\n",
    "  fi\n",
    "\n",
    " # 해당 호스트에 Docker가 설치되어 있는지 확인\n",
    "  chk_podman=$(ssh -q mon@$host rpm -qa | grep -c podman)\n",
    "  if [[ $chk_podman > 0]]; then\n",
    "    echo \"This system's container engine is podman.\"\n",
    "    # container 프로세스 확인\n",
    "    chk_container=$(ssh -q mon@$host podman ps | grep -c seconds)\n",
    "    if [[ $chk_container > 0 ]]; then\n",
    "      echo \"Please check your container state.\"\n",
    "      echo \"$(ssh -q mon@$host podman ps | grep seconds)\"\n",
    "    else\n",
    "      echo \"Container status is normal.\"\n",
    "    fi\n",
    "  fi\n",
    "done\n"
   ]
  },
  {
   "cell_type": "code",
   "execution_count": null,
   "metadata": {
    "vscode": {
     "languageId": "shellscript"
    }
   },
   "outputs": [],
   "source": [
    "%%bash\n",
    "#!/bin/bash\n",
    "## 문제 해결\n",
    "bash chk_container.sh"
   ]
  },
  {
   "cell_type": "markdown",
   "metadata": {},
   "source": [
    "### \\[종합\\]11.8 일일 시스템 점검 모니터링하기\n",
    "##### 상황 \n",
    "\n",
    "\n",
    "##### 방법 찾기\n",
    "ㅜㅜ\n",
    "필요한 정보   \n",
    "- \n",
    "\n",
    "프로세스\n",
    "- \n",
    "\n",
    "##### 스크립트 생성"
   ]
  },
  {
   "cell_type": "markdown",
   "metadata": {},
   "source": [
    "#!/bin/bash\n",
    "\n",
    "#-----------------------------\n",
    "# 모니터링 대상 서버정보를 변수에 저장\n",
    "#-----------------------------\n",
    "Cluster_servers=\"clus01 clus02 clus03\"\n",
    "Container_servers=\"con01 con02 con03\"\n",
    "General_servers=\"gen01 gen02 gen03 gen04 gen05\"\n",
    "\n",
    "LOG_FILE=\"\"\n",
    "#-----------------------------\n",
    "# 모니터링 로그 파일 생성\n",
    "#-----------------------------\n",
    "function make_logs()\n",
    "{\n",
    "  DATE=$(date +%Y%m%d%H%M)\n",
    "  LOG_FILE=\"/var/log/daily_system_chk/chk_system_$DATE.log\"\n",
    "  sudo touch $LOG_FILE\n",
    "  sudo chmod 777 $LOG_FILE\n",
    "}\n",
    "\n",
    "#-----------------------------\n",
    "# 모니터링 로그 파일 권한 변경\n",
    "#-----------------------------\n",
    "function change_logs()\n",
    "{\n",
    "  sudo chmod 644 $LOG_FILE\n",
    "}\n",
    "\n",
    "#-----------------------------------\n",
    "# 모니터링 결과를 화면에 출력하고 로그에 저장\n",
    "#-----------------------------------\n",
    "function print_msg()\n",
    "{\n",
    "  Message=$1\n",
    "  Date=$(date \"+%Y-%m-%d %H:%M\")\n",
    "  echo \"$Date [Daily_System_chk] $Message\" >> $LOG_FILE\n",
    "  echo \"$Date $Message\" \n",
    "}\n",
    "\n",
    "make_logs\n",
    "print_msg \"#-----------------------------\"\n",
    "print_msg \"# Check System Power\"\n",
    "print_msg \"#-----------------------------\"\n",
    "\n",
    "for i in {1..3}\n",
    "do\n",
    "  print_msg \"#### NODE:: clus0$i ####\"\n",
    "  power_stat=$(ipmitool -I lanplus -H 192.168.0.1$i -L ADMINISTRATOR -U admin -P P@ssw0rd! -v power status)\n",
    "  print_msg \"$power_stat\"\n",
    "done\n",
    "\n",
    "for i in {1..3}\n",
    "do\n",
    "  print_msg \"#### NODE:: con0$i ####\"\n",
    "  power_stat=$(ipmitool -I lanplus -H 192.168.0.2$i -L ADMINISTRATOR -U admin -P P@ssw0rd! -v power status)\n",
    "  print_msg \"$power_stat\"\n",
    "done\n",
    "\n",
    "for i in {1..5}\n",
    "do\n",
    "  print_msg \"#### NODE:: gen0$i ####\"\n",
    "  power_stat=$(ipmitool -I lanplus -H 192.168.0.3$i -L ADMINISTRATOR -U admin -P P@ssw0rd! -v power status)\n",
    "  print_msg \"$power_stat\"\n",
    "done\n",
    "\n",
    "print_msg \"#-----------------------------\"\n",
    "print_msg \"# Cluster Servers\"\n",
    "print_msg \"#-----------------------------\"\n",
    "\n",
    "for i in $Cluster_servers\n",
    "do\n",
    "  print_msg \"#### NODE:: $i ####\"\n",
    "\n",
    "  if [ $i = \"clus01\" ]\n",
    "  then\n",
    "    print_msg \"#-----------------------------\"\n",
    "    print_msg \"# Check Clustering\"\n",
    "    print_msg \"#-----------------------------\"\n",
    "    cluster_stat=$(ssh -q mon@$i sudo pcs status | grep 'failed' | wc -l)\n",
    "\n",
    "    if [ $cluster_stat -eq 0 ]\n",
    "    then\n",
    "      print_msg \"Pacemaker status is normal\"\n",
    "    else\n",
    "      print_msg \"Please check pacemaker\"\n",
    "      print_msg \"$(ssh -q mon@$i sudo pcs status)\"\n",
    "    fi\n",
    "  fi\n",
    "\n",
    "  print_msg \"#-----------------------------\"\n",
    "  print_msg \"# Check Network\"\n",
    "  print_msg \"#-----------------------------\"\n",
    "  grep_nic=\"-e eno1 -e eno3 -e enp24s0f0 -e enp24s0f1\"\n",
    "  down_link=$(ssh mon@$host \"ip link show | grep $grep_nic | grep 'state DOWN' | awk -F ': ' '{print \\$2}'\")\n",
    "  down_link_cnt=$(ssh mon@$host \"ip link show | grep $grep_nic | grep 'state DOWN' | wc -l\")\n",
    "  if [[ $down_link_cnt -eq 0 ]]; then\n",
    "    print_msg \"Network States are normal.\"\n",
    "  else\n",
    "    print_msg \"Network $down_link is down. Please check network status.\" \n",
    "  fi\n",
    "\n",
    "  print_msg \"#-----------------------------\"\n",
    "  print_msg \"# Check CPU\"\n",
    "  print_msg \"#-----------------------------\"\n",
    "  mem_stat=$(ssh -q mon@$i sudo mpstat | grep all | awk '{print $4}')\n",
    "  print_msg \"CPU usage is ${chk_cpu}%. If CPU usage is high, please check system cpu status.\"  \n",
    "\n",
    "  print_msg \"#-----------------------------\"\n",
    "  print_msg \"# Check Memory\"\n",
    "  print_msg \"#-----------------------------\"\n",
    "  mem_stat=$(ssh -q mon@$i sudo free -h | grep -i mem | awk '{print $4}')\n",
    "  print_msg \"Memory free size is $mem_stat. If memory free size is low, please check system memory status.\"  \n",
    "\n",
    "  print_msg \"#-----------------------------\"\n",
    "  print_msg \"# Check Service Log\"\n",
    "  print_msg \"#-----------------------------\"\n",
    "  for service in \"httpd mariadb\"; do\n",
    "    chk_log=$(ssh mon@$host sudo tail /var/log/$service/*.log | grep -i error | wc -l)\n",
    "    \n",
    "    if [[ $chk_log -eq 0 ]]; then\n",
    "      echo \"No error services logs. The $service is normal\"\n",
    "    else\n",
    "      echo \"Please check service $service logs and service $service\"  <------ 02\n",
    "      echo \"$(ssh mon@$host sudo tail /var/log/$service/*.log | grep -i error)\"\n",
    "    fi\n",
    "  done\n",
    "done\n",
    "\n",
    "print_msg \"#-----------------------------\"\n",
    "print_msg \"# Container Servers\"\n",
    "print_msg \"#-----------------------------\"\n",
    "\n",
    "for i in $Container_servers\n",
    "do\n",
    "  print_msg \"#### NODE:: $i ####\"\n",
    "\n",
    "  print_msg \"#-----------------------------\"\n",
    "  print_msg \"# Check Network\"\n",
    "  print_msg \"#-----------------------------\"\n",
    "  grep_nic=\"-e eno1 -e eno3 -e enp24s0f0 -e enp24s0f1\"\n",
    "  down_link=$(ssh mon@$host \"ip link show | grep $grep_nic | grep 'state DOWN' | awk -F ': ' '{print \\$2}'\")\n",
    "  down_link_cnt=$(ssh mon@$host \"ip link show | grep $grep_nic | grep 'state DOWN' | wc -l\")\n",
    "  if [[ $down_link_cnt -eq 0 ]]; then\n",
    "    print_msg \"Network States are normal.\"\n",
    "  else\n",
    "    print_msg \"Network $down_link is down. Please check network status.\" \n",
    "  fi\n",
    "\n",
    "  print_msg \"#-----------------------------\"\n",
    "  print_msg \"# Check CPU\"\n",
    "  print_msg \"#-----------------------------\"\n",
    "  mem_stat=$(ssh -q mon@$i sudo mpstat | grep all | awk '{print $4}')\n",
    "  print_msg \"CPU usage is ${chk_cpu}%. If CPU usage is high, please check system cpu status\"  \n",
    "\n",
    "  print_msg \"#-----------------------------\"\n",
    "  print_msg \"# Check Memory\"\n",
    "  print_msg \"#-----------------------------\"\n",
    "  mem_stat=$(ssh -q mon@$i sudo free -h | grep -i mem | awk '{print $4}')\n",
    "  print_msg \"Memory free size is $mem_stat. If memory free size is low, please check system memory status\"  \n",
    "\n",
    "  chk_docker=$(ssh -q mon@$host rpm -qa | grep -c docker)\n",
    "  if [[ $chk_docker > 0]]; then\n",
    "    print_msg \"#-----------------------------\"\n",
    "    print_msg \"# Check Container - Docker\"\n",
    "    print_msg \"#-----------------------------\"\n",
    "    chk_service=$(ssh -q mon@$host systemctl is-active docker)\n",
    "    if [[ $chk_service == \"active\" ]]; then\n",
    "      print_msg \"Docker running state is active.\"\n",
    "      chk_container=$(ssh -q mon@$host docker ps | grep -c seconds)\n",
    "      if [[ $chk_container > 0 ]]; then\n",
    "        print_msg \"Please check your container state.\"\n",
    "        print_msg \"$(ssh -q mon@$host docker ps | grep seconds)\"\n",
    "      else\n",
    "        print_msg \"Container status is normal.\"\n",
    "      fi\n",
    "    else\n",
    "      print_msg \"Please check your docker state.\"\n",
    "    fi\n",
    "  fi\n",
    "\n",
    "  chk_podman=$(ssh -q mon@$host rpm -qa | grep -c podman)\n",
    "  if [[ $chk_podman > 0]]; then\n",
    "    print_msg \"#-----------------------------\"\n",
    "    print_msg \"# Check Container - Podman\"\n",
    "    print_msg \"#-----------------------------\"\n",
    "    chk_container=$(ssh -q mon@$host podman ps | grep -c seconds)\n",
    "    if [[ $chk_container > 0 ]]; then\n",
    "      print_msg \"Please check your container state.\"\n",
    "      print_msg \"$(ssh -q mon@$host podman ps | grep seconds)\"\n",
    "    else\n",
    "      print_msg \"Container status is normal.\"\n",
    "    fi\n",
    "  fi\n",
    "done\n",
    "\n",
    "print_msg \"#-----------------------------\"\n",
    "print_msg \"# General Servers\"\n",
    "print_msg \"#-----------------------------\"\n",
    "\n",
    "for i in $General_servers\n",
    "do\n",
    "  print_msg \"#### NODE:: $i ####\"\n",
    "\n",
    "  print_msg \"#-----------------------------\"\n",
    "  print_msg \"# Check Network\"\n",
    "  print_msg \"#-----------------------------\"\n",
    "  grep_nic=\"-e eno1 -e eno3 -e enp24s0f0 -e enp24s0f1\"\n",
    "  down_link=$(ssh mon@$host \"ip link show | grep $grep_nic | grep 'state DOWN' | awk -F ': ' '{print \\$2}'\")\n",
    "  down_link_cnt=$(ssh mon@$host \"ip link show | grep $grep_nic | grep 'state DOWN' | wc -l\")\n",
    "  if [[ $down_link_cnt -eq 0 ]]; then\n",
    "    print_msg \"Network States are normal.\"\n",
    "  else\n",
    "    print_msg \"Network $down_link is down. Please check network status.\" \n",
    "  fi\n",
    "\n",
    "  print_msg \"#-----------------------------\"\n",
    "  print_msg \"# Check CPU\"\n",
    "  print_msg \"#-----------------------------\"\n",
    "  mem_stat=$(ssh -q mon@$i sudo mpstat | grep all | awk '{print $4}')\n",
    "  print_msg \"CPU usage is ${chk_cpu}%. If CPU usage is high, please check system cpu status\"  \n",
    "\n",
    "  print_msg \"#-----------------------------\"\n",
    "  print_msg \"# Check Memory\"\n",
    "  print_msg \"#-----------------------------\"\n",
    "  mem_stat=$(ssh -q mon@$i sudo free -h | grep -i mem | awk '{print $4}')\n",
    "  print_msg \"Memory free size is $mem_stat. If memory free size is low, please check system memory status\"  \n",
    "\n",
    "done\n",
    "change_logs\n"
   ]
  },
  {
   "cell_type": "code",
   "execution_count": null,
   "metadata": {
    "vscode": {
     "languageId": "shellscript"
    }
   },
   "outputs": [],
   "source": [
    "%%bash\n",
    "#!/bin/bash\n",
    "## 문제 해결\n",
    "bash daily-system-chk.sh"
   ]
  }
 ],
 "metadata": {
  "kernelspec": {
   "display_name": "Python 3.8.10 64-bit",
   "language": "python",
   "name": "python3"
  },
  "language_info": {
   "name": "python",
   "version": "3.8.10"
  },
  "orig_nbformat": 4,
  "vscode": {
   "interpreter": {
    "hash": "e7370f93d1d0cde622a1f8e1c04877d8463912d04d973331ad4851f04de6915a"
   }
  }
 },
 "nbformat": 4,
 "nbformat_minor": 2
}
