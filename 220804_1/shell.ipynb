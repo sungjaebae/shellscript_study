{
 "cells": [
  {
   "cell_type": "markdown",
   "metadata": {},
   "source": [
    "# 처음 배우는 셸 스크립트#7\n",
    "\n",
    "## 3부 예제와 함께 활용하는 셸 스크립트 활용\n",
    "시스템 운영, 개발환경 구축, 클라우드 시스템 운영 시 발생하는 다양한 상황에서 셸 스크립트를 활용한다.  \n",
    "상황 -> 방법 찾기 -> 스크립트 생성 -> 문제 해결  \n",
    "\n",
    "## 10 보안\n",
    "\n"
   ]
  },
  {
   "cell_type": "code",
   "execution_count": null,
   "metadata": {
    "vscode": {
     "languageId": "shellscript"
    }
   },
   "outputs": [],
   "source": [
    "%%bash\n",
    "#!/bin/bash\n",
    "date\n",
    "date -d yesterday #특정 일자의 시간을 확인하는 옵션\n",
    "date '+%Y-%m-%d %l:%M %p'\n",
    "date '+%Y-%m-%d %l:%M %p' -d yesterday"
   ]
  }
 ],
 "metadata": {
  "kernelspec": {
   "display_name": "Python 3.8.10 64-bit",
   "language": "python",
   "name": "python3"
  },
  "language_info": {
   "name": "python",
   "version": "3.8.10"
  },
  "orig_nbformat": 4,
  "vscode": {
   "interpreter": {
    "hash": "e7370f93d1d0cde622a1f8e1c04877d8463912d04d973331ad4851f04de6915a"
   }
  }
 },
 "nbformat": 4,
 "nbformat_minor": 2
}
