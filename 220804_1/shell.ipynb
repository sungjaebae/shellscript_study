{
 "cells": [
  {
   "cell_type": "markdown",
   "metadata": {},
   "source": [
    "# 처음 배우는 셸 스크립트#7\n",
    "\n",
    "## 3부 예제와 함께 활용하는 셸 스크립트 활용\n",
    "시스템 운영, 개발환경 구축, 클라우드 시스템 운영 시 발생하는 다양한 상황에서 셸 스크립트를 활용한다.  \n",
    "상황 -> 방법 찾기 -> 스크립트 생성 -> 문제 해결  \n",
    "\n",
    "## 10 보안\n",
    "리눅스 운영체제의 보안을 셸 스크립트로 제어한다\n",
    "\n",
    "### 10.1 패스워드 생성 법칙을 적용할 때\n",
    "##### 상황 \n",
    "패스워드를 복잡하게 설정하여 외부로부터 침입하기 어려운 패스워드만 만들게 한다  \n",
    "pam_pwquality라는 라이브러리로 설정할 수 있다\n",
    "##### 방법 찾기\n",
    "페도라 계열은 pam_pwquality가 기본 탑재이지만 데비안 계열은 별도 설치해야 한다    \n",
    "필요한 정보  \n",
    "- 페도라 계열의 리눅스 환경 설정파일 경로 : /etc/pam.d/system-auth\n",
    "- 데비안 계열의 리눅스 환경 설정파일 경로: /etc/pam.d/common-password\n",
    "- Retry: 패스워드 입력 실패 시 재시도 횟수\n",
    "- Minlen: 최소 패스워드 길이\n",
    "- Difok: 이전 비밀번호와 유사한 문자 개수\n",
    "- Lcredit: 소문자 최소 요구 개수\n",
    "- Ucredit: 대문자 최소 요구 개수\n",
    "- Ocredit: 특수 문자 최소 요구 개수\n",
    "- Enforce_for_root: root 사용자 패스워드 생성 법직 적용\n",
    "프로세스\n",
    "- 운영체제 타입을 확인한다\n",
    "- 페도라 계열 리눅스면 /etc/pam.d/system-auth 파일에 설정을 적용한다\n",
    "- 데비안 계열 리눅스면 /etc/pam.d/common-password 파일이 있는지 확인한다\n",
    "- 파일이 없으면 libpam-pwquality 패키지를 설치한다\n",
    "- 파일이 있으면 /etc/pam.d/common-password에 설정을 적용한다\n",
    "##### 스크립트 생성\n",
    "레드햇/CentOS 8버전, 우분투 18.04 LTS 이상을 기준으로 작성했다"
   ]
  },
  {
   "cell_type": "code",
   "execution_count": null,
   "metadata": {
    "vscode": {
     "languageId": "shellscript"
    }
   },
   "outputs": [],
   "source": [
    "%%bash\n",
    "#!/bin/bash\n",
    "\n",
    "# 운영체제 타입 확인\n",
    "ostype=$(cat /etc/*release| grep ID_LIKE | sed \"s/ID_LIKE=//;s/\\\"//g\")\n",
    "\n",
    "# 운영체제가 페도라 계열일 경우\n",
    "if [[ $ostype == \"fedora\" ]]; then\n",
    "  # 설정 여부 체크\n",
    "  conf_chk=$(cat /etc/pam.d/system-auth | grep 'local_users_only$' | wc -l)\n",
    "  # 설정이 안되어 있으면 설정 후 설정 내용 확인\n",
    "  # \\1에 대한 내용 https://stackoverflow.com/questions/4609949/what-does-1-in-sed-do \n",
    "  # \\1 refers to the characters captured by the escaped parentheses.\n",
    "  # Note: it is not needed to espace parentheses with a backslash if you use extended regex with sed -E\n",
    "\n",
    "  if [ $conf_chk -eq 1 ]; then\n",
    "    sed -i 's/\\(local_users_only$\\)/\\1 retry=3 authtok_type= minlen=8 lcredit=-1 ucredit=-1 dcredit=-1 ocredit=-1 enforce_for_root/g' /etc/pam.d/system-auth\n",
    "    cat /etc/pam.d/system-auth | grep '^password[[:space:]]*requisite'\n",
    "  fi\n",
    "# 운영체제가 데비안 계열일 경우\n",
    "elif [[ $ostype == \"debian\" ]]; then\n",
    "  # pam_pwquality.so가 설치되어 있는지 설정파일을 통해 확인\n",
    "  conf_chk=$(cat /etc/pam.d/common-password | grep 'pam_pwquality.so' | wc -l)\n",
    "  # 설치가 안되어 있으면 libpam-pwquality 설치\n",
    "  if [ $conf_chk -eq 0 ]; then\n",
    "     apt install libpam-pwquality\n",
    "  fi\n",
    "  # 설정 여부 체크\n",
    "  conf_chk=$(cat /etc/pam.d/common-password | grep 'retry=3$' | wc -l)\n",
    "  # 설정이 안되어 있으면 설정 후 설정 내용 확인\n",
    "  if [ $conf_chk -eq 1 ]; then\n",
    "     sed -i 's/\\(retry=3$\\)/\\1 minlen=8 maxrepeat=3 ucredit=-1 lcredit=-1 dcredit=-1 ocredit=-1 difok=3 gecoscheck=1 reject_username enforce_for_root/g' /etc/pam.d/common-password\n",
    "     echo \"===========================================\"\n",
    "     cat /etc/pam.d/common-password | grep '^password[[:space:]]*requisite'\n",
    "  fi\n",
    "fi\n"
   ]
  },
  {
   "cell_type": "code",
   "execution_count": null,
   "metadata": {
    "vscode": {
     "languageId": "shellscript"
    }
   },
   "outputs": [],
   "source": [
    "%%bash\n",
    "#!/bin/bash\n",
    "## 문제 해결\n",
    "bash conf-pwpolicy.sh"
   ]
  },
  {
   "cell_type": "markdown",
   "metadata": {},
   "source": [
    "\n",
    "### 10.2 패스워드 변경 주기를 설정할 때\n",
    "##### 상황 \n",
    "패스워드를 복잡하게 강제한다음 변경 주기를 설정하여 3~6개월에 한 번씩 변경하도록 권고한다\n",
    "##### 방법 찾기\n",
    "chage라는 명령어로 설정할 수 있다   \n",
    "필요한 정보  \n",
    "- -d, --lastday LAST_DAY: 마지막으로 패스워드를 변경한 날짜 설정\n",
    "- -E, --expiredate EXPIRE_DATE: 특정 계정의 패스워드 만료일 설정\n",
    "- -l, --list: 패스워드 설정 주기 정보 확인\n",
    "- -m, --mindays MIN_DAYS: 패스워드 변경 최소 설정일\n",
    "- -M, --maxdays MAX_DAYS: 패스워드 변경 최대 설정일\n",
    "- -W, --warndays WARN_DAYS: 패스워드 만료 경고일\n",
    "프로세스\n",
    "- 패스워드 설정 주기를 설정할 대상 서버 정보를 변수에 저장한다\n",
    "- 패스워드 설정 주기를 설정할 사용자 계정을 변수에 저장한다\n",
    "- for문을 돌면서 다음 프로세스를 수행한다\n",
    "    - 패스워드 설정 주기가 설정되어 있는지 chage -l로 확인한다\n",
    "    - 설정되어 있지 않다면, 90일로 설정한다\n",
    "    - 설정 정보를 확인한다\n",
    "\n",
    "\n",
    "##### 스크립트 생성"
   ]
  },
  {
   "cell_type": "code",
   "execution_count": null,
   "metadata": {
    "vscode": {
     "languageId": "shellscript"
    }
   },
   "outputs": [],
   "source": [
    "#!/bin/bash\n",
    "\n",
    "# 대상서버와 계정정보 변수 저장\n",
    "hosts=\"host01 host02\"\n",
    "account=\"root stack user01 user02\"\n",
    "\n",
    "# 대상서버만큼 반복\n",
    "for host in $hosts; do\n",
    "  echo \"###### $host ######\"\n",
    "  # 계정정보만큼 반복\n",
    "  for user in $account; do\n",
    "    # 패스워드 설정 주기 체크\n",
    "    pw_chk=$(ssh -q root@$host \"chage -l $user | grep 99999 | wc -l\") #Maximum number로 시작하는 항목의 값은 변경전 99999로 설정되어 있다.\n",
    "    # 패스워드 설정 주기가 설정되어 있지 않다면\n",
    "    if [[ $pw_chk -eq 1 ]]; then\n",
    "      # 패스워드 설정 주기를 90일로 설정\n",
    "      ssh -q root@$host \"chage -d $(date +%Y-%m-%d) -M 90 $user\"\n",
    "      echo \"======> $user\"\n",
    "      # 설정 결과 확인\n",
    "      ssh -q root@$host \"chage -l $user\"\n",
    "    fi\n",
    "  done\n",
    "done\n"
   ]
  },
  {
   "cell_type": "code",
   "execution_count": null,
   "metadata": {
    "vscode": {
     "languageId": "shellscript"
    }
   },
   "outputs": [],
   "source": [
    "%%bash\n",
    "#!/bin/bash\n",
    "## 문제 해결\n",
    "bash conf-pwage.sh"
   ]
  },
  {
   "cell_type": "markdown",
   "metadata": {},
   "source": [
    "\n",
    "### 10.3 디렉터리 및 파일 접근 권한 변경할 때\n",
    "##### 상황 \n",
    "리눅스는 파일 소유자나 그룹 소유자만 해당 파일을 읽고 쓰고 삭제할 수 있는 권한을 줄 수 있다  \n",
    "이를 sticky bit라고 부르며, sticky bit가 파일이나 디렉터리 소유자에게 부여한 것을 SUID, 그룹 소유자에게 부여한 것을 SGID, 기타 사용자에게 부여한 것을 Sticky bit라 부른다.  \n",
    "그런데 이런 파일들은 특정 명령어를 실행하여 root 권한 획득 및 서비스의 장애를 발생시킬 수 있다.  \n",
    "따라서 불필요한 파일에 SUID, SGID, Sticky bit가 설정되어 있지 않도록 관리해야 한다.  \n",
    "모든 사용자가 수정할 수 있는 World Writable 파일이 없어야 한다.  \n",
    "\n",
    "##### 방법 찾기\n",
    "Sticky bit가 적용된 파일과 World Writable 파일, 디렉터리를 찾아서 조치한다   \n",
    "필요한 정보  \n",
    "- SUID (Set User ID) 설정파일을 찾기 위한 명령어: find / -perm -04000\n",
    "- SGID (Set Group ID) 설정파일을 찾기 위한 명령어: find / -perm -02000\n",
    "- Sticky bit 설정파일을 찾기 위한 명령어: find / -perm -01000\n",
    "- World Writable 파일이나 디렉터리를 찾기 위한 명령어: find / -xdev -perm -2\n",
    "프로세스\n",
    "- SUID, SGID, Sticky bit가 설정된 파일 및 디렉터리를 찾는다\n",
    "- World Writable 파일, 디렉터리를 찾는다\n",
    "- 찾은 파일 목록을 보여주고, 권한 변경 여부를 묻는다\n",
    "- Y를 선택하면 Sticky bit 파일은 644로 권한을 변경한다\n",
    "- World Writable 파일의 경우 기타 사용자 쓰기 권한을 제거한다\n",
    "- 모든 파일의 권한 변경이 완료되면 결과를 보여준다\n",
    "- N을 선택하면 스크립트를 그냥 종료한다\n",
    "- 엔터키를 누르면 아무것도 입력하지 않았다는 메시지를 보여준 후 스크립트를 종료한다\n",
    "- 이외에는 글자를 잘못 입력했다는 메시지를 보여준 후 스크립트를 종료한다\n",
    "\n",
    "##### 스크립트 생성"
   ]
  },
  {
   "cell_type": "code",
   "execution_count": null,
   "metadata": {
    "vscode": {
     "languageId": "shellscript"
    }
   },
   "outputs": [],
   "source": [
    "#!/bin/bash\n",
    "\n",
    "# Sticky bit가 설정된 경로 검색\n",
    "echo \"=== SUID, SGID, Sticky bit Path ===\"\n",
    "s_file=$(find / -xdev -perm -04000 -o -perm -02000 -o -perm 01000 2>/dev/null | grep -e 'dump$' -e 'lp*-lpd$' -e 'newgrp$' -e 'restore$' -e 'at$' -e 'traceroute$')\n",
    "find / -xdev -perm -04000 -o -perm -02000 -o -perm 01000 2>/dev/null | grep -e 'dump$' -e 'lp*-lpd$' -e 'newgrp$' -e 'restore$' -e 'at$' -e 'traceroute$' | xargs ls -dl\n",
    "\n",
    "# World Writable 경로 검색\n",
    "echo -e \"\\n=== World Writable Path ===\"\n",
    "w_file=$(find / -xdev -perm -2 -ls | grep -v 'l..........' | awk '{print $NF}')\n",
    "find / -xdev -perm -2 -ls | grep -v 'l..........' | awk '{print $NF}' | xargs ls -dl\n",
    "\n",
    "echo \"\"\n",
    "read -p \"Do you want to change file permission(y/n)? \" result\n",
    "\n",
    "if [[ $result == \"y\" ]]; then\n",
    "\n",
    "  # Sticky bit 경로 권한 변경\n",
    "  echo -e \"\\n=== Chmod SUID, SGID, Sticky bit Path ===\"\n",
    "  for file in $s_file; do\n",
    "    echo \"chmod -s $file\"\n",
    "    chmod -s $file\n",
    "  done\n",
    "  # Writable 경로 권한 변경\n",
    "  echo -e \"\\n=== Chmod World Writable Path ===\"\n",
    "  for file in $w_file; do\n",
    "    echo \"chmod o-w $file\"\n",
    "    chmod o-w $file\n",
    "  done\n",
    "\n",
    "  # Sticky bit 경로 변경결과 조회\n",
    "  echo -e \"\\n=== Result of Sticky bit Path ===\"\n",
    "  for file in $s_file; do\n",
    "    ls -dl $file\n",
    "  done\n",
    "  # Writable 경로 변경결과 조회\n",
    "  echo -e \"\\n=== Result of World Writable Path ===\"\n",
    "  for file in $w_file; do\n",
    "    ls -dl $file\n",
    "  done\n",
    "# 파일권한 변경을 원하지 않을 경우\n",
    "elif [[ $result == \"n\" ]]; then\n",
    "  exit\n",
    "# 파일권한 변경여부 질의에 아무것도 입력하지 않았을 경우 \n",
    "elif [[ -z $result ]]; then\n",
    "  echo \"Yon didn't have any choice. Please check these files for security.\"\n",
    "  exit\n",
    "# 파일권한 변경여부 질의에 아무 글자나 입력했을 경우\n",
    "else\n",
    "  echo \"You can choose only y or n.\"\n",
    "  exit \n",
    "fi \n"
   ]
  },
  {
   "cell_type": "code",
   "execution_count": null,
   "metadata": {
    "vscode": {
     "languageId": "shellscript"
    }
   },
   "outputs": [],
   "source": [
    "%%bash\n",
    "#!/bin/bash\n",
    "## 문제 해결\n",
    "bash conf-file.sh"
   ]
  },
  {
   "cell_type": "markdown",
   "metadata": {},
   "source": [
    "\n",
    "### 10.4 Firewall에 포트 추가할 때\n",
    "##### 상황 \n",
    "리눅스에는 자체적으로 외부로부터의 침입을 방지하기 위해 iptables나 firewalld와 같은 방화벽 서비스를 사용한다.  \n",
    "애플리케이션을 설치할 때마다 해당 애플리케이션이 사용하는 포트를 iptables나 firewalld에 등록해야 한다.  \n",
    "셸 스크립트로 추가해보자  \n",
    "\n",
    "##### 방법 찾기\n",
    "레드햇, CnetOS는 6버전 이전은 iptables를 사용했다. 7버전부터 firewalld로 변경되었다.  \n",
    "데비안 계열은 ufw라는 방화벽을 사용한다.  \n",
    "필요한 정보  \n",
    "- firewalld에서 서비스 포트 추가 명령어: firewall-cmd --add-service=[service name]\n",
    "- firewalld에서 포트 추가 명령어: firewall-cmd --add-port=[port/protocol]\n",
    "- ufw에서 서비스 포트 추가 명령어: ufw allow [service name | port/protocol]\n",
    "\n",
    "프로세스\n",
    "- 운영체제 타입이 페도라 계열인지 데비안 계열인지 확인한다\n",
    "- 운영체제가 페도라 계열이면 시스템에 firewalld가 실행중인지 확인한다\n",
    "- 운영체제가 데비안 계열이면 시스템에 ufw가 실행중인지 확인한다\n",
    "- 사용자로부터 추가할 포트 목록을 엽력받는다\n",
    "- 운영체제가 페도라 계열이면 firewall-cmd 명령어를 이용하여 포트를 추가한다\n",
    "- 운영체제가 데비안 계열이면 ufw 명령어를 이용하여 포트를 추가한다\n",
    "\n",
    "##### 스크립트 생성"
   ]
  },
  {
   "cell_type": "code",
   "execution_count": null,
   "metadata": {
    "vscode": {
     "languageId": "shellscript"
    }
   },
   "outputs": [],
   "source": [
    "#!/bin/bash\n",
    "\n",
    "# 운영체제 타입 확인\n",
    "ostype=$(cat /etc/*release| grep ID_LIKE | sed \"s/ID_LIKE=//;s/\\\"//g\")\n",
    "\n",
    "read -p \"Please input ports(ex: http 123/tcp 123/udp) : \" ports\n",
    "\n",
    "if [[ -z $ports ]]; then echo \"You didn't input port. Please retry.\"; exit; fi\n",
    "\n",
    "# 운영체제가 페도라 계열일 경우\n",
    "if [[ $ostype == \"fedora\" ]]; then\n",
    "  # firewalld 실행상태 체크\n",
    "  run_chk=$( firewall-cmd --state )\n",
    "  if [[ $run_chk == \"running\" ]]; then\n",
    "    # 입력받은 port 만큼 반복\n",
    "    for port in $ports; do\n",
    "       # service port 인지 일반 port인지 체크\n",
    "       chk_port=$(echo $port | grep '^[a-zA-Z]' | wc -l)\n",
    "       # service port일 경우\n",
    "       if [[ chk_port -eq 1 ]]; then\n",
    "         firewall-cmd --add-service=$port\n",
    "         firewall-cmd --add-service=$port --permanent\n",
    "       # 일반 port 일 경우\n",
    "       else\n",
    "         firewall-cmd --add-port=$port\n",
    "         firewall-cmd --add-port=$port --permanent\n",
    "       fi\n",
    "    done\n",
    "    # port 추가 결과 확인\n",
    "    firewall-cmd --list-all\n",
    "  fi\n",
    "# 운영체제가 데비안 계열일 경우\n",
    "elif [[ $ostype == \"debian\" ]]; then\n",
    "  # ufw 실행상태 체크\n",
    "  run_chk=$( ufw status | grep \": active\" | wc -l )\n",
    "  if [[ $run_chk -eq 1 ]]; then\n",
    "    # 입력받은 port만큼 반복\n",
    "    for port in $ports; do\n",
    "      ufw allow $port\n",
    "    done\n",
    "    # port 추가 결과 확인\n",
    "    ufw status numbered\n",
    "  fi\n",
    "fi\n"
   ]
  },
  {
   "cell_type": "code",
   "execution_count": null,
   "metadata": {
    "vscode": {
     "languageId": "shellscript"
    }
   },
   "outputs": [],
   "source": [
    "%%bash\n",
    "#!/bin/bash\n",
    "## 문제 해결\n",
    "bash conf-firewall.sh"
   ]
  },
  {
   "cell_type": "markdown",
   "metadata": {},
   "source": [
    "\n",
    "### 10.5 사설 인증서 생성할 때\n",
    "##### 상황 \n",
    "http 보안을 위해 공인 인증서를 발급받아 사용하거나, 사설 인증서를 생성하여 사용한다.  \n",
    "내부 서비스나 개발용은 사설 인증서를 사용한다. 생성 과정이 복잡한데, 스크립트화 해 놓자.    \n",
    "\n",
    "##### 방법 찾기\n",
    "openssl 명령어를 이용하여 CA 인증서와 클라이언트 인증서를 생성한다.  \n",
    "운영체제에 따라 서명용 호스트를 초기화하는 방법, 클라이언트에 인증기관용 인증서를 추가하는 명령어만 차이가 있다.    \n",
    "필요한 정보  \n",
    "- RSA 개인키 생성 명령어: openssl genrsa\n",
    "- 자체 서명된 Root CA 인증서 생성 명령어: openssl req\n",
    "- 자체 CA 인증서와 클라이언트키를 이용하여 클라이언트 인증서 생성 명령어: openssl ca\n",
    "- 명령어별 상세 옵션 설명 확인: man genrsa, man req, man ca\n",
    "\n",
    "프로세스\n",
    "- 자체 서명된 Root CA 인증서가 생성될 디렉터리를 생성한다\n",
    "- CA 디렉터리에 빈 index.tt와 1000이 입력된 serial을 생성한다\n",
    "- 인증 기관용(CA) 개인키와 인증서를 생성한다\n",
    "- 클라이언트에 인증기관용 인증서를 추가한다\n",
    "- 추가한 인증서가 믿을 수 있는 인증서라고 설정한다\n",
    "- 서버에서 사용할 SSL/TLS 서버 키를 만든다\n",
    "- 서버에서 사용할 인증요청서를 만든다\n",
    "- 서버의 인증요청서를 이용하여 CA에서 인증서를 발급받는다\n",
    "\n",
    "##### 스크립트 생성\n",
    "데비안, 우분투 따로 만들었다"
   ]
  },
  {
   "cell_type": "code",
   "execution_count": null,
   "metadata": {
    "vscode": {
     "languageId": "shellscript"
    }
   },
   "outputs": [],
   "source": [
    "%%bash\n",
    "#!/bin/bash\n",
    "## 페도라\n",
    "# 서명용 호스트 초기화\n",
    "echo \"==========================\"\n",
    "echo \" Initializing sining host \"\n",
    "echo \"==========================\"\n",
    "touch /etc/pki/CA/index.txt\n",
    "echo '1000' | tee /etc/pki/CA/serial\n",
    "\n",
    "# 인증 기관용 인증서 생성\n",
    "echo \"==================================\"\n",
    "echo \" Creating a certificate authority \"\n",
    "echo \"==================================\"\n",
    "echo \"---------------------\"\n",
    "echo \" Generate rsa ca key \"\n",
    "echo \"---------------------\"\n",
    "openssl genrsa -out ca.key.pem 4096 #개인키 만듬\n",
    "echo \"--------------------------\"\n",
    "echo \" Generate rsa ca cert key \"\n",
    "echo \"--------------------------\"\n",
    "openssl req -key ca.key.pem -new -x509 -days 7300 -extensions v3_ca -out ca.crt.pem  #자체서명 인증서 만듬\n",
    "\n",
    "# 클라이언트에 인증기관용 인증서 추가\n",
    "echo \"=============================================\"\n",
    "echo \" Adding the certificate authority to clients \"\n",
    "echo \"=============================================\"\n",
    "echo \"cp ca.crt.pem /etc/pki/ca-trust/source/anchors/\"\n",
    "cp ca.crt.pem /etc/pki/ca-trust/source/anchors/\n",
    "echo \"update-ca-trust extract\"\n",
    "update-ca-trust extract\n",
    "\n",
    "# SSL/TLS 키 생성\n",
    "echo \"=========================\"\n",
    "echo \" Creating an SSL/TLS key \"\n",
    "echo \"=========================\"\n",
    "openssl genrsa -out server.key.pem 2048 #클라이언트 개인키 만듬\n",
    "\n",
    "# SSL/TLS 인증서 서명 요청용 키 생성\n",
    "echo \"=================================================\"\n",
    "echo \" Creating an SSL/TLS certificate signing request \"\n",
    "echo \"=================================================\"\n",
    "cp /etc/pki/tls/openssl.cnf .\n",
    "openssl req -config openssl.cnf -key server.key.pem -new -out server.csr.pem #인증서 서명 요청\n",
    "\n",
    "# SSL/TLS 인증서 생성\n",
    "echo \"==================================\"\n",
    "echo \" Creating the SSL/TLS certificate \"\n",
    "echo \"==================================\"\n",
    "openssl ca -config openssl.cnf -extensions v3_req -days 3650 -in server.csr.pem -out server.crt.pem -cert ca.crt.pem -keyfile ca.key.pem #서명해줌\n"
   ]
  },
  {
   "cell_type": "code",
   "execution_count": null,
   "metadata": {
    "vscode": {
     "languageId": "shellscript"
    }
   },
   "outputs": [],
   "source": [
    "%%bash\n",
    "#!/bin/bash\n",
    "## 데비안\n",
    "# 서명용 호스트 초기화\n",
    "echo \"==========================\"\n",
    "echo \" Initializing sining host \"\n",
    "echo \"==========================\"\n",
    "mkdir -p ./demoCA\n",
    "mkdir -p ./demoCA/certs ./demoCA/crl ./demoCA/newcerts ./demoCA/private\n",
    "touch ./demoCA/index.txt\n",
    "echo '1000' | tee ./demoCA/serial\n",
    "\n",
    "# 인증 기관용 인증서 생성\n",
    "echo \"==================================\"\n",
    "echo \" Creating a certificate authority \"\n",
    "echo \"==================================\"\n",
    "echo \"---------------------\"\n",
    "echo \" Generate rsa ca key \"\n",
    "echo \"---------------------\"\n",
    "openssl genrsa -out ca.key.pem 4096\n",
    "echo \"--------------------------\"\n",
    "echo \" Generate rsa ca cert key \"\n",
    "echo \"--------------------------\"\n",
    "openssl req -key ca.key.pem -new -x509 -days 7300 -extensions v3_ca -out ca.crt.pem \n",
    "\n",
    "# 클라이언트에 인증기관용 인증서 추가\n",
    "echo \"=============================================\"\n",
    "echo \" Adding the certificate authority to clients \"\n",
    "echo \"=============================================\"\n",
    "echo \"cp ca.crt.pem /usr/local/share/ca-certificates/\"\n",
    "cp ca.crt.pem /usr/local/share/ca-certificates/\n",
    "echo \"update-ca-certificates\"\n",
    "update-ca-certificates\n",
    "\n",
    "# SSL/TLS 키 생성\n",
    "echo \"=========================\"\n",
    "echo \" Creating an SSL/TLS key \"\n",
    "echo \"=========================\"\n",
    "openssl genrsa -out server.key.pem 2048\n",
    "\n",
    "# SSL/TLS 인증서 서명 요청용 키 생성\n",
    "echo \"=================================================\"\n",
    "echo \" Creating an SSL/TLS certificate signing request \"\n",
    "echo \"=================================================\"\n",
    "cp /usr/lib/ssl/openssl.cnf .\n",
    "openssl req -config openssl.cnf -key server.key.pem -new -out server.csr.pem\n",
    "\n",
    "# SSL/TLS 인증서 생성\n",
    "echo \"==================================\"\n",
    "echo \" Creating the SSL/TLS certificate \"\n",
    "echo \"==================================\"\n",
    "openssl ca -config openssl.cnf -extensions v3_req -days 3650 -in server.csr.pem -out server.crt.pem -cert ca.crt.pem -keyfile ca.key.pem\n"
   ]
  },
  {
   "cell_type": "code",
   "execution_count": null,
   "metadata": {
    "vscode": {
     "languageId": "shellscript"
    }
   },
   "outputs": [],
   "source": [
    "%%bash\n",
    "#!/bin/bash\n",
    "## 문제 해결\n",
    "bash conf-certificate.sh"
   ]
  }
 ],
 "metadata": {
  "kernelspec": {
   "display_name": "Python 3.8.10 64-bit",
   "language": "python",
   "name": "python3"
  },
  "language_info": {
   "name": "python",
   "version": "3.8.10"
  },
  "orig_nbformat": 4,
  "vscode": {
   "interpreter": {
    "hash": "e7370f93d1d0cde622a1f8e1c04877d8463912d04d973331ad4851f04de6915a"
   }
  }
 },
 "nbformat": 4,
 "nbformat_minor": 2
}
