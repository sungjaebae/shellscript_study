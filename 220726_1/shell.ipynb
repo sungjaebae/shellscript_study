{
 "cells": [
  {
   "cell_type": "markdown",
   "metadata": {},
   "source": [
    "# 처음 배우는 셸 스크립트#4\n",
    "\n",
    "## 4장 파일을 찾을 수 있는 find\n",
    "문서명은 아는데 어느 경로에 저장되었는지 기억나지 않을 때  \n",
    "로그 파일 위치를 잘 모를 때  \n",
    "find로 찾는다\n",
    "find는 사용자가 지정한 기준에 따라 파일을 찾고, 사용자가 정의한 행위에 매칭되는 파일을 찾아준다"
   ]
  },
  {
   "cell_type": "code",
   "execution_count": 59,
   "metadata": {
    "vscode": {
     "languageId": "shellscript"
    }
   },
   "outputs": [
    {
     "name": "stdout",
     "output_type": "stream",
     "text": [
      "/etc/host.conf\n"
     ]
    }
   ],
   "source": [
    "%%bash\n",
    "#!/bin/bash\n",
    "## 기본사용법 1 find [대상 경로] [표현식]\n",
    "## 대상 경로는 생략시 현재 디렉터리를 가리킨다\n",
    "## 표현식에는 테스트, 연산자, 액션 및 위치 옵션이 가능하다\n",
    "\n",
    "sudo find /etc -name host.conf"
   ]
  },
  {
   "cell_type": "code",
   "execution_count": 31,
   "metadata": {
    "vscode": {
     "languageId": "shellscript"
    }
   },
   "outputs": [
    {
     "name": "stdout",
     "output_type": "stream",
     "text": [
      "/etc/alternatives/rcp.1.gz\n"
     ]
    }
   ],
   "source": [
    "%%bash\n",
    "#!/bin/bash\n",
    "## 기본사용법 2 find [옵션] [대상 경로] [표현식]\n",
    "## 옵션의 종류로는 심볼릭 파일 검색에 대한 옵션, 디버그 관련 옵션, 레벨 관련 옵션이 존재\n",
    "sudo find -L /etc -perm 644 -name 'rc*'"
   ]
  },
  {
   "cell_type": "markdown",
   "metadata": {},
   "source": [
    "### 4.2 find의 다양한 표현식\n",
    "표현식은 테스트, 연산자, 액션, 위치옵션으로 구성된다.  \n",
    "테스트: 찾고자하는 파일의 속성을 정의  \n",
    "연산자: 테스트의 검색 우선순위를 정의  \n",
    "액션: 검색한 파일을 인수로 하여 또다른 명령어를 실행  \n",
    "위치옵션: 테스트 검색조건을 변경\n",
    "\n",
    "### 테스트\n",
    "시간 관련 테스트\n",
    "|테스트|설명|\n",
    "|-----|----|\n",
    "|-amin n|n분 전에 액세스된 파일을 찾아줌|\n",
    "|-atime n|n*24시간 전에 액세스된 파일을 찾아줌|\n",
    "|-cmin n|n분 전에 이름이 변경된 파일을 찾아줌|\n",
    "|-ctime n|n*24시간 전에 이름이 변경된 파일을 찾아줌|\n",
    "|-mmin n|n분 전에 내용이 수정된 파일을 찾아줌|\n",
    "|-mtime n|n*24시간 전에 내용이 수정된 파일을 찾아줌|\n",
    "|-anewer file|file보다 최근에 액세스된 파일을 찾아줌|\n",
    "|-cnewer file|file보다 최근에 이름이 변경된 파일을 찾아줌|\n",
    "|-newer file|file보다 최근에 내용이 수정된 파일을 찾아줌|\n",
    "|-newerXY file|파일 속성 XY보다 최근에 수정된 파일을 찾아줌|\n",
    "XY a이면 파일 참조의 액세스 시간, B 파일 참조의 생성 시간, c inode 상태 변경 시간 참조, m 파일 참조의 수정 시간\n",
    "B는 리눅스에서 지원되지 않음  \n",
    "\n",
    "change : 파일명이나 내용이 바뀜  \n",
    "modify : 내용이 바뀜  "
   ]
  },
  {
   "cell_type": "code",
   "execution_count": 64,
   "metadata": {
    "vscode": {
     "languageId": "shellscript"
    }
   },
   "outputs": [
    {
     "name": "stdout",
     "output_type": "stream",
     "text": [
      "Access: (0600/-rw-------)  Uid: ( 1001/  ubuntu)   Gid: ( 1001/  ubuntu)\n",
      "Access: 2022-07-26 04:55:52.649112972 +0000\n"
     ]
    }
   ],
   "source": [
    "%%bash\n",
    "#!/bin/bash\n",
    "## 1분 내에 엑세스한 파일을 검색\n",
    "find ./ -amin 1\n",
    "stat amin.txt | grep Access"
   ]
  },
  {
   "cell_type": "code",
   "execution_count": 66,
   "metadata": {
    "vscode": {
     "languageId": "shellscript"
    }
   },
   "outputs": [
    {
     "name": "stdout",
     "output_type": "stream",
     "text": [
      "./\n",
      "./expression.txt\n",
      "./amin.txt\n",
      "./bb.txt\n",
      "./pattern/findtestfile\n",
      "./pattern/pattern2.txt\n",
      "./pattern/pattern3.txt\n",
      "./pattern/pattern1.txt\n",
      "./test.txt\n",
      "./p-file.txt\n",
      "./expression.tar.gz\n",
      "./grep-test\n",
      "./shell.ipynb\n",
      "./File/file2.txt\n",
      "./File/test.txt\n",
      "./File/File\n",
      "./File/file1.txt\n",
      "./Separator.txt\n",
      "./findtestfile\n",
      "./aa.txt\n",
      "./f-file.txt\n"
     ]
    }
   ],
   "source": [
    "%%bash\n",
    "#!/bin/bash\n",
    "## cat expression.txt\n",
    "find ./ -anewer amin.txt"
   ]
  },
  {
   "cell_type": "code",
   "execution_count": 67,
   "metadata": {
    "vscode": {
     "languageId": "shellscript"
    }
   },
   "outputs": [
    {
     "name": "stdout",
     "output_type": "stream",
     "text": [
      "./\n",
      "./p-file.txt\n",
      "./shell.ipynb\n",
      "./Separator.txt\n",
      "./f-file.txt\n"
     ]
    }
   ],
   "source": [
    "%%bash\n",
    "#!/bin/bash\n",
    "## vi Separator.txt\n",
    "## cat Separator.txt\n",
    "find ./ -newercm amin.txt"
   ]
  },
  {
   "cell_type": "markdown",
   "metadata": {},
   "source": [
    "### 파일 권한 관련 테스트\n",
    "|테스트|설명|\n",
    "|-----|----|\n",
    "|-perm mode|명시된 파일 권한과 동일한 파일을 검색함|\n",
    "|-perm -mode|명시된 파일 권한이 포함된 파일을 검색함|\n",
    "|-perm /mode|명시된 파일 권한을 소유자, 그룹, 기타로 구분하여 세 개의 권한 중 하나라도 동일한 파일을 검색함|\n",
    "|-readable|로그인한 사용자가 읽을 수 있는 파일을 검색함|\n",
    "|-writable|로그인한 사용자가 쓸 수 있는 파일을 검색함|\n",
    "|-executable|실행 권한이 있는 파일만 검색함|"
   ]
  },
  {
   "cell_type": "code",
   "execution_count": 68,
   "metadata": {
    "vscode": {
     "languageId": "shellscript"
    }
   },
   "outputs": [
    {
     "name": "stdout",
     "output_type": "stream",
     "text": [
      "./bb.txt\n",
      "./aa.txt\n"
     ]
    }
   ],
   "source": [
    "%%bash\n",
    "#!/bin/bash\n",
    "find ./ -perm 660"
   ]
  },
  {
   "cell_type": "code",
   "execution_count": 69,
   "metadata": {
    "vscode": {
     "languageId": "shellscript"
    }
   },
   "outputs": [
    {
     "name": "stdout",
     "output_type": "stream",
     "text": [
      "/bin\n"
     ]
    }
   ],
   "source": [
    "%%bash\n",
    "#!/bin/bash\n",
    "find /bin -readable"
   ]
  },
  {
   "cell_type": "markdown",
   "metadata": {},
   "source": [
    "### 파일 권한에 대해서\n",
    "리눅스에는 권한을 가질 수 있는 세 가지 역할Role이 있다.\n",
    "1. 로그인한 자기 자신인 소유자\n",
    "2. 소유자가 소속되어 있는 그룹\n",
    "3. 기타 다른 사용자\n",
    "파일 권한은 r,w,x가 있다  \n",
    "\n",
    "### 그룹 및 사용자 관련 테스트\n",
    "그룹ID, 그룹명, 사용자ID, 사용자명에 해당하는 파일을 검색한다  \n",
    "|테스트|설명|\n",
    "|-----|----|\n",
    "|-gid n|그룹ID가 n인 파일 검색|\n",
    "|-group gname|그룹명이 gname인 파일 검색|\n",
    "|-nogroup|존재하지 않는 그룹ID를 가진 파일 검색|\n",
    "|-nouser|존재하지 않는 사용자ID를 가진 파일 검색|\n",
    "|-uid n|사용자ID가 n인 파일 검색|\n",
    "|-user uname|사용자명이 uname인 파일 검색|"
   ]
  },
  {
   "cell_type": "code",
   "execution_count": 71,
   "metadata": {
    "vscode": {
     "languageId": "shellscript"
    }
   },
   "outputs": [],
   "source": [
    "%%bash\n",
    "#!/bin/bash\n",
    "find ./ -user root"
   ]
  },
  {
   "cell_type": "markdown",
   "metadata": {},
   "source": [
    "### 파일명 관련 테스트\n",
    "파일명을 이용하여 검색한다\n",
    "|테스트|설명|\n",
    "|-----|----|\n",
    "|-iname pattern|대소문자 구분없이 패턴과 일치하는 파일 검색|\n",
    "|-inum n|inode 번호가 n인 파일 검색|\n",
    "|-lname pattern|패턴과 일치하는 심볼릭 링크 검색|\n",
    "|-regex pattern|패턴과 일치하는 경로 탐색|\n",
    "|-iregex pattern|대소문자 구분없이 패턴과 일치하는 경로 검색|\n",
    "|-samefile name|사용자명이 uname인 파일 검색|"
   ]
  },
  {
   "cell_type": "code",
   "execution_count": 1,
   "metadata": {
    "vscode": {
     "languageId": "shellscript"
    }
   },
   "outputs": [
    {
     "name": "stdout",
     "output_type": "stream",
     "text": [
      "./expression.txt\n",
      "./File/express.txt\n"
     ]
    }
   ],
   "source": [
    "%%bash\n",
    "#!/bin/bash\n",
    "find ./ -iname 'E*.txt'"
   ]
  },
  {
   "cell_type": "code",
   "execution_count": 2,
   "metadata": {
    "vscode": {
     "languageId": "shellscript"
    }
   },
   "outputs": [
    {
     "name": "stdout",
     "output_type": "stream",
     "text": [
      "3641497\n",
      "./expression.txt\n"
     ]
    }
   ],
   "source": [
    "%%bash\n",
    "#!/bin/bash\n",
    "\n",
    "inodenum=`stat expression.txt | grep -i -o -e \"inode: [[:alnum:]]*\" | grep -i -o -e \"[0-9]*\"`\n",
    "echo ${inodenum}\n",
    "find ./ -inum ${inodenum}"
   ]
  },
  {
   "cell_type": "code",
   "execution_count": 40,
   "metadata": {
    "vscode": {
     "languageId": "shellscript"
    }
   },
   "outputs": [
    {
     "name": "stdout",
     "output_type": "stream",
     "text": [
      "3641497\n",
      "./expression.txt\n"
     ]
    }
   ],
   "source": [
    "%%bash\n",
    "#!/bin/bash\n",
    "inodenum=$(stat expression.txt | grep -i -o -e \"inode: [[:alnum:]]*\" | grep -i -o -e \"[0-9]*\")\n",
    "echo ${inodenum}\n",
    "find ./ -inum ${inodenum}"
   ]
  },
  {
   "cell_type": "markdown",
   "metadata": {},
   "source": [
    "### 파일경로 관련 테스트\n",
    "파일의 경로로 검색한다\n",
    "|테스트|설명|\n",
    "|-----|----|\n",
    "|-ipath pattern|대소문자를 구분하지 않고 패턴과 일치하는 경로를 검색|\n",
    "|-iwholename pattern|-ipath와 동일하지만 이식성이 떨어짐|\n",
    "|-links n|n개의 링크를 가지고 있는 경로를 검색|\n",
    "|-path pattern|패턴과 일치하는 경로 탐색|\n",
    "|-wholename pattern|-path와 동일하지만 이식성이 떨어짐|"
   ]
  },
  {
   "cell_type": "code",
   "execution_count": 41,
   "metadata": {
    "vscode": {
     "languageId": "shellscript"
    }
   },
   "outputs": [
    {
     "name": "stdout",
     "output_type": "stream",
     "text": [
      "./File/file2.txt\n",
      "./File/test.txt\n",
      "./File/express.txt\n",
      "./File/file1.txt\n",
      "./f-file.txt\n"
     ]
    }
   ],
   "source": [
    "%%bash\n",
    "#!/bin/bash\n",
    "find ./ -ipath './f*t'"
   ]
  },
  {
   "cell_type": "markdown",
   "metadata": {},
   "source": [
    "### 파일타입 관련 테스트\n",
    "파일의 타입으로 검색한다\n",
    "|테스트|설명|\n",
    "|-----|----|\n",
    "|-fstype type|-type과 유사하지만 BSD 운영체제에서 지원|\n",
    "|-type c|b:블록 c:문자 d:디렉터리 p:네임드 파이프 f:일반 파일 l:심볼릭 링크 s: 소켓 D:door(솔라리스)|\n",
    "|-xtype c|-type과 동일하고 심볼릭 링크 검색시 -L 옵션과 함께 사용해야함|\n",
    "|-context pattern|패턴과 일치하는 보안 컨텍스트를 가진 파일을 검색함. Fedora계열만 가능|"
   ]
  },
  {
   "cell_type": "code",
   "execution_count": 3,
   "metadata": {
    "vscode": {
     "languageId": "shellscript"
    }
   },
   "outputs": [
    {
     "name": "stdout",
     "output_type": "stream",
     "text": [
      "./File/express.txt\n",
      "./File/express.txt\n"
     ]
    }
   ],
   "source": [
    "%%bash\n",
    "#!/bin/bash\n",
    "find ./ -type l\n",
    "find -L ./ -xtype l"
   ]
  },
  {
   "cell_type": "markdown",
   "metadata": {},
   "source": [
    "### 연산자\n",
    "|연산자|설명|\n",
    "|-----|----|\n",
    "|( expr )| 표현식을 그룹핑할 경우. 백슬래시\\와 함께 사용해야 함|\n",
    "|!expr, -not expr|not|\n",
    "|expr1 expr2, expr1 -a expr2|AND 연산|\n",
    "|expr1 -and expr2|AND 연산이지만 POSIX 호환은 안 됨|\n",
    "|expr1 -o expr2| OR연산|\n",
    "|expr1 -or expr2| OR연산이지만 POSIX 호환은 안 됨|\n",
    "|expr1 , expr2|각각 수행되며, 결과는 expr2만 출력됨. 함께 출력하려면 -printf, -fprintf를 사용해야 함|"
   ]
  },
  {
   "cell_type": "code",
   "execution_count": 4,
   "metadata": {
    "vscode": {
     "languageId": "shellscript"
    }
   },
   "outputs": [
    {
     "name": "stdout",
     "output_type": "stream",
     "text": [
      "./expression.txt\n",
      "./expression.tar.gz\n",
      "./File/express.txt\n"
     ]
    }
   ],
   "source": [
    "%%bash\n",
    "#!/bin/bash\n",
    "find ./  -name 'exp*' "
   ]
  },
  {
   "cell_type": "code",
   "execution_count": 44,
   "metadata": {
    "vscode": {
     "languageId": "shellscript"
    }
   },
   "outputs": [
    {
     "name": "stdout",
     "output_type": "stream",
     "text": [
      "./\n",
      "./pattern\n",
      "./pattern/findtestfile\n",
      "./expression.tar.gz\n",
      "./grep-test\n",
      "./shell.ipynb\n",
      "./File\n",
      "./File/File\n",
      "./findtestfile\n"
     ]
    }
   ],
   "source": [
    "%%bash\n",
    "#!/bin/bash\n",
    "find ./ -not -name '*.txt'"
   ]
  },
  {
   "cell_type": "code",
   "execution_count": 5,
   "metadata": {
    "vscode": {
     "languageId": "shellscript"
    }
   },
   "outputs": [
    {
     "name": "stdout",
     "output_type": "stream",
     "text": [
      "./pattern/pattern2.txt\n",
      "./pattern/pattern3.txt\n",
      "./pattern/pattern1.txt\n",
      "./p-file.txt\n"
     ]
    }
   ],
   "source": [
    "%%bash\n",
    "#!/bin/bash\n",
    "find ./ -type f -a -name 'p*'"
   ]
  },
  {
   "cell_type": "markdown",
   "metadata": {},
   "source": [
    "### 액션\n",
    "명령어 실행 관련 액션와 결과 출력 관련 액션으로 나뉜다.  \n",
    "명령어 실행 관련 액션\n",
    "|액션|설명|\n",
    "|----|----|\n",
    "|-delete|표현식에 의해 검색된 파일을 삭제|\n",
    "|-exec command{} ;|검색된 파일을 인수로 받아 명령어를 실행함|\n",
    "|-exec command{} +|-exec과 동일하나 결과값을 연이어서 보여줌|\n",
    "|-execdir command{} ;|-exec과 유사하나 서브 디렉터리부터 검색하기 때문에 결과값은 파일명만 출력됨|\n",
    "|-execdir command{} +|-execdir과 동일하나 결과값을 연이어서 보여줌|\n",
    "|-ok command{} ;|-exec과 유사하지만 사용자에게 실행 여부를 확인 후 실행함|\n",
    "|-okdir command{} +|-execdir과 동일하나 사용자에게 실행 여부를 확인 후 실행함|\n",
    "|-prune|검색한 패턴이 디렉터리인 경우, 하위 디렉터리의 파일은 검색하지 않음|\n",
    "|-quit|검색되면 검색을 종료함|\n",
    ";는 \\;로 사용해야 한다."
   ]
  },
  {
   "cell_type": "code",
   "execution_count": 6,
   "metadata": {
    "vscode": {
     "languageId": "shellscript"
    }
   },
   "outputs": [],
   "source": [
    "%%bash\n",
    "#!/bin/bash\n",
    "find ./ -name rootfile -delete"
   ]
  },
  {
   "cell_type": "code",
   "execution_count": 7,
   "metadata": {
    "vscode": {
     "languageId": "shellscript"
    }
   },
   "outputs": [
    {
     "name": "stdout",
     "output_type": "stream",
     "text": [
      "CPU model is Intel(R) Core(TM) i7-8665U CPU @ 1.90GHz\n"
     ]
    }
   ],
   "source": [
    "%%bash\n",
    "#!/bin/bash\n",
    "# 검색된 파일 목록이 인자로 사용됨  '{}'로 받는다\n",
    "find ./ -name 'expression.txt' -exec grep CPU '{}' \\;"
   ]
  },
  {
   "cell_type": "code",
   "execution_count": 8,
   "metadata": {
    "vscode": {
     "languageId": "shellscript"
    }
   },
   "outputs": [
    {
     "name": "stdout",
     "output_type": "stream",
     "text": [
      "./expression.txt\n",
      "./File/express.txt\n",
      "./expression.txt ./File/express.txt\n"
     ]
    }
   ],
   "source": [
    "%%bash\n",
    "#!/bin/bash\n",
    "# 출력 형식의 차이\n",
    "find ./ -name 'e*.txt' -exec echo '{}' \\;\n",
    "find ./ -name 'e*.txt' -exec echo '{}' +\n"
   ]
  },
  {
   "cell_type": "code",
   "execution_count": 49,
   "metadata": {
    "vscode": {
     "languageId": "shellscript"
    }
   },
   "outputs": [
    {
     "name": "stdout",
     "output_type": "stream",
     "text": [
      "./File/file2.txt\n",
      "./File/file1.txt\n",
      "./file2.txt\n",
      "./file1.txt\n"
     ]
    }
   ],
   "source": [
    "%%bash\n",
    "#!/bin/bash\n",
    "# 출력 형식의 차이\n",
    "find ./File/ -name 'f*txt' -exec echo '{}' \\;\n",
    "find ./File/ -name 'f*txt' -execdir echo '{}' \\;\n"
   ]
  },
  {
   "cell_type": "code",
   "execution_count": 50,
   "metadata": {
    "vscode": {
     "languageId": "shellscript"
    }
   },
   "outputs": [
    {
     "name": "stderr",
     "output_type": "stream",
     "text": [
      "< echo ... ./File/file2.txt > ? < echo ... ./File/file1.txt > ? "
     ]
    }
   ],
   "source": [
    "%%bash\n",
    "#!/bin/bash\n",
    "# 출력 형식의 차이\n",
    "find ./File/ -name 'f*txt' -ok echo '{}' \\;"
   ]
  },
  {
   "cell_type": "markdown",
   "metadata": {},
   "source": [
    "### 액션\n",
    "결과 출력 관련 액션\n",
    "|액션|설명|\n",
    "|----|----|\n",
    "|-fls file|검색된 파일들에 ls -l과 유사한 결과를 file에 저장함|\n",
    "|-fprintf file|file에 저장함|\n",
    "|-fprint0 file|file에 뉴라인이나 공백 없이 저장함|\n",
    "|-printf format|\\와 %로 된 표준 출력 포맷에 맞게 검색된 파일 결과를 보여줌|\n",
    "|-fprintf file format|file에 포맷에 맞게 저장함|\n",
    "|-ls|검색된 파일들에 ls -l와 유사한 결과를 보여줌|\n",
    "|-print;|검색된 파일의 결과를 보여줌.  디폴트임|\n",
    "|-print0|검색된 파일의 결과를 뉴라인 없이 보여줌|"
   ]
  },
  {
   "cell_type": "code",
   "execution_count": 9,
   "metadata": {
    "vscode": {
     "languageId": "shellscript"
    }
   },
   "outputs": [],
   "source": [
    "%%bash\n",
    "#!/bin/bash\n",
    "find ./ -name 'f*' -fls f-file.txt"
   ]
  },
  {
   "cell_type": "code",
   "execution_count": 10,
   "metadata": {
    "vscode": {
     "languageId": "shellscript"
    }
   },
   "outputs": [],
   "source": [
    "%%bash\n",
    "#!/bin/bash\n",
    "find ./ -name 'p*' -fprint p-file.txt"
   ]
  },
  {
   "cell_type": "code",
   "execution_count": 11,
   "metadata": {
    "vscode": {
     "languageId": "shellscript"
    }
   },
   "outputs": [
    {
     "name": "stdout",
     "output_type": "stream",
     "text": [
      "pattern Tue Jul 26 04:36:34.2003958360 2022\n",
      "pattern2.txt Tue Jul 26 04:34:46.7006933430 2022\n",
      "pattern3.txt Tue Jul 26 04:34:46.7006933430 2022\n",
      "pattern1.txt Tue Jul 26 04:34:46.7006933430 2022\n",
      "p-file.txt Tue Jul 26 13:26:22.0369699130 2022\n"
     ]
    }
   ],
   "source": [
    "%%bash\n",
    "#!/bin/bash\n",
    "find ./ -name 'p*' -printf '%f %c\\n'"
   ]
  },
  {
   "cell_type": "markdown",
   "metadata": {},
   "source": [
    "### 출력 포맷\n",
    "|포맷|의미|\n",
    "|---|----|\n",
    "|\\a|알람|\n",
    "|\\b|백스페이스|\n",
    "|\\c|클리어|\n",
    "|\\f|폼피드|\n",
    "|\\n|뉴라인|\n",
    "|\\r|캐리지리턴|\n",
    "|\\t|수평탭|\n",
    "|\\v|수직탭|\n",
    "|\\0|아스키NULL|\n",
    "|\\\\|백슬래시|\n",
    "|\\NNN|8진아스키코드|\n",
    "|%%|퍼센트 기호|\n",
    "|%a|ctime의 파일 액세스 시간|\n",
    "|%Ak|k에 의한 파일 액세스 시간|\n",
    "|%b|사용된 디스크 크기(바이트 기준)|\n",
    "|%c|파일의 마지막 상태 변경 시간|\n",
    "|%Ck|k에 의한 파일의 마지막 상태 변경 시간|\n",
    "|%d|파일 깊이|\n",
    "|%D|파일 장치 번호|\n",
    "|%f|파일명|\n",
    "|%g|파일의 그룹명, 그룹ID|\n",
    "|%G|파일의 그룹ID|\n",
    "|%h|파일명을 제외한 파일 경로|\n",
    "|%H|명령행 인수|\n",
    "|%i|파일의 inode 번호|\n",
    "|%k|사용된 디스크 크기(킬로바이트 기준)|\n",
    "|%l|심볼릭 링크|\n",
    "|%m|파일 권한 8진수|\n",
    "|%M|파일 권한 문자열|\n",
    "|%n|하드링크 수|\n",
    "|%p| 경로를 포함한 파일명|\n",
    "|%P|현재 경로가 없는 파일명|\n",
    "|%s|파일 사이즈(바이트 기준)|\n",
    "|%S|파일의 희소성|\n",
    "|%t|파일의 마지막 수정 시간|\n",
    "|%Tk|k에 의한 파일의 마지막 수정시간|\n",
    "|%u|파일의 소유자명|\n",
    "|%U|파일의 소유자ID|\n",
    "|%y|파일 타입, U에 대한 타입이 더 있음|\n",
    "|%Y|파일 타입, L,N 타입이 더 있음|\n",
    "|%Z|파일의 보안 컨텍스트|"
   ]
  },
  {
   "cell_type": "code",
   "execution_count": 12,
   "metadata": {
    "vscode": {
     "languageId": "shellscript"
    }
   },
   "outputs": [
    {
     "name": "stdout",
     "output_type": "stream",
     "text": [
      "  3641500      4 drwxrwxr-x   2 ubuntu   ubuntu       4096 May 21  2020 ./pattern\n",
      "  3641502      4 -rw-rw-r--   1 ubuntu   ubuntu         11 May  8  2020 ./pattern/pattern2.txt\n",
      "  3641503      4 -rw-rw-r--   1 ubuntu   ubuntu          9 May 13  2020 ./pattern/pattern3.txt\n",
      "  3641501      4 -rw-rw-r--   1 ubuntu   ubuntu         18 May  8  2020 ./pattern/pattern1.txt\n",
      "  3641496      4 -rw-rw-r--   1 ubuntu   ubuntu         92 Jul 26 13:26 ./p-file.txt\n"
     ]
    }
   ],
   "source": [
    "%%bash\n",
    "#!/bin/bash\n",
    "find ./ -name 'p*' -ls"
   ]
  },
  {
   "cell_type": "markdown",
   "metadata": {},
   "source": [
    "### 위치옵션\n",
    "위치옵션은 표현식의 시작부분에 배치한다\n",
    "|위치옵션|설명|\n",
    "|-------|----|\n",
    "|-d|-depth와 동의어|\n",
    "|-depth|서브 디렉터리의 파일을 먼저 검색함|\n",
    "|-daystart|24시간이 아닌 해당일 기준으로 검색|\n",
    "|-regextype type|기본 type은 emacs이며, posix-awk, posix-basic, posix-egrep, posix-extended가 있음|\n",
    "|-maxdepth levels|명시한 레벨만큼의 서브 디렉터리까지 검색|\n",
    "|-mindepth levels|명시한 레벨부터 검색|\n",
    "|-mount|외장 드라이브는 검색하지 않음|\n",
    "|-warn, -nowarn| 경고 메시지를 켜거나 끔|"
   ]
  },
  {
   "cell_type": "code",
   "execution_count": 55,
   "metadata": {
    "vscode": {
     "languageId": "shellscript"
    }
   },
   "outputs": [
    {
     "name": "stdout",
     "output_type": "stream",
     "text": [
      "./pattern\n",
      "./pattern/pattern2.txt\n",
      "./pattern/pattern3.txt\n",
      "./pattern/pattern1.txt\n",
      "./p-file.txt\n",
      "./pattern/pattern2.txt\n",
      "./pattern/pattern3.txt\n",
      "./pattern/pattern1.txt\n",
      "./pattern\n",
      "./p-file.txt\n"
     ]
    }
   ],
   "source": [
    "%%bash\n",
    "#!/bin/bash\n",
    "find ./ -name 'p*'\n",
    "find ./ -depth -name 'p*'"
   ]
  },
  {
   "cell_type": "code",
   "execution_count": 13,
   "metadata": {
    "vscode": {
     "languageId": "shellscript"
    }
   },
   "outputs": [
    {
     "name": "stdout",
     "output_type": "stream",
     "text": [
      "./\n",
      "./pattern\n",
      "./findtestfile\n"
     ]
    }
   ],
   "source": [
    "%%bash\n",
    "#!/bin/bash\n",
    "find ./ -name './[[:lower:]]*'\n",
    "find ./ -regextype posix-extended -regex './[[:lower:]]*' "
   ]
  },
  {
   "cell_type": "markdown",
   "metadata": {},
   "source": [
    "## 4.3 find 옵션\n",
    "- 심볼릭 링크 관련 옵션\n",
    "- 디버그 관련 옵션\n",
    "- 레벨 관련 옵션\n",
    "\n",
    "심볼릭 링크 관련 옵션\n",
    "|옵션|설명|\n",
    "|----|---|\n",
    "|-P|파일이 심볼릭 링크인 경우, 링크 자체의 속성을 검사한다. 디폴트|\n",
    "|-L|심볼릭 링크인 경우, 연결된 파일의 속성을 검사한다|\n",
    "|-H|심볼릭 링크인 경우, 링크 자체의 속성을 검사하지만 명령행에 지정된 파일이면 연결된 파일의 속성을 검사한다|"
   ]
  },
  {
   "cell_type": "code",
   "execution_count": 57,
   "metadata": {
    "vscode": {
     "languageId": "shellscript"
    }
   },
   "outputs": [
    {
     "name": "stdout",
     "output_type": "stream",
     "text": [
      "./expression.txt\n",
      "./expression.tar.gz\n",
      "./expression.txt\n",
      "./expression.tar.gz\n",
      "./File/express.txt\n"
     ]
    }
   ],
   "source": [
    "%%bash\n",
    "#!/bin/bash\n",
    "find -P ./ -type f -name 'e*'\n",
    "find -L ./ -type f -name 'e*'\n"
   ]
  },
  {
   "cell_type": "markdown",
   "metadata": {},
   "source": [
    "디버그 옵션, 최적화 옵션 생략"
   ]
  },
  {
   "cell_type": "code",
   "execution_count": 58,
   "metadata": {
    "vscode": {
     "languageId": "shellscript"
    }
   },
   "outputs": [
    {
     "name": "stdout",
     "output_type": "stream",
     "text": [
      "./pattern\n",
      "./pattern/pattern2.txt\n",
      "./pattern/pattern3.txt\n",
      "./pattern/pattern1.txt\n",
      "./p-file.txt\n",
      "./pattern\n",
      "./findtestfile\n"
     ]
    }
   ],
   "source": [
    "%%bash\n",
    "#!/bin/bash\n",
    "## 결론\n",
    "find . -name 'p*'\n",
    "find . -regextype posix-extended -regex './[[:lower:]]*'"
   ]
  }
 ],
 "metadata": {
  "kernelspec": {
   "display_name": "Python 3.8.10 64-bit",
   "language": "python",
   "name": "python3"
  },
  "language_info": {
   "codemirror_mode": {
    "name": "ipython",
    "version": 3
   },
   "file_extension": ".py",
   "mimetype": "text/x-python",
   "name": "python",
   "nbconvert_exporter": "python",
   "pygments_lexer": "ipython3",
   "version": "3.8.10"
  },
  "orig_nbformat": 4,
  "vscode": {
   "interpreter": {
    "hash": "e7370f93d1d0cde622a1f8e1c04877d8463912d04d973331ad4851f04de6915a"
   }
  }
 },
 "nbformat": 4,
 "nbformat_minor": 2
}
