{
 "cells": [
  {
   "cell_type": "markdown",
   "metadata": {},
   "source": [
    "# 처음 배우는 셸 스크립트\n",
    "\n",
    "## 1장 셸 스크립트란?\n",
    "\n",
    "posix를 지원하는 운영체제에서 일반적으로 사용하는 명령어들과 if, for과 같은 프로그래밍적인 요소로 이루어진 인터프리터 기반의 스크립트 언어이다  \n",
    "https://github.com/naleeJang/Easy-Shell-Script.git  clone하기\n"
   ]
  },
  {
   "cell_type": "markdown",
   "metadata": {},
   "source": [
    "## 2장 셸 스크립트 기초 문법\n",
    "문법을 알아야 스크립트를 잘 작성한다. 쉘 스크립트는 스크립트 언어라서 자바스크립트, 파이썬과 비슷하다.   \n",
    "\n",
    "### 2.1 셸 스크립트 만들기\n",
    "셸 스크립트를 만들 때는 sh확장자를 사용하고, 시작시 #!/bin/bash를 입력해서 해당 파일이 셸 스크립트임을 알려준다.\n"
   ]
  },
  {
   "cell_type": "code",
   "execution_count": 8,
   "metadata": {
    "vscode": {
     "languageId": "shellscript"
    }
   },
   "outputs": [
    {
     "name": "stdout",
     "output_type": "stream",
     "text": [
      "Hello World\n"
     ]
    }
   ],
   "source": [
    "%%bash\n",
    "#!/bin/bash\n",
    "\n",
    "message=\"Hello\"\n",
    "if [[ $message == \"Hello\" ]]; then\n",
    "\techo \"Hello World\"\n",
    "fi\n"
   ]
  },
  {
   "cell_type": "markdown",
   "metadata": {},
   "source": [
    "vi myshell.sh  \n",
    "```\n",
    "#!/bin/bash\n",
    "\n",
    "echo \"hello world\"\n",
    "```\n",
    ":wq\n",
    "### 실행하는 방법\n",
    "```\n",
    "sh myshell.sh\n",
    "혹은 chmod +x myshell.sh   ./myshell.sh\n",
    "혹은 echo \"hello world\" \n",
    "```\n",
    "\n",
    "쉘 스크립트를 파일로 만들어 사용하는 이유는 재사용성 때문이다."
   ]
  },
  {
   "cell_type": "markdown",
   "metadata": {},
   "source": [
    "### 2.2 변수 사용하기"
   ]
  },
  {
   "cell_type": "code",
   "execution_count": 9,
   "metadata": {
    "vscode": {
     "languageId": "shellscript"
    }
   },
   "outputs": [
    {
     "name": "stdout",
     "output_type": "stream",
     "text": [
      "I can speak Korean\n",
      "Korean\n",
      "Korean\n",
      "\n"
     ]
    }
   ],
   "source": [
    "%%bash\n",
    "\n",
    "# 변수 선언하고 사용하기. 변수에 $를 붙여야 값으로 평가된다. $변수는 그냥 쓰거나 \"\"안에 있어도 된다.\n",
    "\n",
    "#!/bin/bash\n",
    "language=\"Korean\"\n",
    "echo \"I can speak $language\"\n",
    "echo \"$language\"\n",
    "echo $language\n",
    "\n",
    "#변수 삭제\n",
    "unset language\n",
    "echo $language"
   ]
  },
  {
   "cell_type": "code",
   "execution_count": 3,
   "metadata": {
    "vscode": {
     "languageId": "shellscript"
    }
   },
   "outputs": [
    {
     "name": "stderr",
     "output_type": "stream",
     "text": [
      "mkdir: cannot create directory ‘Korea’: File exists\n",
      "mkdir: cannot create directory ‘English’: File exists\n",
      "mkdir: cannot create directory ‘Japan’: File exists\n"
     ]
    },
    {
     "ename": "CalledProcessError",
     "evalue": "Command 'b'# \\xec\\x97\\xac\\xeb\\x9f\\xac \\xeb\\x94\\x94\\xeb\\xa0\\x89\\xed\\x84\\xb0\\xeb\\xa6\\xac \\xec\\x83\\x9d\\xec\\x84\\xb1\\xed\\x95\\x98\\xea\\xb8\\xb0\\n\\n#!/bin/sh\\nlanguage=\"Korea English Japan\"\\nmkdir $language\\n'' returned non-zero exit status 1.",
     "output_type": "error",
     "traceback": [
      "\u001b[0;31m---------------------------------------------------------------------------\u001b[0m",
      "\u001b[0;31mCalledProcessError\u001b[0m                        Traceback (most recent call last)",
      "\u001b[1;32m/home/ubuntu/workspace/shellscript_study/220705/shell.ipynb Cell 7'\u001b[0m in \u001b[0;36m<cell line: 1>\u001b[0;34m()\u001b[0m\n\u001b[0;32m----> <a href='vscode-notebook-cell://ssh-remote%2B152.70.238.197/home/ubuntu/workspace/shellscript_study/220705/shell.ipynb#ch0000006vscode-remote?line=0'>1</a>\u001b[0m get_ipython()\u001b[39m.\u001b[39;49mrun_cell_magic(\u001b[39m'\u001b[39;49m\u001b[39mbash\u001b[39;49m\u001b[39m'\u001b[39;49m, \u001b[39m'\u001b[39;49m\u001b[39m'\u001b[39;49m, \u001b[39m'\u001b[39;49m\u001b[39m# 여러 디렉터리 생성하기\u001b[39;49m\u001b[39m\\n\u001b[39;49;00m\u001b[39m\\n\u001b[39;49;00m\u001b[39m#!/bin/sh\u001b[39;49m\u001b[39m\\n\u001b[39;49;00m\u001b[39mlanguage=\u001b[39;49m\u001b[39m\"\u001b[39;49m\u001b[39mKorea English Japan\u001b[39;49m\u001b[39m\"\u001b[39;49m\u001b[39m\\n\u001b[39;49;00m\u001b[39mmkdir $language\u001b[39;49m\u001b[39m\\n\u001b[39;49;00m\u001b[39m'\u001b[39;49m)\n",
      "File \u001b[0;32m~/.local/lib/python3.8/site-packages/IPython/core/interactiveshell.py:2358\u001b[0m, in \u001b[0;36mInteractiveShell.run_cell_magic\u001b[0;34m(self, magic_name, line, cell)\u001b[0m\n\u001b[1;32m   2356\u001b[0m \u001b[39mwith\u001b[39;00m \u001b[39mself\u001b[39m\u001b[39m.\u001b[39mbuiltin_trap:\n\u001b[1;32m   2357\u001b[0m     args \u001b[39m=\u001b[39m (magic_arg_s, cell)\n\u001b[0;32m-> 2358\u001b[0m     result \u001b[39m=\u001b[39m fn(\u001b[39m*\u001b[39;49margs, \u001b[39m*\u001b[39;49m\u001b[39m*\u001b[39;49mkwargs)\n\u001b[1;32m   2359\u001b[0m \u001b[39mreturn\u001b[39;00m result\n",
      "File \u001b[0;32m~/.local/lib/python3.8/site-packages/IPython/core/magics/script.py:153\u001b[0m, in \u001b[0;36mScriptMagics._make_script_magic.<locals>.named_script_magic\u001b[0;34m(line, cell)\u001b[0m\n\u001b[1;32m    151\u001b[0m \u001b[39melse\u001b[39;00m:\n\u001b[1;32m    152\u001b[0m     line \u001b[39m=\u001b[39m script\n\u001b[0;32m--> 153\u001b[0m \u001b[39mreturn\u001b[39;00m \u001b[39mself\u001b[39;49m\u001b[39m.\u001b[39;49mshebang(line, cell)\n",
      "File \u001b[0;32m~/.local/lib/python3.8/site-packages/IPython/core/magics/script.py:305\u001b[0m, in \u001b[0;36mScriptMagics.shebang\u001b[0;34m(self, line, cell)\u001b[0m\n\u001b[1;32m    300\u001b[0m \u001b[39mif\u001b[39;00m args\u001b[39m.\u001b[39mraise_error \u001b[39mand\u001b[39;00m p\u001b[39m.\u001b[39mreturncode \u001b[39m!=\u001b[39m \u001b[39m0\u001b[39m:\n\u001b[1;32m    301\u001b[0m     \u001b[39m# If we get here and p.returncode is still None, we must have\u001b[39;00m\n\u001b[1;32m    302\u001b[0m     \u001b[39m# killed it but not yet seen its return code. We don't wait for it,\u001b[39;00m\n\u001b[1;32m    303\u001b[0m     \u001b[39m# in case it's stuck in uninterruptible sleep. -9 = SIGKILL\u001b[39;00m\n\u001b[1;32m    304\u001b[0m     rc \u001b[39m=\u001b[39m p\u001b[39m.\u001b[39mreturncode \u001b[39mor\u001b[39;00m \u001b[39m-\u001b[39m\u001b[39m9\u001b[39m\n\u001b[0;32m--> 305\u001b[0m     \u001b[39mraise\u001b[39;00m CalledProcessError(rc, cell)\n",
      "\u001b[0;31mCalledProcessError\u001b[0m: Command 'b'# \\xec\\x97\\xac\\xeb\\x9f\\xac \\xeb\\x94\\x94\\xeb\\xa0\\x89\\xed\\x84\\xb0\\xeb\\xa6\\xac \\xec\\x83\\x9d\\xec\\x84\\xb1\\xed\\x95\\x98\\xea\\xb8\\xb0\\n\\n#!/bin/sh\\nlanguage=\"Korea English Japan\"\\nmkdir $language\\n'' returned non-zero exit status 1."
     ]
    }
   ],
   "source": [
    "%%bash\n",
    "# 여러 디렉터리 생성하기\n",
    "\n",
    "#!/bin/bash\n",
    "language=\"Korea English Japan\"\n",
    "mkdir $language"
   ]
  },
  {
   "cell_type": "code",
   "execution_count": 13,
   "metadata": {
    "vscode": {
     "languageId": "shellscript"
    }
   },
   "outputs": [
    {
     "name": "stdout",
     "output_type": "stream",
     "text": [
      "hello\n",
      "I can speak Korean\n",
      "\n",
      "I can speak Korean hello\n"
     ]
    }
   ],
   "source": [
    "%%bash\n",
    "\n",
    "# 함수\n",
    "#!/bin/bash\n",
    "function print() {\n",
    "    echo $2\n",
    "    echo $1\n",
    "    echo $3\n",
    "    echo $@\n",
    "}\n",
    "\n",
    "print \"I can speak Korean\" \"hello\"\n",
    "\n",
    "# $1->첫 번째 매개변수의 값, $2->두 번쨰 매개변수의 값...$9-> 아홉 번째 매개변수의 값. $@는 모든 매개변수를 나열한다"
   ]
  },
  {
   "cell_type": "code",
   "execution_count": 14,
   "metadata": {
    "vscode": {
     "languageId": "shellscript"
    }
   },
   "outputs": [
    {
     "name": "stdout",
     "output_type": "stream",
     "text": [
      "I can speak Korean\n"
     ]
    }
   ],
   "source": [
    "%%bash\n",
    "\n",
    "# 전역 변수\n",
    "#!/bin/bash\n",
    "\n",
    "language=\"Korean\"\n",
    "\n",
    "function print() {\n",
    "    echo \"I can speak $language\"\n",
    "}\n",
    "\n",
    "print\n",
    "\n",
    "# language는 스크립트 전역에서 선언된 전역변수다. 함수 안에서도 밖에 선언된 전역변수를 사용할 수 있다."
   ]
  },
  {
   "cell_type": "code",
   "execution_count": 15,
   "metadata": {
    "vscode": {
     "languageId": "shellscript"
    }
   },
   "outputs": [
    {
     "name": "stdout",
     "output_type": "stream",
     "text": [
      "I am learning English\n",
      "I can speak Korean\n",
      "I can speak \n"
     ]
    }
   ],
   "source": [
    "%%bash\n",
    "\n",
    "#지역 변수\n",
    "#!/bin/bash\n",
    "\n",
    "language=\"Korean\"\n",
    "\n",
    "function learn() {\n",
    "    local learn_language=\"English\"\n",
    "    echo \"I am learning $learn_language\"\n",
    "}\n",
    "\n",
    "function print() {\n",
    "    echo \"I can speak $1\"\n",
    "}\n",
    "\n",
    "learn\n",
    "print $language\n",
    "print $learn_language\n",
    "\n",
    "# 함수 내에서 local 다음에 선언된 변수는 지역 변수다\n"
   ]
  },
  {
   "cell_type": "markdown",
   "metadata": {},
   "source": [
    "### 환경변수와 예약변수\n",
    "시스템을 위해 사전에 미리 예약된 변수들\n",
    "\n",
    "|변수명|설명|\n",
    "|------|---|\n",
    "|HOME|사용자의 홈 디렉터리|\n",
    "|PATH||실행 파일을 찾을 디렉터리 경로|\n",
    "|FUNCNAME|현재 함수 이름|\n",
    "|LANG|프로그램 사용시 기본으로 지원되는 언어|\n",
    "|PWD|사용자의 현재 작업 중인 디렉터리|\n",
    "|TERM|로그인 터미널 타입|\n",
    "|SHELL|로그인해서 사용하는 셸|\n",
    "|USER|사용자 이름|\n",
    "|USERNAME|사용자 이름|\n",
    "|GROUP|사용자 그룹|\n",
    "|DISPLAY|X 디스플레이 이름|\n",
    "|COLUMNS|현재 터미널이나 윈도우 터미널의 컬럼 수|\n",
    "|LINES 터미널의 라인 수|\n",
    "|PS1|기본 프롬프트 변수|\n",
    "|PS2|보조 프롬프트 변수|\n",
    "|PS3|셸 스크립트에서 SELECT 사용 시 프롬프트 변수|\n",
    "|PS4|셸 스크립트 디버깅 모드의 프롬프트 변수|\n",
    "|BASH|BASH 실행 파일 경로|\n",
    "|BASH_VERSION|설치된 BASH 버전|\n",
    "|BASH_ENV|스크립트 실행 시 BASH 시작 파일을 읽을 위치 변수|\n",
    "|HISTFILE|history 파일 경로|\n",
    "|HISTFILESIZE|history 파일 크기|\n",
    "|HISTSIZE|history 저장 개수|\n",
    "|HOSTNAME|호스트 이름|\n",
    "|HOSTTYPE|시스템 하드웨어 종류|\n",
    "|MACHTYPE|머신 종류|\n",
    "|MAIL|메일 보관 경로|\n",
    "|LOGNAME|로그인 이름|\n",
    "|TMOUT|0이면 제한이 없으며 time 시간 지정 시 지정한 시간 이후 로그아웃|\n",
    "|SECONDS|스크립트가 실행된 초 단위 시간|\n",
    "|UID|사용자 UID|\n",
    "|OSTYPE|운영체제 종류|"
   ]
  },
  {
   "cell_type": "markdown",
   "metadata": {},
   "source": [
    "### 환경 변수 선언하기\n",
    "환경 변수는 그 변수를 정의한 쉘에서 실행된 프로그램에서도 접근할 수 있는 변수다.  \n",
    "환경 변수는 쉘 변수를 export 명령어로 이전시켜서 설정한다.  \n",
    "환경 변수 목록은 env, printenv 명령어로 볼 수 있다.\n",
    "\n",
    "export 명령어를 사용하여 생성한 환경 변수는 시스템을 꼈다 키면 사라진다.\n",
    "시스템을 껐다 켜도 환경변수를 유지하려면 인터넷 참조."
   ]
  },
  {
   "cell_type": "code",
   "execution_count": 17,
   "metadata": {
    "vscode": {
     "languageId": "shellscript"
    }
   },
   "outputs": [
    {
     "name": "stdout",
     "output_type": "stream",
     "text": [
      "abcdefghijk\n"
     ]
    }
   ],
   "source": [
    "%%bash\n",
    "\n",
    "test_variable=abcdefghijk\n",
    "printenv test_variable\n",
    "export test_variable\n",
    "printenv test_variable"
   ]
  },
  {
   "cell_type": "markdown",
   "metadata": {},
   "source": [
    "### 위치 매개변수\n",
    "|매개변수명|설명|\n",
    "|---------|---|\n",
    "|$0|실행된 스크립트 이름|\n",
    "|$1| $1 $2 $3... ${10} 파라미터 순서대로 번호가 부여되며, 10번쨰 부터는 {}로 감싸야 함|\n",
    "|$*|전체 인자값|\n",
    "|$@|전체 인자값. $*와 동일하지만 \"\"로 변수를 감싸면 다른 결과가 나옴|\n",
    "|$#|매개변수의 총 개수|"
   ]
  },
  {
   "cell_type": "code",
   "execution_count": null,
   "metadata": {
    "vscode": {
     "languageId": "shellscript"
    }
   },
   "outputs": [
    {
     "name": "stdout",
     "output_type": "stream",
     "text": [
      "#!/bin/bash\n",
      "echo \"This shell script name is $0\"\n",
      "echo \"I can speak $1 and $2\"\n",
      "echo \"This shell script parameters are $*\"\n",
      "echo \"this shell script parameters are $@\"\n",
      "echo \"This parameter count is $#\"\n",
      "\n",
      "This shell script name is mylanguage.sh\n",
      "I can speak Korean and English\n",
      "This shell script parameters are Korean English\n",
      "this shell script parameters are Korean English\n",
      "This parameter count is 2\n"
     ]
    }
   ],
   "source": [
    "%%bash\n",
    "\n",
    "#!/bin/bash\n",
    "output=`cat mylanguage.sh`\n",
    "echo \"$output\"\n",
    "echo \"\"\n",
    "\n",
    "sh mylanguage.sh Korean English"
   ]
  },
  {
   "cell_type": "code",
   "execution_count": null,
   "metadata": {
    "vscode": {
     "languageId": "shellscript"
    }
   },
   "outputs": [
    {
     "name": "stdout",
     "output_type": "stream",
     "text": [
      "#!/bin/sh\n",
      "\n",
      "for language in $*\n",
      "do\n",
      "    echo \"I can speack $language\"\n",
      "done\n",
      "\n",
      "I can speack Korean\n",
      "I can speack English\n",
      "I can speack Japanese\n",
      "I can speack Chinese\n"
     ]
    }
   ],
   "source": [
    "%%bash\n",
    "\n",
    "# $*와 $@의 차이\n",
    "\n",
    "#!/bin/bash\n",
    "output=`cat mylanguage2.sh`\n",
    "echo \"$output\"\n",
    "echo \"\"\n",
    "\n",
    "sh mylanguage2.sh Korean English \"Japanese Chinese\"\n",
    "# $*만 사용한 경우 매개변수를 모두 개별로 인식함 총 4개의 매개변수가 됨"
   ]
  },
  {
   "cell_type": "code",
   "execution_count": null,
   "metadata": {
    "vscode": {
     "languageId": "shellscript"
    }
   },
   "outputs": [
    {
     "name": "stdout",
     "output_type": "stream",
     "text": [
      "#!/bin/sh\n",
      "\n",
      "for language in $@\n",
      "do\n",
      "    echo \"I can speack $language\"\n",
      "done\n",
      "\n",
      "I can speack Korean\n",
      "I can speack English\n",
      "I can speack Japanese\n",
      "I can speack Chinese\n"
     ]
    }
   ],
   "source": [
    "%%bash\n",
    "\n",
    "# $*와 $@의 차이\n",
    "\n",
    "#!/bin/bash\n",
    "output=`cat mylanguage3.sh`\n",
    "echo \"$output\"\n",
    "echo \"\"\n",
    "\n",
    "sh mylanguage3.sh Korean English \"Japanese Chinese\"\n",
    "# $@만 사용한 경우 매개변수를 모두 개별로 인식함 총 4개의 매개변수가 됨"
   ]
  },
  {
   "cell_type": "code",
   "execution_count": null,
   "metadata": {
    "vscode": {
     "languageId": "shellscript"
    }
   },
   "outputs": [
    {
     "name": "stdout",
     "output_type": "stream",
     "text": [
      "#!/bin/sh\n",
      "\n",
      "for language in \"$*\"\n",
      "do\n",
      "    echo \"I can speack $language\"\n",
      "done\n",
      "\n",
      "I can speack Korean English Japanese Chinese\n"
     ]
    }
   ],
   "source": [
    "%%bash\n",
    "\n",
    "# $*와 $@의 차이\n",
    "\n",
    "#!/bin/bash\n",
    "output=`cat mylanguage4.sh`\n",
    "echo \"$output\"\n",
    "echo \"\"\n",
    "\n",
    "sh mylanguage4.sh Korean English \"Japanese Chinese\"\n",
    "# \"$*\"를 사용한 경우 매개변수를 하나의 매개변수로 인식하여 총 1개의 매개변수가 됨"
   ]
  },
  {
   "cell_type": "code",
   "execution_count": null,
   "metadata": {
    "vscode": {
     "languageId": "shellscript"
    }
   },
   "outputs": [
    {
     "name": "stdout",
     "output_type": "stream",
     "text": [
      "#!/bin/sh\n",
      "\n",
      "for language in \"$@\"\n",
      "do\n",
      "    echo \"I can speack $language\"\n",
      "done\n",
      "\n",
      "I can speack Korean\n",
      "I can speack English\n",
      "I can speack Japanese Chinese\n"
     ]
    }
   ],
   "source": [
    "%%bash\n",
    "\n",
    "# $*와 $@의 차이\n",
    "\n",
    "#!/bin/bash\n",
    "output=`cat mylanguage5.sh`\n",
    "echo \"$output\"\n",
    "echo \"\"\n",
    "\n",
    "sh mylanguage5.sh Korean English \"Japanese Chinese\"\n",
    "# \"$@\"를 사용한 경우 매개변수를 문자열 별로 인식하여 총 3개의 매개변수가 됨"
   ]
  },
  {
   "cell_type": "markdown",
   "metadata": {},
   "source": [
    "### 특수 매개변수\n",
    "특수 매개변수는 현재 실행중인 스크립트나 명령어의 pid를 확인하거나 정상 종료 여부를 확인하는 변수들이다\n",
    "|매개변수|설명|\n",
    "|-------|----|\n",
    "|$$|현재 스크립트 또는 명령어의 PID|\n",
    "|$?|최근에 실행된 명령어, 함수, 스크립트의 종료 상태|\n",
    "|$!|최근에 실행한 백그라운드 명령어의 PID|\n",
    "|$-|현재 옵션 플래그|"
   ]
  },
  {
   "cell_type": "code",
   "execution_count": 18,
   "metadata": {
    "vscode": {
     "languageId": "shellscript"
    }
   },
   "outputs": [
    {
     "name": "stdout",
     "output_type": "stream",
     "text": [
      "2858084\n",
      "0\n"
     ]
    },
    {
     "name": "stderr",
     "output_type": "stream",
     "text": [
      "ls: cannot access 'asdzxcv': No such file or directory\n"
     ]
    },
    {
     "name": "stdout",
     "output_type": "stream",
     "text": [
      "2\n",
      "2858087\n",
      "hBs\n",
      "\n"
     ]
    }
   ],
   "source": [
    "%%bash\n",
    "echo $$\n",
    "echo $? # 정상 종료이면 0을 반환함\n",
    "ls asdzxcv\n",
    "echo $? # 비정상 종료이면 다른값을 반환함\n",
    "echo &\n",
    "echo $!\n",
    "echo $-"
   ]
  },
  {
   "cell_type": "markdown",
   "metadata": {},
   "source": [
    "### 매개변수 확장\n",
    "\n",
    "$변수 는 뒤에 문자열이 붙는 경우 구분할 수 없다\n",
    "${변수}는 뒤에 문자열이 있어도 구분할 수 있다"
   ]
  },
  {
   "cell_type": "code",
   "execution_count": null,
   "metadata": {
    "vscode": {
     "languageId": "shellscript"
    }
   },
   "outputs": [
    {
     "name": "stdout",
     "output_type": "stream",
     "text": [
      "http://.html\n",
      "http://www.example.com/login.html\n"
     ]
    }
   ],
   "source": [
    "%%bash\n",
    "\n",
    "AUTH_URL=\"www.example.com/\"\n",
    "echo \"http://$AUTH_URLlogin.html\"\n",
    "echo \"http://${AUTH_URL}login.html\""
   ]
  },
  {
   "cell_type": "markdown",
   "metadata": {},
   "source": [
    "### 변수를 초기화하기 위한 확장 변경자\n",
    "\n",
    "|확장자|설명|\n",
    "|-----|----|\n",
    "|${변수-문자열}|변수가 설정되지 않은 경우 문자열로 변수를 치환|\n",
    "|${변수:-문자열}|변수가 설정되지 않았거나 Null인 경우 문자열로 변수를 치환|\n",
    "|${변수=문자열}|변수가 설정되지 않은 경우 문자열을 변수에 저장하고 변수를 치환|\n",
    "|${변수:=문자열}|변수가 설정되지 않았거나 Null인 경우 문자열을 변수에 저장하고 변수를 치환|\n",
    "|${변수+문자열}|변수가 설정된 경우 문자열로 변수 치환|\n",
    "|${변수:+문자열}|변수가 설정되고, Null이외의 값인 경우 문자열로 변수를 치환|\n",
    "|${변수?에러 메시지}| 변수가 설정된 경우 변수의 값을 사용하며, 설정되지 않은 경우 표준오류 출력으로 에러 메시지를 출력|\n",
    "|${변수:?에러 메시지} | 변수가 Null이외의 값으로 설정된 경우 변수의 값을 사용하며, 그 외의 경우 표준오류 출력으로 에러 메시지를 출력|\n",
    "|${변수:시작 위치}|변수값이 문자열일 경우 시작 위치부터 문자열 끝까지 출력|\n",
    "|${변수:시작 위치:길이}|변수값이 문자열일 경우 시작 위치부터 길이만큼 출력|\n",
    "\n",
    "변수=\"\" 로 저장하면 null로 본다"
   ]
  },
  {
   "cell_type": "markdown",
   "metadata": {},
   "source": [
    "### 변수를 문자열 값으로 변경하기 위한 매개변수 확장자\n",
    "|확장자|설명|\n",
    "|-----|----|\n",
    "|${변수#패턴}|변수에 설정된 문자열 앞에서부터 처음 찾은 패턴과 일치하는 패턴 앞의 모든 문자열 제거|\n",
    "|${변수##패턴}|변수에 설정된 문자열 앞에서부터 마지막으로 찾은 패턴과 일치하는 패턴 앞의 모든 문자열 제거|\n",
    "|${변수%패턴}|변수에 설정된 문자열 뒤에서부터 처음 찾은 패턴과 일치하는 패턴 뒤의 모든 문자열 제거|\n",
    "|${변수%%패턴}|변수에 설정된 문자열 뒤에서부터 마지막으로 패턴과 일치하는 패턴 뒤의 모든 문자열 제거|\n",
    "|${#변수}|변수의 길이 반환|\n",
    "|${변수/찾을문자열/바꿀문자열}|변수에 설정된 문자열에서 첫 번째 패턴에 해당하는 부분을 바꿀 문자열로 변경한다. 바꿀 문자열을 지정하지 않으면 제거한다.|\n",
    "|${변수//찾을문자열/바꿀문자열}|변수에 설정된 문자열에서 모든 패턴에 해당하는 부분을 바꿀 문자열로 변경한다. 바꿀 문자열을 지정하지 않으면 제거한다.|\n",
    "|${변수/#찾을문자열/바꿀문자열}|변수에 설정된 문자열의 시작 문자열이 패턴과 맞을 경우 문자열로 변경|\n",
    "|${변수/%찾을문자열/바꿀문자열}|변수에 설정된 문자열의 마지막 문자열이 패턴과 맞는 경우 문자열로 변경|"
   ]
  },
  {
   "cell_type": "code",
   "execution_count": 19,
   "metadata": {
    "vscode": {
     "languageId": "shellscript"
    }
   },
   "outputs": [
    {
     "name": "stdout",
     "output_type": "stream",
     "text": [
      "/etc/nova\n",
      "nova.conf\n",
      "/etc/nova/nova.conf\n"
     ]
    }
   ],
   "source": [
    "%%bash\n",
    "FILE_PATH=\"/etc/nova/nova.conf\"\n",
    "echo ${FILE_PATH%/*} \n",
    "echo ${FILE_PATH##*/}\n",
    "echo ${FILE_PATH}"
   ]
  },
  {
   "cell_type": "markdown",
   "metadata": {},
   "source": [
    "\n",
    "## 2.3 조건문 if, switch-case\n",
    "### if문\n",
    "띄어쓰기를 반드시 지켜야 한다\n",
    "```\n",
    "if [ 첫 번째 조건식 ]\n",
    "then\n",
    "    수행문\n",
    "elif [ 두 번째 조건식 ]\n",
    "then\n",
    "    수행문\n",
    "else\n",
    "    수행문\n",
    "fi\n",
    "```\n",
    "\n",
    "조건식 다음에 ; then 으로 1줄 아낄 수 있다.  \n",
    "\n",
    "조건식의 종류  \n",
    "```\n",
    "if [ $변수 연산자 $변수 ]  일반적인 조건식 타입으로 두 변수의 값을 비교할 때 사용한다.  \n",
    "if [ $변수 연산자 값 ]  \n",
    "if [ 연산자 $변수 ] 변수의 값이 문자열이거나 디렉터리와 같은 경우일 때 주로 사용한다.  \n",
    "if [ 조건식 ] 연산자 [ 조건식 ] 여러 조건식을 AND나 OR로 합성할 때 사용한다.\n",
    "```  "
   ]
  },
  {
   "cell_type": "code",
   "execution_count": 2,
   "metadata": {
    "vscode": {
     "languageId": "shellscript"
    }
   },
   "outputs": [
    {
     "name": "stdout",
     "output_type": "stream",
     "text": [
      "Hello World\n",
      "Hello World\n",
      "Hello World\n"
     ]
    }
   ],
   "source": [
    "%%bash\n",
    "#!/bin/bash\n",
    "\n",
    "message=\"Hello\"\n",
    "\n",
    "#test 커맨드의 리턴값 0,1에 따라 조건 분기를 실시한다.\n",
    "if test \"$message\" = \"Hello\"; then\n",
    "\techo \"Hello World\"\n",
    "fi\n",
    "\n",
    "#test 커맨드의 다른 표현 방식이다\n",
    "if [ \"$message\" = \"Hello\" ]; then\n",
    "\techo \"Hello World\"\n",
    "fi\n",
    "\n",
    "#bash 자체의 기능으로 직접 조건 판별을 한다. 이걸 추천한다.\n",
    "if [[ $message == \"Hello\" ]]; then\n",
    "\techo \"Hello World\"\n",
    "fi\n",
    "\n",
    "#조건식과 [[, ]] 사이에는 스페이스가 필요하다. 조건식에서 연산자와 피연산자 사이도 스페이스가 필요하다."
   ]
  },
  {
   "cell_type": "markdown",
   "metadata": {},
   "source": [
    "\n",
    "```\n",
    "가능한 조건식\n",
    "문자열1 == 문자열2\n",
    "문자열1 != 문자열2\n",
    "-z 문자열   :빈 문자열인가\n",
    "-n 문자열   :빈 문자열이 아닌가\n",
    "문자열 == 패턴      *, .\n",
    "문자열 != 패턴\n",
    "\n",
    "수치1 -eq 수치2\n",
    "수치1 -ne 수치2\n",
    "수치1 -lt 수치2\n",
    "수치1 -le 수치2\n",
    "수치1 -gt 수치2\n",
    "수치1 -ge 수치2\n",
    "\n",
    "-e 파일명   :파일이 존재함\n",
    "-d 파일명   :디렉터리인가\n",
    "-h 파일명   :심볼릭 링크인가\n",
    "-f 파일명   :일반 파일인가\n",
    "\n",
    "조건1 && 조건2\n",
    "조건1 || 조건2\n",
    "!조건\n",
    "true\n",
    "false\n",
    "\n",
    "bash에서는 0이 true이고 나머지 값은 false이다.\n",
    "\n",
    "명령어가 뭘 찾으면 0을 반환해서 안쪽이 실행된다. grep의 화면출력을 없애는 리다이렉션도 함\n",
    "if grep \"Hello\" /tmp/tmp0 >/dev/null 2>&1; then\n",
    "\techo \"Hello World\"\n",
    "fi\n",
    "\n",
    "명령어의 결과는 $?로 참조할 수 있다. \n",
    "grep \"Hello\" /tmp/tmp0 >/dev/null 2>&1\n",
    "rc=$?\n",
    "if [[ $rc -eq 0]]; then\n",
    "\techo \"Hello World\"\n",
    "fi\n",
    "```"
   ]
  },
  {
   "cell_type": "markdown",
   "metadata": {},
   "source": [
    "책 46쪽까지의 내용"
   ]
  }
 ],
 "metadata": {
  "kernelspec": {
   "display_name": "Python 3.8.10 64-bit",
   "language": "python",
   "name": "python3"
  },
  "language_info": {
   "codemirror_mode": {
    "name": "ipython",
    "version": 3
   },
   "file_extension": ".py",
   "mimetype": "text/x-python",
   "name": "python",
   "nbconvert_exporter": "python",
   "pygments_lexer": "ipython3",
   "version": "3.8.10"
  },
  "orig_nbformat": 4,
  "vscode": {
   "interpreter": {
    "hash": "e7370f93d1d0cde622a1f8e1c04877d8463912d04d973331ad4851f04de6915a"
   }
  }
 },
 "nbformat": 4,
 "nbformat_minor": 2
}
