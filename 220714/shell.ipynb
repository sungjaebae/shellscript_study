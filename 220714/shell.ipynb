{
 "cells": [
  {
   "cell_type": "markdown",
   "metadata": {},
   "source": [
    "# 처음 배우는 셸 스크립트#3\n",
    "\n",
    "## 2부 : 가장 많이 쓰는 리눅스 명령어\n",
    "3장 문자열을 찾을 수 있는 grep  \n",
    "4장 파일을 찾을 수 있는 find  \n",
    "5장 특정 인덱스 문자열을 출력할 수 있는 awk  \n",
    "6장 찾은 문자열을 바꿀 수 있는 sed  \n",
    "7장 날짜와 시간을 알려주는 date  \n",
    "\n",
    "수많은 로그 파일에서 시스템에 문제가 되는 원인을 찾는 경우  \n",
    "소스 파일에서 특정 소스를 찾아 환경 설정을 수정할 경우  \n",
    "\n",
    "## 3장 문자열을 찾을 수 있는 grep\n",
    "특정 디렉터리나 파일에서 특정 문자열을 찾을 수 있는 명령어  \n",
    "입력한 패턴과 일치하는 라인이 있는지 검색하여 해당 라인을 출력한다.  \n",
    "\n",
    "### 3.1 grep 사용법\n",
    "grep 외에도 egrep, fgrep, rgrep 등이 있지만 이들은 현재 사용되지 않으며 grep의 옵션을 통해 해당 기능이 대체되었다. 여기서는 GNU 기반의 grep을 알아본다.  \n"
   ]
  },
  {
   "cell_type": "code",
   "execution_count": 19,
   "metadata": {
    "vscode": {
     "languageId": "shellscript"
    }
   },
   "outputs": [
    {
     "name": "stdout",
     "output_type": "stream",
     "text": [
      "## SCSI device names are not stable across reboots; please use the device UUID\n",
      "## UUID=\"94c5aade-8bb1-4d55-ad0c-388bb8aa716a\" /data1 ext4 defaults,noatime,_netdev 0 2\n"
     ]
    }
   ],
   "source": [
    "%%bash\n",
    "#!/bin/bash\n",
    "## 기본사용법 1 grep [옵션] 패턴 [파일]\n",
    "## 옵션 -i는 대소문자를 구분하지 않고 패턴을 검색하라는 의미\n",
    "\n",
    "grep -i 'uuid' /etc/fstab\n"
   ]
  },
  {
   "cell_type": "code",
   "execution_count": 20,
   "metadata": {
    "vscode": {
     "languageId": "shellscript"
    }
   },
   "outputs": [
    {
     "name": "stdout",
     "output_type": "stream",
     "text": [
      "[DEFAULT]\n",
      "[api]\n",
      "[barbican]\n",
      "[cache]\n",
      "[cells]\n",
      "[cinder]\n",
      "[cloudpipe]\n",
      "[conductor]\n",
      "[console]\n",
      "[consoleauth]\n",
      "[cors]\n",
      "[crypto]\n",
      "[database]\n",
      "[glance]\n",
      "[guestfs]\n",
      "[healthcheck]\n",
      "[hyperv]\n",
      "[ironic]\n",
      "[libvirt]\n",
      "virt_type=qemu\n",
      "[metrics]\n",
      "[mks]\n",
      "[neutron]\n",
      "[notifications]\n",
      "[pci]\n",
      "[placement]\n",
      "[quota]\n",
      "[rdp]\n",
      "[scheduler]\n",
      "[spice]\n",
      "[ssl]\n",
      "[vmware]\n",
      "[vnc]\n",
      "[workarounds]\n",
      "[wsgi]\n",
      "[xenserver]\n",
      "[xvp]\n"
     ]
    }
   ],
   "source": [
    "%%bash\n",
    "#!/bin/bash\n",
    "## 옵션 -e는 검색하고자 하는 패턴이 하나 이상일 경우 사용한다\n",
    "\n",
    "grep -i -e \"^[[[:alnum:]]*\\]\" -e \"^virt_type\" nova.conf\n"
   ]
  },
  {
   "cell_type": "code",
   "execution_count": 21,
   "metadata": {
    "vscode": {
     "languageId": "shellscript"
    }
   },
   "outputs": [
    {
     "name": "stdout",
     "output_type": "stream",
     "text": [
      "[DEFAULT]\n",
      "[api]\n",
      "[barbican]\n",
      "[cache]\n",
      "[cells]\n",
      "[cinder]\n",
      "[cloudpipe]\n",
      "[conductor]\n",
      "[console]\n",
      "[consoleauth]\n",
      "[cors]\n",
      "[crypto]\n",
      "[database]\n",
      "[glance]\n",
      "[guestfs]\n",
      "[healthcheck]\n",
      "[hyperv]\n",
      "[ironic]\n",
      "[libvirt]\n",
      "[metrics]\n",
      "[mks]\n",
      "[neutron]\n",
      "[notifications]\n",
      "[pci]\n",
      "[placement]\n",
      "[quota]\n",
      "[rdp]\n",
      "[scheduler]\n",
      "[spice]\n",
      "[ssl]\n",
      "[vmware]\n",
      "[vnc]\n",
      "[workarounds]\n",
      "[wsgi]\n",
      "[xenserver]\n",
      "[xvp]\n",
      "[DEFAULT]\n",
      "[api]\n",
      "[barbican]\n",
      "[cache]\n",
      "[cells]\n",
      "[cinder]\n",
      "[cloudpipe]\n",
      "[conductor]\n",
      "[console]\n",
      "[consoleauth]\n",
      "[cors]\n",
      "[crypto]\n",
      "[database]\n",
      "[glance]\n",
      "[guestfs]\n",
      "[healthcheck]\n",
      "[hyperv]\n",
      "[ironic]\n",
      "[libvirt]\n",
      "virt_type=qemu\n",
      "[metrics]\n",
      "[mks]\n",
      "[neutron]\n",
      "[notifications]\n",
      "[pci]\n",
      "[placement]\n",
      "[quota]\n",
      "[rdp]\n",
      "[scheduler]\n",
      "[spice]\n",
      "[ssl]\n",
      "[vmware]\n",
      "[vnc]\n",
      "[workarounds]\n",
      "[wsgi]\n",
      "[xenserver]\n",
      "[xvp]\n"
     ]
    }
   ],
   "source": [
    "%%bash\n",
    "#!/bin/bash\n",
    "## 기본사용법 2 패턴을 파일로부터 불러오기\n",
    "## 옵션 -f는 패턴이 저장된 파일을 이용하여 검색할 수 있게 한다\n",
    "## 복잡한 패턴은 파일로 저장하여 사용하면 다음 검색 시 다시 사용할 수 있어서 유용하다\n",
    "\n",
    "echo \"^\\[[[:alnum:]]*\\]\" > pattern1.txt\n",
    "grep -i -f pattern1.txt nova.conf\n",
    "\n",
    "echo \"^virt_type\" > pattern2.txt\n",
    "grep -i -f pattern1.txt -f pattern2.txt nova.conf"
   ]
  },
  {
   "cell_type": "code",
   "execution_count": 22,
   "metadata": {
    "vscode": {
     "languageId": "shellscript"
    }
   },
   "outputs": [
    {
     "name": "stdout",
     "output_type": "stream",
     "text": [
      "[DEFAULT]\n"
     ]
    }
   ],
   "source": [
    "%%bash\n",
    "#!/bin/bash\n",
    "## 기본사용법 3 파이프 기호와 함께 상용하기\n",
    "## 파이프 기호 앞의 명령어 결과가 grep의 검색 대상이 된다\n",
    "## 명령어 | grep [옵션] [패턴 | -e 패턴]\n",
    "\n",
    "cat nova.conf | grep -i '^\\[default' "
   ]
  },
  {
   "cell_type": "markdown",
   "metadata": {},
   "source": [
    "## 3.2 grep의 다양한 옵션들\n",
    "### 정보 관련 옵션\n",
    "|옵션|설명|\n",
    "|---|----|\n",
    "|--help|grep 명령어 사용법에 대한 도움말을 보여줌|\n",
    "|-V, --version|grep 명령어의 버전 정보 및 라이센스 정보를 보여줌|\n"
   ]
  },
  {
   "cell_type": "code",
   "execution_count": 23,
   "metadata": {
    "vscode": {
     "languageId": "shellscript"
    }
   },
   "outputs": [
    {
     "name": "stdout",
     "output_type": "stream",
     "text": [
      "Usage: grep [OPTION]... PATTERNS [FILE]...\n",
      "Search for PATTERNS in each FILE.\n",
      "Example: grep -i 'hello world' menu.h main.c\n",
      "PATTERNS can contain multiple patterns separated by newlines.\n",
      "\n",
      "Pattern selection and interpretation:\n",
      "  -E, --extended-regexp     PATTERNS are extended regular expressions\n",
      "  -F, --fixed-strings       PATTERNS are strings\n",
      "  -G, --basic-regexp        PATTERNS are basic regular expressions\n",
      "  -P, --perl-regexp         PATTERNS are Perl regular expressions\n",
      "  -e, --regexp=PATTERNS     use PATTERNS for matching\n",
      "  -f, --file=FILE           take PATTERNS from FILE\n",
      "  -i, --ignore-case         ignore case distinctions in patterns and data\n",
      "      --no-ignore-case      do not ignore case distinctions (default)\n",
      "  -w, --word-regexp         match only whole words\n",
      "  -x, --line-regexp         match only whole lines\n",
      "  -z, --null-data           a data line ends in 0 byte, not newline\n",
      "\n",
      "Miscellaneous:\n",
      "  -s, --no-messages         suppress error messages\n",
      "  -v, --invert-match        select non-matching lines\n",
      "  -V, --version             display version information and exit\n",
      "      --help                display this help text and exit\n",
      "\n",
      "Output control:\n",
      "  -m, --max-count=NUM       stop after NUM selected lines\n",
      "  -b, --byte-offset         print the byte offset with output lines\n",
      "  -n, --line-number         print line number with output lines\n",
      "      --line-buffered       flush output on every line\n",
      "  -H, --with-filename       print file name with output lines\n",
      "  -h, --no-filename         suppress the file name prefix on output\n",
      "      --label=LABEL         use LABEL as the standard input file name prefix\n",
      "  -o, --only-matching       show only nonempty parts of lines that match\n",
      "  -q, --quiet, --silent     suppress all normal output\n",
      "      --binary-files=TYPE   assume that binary files are TYPE;\n",
      "                            TYPE is 'binary', 'text', or 'without-match'\n",
      "  -a, --text                equivalent to --binary-files=text\n",
      "  -I                        equivalent to --binary-files=without-match\n",
      "  -d, --directories=ACTION  how to handle directories;\n",
      "                            ACTION is 'read', 'recurse', or 'skip'\n",
      "  -D, --devices=ACTION      how to handle devices, FIFOs and sockets;\n",
      "                            ACTION is 'read' or 'skip'\n",
      "  -r, --recursive           like --directories=recurse\n",
      "  -R, --dereference-recursive  likewise, but follow all symlinks\n",
      "      --include=GLOB        search only files that match GLOB (a file pattern)\n",
      "      --exclude=GLOB        skip files that match GLOB\n",
      "      --exclude-from=FILE   skip files that match any file pattern from FILE\n",
      "      --exclude-dir=GLOB    skip directories that match GLOB\n",
      "  -L, --files-without-match  print only names of FILEs with no selected lines\n",
      "  -l, --files-with-matches  print only names of FILEs with selected lines\n",
      "  -c, --count               print only a count of selected lines per FILE\n",
      "  -T, --initial-tab         make tabs line up (if needed)\n",
      "  -Z, --null                print 0 byte after FILE name\n",
      "\n",
      "Context control:\n",
      "  -B, --before-context=NUM  print NUM lines of leading context\n",
      "  -A, --after-context=NUM   print NUM lines of trailing context\n",
      "  -C, --context=NUM         print NUM lines of output context\n",
      "  -NUM                      same as --context=NUM\n",
      "      --color[=WHEN],\n",
      "      --colour[=WHEN]       use markers to highlight the matching strings;\n",
      "                            WHEN is 'always', 'never', or 'auto'\n",
      "  -U, --binary              do not strip CR characters at EOL (MSDOS/Windows)\n",
      "\n",
      "When FILE is '-', read standard input.  With no FILE, read '.' if\n",
      "recursive, '-' otherwise.  With fewer than two FILEs, assume -h.\n",
      "Exit status is 0 if any line (or file if -L) is selected, 1 otherwise;\n",
      "if any error occurs and -q is not given, the exit status is 2.\n",
      "\n",
      "Report bugs to: bug-grep@gnu.org\n",
      "GNU grep home page: <http://www.gnu.org/software/grep/>\n",
      "General help using GNU software: <https://www.gnu.org/gethelp/>\n",
      "grep (GNU grep) 3.4\n",
      "Copyright (C) 2020 Free Software Foundation, Inc.\n",
      "License GPLv3+: GNU GPL version 3 or later <https://gnu.org/licenses/gpl.html>.\n",
      "This is free software: you are free to change and redistribute it.\n",
      "There is NO WARRANTY, to the extent permitted by law.\n",
      "\n",
      "Written by Mike Haertel and others; see\n",
      "<https://git.sv.gnu.org/cgit/grep.git/tree/AUTHORS>.\n"
     ]
    }
   ],
   "source": [
    "%%bash\n",
    "#!/bin/bash\n",
    "\n",
    "grep --help\n",
    "grep -V\n",
    "## 자유 소프트웨어 재단이 관리하고, GRPv3, 마이크 헤럴이 만들었다"
   ]
  },
  {
   "cell_type": "markdown",
   "metadata": {},
   "source": [
    "### 패턴 문법 관련 옵션\n",
    "egrep은 -E가 대체했다\n",
    "fgrep은 -F가 대체했다\n",
    "\n",
    "|옵션|설명|\n",
    "|---|----|\n",
    "|-E, --extended-regexp|확장 정규 표현식에 해당하는 패턴을 검색할 경우 사용됨|\n",
    "|-F, --fixed-strings|여러 줄로 되어 있는 문자열을 검색할 경우 사용됨|\n",
    "|-G, --basic-regexp|기본 정규 표현식에 해당하는 패턴을 검색할 때 사용되는 옵션으로, 기본값임. 따라서 옵션을 생략하면 -G가 적용됨|\n",
    "|-P, --perl-regexp|Perl 방식의 정규 표현식에 해당하는 패턴을 검색할 때 사용되는 옵션 잘 사용 안함|\n"
   ]
  },
  {
   "cell_type": "code",
   "execution_count": 24,
   "metadata": {
    "vscode": {
     "languageId": "shellscript"
    }
   },
   "outputs": [
    {
     "name": "stdout",
     "output_type": "stream",
     "text": [
      "Do you have any questions? or Do you need any help?\n",
      "Do you have any questions? or Do you need any help?\n",
      "If you have any questions, Please send a mail to the email below.\n"
     ]
    }
   ],
   "source": [
    "%%bash\n",
    "#!/bin/bash\n",
    "## -E 옵션을 사용할 경우 ?가 잘 적용되어 검색된다.\n",
    "grep 'q[[:lower:]]*\\??' expression.txt\n",
    "grep -E 'q[[:lower:]]*\\??' expression.txt"
   ]
  },
  {
   "cell_type": "code",
   "execution_count": 25,
   "metadata": {
    "vscode": {
     "languageId": "shellscript"
    }
   },
   "outputs": [
    {
     "name": "stdout",
     "output_type": "stream",
     "text": [
      "# Date: 2020-05-05\n",
      "# Author: NaleeJang\n",
      "# Description: regular expression test file\n"
     ]
    }
   ],
   "source": [
    "%%bash\n",
    "#!/bin/bash\n",
    "## -F 옵션을 사용할 경우 여러줄에 해당하는 패턴을 검색할 수 있다\n",
    "grep -F '# Date\n",
    "# Author\n",
    "# Description' expression.txt"
   ]
  },
  {
   "cell_type": "code",
   "execution_count": 26,
   "metadata": {
    "vscode": {
     "languageId": "shellscript"
    }
   },
   "outputs": [
    {
     "name": "stdout",
     "output_type": "stream",
     "text": [
      "Do you have any questions? or Do you need any help?\n",
      "Do you have any questions? or Do you need any help?\n"
     ]
    }
   ],
   "source": [
    "%%bash\n",
    "#!/bin/bash\n",
    "## -G 옵션을 사용할 경우 생략한 것과 동일하다\n",
    "grep -G 'q[[:lower:]]*\\??' expression.txt\n",
    "grep 'q[[:lower:]]*\\??' expression.txt\n"
   ]
  },
  {
   "cell_type": "markdown",
   "metadata": {},
   "source": [
    "### 매칭 제어 관련 옵션\n",
    "대소문자 무시  \n",
    "매칭 제어 옵션은 패턴을 문자열과 매칭시킬 때 적용할 수 있다.  \n",
    "|옵션|설명|\n",
    "|---|----|\n",
    "|-e 패턴, --regexp=패턴|여러 개의 패턴을 검색할 때 사용되며 OR 조건과 같다|\n",
    "|-f 파일, --file=파일|-e 옵션과 동일하나 패턴 대신 파일로 검색할 때 사용된다|\n",
    "|-i, --ignore-case|패턴 검색 시 대소문자 구분을 무시한다|\n",
    "|-v, --invert-match|해당 패턴을 제외하고 검색할 경우 사용된다. 주석을 제거한 파일 내용만 볼 경우 주로 사용된다|\n",
    "|-w, --word-regexp|검색하고자 하는 단어가 정확하게 있는 라인만 검색할 경우 사용된다|\n",
    "|-x, --line-regexp|검색하고자 하는 패턴과 정확하게 일치하는 라인만 검색할 경우 사용된다|\n",
    "|-y|-i 옵션과 동일한 기능을 제공한다|\n"
   ]
  },
  {
   "cell_type": "code",
   "execution_count": 28,
   "metadata": {
    "vscode": {
     "languageId": "shellscript"
    }
   },
   "outputs": [
    {
     "name": "stdout",
     "output_type": "stream",
     "text": [
      "If you have any questions, Please send a mail to the email below.\n",
      "e-mail: nalee999@gmail.com\n",
      "phone: 010-2222-5668\n"
     ]
    }
   ],
   "source": [
    "%%bash\n",
    "#!/bin/bash\n",
    "## -e 옵션\n",
    "## 로그 파일에서 에러가 발생한 단서를 찾기 위해 ERROR나 WARNING이 포함된 로그를 찾을 때\n",
    "grep -e 'mail' --regexp='phone' expression.txt #=있어도 되고 없어도 되고\n"
   ]
  },
  {
   "cell_type": "code",
   "execution_count": 29,
   "metadata": {
    "vscode": {
     "languageId": "shellscript"
    }
   },
   "outputs": [
    {
     "name": "stdout",
     "output_type": "stream",
     "text": [
      "If you have any questions, Please send a mail to the email below.\n",
      "e-mail: nalee999@gmail.com\n",
      "phone: 010-2222-5668\n"
     ]
    }
   ],
   "source": [
    "%%bash\n",
    "#!/bin/bash\n",
    "## -f 옵션\n",
    "## 파일에 저장된 패턴을 사용할 때\n",
    "echo 'mail' > file1.txt\n",
    "echo 'phone' > file2.txt\n",
    "\n",
    "grep -f file1.txt --file=file2.txt expression.txt"
   ]
  },
  {
   "cell_type": "code",
   "execution_count": 30,
   "metadata": {
    "vscode": {
     "languageId": "shellscript"
    }
   },
   "outputs": [
    {
     "name": "stdout",
     "output_type": "stream",
     "text": [
      " Regular Expression\n",
      "# Description: regular expression test file\n",
      "This is an example file for testing regular expressions.\tThis example file includes control characters.\n"
     ]
    }
   ],
   "source": [
    "%%bash\n",
    "#!/bin/bash\n",
    "## -i 옵션\n",
    "## 대소문자를 구분하지 않을 때\n",
    "grep --ignore-case 'expression' expression.txt"
   ]
  },
  {
   "cell_type": "code",
   "execution_count": 31,
   "metadata": {
    "vscode": {
     "languageId": "shellscript"
    }
   },
   "outputs": [
    {
     "name": "stdout",
     "output_type": "stream",
     "text": [
      "====================\n",
      " Regular Expression\n",
      "====================\n",
      "  \n",
      "Today is 05-May-2020.\n",
      "Current time is 6:04PM.\n",
      "This is an example file for testing regular expressions.\tThis example file includes control characters.\n",
      "CPU model is Intel(R) Core(TM) i7-8665U CPU @ 1.90GHz\n",
      "Memory size is 32GiB\n",
      "Disk is 512 GB\n",
      "IP Address is 192.168.35.7\n",
      "Do you have any questions? or Do you need any help?\n",
      "If you have any questions, Please send a mail to the email below.\n",
      "e-mail: nalee999@gmail.com\n",
      "phone: 010-2222-5668\n"
     ]
    }
   ],
   "source": [
    "%%bash\n",
    "#!/bin/bash\n",
    "## -v 옵션\n",
    "## 패턴에 해당하는 라인을 제외한 나머지 모든 라인을 보여준다\n",
    "## 주석과 빈 줄 제거\n",
    "cat expression.txt | grep -v '^#' | grep --invert-match '^$'"
   ]
  },
  {
   "cell_type": "code",
   "execution_count": 32,
   "metadata": {
    "vscode": {
     "languageId": "shellscript"
    }
   },
   "outputs": [
    {
     "name": "stdout",
     "output_type": "stream",
     "text": [
      "# Description: regular expression test file\n",
      "This is an example file for testing regular expressions.\tThis example file includes control characters.\n",
      "# Description: regular expression test file\n"
     ]
    }
   ],
   "source": [
    "%%bash\n",
    "#!/bin/bash\n",
    "## -w 옵션\n",
    "## 검색하고자 하는 패턴과 완벽하게 일치하는 단어가 있는 라인만 출력할 경우\n",
    "grep 'expression' expression.txt   \n",
    "grep -w 'expression' expression.txt  #expressions는 제외되었다"
   ]
  },
  {
   "cell_type": "code",
   "execution_count": 33,
   "metadata": {
    "vscode": {
     "languageId": "shellscript"
    }
   },
   "outputs": [
    {
     "name": "stdout",
     "output_type": "stream",
     "text": [
      "# Help\n"
     ]
    }
   ],
   "source": [
    "%%bash\n",
    "#!/bin/bash\n",
    "## -x 옵션\n",
    "## 검색하고자 하는 패턴과 라인 전체가 완벽하게 일치할 때만 출력\n",
    "grep -x 'Help' expression.txt\n",
    "grep -x '# Help' expression.txt"
   ]
  },
  {
   "cell_type": "code",
   "execution_count": 15,
   "metadata": {
    "vscode": {
     "languageId": "shellscript"
    }
   },
   "outputs": [
    {
     "name": "stdout",
     "output_type": "stream",
     "text": [
      " Regular Expression\n",
      "# Description: regular expression test file\n",
      "This is an example file for testing regular expressions.\tThis example file includes control characters.\n",
      " Regular Expression\n",
      "# Description: regular expression test file\n",
      "This is an example file for testing regular expressions.\tThis example file includes control characters.\n"
     ]
    }
   ],
   "source": [
    "%%bash\n",
    "#!/bin/bash\n",
    "## -y 옵션\n",
    "## -i 와 동일하다\n",
    "grep -y 'expression' expression.txt\n",
    "grep -i 'expression' expression.txt"
   ]
  },
  {
   "cell_type": "markdown",
   "metadata": {},
   "source": [
    "### 출력 제어 관련 옵션\n",
    "패턴과 일치하는 단어의 개수를 세거나, 패턴이 포함된 파일명을 찾을 경우  \n",
    "|옵션|설명|\n",
    "|----|----|\n",
    "|-c, --count|패턴과 일치하는 단어의 개수|\n",
    "|--color|GERP_COLORS 환경변수에 의해 정의된 색에 맞게 보여준다|\n",
    "|-L, --files-without-match|검색 대상이 되는 파일 중 패턴과 일치하는 단어가 없는 파일명을 보여줌|\n",
    "|-l, --files-with-matches|검색 대상이 되는 파일 중 패턴과 일치하는 단어가 있는 파일명을 보여줌|\n",
    "|-m 라인 수, --max-count=라인 수|패턴과 일치하는 단어가 포함된 라인을 해당 라인 수만큼 보여줌|\n",
    "|-o, --only-matching|패턴과 일치하는 단어만 보여줌|\n",
    "|-q, --quiet, --silent|패턴과 일치하는 단어가 있든 없든 아무것도 안 보여줌|\n",
    "|-s, --no-messages|존재하지 않거나 읽을 수 없는 파일에 대한 오류 메시지를 안 보여줌|"
   ]
  },
  {
   "cell_type": "code",
   "execution_count": 35,
   "metadata": {
    "vscode": {
     "languageId": "shellscript"
    }
   },
   "outputs": [
    {
     "name": "stdout",
     "output_type": "stream",
     "text": [
      "2\n"
     ]
    }
   ],
   "source": [
    "%%bash\n",
    "#!/bin/bash\n",
    "## -c 옵션\n",
    "## 패턴과 일치하는 문자열의 개수\n",
    "grep -c 'expression' expression.txt"
   ]
  },
  {
   "cell_type": "code",
   "execution_count": 36,
   "metadata": {
    "vscode": {
     "languageId": "shellscript"
    }
   },
   "outputs": [
    {
     "name": "stdout",
     "output_type": "stream",
     "text": [
      "# Description: regular expression test file\n",
      "This is an example file for testing regular expressions.\tThis example file includes control characters.\n"
     ]
    }
   ],
   "source": [
    "%%bash\n",
    "#!/bin/bash\n",
    "## --color 옵션\n",
    "GREP_COLOR=\"1;32\" grep --color 'expression' expression.txt"
   ]
  },
  {
   "cell_type": "markdown",
   "metadata": {},
   "source": [
    "GERP_COLOR로 설정할 수 있는 값들\n",
    "GERP_COLOR=\"숫자1;숫자2\"  \n",
    "숫자1: 글자의 속성을 의미하는 숫자\n",
    "숫자2: 글자의 색을 의미하는 숫자로 이루어져 있다\n",
    "\n",
    "|숫자1|설명|\n",
    "|----|----|\n",
    "|0|아무런 속성을 가지지 않은 문자|\n",
    "|1|문자를 굷게 설정하여 보여주며, 기본값임|\n",
    "|2|채도를 어둡게 보여줌|\n",
    "|3|문자를 기울여 보여줌|\n",
    "|4|밑줄과 함꼐 보여줌|\n",
    "|5|문자가 반짝거리게 보여줌|\n",
    "|6|음영이 없는 문자를 보여줌|\n",
    "|7|음영이 있는 문자를 보여줌|\n",
    "|8|문자를 배경화면과 동일한 색으로 보여줌|\n",
    "|9|문자에 취소줄을 그어 보여줌|\n",
    "\n",
    "|숫자2|설명|\n",
    "|----|----|\n",
    "|31|빨강색 Red|\n",
    "|32|연두색 Yellowish Green|\n",
    "|33|노란색 Yellow|\n",
    "|34|연파란색 Light Blue|\n",
    "|35|연보라색 Light Purple|\n",
    "|36|하늘색 SkyBlue|\n",
    "|37|밝은 회색 Light Silver|\n",
    "|38|검정색 Black|"
   ]
  },
  {
   "cell_type": "code",
   "execution_count": 38,
   "metadata": {
    "vscode": {
     "languageId": "shellscript"
    }
   },
   "outputs": [
    {
     "name": "stderr",
     "output_type": "stream",
     "text": [
      "grep: ./file-dir: Is a directory\n"
     ]
    },
    {
     "name": "stdout",
     "output_type": "stream",
     "text": [
      "./file-dir\n",
      "./file1.txt\n",
      "./file2.txt\n",
      "./nova.conf\n",
      "./pattern1.txt\n",
      "./pattern2.txt\n",
      "./test-dir\n"
     ]
    },
    {
     "name": "stderr",
     "output_type": "stream",
     "text": [
      "grep: ./test-dir: Is a directory\n"
     ]
    },
    {
     "ename": "CalledProcessError",
     "evalue": "Command 'b\"#!/bin/bash\\n## -L \\xec\\x98\\xb5\\xec\\x85\\x98\\n## \\xed\\x8c\\xa8\\xed\\x84\\xb4\\xec\\x9d\\xb4 \\xec\\xa1\\xb4\\xec\\x9e\\xac\\xed\\x95\\x98\\xec\\xa7\\x80 \\xec\\x95\\x8a\\xec\\x9d\\x80 \\xed\\x8c\\x8c\\xec\\x9d\\xbc \\xeb\\xaa\\xa9\\xeb\\xa1\\x9d\\xec\\x9d\\x84 \\xec\\xa1\\xb0\\xed\\x9a\\x8c\\xed\\x95\\xa0 \\xeb\\x95\\x8c\\ngrep -L 'express' ./*\\n\"' returned non-zero exit status 2.",
     "output_type": "error",
     "traceback": [
      "\u001b[0;31m---------------------------------------------------------------------------\u001b[0m",
      "\u001b[0;31mCalledProcessError\u001b[0m                        Traceback (most recent call last)",
      "\u001b[1;32m/home/ubuntu/workspace/shellscript_study/220714/shell.ipynb 셀 24\u001b[0m in \u001b[0;36m<cell line: 1>\u001b[0;34m()\u001b[0m\n\u001b[0;32m----> <a href='vscode-notebook-cell://ssh-remote%2Boracle/home/ubuntu/workspace/shellscript_study/220714/shell.ipynb#ch0000023vscode-remote?line=0'>1</a>\u001b[0m get_ipython()\u001b[39m.\u001b[39;49mrun_cell_magic(\u001b[39m'\u001b[39;49m\u001b[39mbash\u001b[39;49m\u001b[39m'\u001b[39;49m, \u001b[39m'\u001b[39;49m\u001b[39m'\u001b[39;49m, \u001b[39m\"\u001b[39;49m\u001b[39m#!/bin/bash\u001b[39;49m\u001b[39m\\n\u001b[39;49;00m\u001b[39m## -L 옵션\u001b[39;49m\u001b[39m\\n\u001b[39;49;00m\u001b[39m## 패턴이 존재하지 않은 파일 목록을 조회할 때\u001b[39;49m\u001b[39m\\n\u001b[39;49;00m\u001b[39mgrep -L \u001b[39;49m\u001b[39m'\u001b[39;49m\u001b[39mexpress\u001b[39;49m\u001b[39m'\u001b[39;49m\u001b[39m ./*\u001b[39;49m\u001b[39m\\n\u001b[39;49;00m\u001b[39m\"\u001b[39;49m)\n",
      "File \u001b[0;32m~/.local/lib/python3.8/site-packages/IPython/core/interactiveshell.py:2358\u001b[0m, in \u001b[0;36mInteractiveShell.run_cell_magic\u001b[0;34m(self, magic_name, line, cell)\u001b[0m\n\u001b[1;32m   2356\u001b[0m \u001b[39mwith\u001b[39;00m \u001b[39mself\u001b[39m\u001b[39m.\u001b[39mbuiltin_trap:\n\u001b[1;32m   2357\u001b[0m     args \u001b[39m=\u001b[39m (magic_arg_s, cell)\n\u001b[0;32m-> 2358\u001b[0m     result \u001b[39m=\u001b[39m fn(\u001b[39m*\u001b[39;49margs, \u001b[39m*\u001b[39;49m\u001b[39m*\u001b[39;49mkwargs)\n\u001b[1;32m   2359\u001b[0m \u001b[39mreturn\u001b[39;00m result\n",
      "File \u001b[0;32m~/.local/lib/python3.8/site-packages/IPython/core/magics/script.py:153\u001b[0m, in \u001b[0;36mScriptMagics._make_script_magic.<locals>.named_script_magic\u001b[0;34m(line, cell)\u001b[0m\n\u001b[1;32m    151\u001b[0m \u001b[39melse\u001b[39;00m:\n\u001b[1;32m    152\u001b[0m     line \u001b[39m=\u001b[39m script\n\u001b[0;32m--> 153\u001b[0m \u001b[39mreturn\u001b[39;00m \u001b[39mself\u001b[39;49m\u001b[39m.\u001b[39;49mshebang(line, cell)\n",
      "File \u001b[0;32m~/.local/lib/python3.8/site-packages/IPython/core/magics/script.py:305\u001b[0m, in \u001b[0;36mScriptMagics.shebang\u001b[0;34m(self, line, cell)\u001b[0m\n\u001b[1;32m    300\u001b[0m \u001b[39mif\u001b[39;00m args\u001b[39m.\u001b[39mraise_error \u001b[39mand\u001b[39;00m p\u001b[39m.\u001b[39mreturncode \u001b[39m!=\u001b[39m \u001b[39m0\u001b[39m:\n\u001b[1;32m    301\u001b[0m     \u001b[39m# If we get here and p.returncode is still None, we must have\u001b[39;00m\n\u001b[1;32m    302\u001b[0m     \u001b[39m# killed it but not yet seen its return code. We don't wait for it,\u001b[39;00m\n\u001b[1;32m    303\u001b[0m     \u001b[39m# in case it's stuck in uninterruptible sleep. -9 = SIGKILL\u001b[39;00m\n\u001b[1;32m    304\u001b[0m     rc \u001b[39m=\u001b[39m p\u001b[39m.\u001b[39mreturncode \u001b[39mor\u001b[39;00m \u001b[39m-\u001b[39m\u001b[39m9\u001b[39m\n\u001b[0;32m--> 305\u001b[0m     \u001b[39mraise\u001b[39;00m CalledProcessError(rc, cell)\n",
      "\u001b[0;31mCalledProcessError\u001b[0m: Command 'b\"#!/bin/bash\\n## -L \\xec\\x98\\xb5\\xec\\x85\\x98\\n## \\xed\\x8c\\xa8\\xed\\x84\\xb4\\xec\\x9d\\xb4 \\xec\\xa1\\xb4\\xec\\x9e\\xac\\xed\\x95\\x98\\xec\\xa7\\x80 \\xec\\x95\\x8a\\xec\\x9d\\x80 \\xed\\x8c\\x8c\\xec\\x9d\\xbc \\xeb\\xaa\\xa9\\xeb\\xa1\\x9d\\xec\\x9d\\x84 \\xec\\xa1\\xb0\\xed\\x9a\\x8c\\xed\\x95\\xa0 \\xeb\\x95\\x8c\\ngrep -L 'express' ./*\\n\"' returned non-zero exit status 2."
     ]
    }
   ],
   "source": [
    "%%bash\n",
    "#!/bin/bash\n",
    "## -L 옵션\n",
    "## 패턴이 존재하지 않은 파일 목록을 조회할 때\n",
    "grep -L 'express' ./*"
   ]
  },
  {
   "cell_type": "code",
   "execution_count": 39,
   "metadata": {
    "vscode": {
     "languageId": "shellscript"
    }
   },
   "outputs": [
    {
     "name": "stdout",
     "output_type": "stream",
     "text": [
      "./expression.txt\n"
     ]
    },
    {
     "name": "stderr",
     "output_type": "stream",
     "text": [
      "grep: ./file-dir: Is a directory\n"
     ]
    },
    {
     "name": "stdout",
     "output_type": "stream",
     "text": [
      "./grep_binary_test\n",
      "./shell.ipynb\n",
      "./test.txt\n"
     ]
    },
    {
     "name": "stderr",
     "output_type": "stream",
     "text": [
      "grep: ./test-dir: Is a directory\n"
     ]
    },
    {
     "ename": "CalledProcessError",
     "evalue": "Command 'b\"#!/bin/bash\\n## -l \\xec\\x98\\xb5\\xec\\x85\\x98\\n## \\xed\\x8c\\xa8\\xed\\x84\\xb4\\xec\\x9d\\xb4 \\xec\\xa1\\xb4\\xec\\x9e\\xac\\xed\\x95\\x98\\xeb\\x8a\\x94 \\xed\\x8c\\x8c\\xec\\x9d\\xbc \\xeb\\xaa\\xa9\\xeb\\xa1\\x9d\\xec\\x9d\\x84 \\xec\\xa1\\xb0\\xed\\x9a\\x8c\\xed\\x95\\xa0 \\xeb\\x95\\x8c\\n\\ngrep -l 'express' ./*\\n\"' returned non-zero exit status 2.",
     "output_type": "error",
     "traceback": [
      "\u001b[0;31m---------------------------------------------------------------------------\u001b[0m",
      "\u001b[0;31mCalledProcessError\u001b[0m                        Traceback (most recent call last)",
      "\u001b[1;32m/home/ubuntu/workspace/shellscript_study/220714/shell.ipynb 셀 25\u001b[0m in \u001b[0;36m<cell line: 1>\u001b[0;34m()\u001b[0m\n\u001b[0;32m----> <a href='vscode-notebook-cell://ssh-remote%2Boracle/home/ubuntu/workspace/shellscript_study/220714/shell.ipynb#ch0000024vscode-remote?line=0'>1</a>\u001b[0m get_ipython()\u001b[39m.\u001b[39;49mrun_cell_magic(\u001b[39m'\u001b[39;49m\u001b[39mbash\u001b[39;49m\u001b[39m'\u001b[39;49m, \u001b[39m'\u001b[39;49m\u001b[39m'\u001b[39;49m, \u001b[39m\"\u001b[39;49m\u001b[39m#!/bin/bash\u001b[39;49m\u001b[39m\\n\u001b[39;49;00m\u001b[39m## -l 옵션\u001b[39;49m\u001b[39m\\n\u001b[39;49;00m\u001b[39m## 패턴이 존재하는 파일 목록을 조회할 때\u001b[39;49m\u001b[39m\\n\u001b[39;49;00m\u001b[39m\\n\u001b[39;49;00m\u001b[39mgrep -l \u001b[39;49m\u001b[39m'\u001b[39;49m\u001b[39mexpress\u001b[39;49m\u001b[39m'\u001b[39;49m\u001b[39m ./*\u001b[39;49m\u001b[39m\\n\u001b[39;49;00m\u001b[39m\"\u001b[39;49m)\n",
      "File \u001b[0;32m~/.local/lib/python3.8/site-packages/IPython/core/interactiveshell.py:2358\u001b[0m, in \u001b[0;36mInteractiveShell.run_cell_magic\u001b[0;34m(self, magic_name, line, cell)\u001b[0m\n\u001b[1;32m   2356\u001b[0m \u001b[39mwith\u001b[39;00m \u001b[39mself\u001b[39m\u001b[39m.\u001b[39mbuiltin_trap:\n\u001b[1;32m   2357\u001b[0m     args \u001b[39m=\u001b[39m (magic_arg_s, cell)\n\u001b[0;32m-> 2358\u001b[0m     result \u001b[39m=\u001b[39m fn(\u001b[39m*\u001b[39;49margs, \u001b[39m*\u001b[39;49m\u001b[39m*\u001b[39;49mkwargs)\n\u001b[1;32m   2359\u001b[0m \u001b[39mreturn\u001b[39;00m result\n",
      "File \u001b[0;32m~/.local/lib/python3.8/site-packages/IPython/core/magics/script.py:153\u001b[0m, in \u001b[0;36mScriptMagics._make_script_magic.<locals>.named_script_magic\u001b[0;34m(line, cell)\u001b[0m\n\u001b[1;32m    151\u001b[0m \u001b[39melse\u001b[39;00m:\n\u001b[1;32m    152\u001b[0m     line \u001b[39m=\u001b[39m script\n\u001b[0;32m--> 153\u001b[0m \u001b[39mreturn\u001b[39;00m \u001b[39mself\u001b[39;49m\u001b[39m.\u001b[39;49mshebang(line, cell)\n",
      "File \u001b[0;32m~/.local/lib/python3.8/site-packages/IPython/core/magics/script.py:305\u001b[0m, in \u001b[0;36mScriptMagics.shebang\u001b[0;34m(self, line, cell)\u001b[0m\n\u001b[1;32m    300\u001b[0m \u001b[39mif\u001b[39;00m args\u001b[39m.\u001b[39mraise_error \u001b[39mand\u001b[39;00m p\u001b[39m.\u001b[39mreturncode \u001b[39m!=\u001b[39m \u001b[39m0\u001b[39m:\n\u001b[1;32m    301\u001b[0m     \u001b[39m# If we get here and p.returncode is still None, we must have\u001b[39;00m\n\u001b[1;32m    302\u001b[0m     \u001b[39m# killed it but not yet seen its return code. We don't wait for it,\u001b[39;00m\n\u001b[1;32m    303\u001b[0m     \u001b[39m# in case it's stuck in uninterruptible sleep. -9 = SIGKILL\u001b[39;00m\n\u001b[1;32m    304\u001b[0m     rc \u001b[39m=\u001b[39m p\u001b[39m.\u001b[39mreturncode \u001b[39mor\u001b[39;00m \u001b[39m-\u001b[39m\u001b[39m9\u001b[39m\n\u001b[0;32m--> 305\u001b[0m     \u001b[39mraise\u001b[39;00m CalledProcessError(rc, cell)\n",
      "\u001b[0;31mCalledProcessError\u001b[0m: Command 'b\"#!/bin/bash\\n## -l \\xec\\x98\\xb5\\xec\\x85\\x98\\n## \\xed\\x8c\\xa8\\xed\\x84\\xb4\\xec\\x9d\\xb4 \\xec\\xa1\\xb4\\xec\\x9e\\xac\\xed\\x95\\x98\\xeb\\x8a\\x94 \\xed\\x8c\\x8c\\xec\\x9d\\xbc \\xeb\\xaa\\xa9\\xeb\\xa1\\x9d\\xec\\x9d\\x84 \\xec\\xa1\\xb0\\xed\\x9a\\x8c\\xed\\x95\\xa0 \\xeb\\x95\\x8c\\n\\ngrep -l 'express' ./*\\n\"' returned non-zero exit status 2."
     ]
    }
   ],
   "source": [
    "%%bash\n",
    "#!/bin/bash\n",
    "## -l 옵션\n",
    "## 패턴이 존재하는 파일 목록을 조회할 때\n",
    "\n",
    "grep -l 'express' ./*"
   ]
  },
  {
   "cell_type": "code",
   "execution_count": 41,
   "metadata": {
    "vscode": {
     "languageId": "shellscript"
    }
   },
   "outputs": [
    {
     "name": "stdout",
     "output_type": "stream",
     "text": [
      "[api]\n",
      "[barbican]\n",
      "[cache]\n",
      "[cells]\n",
      "[cinder]\n"
     ]
    }
   ],
   "source": [
    "%%bash\n",
    "#!/bin/bash\n",
    "## -m 옵션\n",
    "## -m에 전달한 라인수만큼만 출력\n",
    "\n",
    "grep -m 5 \"^\\[[[:lower:]]*\\]\" nova.conf"
   ]
  },
  {
   "cell_type": "code",
   "execution_count": 44,
   "metadata": {
    "vscode": {
     "languageId": "shellscript"
    }
   },
   "outputs": [
    {
     "name": "stdout",
     "output_type": "stream",
     "text": [
      "expression\n",
      "expressions\n"
     ]
    }
   ],
   "source": [
    "%%bash\n",
    "#!/bin/bash\n",
    "## -o 옵션\n",
    "## 패턴과 일치하는 단어만 출력\n",
    "\n",
    "grep -o 'express[[:lower:]]*' expression.txt"
   ]
  },
  {
   "cell_type": "code",
   "execution_count": 45,
   "metadata": {
    "vscode": {
     "languageId": "shellscript"
    }
   },
   "outputs": [],
   "source": [
    "%%bash\n",
    "#!/bin/bash\n",
    "## -q 옵션\n",
    "## 검색 결과를 보여주지 않는다\n",
    "grep -q 'help' expression.txt"
   ]
  },
  {
   "cell_type": "code",
   "execution_count": 2,
   "metadata": {
    "vscode": {
     "languageId": "shellscript"
    }
   },
   "outputs": [
    {
     "name": "stdout",
     "output_type": "stream",
     "text": [
      "Do you have any questions? or Do you need any help?\n"
     ]
    }
   ],
   "source": [
    "%%bash\n",
    "#!/bin/bash\n",
    "## -s 에러 메시지를 보여주지 않음\n",
    "## 이 경우 셸 스크립트에서 결과를 변수로 저장해 처리할 경우 유용\n",
    "\n",
    "grep -s 'help' express.txt"
   ]
  },
  {
   "cell_type": "markdown",
   "metadata": {},
   "source": [
    "### 출력라인 제어 관련 옵션\n",
    "출력라인 앞에 바이트 수를 보여준다던가 라인 수 또는 파일명을 보여주는 등의 기능을 한다.  \n",
    "|옵션|설명|\n",
    "|----|---|\n",
    "|-b, --byte-offset|패턴이 포함된 출력라인의 바이트 수를 라인의 제일 앞부분에 함께 보여줌|\n",
    "|-H, --with-filename| 패턴이 포함된 출력라인의 파일명을 라인의 제일 앞부분에 함께 보여줌|\n",
    "|-h, --no-filename| -H옵션과 반대로 패턴이 포함된 출력라인의 파일명을 보여주지 않음|\n",
    "|--label=LABEL|파일 목록에서 특정 파일을 검색할 경우 검색라인 제일 앞부분에 라벨을 함께 보여줌. -H와 함께 사용해야함|\n",
    "|-n, --line-number|패턴이 포함된 출력라인 제일 앞부분에 라인 번호를 함께 보여줌|\n",
    "|-T, --initial-tab|라인 번호나 파일명이 함께 출력될 경우 탭과 함께 간격을 조정하여 보여줌|\n",
    "|-u, --unix-byte-offsets|패턴이 포함된 출력라인의 바이트 수를 유닉스 스타일로 보여줌 -b와 함께 사용해야 함|\n",
    "|-Z, --null|패턴이 포함된 파일명을 출력시 뉴라인 없이 한 줄로 보여줌. -l과 함께 사용해야 함|"
   ]
  },
  {
   "cell_type": "code",
   "execution_count": 46,
   "metadata": {
    "vscode": {
     "languageId": "shellscript"
    }
   },
   "outputs": [
    {
     "name": "stdout",
     "output_type": "stream",
     "text": [
      "150:# Description: regular expression test file\n",
      "288:This is an example file for testing regular expressions.\tThis example file includes control characters.\n"
     ]
    }
   ],
   "source": [
    "%%bash\n",
    "#!/bin/bash\n",
    "## -b 옵션\n",
    "## 라인의 바이트 수를 제일 앞에 보여준다\n",
    "\n",
    "grep -b 'express' expression.txt"
   ]
  },
  {
   "cell_type": "code",
   "execution_count": 47,
   "metadata": {
    "vscode": {
     "languageId": "shellscript"
    }
   },
   "outputs": [
    {
     "name": "stdout",
     "output_type": "stream",
     "text": [
      "expression.txt:# Description: regular expression test file\n",
      "expression.txt:This is an example file for testing regular expressions.\tThis example file includes control characters.\n"
     ]
    }
   ],
   "source": [
    "%%bash\n",
    "#!/bin/bash\n",
    "## -H 옵션\n",
    "## 단일 파일에 대해서도 파일명을 각 라인 앞에 보여준다\n",
    "\n",
    "grep -H 'express' expression.txt"
   ]
  },
  {
   "cell_type": "code",
   "execution_count": 49,
   "metadata": {
    "vscode": {
     "languageId": "shellscript"
    }
   },
   "outputs": [
    {
     "name": "stdout",
     "output_type": "stream",
     "text": [
      "# Description: regular expression test file\n",
      "This is an example file for testing regular expressions.\tThis example file includes control characters.\n"
     ]
    },
    {
     "name": "stderr",
     "output_type": "stream",
     "text": [
      "grep: ./file-dir: Is a directory\n"
     ]
    },
    {
     "name": "stdout",
     "output_type": "stream",
     "text": [
      "Binary file ./grep_binary_test matches\n",
      "      \"  -E, --extended-regexp     PATTERNS are extended regular expressions\\n\",\n",
      "      \"  -G, --basic-regexp        PATTERNS are basic regular expressions\\n\",\n",
      "      \"  -P, --perl-regexp         PATTERNS are Perl regular expressions\\n\",\n",
      "    \"grep 'q[[:lower:]]*\\\\??' expression.txt\\n\",\n",
      "    \"grep -E 'q[[:lower:]]*\\\\??' expression.txt\"\n",
      "      \"# Description: regular expression test file\\n\"\n",
      "    \"# Description' expression.txt\"\n",
      "    \"grep -G 'q[[:lower:]]*\\\\??' expression.txt\\n\",\n",
      "    \"grep 'q[[:lower:]]*\\\\??' expression.txt\\n\"\n",
      "    \"grep -e 'mail' --regexp='phone' expression.txt #=있어도 되고 없어도 되고\\n\"\n",
      "    \"grep -f file1.txt --file=file2.txt expression.txt\"\n",
      "      \"# Description: regular expression test file\\n\",\n",
      "      \"This is an example file for testing regular expressions.\\tThis example file includes control characters.\\n\"\n",
      "    \"grep --ignore-case 'expression' expression.txt\"\n",
      "      \"This is an example file for testing regular expressions.\\tThis example file includes control characters.\\n\",\n",
      "    \"cat expression.txt | grep -v '^#' | grep --invert-match '^$'\"\n",
      "      \"# Description: regular expression test file\\n\",\n",
      "      \"This is an example file for testing regular expressions.\\tThis example file includes control characters.\\n\",\n",
      "      \"# Description: regular expression test file\\n\"\n",
      "    \"grep 'expression' expression.txt   \\n\",\n",
      "    \"grep -w 'expression' expression.txt  #expressions는 제외되었다\"\n",
      "    \"grep -x 'Help' expression.txt\\n\",\n",
      "    \"grep -x '# Help' expression.txt\"\n",
      "      \"# Description: regular expression test file\\n\",\n",
      "      \"This is an example file for testing regular expressions.\\tThis example file includes control characters.\\n\",\n",
      "      \"# Description: regular expression test file\\n\",\n",
      "      \"This is an example file for testing regular expressions.\\tThis example file includes control characters.\\n\"\n",
      "    \"grep -y 'expression' expression.txt\\n\",\n",
      "    \"grep -i 'expression' expression.txt\"\n",
      "    \"grep -c 'expression' expression.txt\"\n",
      "      \"# Description: regular expression test file\\n\",\n",
      "      \"This is an example file for testing regular expressions.\\tThis example file includes control characters.\\n\"\n",
      "    \"GREP_COLOR=\\\"1;32\\\" grep --color 'expression' expression.txt\"\n",
      "    \"grep -L 'express' ./*\"\n",
      "      \"./expression.txt\\n\"\n",
      "    \"grep -l 'express' ./*\"\n",
      "      \"expression\\n\",\n",
      "      \"expressions\\n\"\n",
      "    \"grep -o 'express[[:lower:]]*' expression.txt\"\n",
      "    \"grep -q 'help' expression.txt\"\n",
      "     \"evalue\": \"Command 'b\\\"#!/bin/bash\\\\n## -s \\\\xec\\\\x97\\\\x90\\\\xeb\\\\x9f\\\\xac \\\\xeb\\\\xa9\\\\x94\\\\xec\\\\x8b\\\\x9c\\\\xec\\\\xa7\\\\x80\\\\xeb\\\\xa5\\\\xbc \\\\xeb\\\\xb3\\\\xb4\\\\xec\\\\x97\\\\xac\\\\xec\\\\xa3\\\\xbc\\\\xec\\\\xa7\\\\x80 \\\\xec\\\\x95\\\\x8a\\\\xec\\\\x9d\\\\x8c\\\\n## \\\\xec\\\\x9d\\\\xb4 \\\\xea\\\\xb2\\\\xbd\\\\xec\\\\x9a\\\\xb0 \\\\xec\\\\x85\\\\xb8 \\\\xec\\\\x8a\\\\xa4\\\\xed\\\\x81\\\\xac\\\\xeb\\\\xa6\\\\xbd\\\\xed\\\\x8a\\\\xb8\\\\xec\\\\x97\\\\x90\\\\xec\\\\x84\\\\x9c \\\\xea\\\\xb2\\\\xb0\\\\xea\\\\xb3\\\\xbc\\\\xeb\\\\xa5\\\\xbc \\\\xeb\\\\xb3\\\\x80\\\\xec\\\\x88\\\\x98\\\\xeb\\\\xa1\\\\x9c \\\\xec\\\\xa0\\\\x80\\\\xec\\\\x9e\\\\xa5\\\\xed\\\\x95\\\\xb4 \\\\xec\\\\xb2\\\\x98\\\\xeb\\\\xa6\\\\xac\\\\xed\\\\x95\\\\xa0 \\\\xea\\\\xb2\\\\xbd\\\\xec\\\\x9a\\\\xb0 \\\\xec\\\\x9c\\\\xa0\\\\xec\\\\x9a\\\\xa9\\\\n\\\\ngrep -s 'help' express.txt\\\\n\\\"' returned non-zero exit status 2.\",\n",
      "      \"\\u001b[1;32m/home/ubuntu/workspace/shellscript_study/220714/shell.ipynb 셀 29\\u001b[0m in \\u001b[0;36m<cell line: 1>\\u001b[0;34m()\\u001b[0m\\n\\u001b[0;32m----> <a href='vscode-notebook-cell://ssh-remote%2Boracle/home/ubuntu/workspace/shellscript_study/220714/shell.ipynb#ch0000031vscode-remote?line=0'>1</a>\\u001b[0m get_ipython()\\u001b[39m.\\u001b[39;49mrun_cell_magic(\\u001b[39m'\\u001b[39;49m\\u001b[39mbash\\u001b[39;49m\\u001b[39m'\\u001b[39;49m, \\u001b[39m'\\u001b[39;49m\\u001b[39m'\\u001b[39;49m, \\u001b[39m\\\"\\u001b[39;49m\\u001b[39m#!/bin/bash\\u001b[39;49m\\u001b[39m\\\\n\\u001b[39;49;00m\\u001b[39m## -s 에러 메시지를 보여주지 않음\\u001b[39;49m\\u001b[39m\\\\n\\u001b[39;49;00m\\u001b[39m## 이 경우 셸 스크립트에서 결과를 변수로 저장해 처리할 경우 유용\\u001b[39;49m\\u001b[39m\\\\n\\u001b[39;49;00m\\u001b[39m\\\\n\\u001b[39;49;00m\\u001b[39mgrep -s \\u001b[39;49m\\u001b[39m'\\u001b[39;49m\\u001b[39mhelp\\u001b[39;49m\\u001b[39m'\\u001b[39;49m\\u001b[39m express.txt\\u001b[39;49m\\u001b[39m\\\\n\\u001b[39;49;00m\\u001b[39m\\\"\\u001b[39;49m)\\n\",\n",
      "      \"\\u001b[0;31mCalledProcessError\\u001b[0m: Command 'b\\\"#!/bin/bash\\\\n## -s \\\\xec\\\\x97\\\\x90\\\\xeb\\\\x9f\\\\xac \\\\xeb\\\\xa9\\\\x94\\\\xec\\\\x8b\\\\x9c\\\\xec\\\\xa7\\\\x80\\\\xeb\\\\xa5\\\\xbc \\\\xeb\\\\xb3\\\\xb4\\\\xec\\\\x97\\\\xac\\\\xec\\\\xa3\\\\xbc\\\\xec\\\\xa7\\\\x80 \\\\xec\\\\x95\\\\x8a\\\\xec\\\\x9d\\\\x8c\\\\n## \\\\xec\\\\x9d\\\\xb4 \\\\xea\\\\xb2\\\\xbd\\\\xec\\\\x9a\\\\xb0 \\\\xec\\\\x85\\\\xb8 \\\\xec\\\\x8a\\\\xa4\\\\xed\\\\x81\\\\xac\\\\xeb\\\\xa6\\\\xbd\\\\xed\\\\x8a\\\\xb8\\\\xec\\\\x97\\\\x90\\\\xec\\\\x84\\\\x9c \\\\xea\\\\xb2\\\\xb0\\\\xea\\\\xb3\\\\xbc\\\\xeb\\\\xa5\\\\xbc \\\\xeb\\\\xb3\\\\x80\\\\xec\\\\x88\\\\x98\\\\xeb\\\\xa1\\\\x9c \\\\xec\\\\xa0\\\\x80\\\\xec\\\\x9e\\\\xa5\\\\xed\\\\x95\\\\xb4 \\\\xec\\\\xb2\\\\x98\\\\xeb\\\\xa6\\\\xac\\\\xed\\\\x95\\\\xa0 \\\\xea\\\\xb2\\\\xbd\\\\xec\\\\x9a\\\\xb0 \\\\xec\\\\x9c\\\\xa0\\\\xec\\\\x9a\\\\xa9\\\\n\\\\ngrep -s 'help' express.txt\\\\n\\\"' returned non-zero exit status 2.\"\n",
      "    \"grep -s 'help' express.txt\"\n",
      "      \"150:# Description: regular expression test file\\n\",\n",
      "      \"288:This is an example file for testing regular expressions.\\tThis example file includes control characters.\\n\"\n",
      "    \"grep -b 'express' expression.txt\"\n",
      "      \"./expression.txt:# Description: regular expression test file\\n\",\n",
      "      \"./expression.txt:This is an example file for testing regular expressions.\\tThis example file includes control characters.\\n\"\n",
      "    \"grep -H 'express' expression.txt\"\n",
      "      \"# Description: regular expression test file\\n\",\n",
      "      \"This is an example file for testing regular expressions.\\tThis example file includes control characters.\\n\"\n",
      "    \"grep -h 'express' ./*\"\n",
      "      \"file:-rw-rw-r-- 1 ubuntu ubuntu  717 Jul 14 04:17 expression.txt\\n\"\n",
      "    \"ls -l | grep --label=file -H 'express'\"\n",
      "    \"grep -n 'question' expression.txt\"\n",
      "    \"grep -T -n 'question' expression.txt\"\n",
      "    \"grep -u -b 'question' expression.txt\\n\",\n",
      "    \"grep -b 'question' expression.txt\\n\"\n",
      "      \"./expression.txt\\u0000./test.txt\\u0000\"\n",
      "    \"cp expression.txt test.txt\\n\",\n",
      "    \"grep -Z -l 'express' ./*\"\n",
      "    \"grep -A 2 'question' expression.txt\"\n",
      "    \"grep -B 2 'question' expression.txt\"\n",
      "    \"grep -C 2 'question' expression.txt\"\n",
      "      \"# Description: regular expression test file\\n\",\n",
      "      \"This is an example file for testing regular expressions.\\tThis example file includes control characters.\\n\",\n",
      "    \"grep -A 1 --group-separator='=======' '# [[:alpha:]]' expression.txt\"\n",
      "      \"# Description: regular expression test file\\n\",\n",
      "      \"# Description: regular expression test file\\n\",\n",
      "    \"grep -A 1 '# [[:alpha:]]' expression.txt\\n\",\n",
      "    \"grep -A 1 --no-group-separator '# [[:alpha:]]' expression.txt\"\n",
      "      \"./expression.txt:CPU model is Intel(R) Core(TM) i7-8665U CPU @ 1.90GHz\\n\",\n",
      "      \"./expression.txt:CPU model is Intel(R) Core(TM) i7-8665U CPU @ 1.90GHz\\n\",\n",
      "      \"expression.txt\\n\",\n",
      "    \"grep -d skip --exclude=express* 'CPU' ./*\"\n",
      "      \"./expression.txt:If you have any questions, Please send a mail to the email below.\\n\",\n",
      "      \"./expression.txt:e-mail: nalee999@gmail.com\\n\",\n",
      "      \"./expression.txt:If you have any questions, Please send a mail to the email below.\\n\",\n",
      "      \"./expression.txt:e-mail: nalee999@gmail.com\\n\",\n",
      "      \"./expression.txt:CPU model is Intel(R) Core(TM) i7-8665U CPU @ 1.90GHz\\n\"\n",
      "    \"grep -d skip --include=express* 'CPU' ./*\"\n",
      "      \"./expression.txt:CPU model is Intel(R) Core(TM) i7-8665U CPU @ 1.90GHz\\n\"\n",
      "    \"grep -r --include=expression* 'CPU' ./*\"\n",
      "      \"ln: failed to create symbolic link 'expression.txt': File exists\\n\"\n",
      "      \"lrwxrwxrwx 1 ubuntu ubuntu 17 Jul 14 07:13 expression.txt -> ../expression.txt\\n\",\n",
      "      \"./expression.txt:CPU model is Intel(R) Core(TM) i7-8665U CPU @ 1.90GHz\\n\",\n",
      "      \"./expression.txt:CPU model is Intel(R) Core(TM) i7-8665U CPU @ 1.90GHz\\n\",\n",
      "      \"./file-dir/expression.txt:CPU model is Intel(R) Core(TM) i7-8665U CPU @ 1.90GHz\\n\",\n",
      "    \"ln -s ../expression.txt expression.txt\\n\",\n",
      "    \"ls -l expression.txt\\n\",\n",
      "    \"grep -U 'CPU' expression.txt\"\n",
      "      \"# Description: regular expression test file\\n\",\n",
      "      \"This is an example file for testing regular expressions.\\tThis example file includes control characters.\\n\",\n",
      "    \"grep -z 'CPU' expression.txt\"\n",
      "# Description: regular expression test file\n",
      "This is an example file for testing regular expressions.\tThis example file includes control characters.\n"
     ]
    },
    {
     "name": "stderr",
     "output_type": "stream",
     "text": [
      "grep: ./test-dir: Is a directory\n"
     ]
    },
    {
     "ename": "CalledProcessError",
     "evalue": "Command 'b\"#!/bin/bash\\n## -h \\xec\\x98\\xb5\\xec\\x85\\x98\\n## \\xeb\\xb3\\xb5\\xec\\x88\\x98 \\xed\\x8c\\x8c\\xec\\x9d\\xbc\\xec\\x97\\x90 \\xeb\\x8c\\x80\\xed\\x95\\xb4\\xec\\x84\\x9c\\xeb\\x8f\\x84 \\xed\\x8c\\x8c\\xec\\x9d\\xbc\\xeb\\xaa\\x85\\xec\\x9d\\x84 \\xeb\\xb3\\xb4\\xec\\x97\\xac\\xec\\xa3\\xbc\\xec\\xa7\\x80 \\xec\\x95\\x8a\\xeb\\x8a\\x94\\xeb\\x8b\\xa4.\\n\\ngrep -h 'express' ./*\\n\"' returned non-zero exit status 2.",
     "output_type": "error",
     "traceback": [
      "\u001b[0;31m---------------------------------------------------------------------------\u001b[0m",
      "\u001b[0;31mCalledProcessError\u001b[0m                        Traceback (most recent call last)",
      "\u001b[1;32m/home/ubuntu/workspace/shellscript_study/220714/shell.ipynb 셀 33\u001b[0m in \u001b[0;36m<cell line: 1>\u001b[0;34m()\u001b[0m\n\u001b[0;32m----> <a href='vscode-notebook-cell://ssh-remote%2Boracle/home/ubuntu/workspace/shellscript_study/220714/shell.ipynb#ch0000032vscode-remote?line=0'>1</a>\u001b[0m get_ipython()\u001b[39m.\u001b[39;49mrun_cell_magic(\u001b[39m'\u001b[39;49m\u001b[39mbash\u001b[39;49m\u001b[39m'\u001b[39;49m, \u001b[39m'\u001b[39;49m\u001b[39m'\u001b[39;49m, \u001b[39m\"\u001b[39;49m\u001b[39m#!/bin/bash\u001b[39;49m\u001b[39m\\n\u001b[39;49;00m\u001b[39m## -h 옵션\u001b[39;49m\u001b[39m\\n\u001b[39;49;00m\u001b[39m## 복수 파일에 대해서도 파일명을 보여주지 않는다.\u001b[39;49m\u001b[39m\\n\u001b[39;49;00m\u001b[39m\\n\u001b[39;49;00m\u001b[39mgrep -h \u001b[39;49m\u001b[39m'\u001b[39;49m\u001b[39mexpress\u001b[39;49m\u001b[39m'\u001b[39;49m\u001b[39m ./*\u001b[39;49m\u001b[39m\\n\u001b[39;49;00m\u001b[39m\"\u001b[39;49m)\n",
      "File \u001b[0;32m~/.local/lib/python3.8/site-packages/IPython/core/interactiveshell.py:2358\u001b[0m, in \u001b[0;36mInteractiveShell.run_cell_magic\u001b[0;34m(self, magic_name, line, cell)\u001b[0m\n\u001b[1;32m   2356\u001b[0m \u001b[39mwith\u001b[39;00m \u001b[39mself\u001b[39m\u001b[39m.\u001b[39mbuiltin_trap:\n\u001b[1;32m   2357\u001b[0m     args \u001b[39m=\u001b[39m (magic_arg_s, cell)\n\u001b[0;32m-> 2358\u001b[0m     result \u001b[39m=\u001b[39m fn(\u001b[39m*\u001b[39;49margs, \u001b[39m*\u001b[39;49m\u001b[39m*\u001b[39;49mkwargs)\n\u001b[1;32m   2359\u001b[0m \u001b[39mreturn\u001b[39;00m result\n",
      "File \u001b[0;32m~/.local/lib/python3.8/site-packages/IPython/core/magics/script.py:153\u001b[0m, in \u001b[0;36mScriptMagics._make_script_magic.<locals>.named_script_magic\u001b[0;34m(line, cell)\u001b[0m\n\u001b[1;32m    151\u001b[0m \u001b[39melse\u001b[39;00m:\n\u001b[1;32m    152\u001b[0m     line \u001b[39m=\u001b[39m script\n\u001b[0;32m--> 153\u001b[0m \u001b[39mreturn\u001b[39;00m \u001b[39mself\u001b[39;49m\u001b[39m.\u001b[39;49mshebang(line, cell)\n",
      "File \u001b[0;32m~/.local/lib/python3.8/site-packages/IPython/core/magics/script.py:305\u001b[0m, in \u001b[0;36mScriptMagics.shebang\u001b[0;34m(self, line, cell)\u001b[0m\n\u001b[1;32m    300\u001b[0m \u001b[39mif\u001b[39;00m args\u001b[39m.\u001b[39mraise_error \u001b[39mand\u001b[39;00m p\u001b[39m.\u001b[39mreturncode \u001b[39m!=\u001b[39m \u001b[39m0\u001b[39m:\n\u001b[1;32m    301\u001b[0m     \u001b[39m# If we get here and p.returncode is still None, we must have\u001b[39;00m\n\u001b[1;32m    302\u001b[0m     \u001b[39m# killed it but not yet seen its return code. We don't wait for it,\u001b[39;00m\n\u001b[1;32m    303\u001b[0m     \u001b[39m# in case it's stuck in uninterruptible sleep. -9 = SIGKILL\u001b[39;00m\n\u001b[1;32m    304\u001b[0m     rc \u001b[39m=\u001b[39m p\u001b[39m.\u001b[39mreturncode \u001b[39mor\u001b[39;00m \u001b[39m-\u001b[39m\u001b[39m9\u001b[39m\n\u001b[0;32m--> 305\u001b[0m     \u001b[39mraise\u001b[39;00m CalledProcessError(rc, cell)\n",
      "\u001b[0;31mCalledProcessError\u001b[0m: Command 'b\"#!/bin/bash\\n## -h \\xec\\x98\\xb5\\xec\\x85\\x98\\n## \\xeb\\xb3\\xb5\\xec\\x88\\x98 \\xed\\x8c\\x8c\\xec\\x9d\\xbc\\xec\\x97\\x90 \\xeb\\x8c\\x80\\xed\\x95\\xb4\\xec\\x84\\x9c\\xeb\\x8f\\x84 \\xed\\x8c\\x8c\\xec\\x9d\\xbc\\xeb\\xaa\\x85\\xec\\x9d\\x84 \\xeb\\xb3\\xb4\\xec\\x97\\xac\\xec\\xa3\\xbc\\xec\\xa7\\x80 \\xec\\x95\\x8a\\xeb\\x8a\\x94\\xeb\\x8b\\xa4.\\n\\ngrep -h 'express' ./*\\n\"' returned non-zero exit status 2."
     ]
    }
   ],
   "source": [
    "%%bash\n",
    "#!/bin/bash\n",
    "## -h 옵션\n",
    "## 복수 파일에 대해서도 파일명을 보여주지 않는다.\n",
    "\n",
    "grep -h 'express' ./*"
   ]
  },
  {
   "cell_type": "code",
   "execution_count": 50,
   "metadata": {
    "vscode": {
     "languageId": "shellscript"
    }
   },
   "outputs": [
    {
     "name": "stdout",
     "output_type": "stream",
     "text": [
      "file:-rw-rw-r-- 1 ubuntu ubuntu    717 Jul 14 04:17 expression.txt\n"
     ]
    }
   ],
   "source": [
    "%%bash\n",
    "#!/bin/bash\n",
    "## --label=LABEL 옵션\n",
    "## 라벨을 붙여준다\n",
    "\n",
    "ls -l | grep --label=file -H 'express'"
   ]
  },
  {
   "cell_type": "code",
   "execution_count": 53,
   "metadata": {
    "vscode": {
     "languageId": "shellscript"
    }
   },
   "outputs": [
    {
     "name": "stdout",
     "output_type": "stream",
     "text": [
      "23:Do you have any questions? or Do you need any help?\n",
      "24:If you have any questions, Please send a mail to the email below.\n"
     ]
    }
   ],
   "source": [
    "%%bash\n",
    "#!/bin/bash\n",
    "## -n 옵션\n",
    "## 라인 번호를 붙여준다\n",
    "\n",
    "grep -n 'question' expression.txt"
   ]
  },
  {
   "cell_type": "code",
   "execution_count": 54,
   "metadata": {
    "vscode": {
     "languageId": "shellscript"
    }
   },
   "outputs": [
    {
     "name": "stdout",
     "output_type": "stream",
     "text": [
      " 23:\tDo you have any questions? or Do you need any help?\n",
      " 24:\tIf you have any questions, Please send a mail to the email below.\n"
     ]
    }
   ],
   "source": [
    "%%bash\n",
    "#!/bin/bash\n",
    "## -T 옵션\n",
    "## 라인 번호를 출력할 때 가독성을 위헤 간격을 조정한다\n",
    "\n",
    "grep -T -n 'question' expression.txt"
   ]
  },
  {
   "cell_type": "code",
   "execution_count": 55,
   "metadata": {
    "vscode": {
     "languageId": "shellscript"
    }
   },
   "outputs": [
    {
     "name": "stdout",
     "output_type": "stream",
     "text": [
      "539:Do you have any questions? or Do you need any help?\n",
      "591:If you have any questions, Please send a mail to the email below.\n",
      "539:Do you have any questions? or Do you need any help?\n",
      "591:If you have any questions, Please send a mail to the email below.\n"
     ]
    }
   ],
   "source": [
    "%%bash\n",
    "#!/bin/bash\n",
    "## -u 옵션\n",
    "## 유닉스 스타일의 바이트 수를 앞에 보여준다\n",
    "## 없어도 동일한 결과가 나온다\n",
    "\n",
    "grep -u -b 'question' expression.txt\n",
    "grep -b 'question' expression.txt\n"
   ]
  },
  {
   "cell_type": "code",
   "execution_count": 56,
   "metadata": {
    "vscode": {
     "languageId": "shellscript"
    }
   },
   "outputs": [
    {
     "name": "stderr",
     "output_type": "stream",
     "text": [
      "grep: ./file-dir: Is a directory\n",
      "grep: ./test-dir: Is a directory\n"
     ]
    },
    {
     "name": "stdout",
     "output_type": "stream",
     "text": [
      "./expression.txt\u0000./grep_binary_test\u0000./shell.ipynb\u0000./test.txt\u0000"
     ]
    },
    {
     "ename": "CalledProcessError",
     "evalue": "Command 'b\"#!/bin/bash\\n## -Z \\xec\\x98\\xb5\\xec\\x85\\x98\\n## \\xed\\x8c\\x8c\\xec\\x9d\\xbc \\xeb\\xaa\\xa9\\xeb\\xa1\\x9d \\xec\\xb6\\x9c\\xeb\\xa0\\xa5\\xec\\x8b\\x9c \\xed\\x95\\x9c \\xec\\xa4\\x84\\xeb\\xa1\\x9c \\xec\\xb6\\x9c\\xeb\\xa0\\xa5\\xed\\x95\\x9c\\xeb\\x8b\\xa4. \\n## -Z \\xec\\x98\\xb5\\xec\\x85\\x98 \\xec\\x82\\xac\\xec\\x9a\\xa9\\xec\\x8b\\x9c \\xea\\xb2\\x80\\xec\\x83\\x89\\xeb\\x90\\x9c \\xed\\x8c\\x8c\\xec\\x9d\\xbc\\xeb\\xaa\\x85\\xec\\x9d\\x84 for\\xeb\\xac\\xb8\\xea\\xb3\\xbc \\xea\\xb0\\x99\\xec\\x9d\\x80 \\xec\\xa0\\x9c\\xec\\x96\\xb4\\xeb\\xac\\xb8\\xec\\x9d\\x98 \\xec\\x9d\\xb8\\xec\\x9e\\x90\\xea\\xb0\\x92\\xec\\x9c\\xbc\\xeb\\xa1\\x9c \\xec\\x82\\xac\\xec\\x9a\\xa9\\xed\\x95\\x98\\xea\\xb8\\xb0 \\xec\\xa2\\x8b\\xeb\\x8b\\xa4\\ncp expression.txt test.txt\\ngrep -Z -l 'express' ./*\\n\"' returned non-zero exit status 2.",
     "output_type": "error",
     "traceback": [
      "\u001b[0;31m---------------------------------------------------------------------------\u001b[0m",
      "\u001b[0;31mCalledProcessError\u001b[0m                        Traceback (most recent call last)",
      "\u001b[1;32m/home/ubuntu/workspace/shellscript_study/220714/shell.ipynb 셀 38\u001b[0m in \u001b[0;36m<cell line: 1>\u001b[0;34m()\u001b[0m\n\u001b[0;32m----> <a href='vscode-notebook-cell://ssh-remote%2Boracle/home/ubuntu/workspace/shellscript_study/220714/shell.ipynb#ch0000037vscode-remote?line=0'>1</a>\u001b[0m get_ipython()\u001b[39m.\u001b[39;49mrun_cell_magic(\u001b[39m'\u001b[39;49m\u001b[39mbash\u001b[39;49m\u001b[39m'\u001b[39;49m, \u001b[39m'\u001b[39;49m\u001b[39m'\u001b[39;49m, \u001b[39m\"\u001b[39;49m\u001b[39m#!/bin/bash\u001b[39;49m\u001b[39m\\n\u001b[39;49;00m\u001b[39m## -Z 옵션\u001b[39;49m\u001b[39m\\n\u001b[39;49;00m\u001b[39m## 파일 목록 출력시 한 줄로 출력한다. \u001b[39;49m\u001b[39m\\n\u001b[39;49;00m\u001b[39m## -Z 옵션 사용시 검색된 파일명을 for문과 같은 제어문의 인자값으로 사용하기 좋다\u001b[39;49m\u001b[39m\\n\u001b[39;49;00m\u001b[39mcp expression.txt test.txt\u001b[39;49m\u001b[39m\\n\u001b[39;49;00m\u001b[39mgrep -Z -l \u001b[39;49m\u001b[39m'\u001b[39;49m\u001b[39mexpress\u001b[39;49m\u001b[39m'\u001b[39;49m\u001b[39m ./*\u001b[39;49m\u001b[39m\\n\u001b[39;49;00m\u001b[39m\"\u001b[39;49m)\n",
      "File \u001b[0;32m~/.local/lib/python3.8/site-packages/IPython/core/interactiveshell.py:2358\u001b[0m, in \u001b[0;36mInteractiveShell.run_cell_magic\u001b[0;34m(self, magic_name, line, cell)\u001b[0m\n\u001b[1;32m   2356\u001b[0m \u001b[39mwith\u001b[39;00m \u001b[39mself\u001b[39m\u001b[39m.\u001b[39mbuiltin_trap:\n\u001b[1;32m   2357\u001b[0m     args \u001b[39m=\u001b[39m (magic_arg_s, cell)\n\u001b[0;32m-> 2358\u001b[0m     result \u001b[39m=\u001b[39m fn(\u001b[39m*\u001b[39;49margs, \u001b[39m*\u001b[39;49m\u001b[39m*\u001b[39;49mkwargs)\n\u001b[1;32m   2359\u001b[0m \u001b[39mreturn\u001b[39;00m result\n",
      "File \u001b[0;32m~/.local/lib/python3.8/site-packages/IPython/core/magics/script.py:153\u001b[0m, in \u001b[0;36mScriptMagics._make_script_magic.<locals>.named_script_magic\u001b[0;34m(line, cell)\u001b[0m\n\u001b[1;32m    151\u001b[0m \u001b[39melse\u001b[39;00m:\n\u001b[1;32m    152\u001b[0m     line \u001b[39m=\u001b[39m script\n\u001b[0;32m--> 153\u001b[0m \u001b[39mreturn\u001b[39;00m \u001b[39mself\u001b[39;49m\u001b[39m.\u001b[39;49mshebang(line, cell)\n",
      "File \u001b[0;32m~/.local/lib/python3.8/site-packages/IPython/core/magics/script.py:305\u001b[0m, in \u001b[0;36mScriptMagics.shebang\u001b[0;34m(self, line, cell)\u001b[0m\n\u001b[1;32m    300\u001b[0m \u001b[39mif\u001b[39;00m args\u001b[39m.\u001b[39mraise_error \u001b[39mand\u001b[39;00m p\u001b[39m.\u001b[39mreturncode \u001b[39m!=\u001b[39m \u001b[39m0\u001b[39m:\n\u001b[1;32m    301\u001b[0m     \u001b[39m# If we get here and p.returncode is still None, we must have\u001b[39;00m\n\u001b[1;32m    302\u001b[0m     \u001b[39m# killed it but not yet seen its return code. We don't wait for it,\u001b[39;00m\n\u001b[1;32m    303\u001b[0m     \u001b[39m# in case it's stuck in uninterruptible sleep. -9 = SIGKILL\u001b[39;00m\n\u001b[1;32m    304\u001b[0m     rc \u001b[39m=\u001b[39m p\u001b[39m.\u001b[39mreturncode \u001b[39mor\u001b[39;00m \u001b[39m-\u001b[39m\u001b[39m9\u001b[39m\n\u001b[0;32m--> 305\u001b[0m     \u001b[39mraise\u001b[39;00m CalledProcessError(rc, cell)\n",
      "\u001b[0;31mCalledProcessError\u001b[0m: Command 'b\"#!/bin/bash\\n## -Z \\xec\\x98\\xb5\\xec\\x85\\x98\\n## \\xed\\x8c\\x8c\\xec\\x9d\\xbc \\xeb\\xaa\\xa9\\xeb\\xa1\\x9d \\xec\\xb6\\x9c\\xeb\\xa0\\xa5\\xec\\x8b\\x9c \\xed\\x95\\x9c \\xec\\xa4\\x84\\xeb\\xa1\\x9c \\xec\\xb6\\x9c\\xeb\\xa0\\xa5\\xed\\x95\\x9c\\xeb\\x8b\\xa4. \\n## -Z \\xec\\x98\\xb5\\xec\\x85\\x98 \\xec\\x82\\xac\\xec\\x9a\\xa9\\xec\\x8b\\x9c \\xea\\xb2\\x80\\xec\\x83\\x89\\xeb\\x90\\x9c \\xed\\x8c\\x8c\\xec\\x9d\\xbc\\xeb\\xaa\\x85\\xec\\x9d\\x84 for\\xeb\\xac\\xb8\\xea\\xb3\\xbc \\xea\\xb0\\x99\\xec\\x9d\\x80 \\xec\\xa0\\x9c\\xec\\x96\\xb4\\xeb\\xac\\xb8\\xec\\x9d\\x98 \\xec\\x9d\\xb8\\xec\\x9e\\x90\\xea\\xb0\\x92\\xec\\x9c\\xbc\\xeb\\xa1\\x9c \\xec\\x82\\xac\\xec\\x9a\\xa9\\xed\\x95\\x98\\xea\\xb8\\xb0 \\xec\\xa2\\x8b\\xeb\\x8b\\xa4\\ncp expression.txt test.txt\\ngrep -Z -l 'express' ./*\\n\"' returned non-zero exit status 2."
     ]
    }
   ],
   "source": [
    "%%bash\n",
    "#!/bin/bash\n",
    "## -Z 옵션\n",
    "## 파일 목록 출력시 한 줄로 출력한다. \n",
    "## -Z 옵션 사용시 검색된 파일명을 for문과 같은 제어문의 인자값으로 사용하기 좋다\n",
    "cp expression.txt test.txt\n",
    "grep -Z -l 'express' ./*"
   ]
  },
  {
   "cell_type": "markdown",
   "metadata": {},
   "source": [
    "### 컨텍스트 라인 제어 관련 옵션\n",
    "검색된 라인 위, 아래로 추가 내용을 더 봐야 할 경우 사용하는 옵션  \n",
    "여러 건의 패턴이 검색되었을 경우 패턴을 중심으로 그룹구분 기호를 함께 출력해주는 옵션  \n",
    "\n",
    "|옵션|설명|\n",
    "|---|----|\n",
    "|-A 라인 수, --after-context=라인 수|라인 수 만큼 뒤 라인을 추가로 보여준다|\n",
    "|-B 라인 수, --before-context=라인 수|라인 수만큼 앞 라인을 추가로 보여준다|\n",
    "|-C 라인 수, -라인 수, --context=라인 수|라인 수만큼 앞뒤 라인을 추가로 보여준다|\n",
    "|--group-separator=그룹구분 기호|-A,-B,-C와 함께 사용시 기호와 함께 그루핑해준다|\n",
    "|--no-group-separtor|그루핑을 하지 않는다|"
   ]
  },
  {
   "cell_type": "code",
   "execution_count": 57,
   "metadata": {
    "vscode": {
     "languageId": "shellscript"
    }
   },
   "outputs": [
    {
     "name": "stdout",
     "output_type": "stream",
     "text": [
      "Do you have any questions? or Do you need any help?\n",
      "If you have any questions, Please send a mail to the email below.\n",
      "\n",
      "# Contacts\n"
     ]
    }
   ],
   "source": [
    "%%bash\n",
    "#!/bin/bash\n",
    "## -A 옵션\n",
    "## 라인 수만큼 뒤 라인을 추가로 보여준다\n",
    "\n",
    "grep -A 2 'question' expression.txt"
   ]
  },
  {
   "cell_type": "code",
   "execution_count": 58,
   "metadata": {
    "vscode": {
     "languageId": "shellscript"
    }
   },
   "outputs": [
    {
     "name": "stdout",
     "output_type": "stream",
     "text": [
      "\n",
      "# Help\n",
      "Do you have any questions? or Do you need any help?\n",
      "If you have any questions, Please send a mail to the email below.\n"
     ]
    }
   ],
   "source": [
    "%%bash\n",
    "#!/bin/bash\n",
    "## -B 옵션\n",
    "## 라인 수만큼 앞 라인을 추가로 보여준다\n",
    "\n",
    "grep -B 2 'question' expression.txt"
   ]
  },
  {
   "cell_type": "code",
   "execution_count": null,
   "metadata": {
    "vscode": {
     "languageId": "shellscript"
    }
   },
   "outputs": [
    {
     "name": "stdout",
     "output_type": "stream",
     "text": [
      "\n",
      "# Help\n",
      "Do you have any questions? or Do you need any help?\n",
      "If you have any questions, Please send a mail to the email below.\n",
      "\n",
      "# Contacts\n"
     ]
    }
   ],
   "source": [
    "%%bash\n",
    "#!/bin/bash\n",
    "## -C 옵션\n",
    "## 라인 수만큼 앞뒤 라인을 추가로 보여준다\n",
    "\n",
    "grep -C 2 'question' expression.txt"
   ]
  },
  {
   "cell_type": "code",
   "execution_count": 60,
   "metadata": {
    "vscode": {
     "languageId": "shellscript"
    }
   },
   "outputs": [
    {
     "name": "stdout",
     "output_type": "stream",
     "text": [
      "# Date: 2020-05-05\n",
      "# Author: NaleeJang\n",
      "# Description: regular expression test file\n",
      "#===========================================#\n",
      "=======\n",
      "# System Information\n",
      "CPU model is Intel(R) Core(TM) i7-8665U CPU @ 1.90GHz\n",
      "=======\n",
      "# Help\n",
      "Do you have any questions? or Do you need any help?\n",
      "=======\n",
      "# Contacts\n",
      "e-mail: nalee999@gmail.com\n"
     ]
    }
   ],
   "source": [
    "%%bash\n",
    "#!/bin/bash\n",
    "## --group-separator=그룹구분 기호 옵션\n",
    "## 떨어져 있으면 그 사이에 그룹구분 기호를 끼워넣는다\n",
    "\n",
    "grep -A 1 --group-separator='=======' '# [[:alpha:]]' expression.txt"
   ]
  },
  {
   "cell_type": "code",
   "execution_count": 62,
   "metadata": {
    "vscode": {
     "languageId": "shellscript"
    }
   },
   "outputs": [
    {
     "name": "stdout",
     "output_type": "stream",
     "text": [
      "# Date: 2020-05-05\n",
      "# Author: NaleeJang\n",
      "# Description: regular expression test file\n",
      "#===========================================#\n",
      "--\n",
      "# System Information\n",
      "CPU model is Intel(R) Core(TM) i7-8665U CPU @ 1.90GHz\n",
      "--\n",
      "# Help\n",
      "Do you have any questions? or Do you need any help?\n",
      "--\n",
      "# Contacts\n",
      "e-mail: nalee999@gmail.com\n",
      "# Date: 2020-05-05\n",
      "# Author: NaleeJang\n",
      "# Description: regular expression test file\n",
      "#===========================================#\n",
      "# System Information\n",
      "CPU model is Intel(R) Core(TM) i7-8665U CPU @ 1.90GHz\n",
      "# Help\n",
      "Do you have any questions? or Do you need any help?\n",
      "# Contacts\n",
      "e-mail: nalee999@gmail.com\n"
     ]
    }
   ],
   "source": [
    "%%bash\n",
    "#!/bin/bash\n",
    "## --no-group-separator\n",
    "## 기본적으로 -A,-B,-C는 -- 구분 기호를 출력하는데, 이를 생략한다\n",
    "\n",
    "grep -A 1 '# [[:alpha:]]' expression.txt\n",
    "grep -A 1 --no-group-separator '# [[:alpha:]]' expression.txt"
   ]
  },
  {
   "cell_type": "markdown",
   "metadata": {},
   "source": [
    "### 파일 및 디렉터리 관련 옵션\n",
    "검색 대상이 디렉터리와 파일이 대상일 경우 사용할 수 있다.\n",
    "대상 파일이 바이너리 파일, 심볼릭 링크일 경우에 사용할 수 있다.\n",
    "\n",
    "|옵션|설명|\n",
    "|----|---|\n",
    "|-a,--text|바이너리 파일에서 해당 패턴을 검색할 수 있음|\n",
    "|--binary-files=TYPE|TPYE은 기본적으로 binary이며, text를 사용한 경우 -a 옵션과 동일함|\n",
    "|-D ACTION, --device=ACTION| ACTION은 read와 skip이 있으며, read일 경우 디바이스에서 패턴을 검색하고, skip일 경우 디바이스를 검색하지 않음|\n",
    "|-d ACTION, --directories=ACTION|ACITON은 read와 skip이 있으며, read일 경우 디렉터리에서 패턴을 검색하고, skip일 경우 디렉터리는 검색하지 않음|\n",
    "|--exclude=GLOB|GLOB은 검색 대상에서 제외하고자 하는 파일명이다. 파일명은 *,?,/를 사용할 수 있다|\n",
    "|--exclude-from=FILE|검색 대상에서 제외할 파일이 명확할 경우 사용할 수 있음|\n",
    "|--exclude-dir=DIR|재귀 검색에서 패턴 DIR과 일치하는 디렉터리 제외|\n",
    "|-I|일치하는 데이터를 포함하지 않는 것처럼 이진 파일을 처리한다. --binary-files=without-match와 동일하다|\n",
    "|-include=GLOB|--excude와 반대로 파일명에 해당하는 파일에서만 검색 가능|\n",
    "|-r,--recursive|검색하고자 하는 디렉터리의 하위 디렉터리 파일도 검색 가능|\n",
    "|-R, --dereference-recursive|검색하고자 하는 디렉터리의 하위 디렉터리 파일 및 심볼릭 파일까지 검색 가능|\n"
   ]
  },
  {
   "cell_type": "code",
   "execution_count": 63,
   "metadata": {
    "vscode": {
     "languageId": "shellscript"
    }
   },
   "outputs": [
    {
     "name": "stdout",
     "output_type": "stream",
     "text": [
      "Context control:\n"
     ]
    }
   ],
   "source": [
    "%%bash\n",
    "#!/bin/bash\n",
    "## -a 옵션\n",
    "## 바이너리 파일을 텍스트로 간주하고, 해당 패턴이 있는지 검색한다\n",
    "cp /bin/grep ./grep_binary_test\n",
    "grep -a '^Context' grep_binary_test"
   ]
  },
  {
   "cell_type": "code",
   "execution_count": 64,
   "metadata": {
    "vscode": {
     "languageId": "shellscript"
    }
   },
   "outputs": [
    {
     "name": "stdout",
     "output_type": "stream",
     "text": [
      "Binary file grep_binary_test matches\n",
      "Context control:\n"
     ]
    }
   ],
   "source": [
    "%%bash\n",
    "#!/bin/bash\n",
    "## --binary-files=TYPE 옵션\n",
    "## TYPE에는 binary, text, without-match가 가능하다\n",
    "\n",
    "grep --binary-files=binary '^Context' grep_binary_test ##파일에 매칭되는 패턴이 있음 유무\n",
    "grep --binary-files=text '^Context' grep_binary_test"
   ]
  },
  {
   "cell_type": "code",
   "execution_count": 65,
   "metadata": {
    "vscode": {
     "languageId": "shellscript"
    }
   },
   "outputs": [
    {
     "name": "stderr",
     "output_type": "stream",
     "text": [
      "grep: /dev/mem: Permission denied\n",
      "grep: /dev/mem: Permission denied\n"
     ]
    },
    {
     "ename": "CalledProcessError",
     "evalue": "Command 'b\"#!/bin/bash\\n## -D ACTION \\xec\\x98\\xb5\\xec\\x85\\x98\\n## \\xea\\xb2\\x80\\xec\\x83\\x89\\xec\\x8b\\x9c \\xeb\\x94\\x94\\xeb\\xb0\\x94\\xec\\x9d\\xb4\\xec\\x8a\\xa4\\xea\\xb0\\x80 \\xea\\xb2\\x80\\xec\\x83\\x89 \\xeb\\x8c\\x80\\xec\\x83\\x81\\xec\\x9d\\xb4 \\xeb\\x90\\xa0 \\xec\\x88\\x98 \\xec\\x9e\\x88\\xeb\\x8b\\xa4. \\xec\\x9d\\xb4 \\xea\\xb2\\xbd\\xec\\x9a\\xb0 -D skip\\xec\\x9c\\xbc\\xeb\\xa1\\x9c \\xeb\\x94\\x94\\xeb\\xb0\\x94\\xec\\x9d\\xb4\\xec\\x8a\\xa4\\xeb\\xa5\\xbc \\xec\\xa0\\x9c\\xec\\x99\\xb8\\xed\\x95\\x9c\\xeb\\x8b\\xa4.\\n## -D read\\xeb\\x8a\\x94 \\xea\\xb2\\x80\\xec\\x83\\x89\\xec\\x9d\\x84 \\xec\\x8b\\x9c\\xeb\\x8f\\x84\\xed\\x95\\x9c\\xeb\\x8b\\xa4\\n\\ngrep -D read 'loop' /dev/mem\\ngrep -D skip 'loop' /dev/mem\\n\"' returned non-zero exit status 2.",
     "output_type": "error",
     "traceback": [
      "\u001b[0;31m---------------------------------------------------------------------------\u001b[0m",
      "\u001b[0;31mCalledProcessError\u001b[0m                        Traceback (most recent call last)",
      "\u001b[1;32m/home/ubuntu/workspace/shellscript_study/220714/shell.ipynb 셀 48\u001b[0m in \u001b[0;36m<cell line: 1>\u001b[0;34m()\u001b[0m\n\u001b[0;32m----> <a href='vscode-notebook-cell://ssh-remote%2Boracle/home/ubuntu/workspace/shellscript_study/220714/shell.ipynb#ch0000047vscode-remote?line=0'>1</a>\u001b[0m get_ipython()\u001b[39m.\u001b[39;49mrun_cell_magic(\u001b[39m'\u001b[39;49m\u001b[39mbash\u001b[39;49m\u001b[39m'\u001b[39;49m, \u001b[39m'\u001b[39;49m\u001b[39m'\u001b[39;49m, \u001b[39m\"\u001b[39;49m\u001b[39m#!/bin/bash\u001b[39;49m\u001b[39m\\n\u001b[39;49;00m\u001b[39m## -D ACTION 옵션\u001b[39;49m\u001b[39m\\n\u001b[39;49;00m\u001b[39m## 검색시 디바이스가 검색 대상이 될 수 있다. 이 경우 -D skip으로 디바이스를 제외한다.\u001b[39;49m\u001b[39m\\n\u001b[39;49;00m\u001b[39m## -D read는 검색을 시도한다\u001b[39;49m\u001b[39m\\n\u001b[39;49;00m\u001b[39m\\n\u001b[39;49;00m\u001b[39mgrep -D read \u001b[39;49m\u001b[39m'\u001b[39;49m\u001b[39mloop\u001b[39;49m\u001b[39m'\u001b[39;49m\u001b[39m /dev/mem\u001b[39;49m\u001b[39m\\n\u001b[39;49;00m\u001b[39mgrep -D skip \u001b[39;49m\u001b[39m'\u001b[39;49m\u001b[39mloop\u001b[39;49m\u001b[39m'\u001b[39;49m\u001b[39m /dev/mem\u001b[39;49m\u001b[39m\\n\u001b[39;49;00m\u001b[39m\"\u001b[39;49m)\n",
      "File \u001b[0;32m~/.local/lib/python3.8/site-packages/IPython/core/interactiveshell.py:2358\u001b[0m, in \u001b[0;36mInteractiveShell.run_cell_magic\u001b[0;34m(self, magic_name, line, cell)\u001b[0m\n\u001b[1;32m   2356\u001b[0m \u001b[39mwith\u001b[39;00m \u001b[39mself\u001b[39m\u001b[39m.\u001b[39mbuiltin_trap:\n\u001b[1;32m   2357\u001b[0m     args \u001b[39m=\u001b[39m (magic_arg_s, cell)\n\u001b[0;32m-> 2358\u001b[0m     result \u001b[39m=\u001b[39m fn(\u001b[39m*\u001b[39;49margs, \u001b[39m*\u001b[39;49m\u001b[39m*\u001b[39;49mkwargs)\n\u001b[1;32m   2359\u001b[0m \u001b[39mreturn\u001b[39;00m result\n",
      "File \u001b[0;32m~/.local/lib/python3.8/site-packages/IPython/core/magics/script.py:153\u001b[0m, in \u001b[0;36mScriptMagics._make_script_magic.<locals>.named_script_magic\u001b[0;34m(line, cell)\u001b[0m\n\u001b[1;32m    151\u001b[0m \u001b[39melse\u001b[39;00m:\n\u001b[1;32m    152\u001b[0m     line \u001b[39m=\u001b[39m script\n\u001b[0;32m--> 153\u001b[0m \u001b[39mreturn\u001b[39;00m \u001b[39mself\u001b[39;49m\u001b[39m.\u001b[39;49mshebang(line, cell)\n",
      "File \u001b[0;32m~/.local/lib/python3.8/site-packages/IPython/core/magics/script.py:305\u001b[0m, in \u001b[0;36mScriptMagics.shebang\u001b[0;34m(self, line, cell)\u001b[0m\n\u001b[1;32m    300\u001b[0m \u001b[39mif\u001b[39;00m args\u001b[39m.\u001b[39mraise_error \u001b[39mand\u001b[39;00m p\u001b[39m.\u001b[39mreturncode \u001b[39m!=\u001b[39m \u001b[39m0\u001b[39m:\n\u001b[1;32m    301\u001b[0m     \u001b[39m# If we get here and p.returncode is still None, we must have\u001b[39;00m\n\u001b[1;32m    302\u001b[0m     \u001b[39m# killed it but not yet seen its return code. We don't wait for it,\u001b[39;00m\n\u001b[1;32m    303\u001b[0m     \u001b[39m# in case it's stuck in uninterruptible sleep. -9 = SIGKILL\u001b[39;00m\n\u001b[1;32m    304\u001b[0m     rc \u001b[39m=\u001b[39m p\u001b[39m.\u001b[39mreturncode \u001b[39mor\u001b[39;00m \u001b[39m-\u001b[39m\u001b[39m9\u001b[39m\n\u001b[0;32m--> 305\u001b[0m     \u001b[39mraise\u001b[39;00m CalledProcessError(rc, cell)\n",
      "\u001b[0;31mCalledProcessError\u001b[0m: Command 'b\"#!/bin/bash\\n## -D ACTION \\xec\\x98\\xb5\\xec\\x85\\x98\\n## \\xea\\xb2\\x80\\xec\\x83\\x89\\xec\\x8b\\x9c \\xeb\\x94\\x94\\xeb\\xb0\\x94\\xec\\x9d\\xb4\\xec\\x8a\\xa4\\xea\\xb0\\x80 \\xea\\xb2\\x80\\xec\\x83\\x89 \\xeb\\x8c\\x80\\xec\\x83\\x81\\xec\\x9d\\xb4 \\xeb\\x90\\xa0 \\xec\\x88\\x98 \\xec\\x9e\\x88\\xeb\\x8b\\xa4. \\xec\\x9d\\xb4 \\xea\\xb2\\xbd\\xec\\x9a\\xb0 -D skip\\xec\\x9c\\xbc\\xeb\\xa1\\x9c \\xeb\\x94\\x94\\xeb\\xb0\\x94\\xec\\x9d\\xb4\\xec\\x8a\\xa4\\xeb\\xa5\\xbc \\xec\\xa0\\x9c\\xec\\x99\\xb8\\xed\\x95\\x9c\\xeb\\x8b\\xa4.\\n## -D read\\xeb\\x8a\\x94 \\xea\\xb2\\x80\\xec\\x83\\x89\\xec\\x9d\\x84 \\xec\\x8b\\x9c\\xeb\\x8f\\x84\\xed\\x95\\x9c\\xeb\\x8b\\xa4\\n\\ngrep -D read 'loop' /dev/mem\\ngrep -D skip 'loop' /dev/mem\\n\"' returned non-zero exit status 2."
     ]
    }
   ],
   "source": [
    "%%bash\n",
    "#!/bin/bash\n",
    "## -D ACTION 옵션\n",
    "## 검색시 디바이스가 검색 대상이 될 수 있다. 이 경우 -D skip으로 디바이스를 제외한다.\n",
    "## -D read는 검색을 시도한다\n",
    "\n",
    "grep -D read 'loop' /dev/mem\n",
    "grep -D skip 'loop' /dev/mem"
   ]
  },
  {
   "cell_type": "code",
   "execution_count": 67,
   "metadata": {
    "vscode": {
     "languageId": "shellscript"
    }
   },
   "outputs": [
    {
     "name": "stderr",
     "output_type": "stream",
     "text": [
      "mkdir: cannot create directory ‘test-dir’: File exists\n"
     ]
    },
    {
     "name": "stdout",
     "output_type": "stream",
     "text": [
      "./expression.txt:CPU model is Intel(R) Core(TM) i7-8665U CPU @ 1.90GHz\n",
      "./shell.ipynb:      \"CPU model is Intel(R) Core(TM) i7-8665U CPU @ 1.90GHz\\n\",\n",
      "./shell.ipynb:      \"CPU model is Intel(R) Core(TM) i7-8665U CPU @ 1.90GHz\\n\",\n",
      "./shell.ipynb:      \"CPU model is Intel(R) Core(TM) i7-8665U CPU @ 1.90GHz\\n\",\n",
      "./shell.ipynb:      \"CPU model is Intel(R) Core(TM) i7-8665U CPU @ 1.90GHz\\n\",\n",
      "./shell.ipynb:      \"./expression.txt:CPU model is Intel(R) Core(TM) i7-8665U CPU @ 1.90GHz\\n\",\n",
      "./shell.ipynb:      \"./test.txt:CPU model is Intel(R) Core(TM) i7-8665U CPU @ 1.90GHz\\n\"\n",
      "./shell.ipynb:      \"./expression.txt:CPU model is Intel(R) Core(TM) i7-8665U CPU @ 1.90GHz\\n\",\n",
      "./shell.ipynb:      \"./test.txt:CPU model is Intel(R) Core(TM) i7-8665U CPU @ 1.90GHz\\n\"\n",
      "./shell.ipynb:    \"grep -d read 'CPU' ./*\\n\",\n",
      "./shell.ipynb:    \"grep -d skip 'CPU' ./*\"\n",
      "./shell.ipynb:      \"./test.txt:CPU model is Intel(R) Core(TM) i7-8665U CPU @ 1.90GHz\\n\"\n",
      "./shell.ipynb:    \"grep -d skip --exclude=express* 'CPU' ./*\"\n",
      "./shell.ipynb:      \"./expression.txt:CPU model is Intel(R) Core(TM) i7-8665U CPU @ 1.90GHz\\n\"\n",
      "./shell.ipynb:    \"grep -d skip --include=express* 'CPU' ./*\"\n",
      "./shell.ipynb:      \"./expression.txt:CPU model is Intel(R) Core(TM) i7-8665U CPU @ 1.90GHz\\n\"\n",
      "./shell.ipynb:    \"grep -r --include=expression* 'CPU' ./*\"\n",
      "./shell.ipynb:      \"./expression.txt:CPU model is Intel(R) Core(TM) i7-8665U CPU @ 1.90GHz\\n\",\n",
      "./shell.ipynb:      \"./test.txt:CPU model is Intel(R) Core(TM) i7-8665U CPU @ 1.90GHz\\n\",\n",
      "./shell.ipynb:      \"./expression.txt:CPU model is Intel(R) Core(TM) i7-8665U CPU @ 1.90GHz\\n\",\n",
      "./shell.ipynb:      \"./file-dir/expression.txt:CPU model is Intel(R) Core(TM) i7-8665U CPU @ 1.90GHz\\n\",\n",
      "./shell.ipynb:      \"./test.txt:CPU model is Intel(R) Core(TM) i7-8665U CPU @ 1.90GHz\\n\"\n",
      "./shell.ipynb:    \"grep -r 'CPU' ./*\\n\",\n",
      "./shell.ipynb:    \"grep -R 'CPU' ./*\"\n",
      "./shell.ipynb:      \"CPU model is Intel(R) Core(TM) i7-8665U CPU @ 1.90GHz\\n\"\n",
      "./shell.ipynb:    \"grep -U 'CPU' expression.txt\"\n",
      "./shell.ipynb:      \"CPU model is Intel(R) Core(TM) i7-8665U CPU @ 1.90GHz\\n\",\n",
      "./shell.ipynb:    \"grep -z 'CPU' expression.txt\"\n",
      "./test.txt:CPU model is Intel(R) Core(TM) i7-8665U CPU @ 1.90GHz\n"
     ]
    }
   ],
   "source": [
    "%%bash\n",
    "#!/bin/bash\n",
    "## -d ACTION 옵션\n",
    "## 검색시 디렉터리가 검색 대상이 될 수 있다. 이 경우 -d skip으로 디렉터리 제외한다.\n",
    "## -D read는 디렉터리라는 메시지를 보여준다.\n",
    "\n",
    "mkdir test-dir\n",
    "grep -d read 'CPU' ./*\n",
    "grep -d skip 'CPU' ./*"
   ]
  },
  {
   "cell_type": "code",
   "execution_count": 68,
   "metadata": {
    "vscode": {
     "languageId": "shellscript"
    }
   },
   "outputs": [
    {
     "name": "stdout",
     "output_type": "stream",
     "text": [
      "expression.txt\n",
      "file-dir\n",
      "file1.txt\n",
      "file2.txt\n",
      "grep_binary_test\n",
      "nova.conf\n",
      "pattern1.txt\n",
      "pattern2.txt\n",
      "shell.ipynb\n",
      "test-dir\n",
      "test.txt\n",
      "./shell.ipynb:      \"CPU model is Intel(R) Core(TM) i7-8665U CPU @ 1.90GHz\\n\",\n",
      "./shell.ipynb:      \"CPU model is Intel(R) Core(TM) i7-8665U CPU @ 1.90GHz\\n\",\n",
      "./shell.ipynb:      \"CPU model is Intel(R) Core(TM) i7-8665U CPU @ 1.90GHz\\n\",\n",
      "./shell.ipynb:      \"CPU model is Intel(R) Core(TM) i7-8665U CPU @ 1.90GHz\\n\",\n",
      "./shell.ipynb:      \"./expression.txt:CPU model is Intel(R) Core(TM) i7-8665U CPU @ 1.90GHz\\n\",\n",
      "./shell.ipynb:      \"./test.txt:CPU model is Intel(R) Core(TM) i7-8665U CPU @ 1.90GHz\\n\"\n",
      "./shell.ipynb:      \"./expression.txt:CPU model is Intel(R) Core(TM) i7-8665U CPU @ 1.90GHz\\n\",\n",
      "./shell.ipynb:      \"./test.txt:CPU model is Intel(R) Core(TM) i7-8665U CPU @ 1.90GHz\\n\"\n",
      "./shell.ipynb:    \"grep -d read 'CPU' ./*\\n\",\n",
      "./shell.ipynb:    \"grep -d skip 'CPU' ./*\"\n",
      "./shell.ipynb:      \"./test.txt:CPU model is Intel(R) Core(TM) i7-8665U CPU @ 1.90GHz\\n\"\n",
      "./shell.ipynb:    \"grep -d skip --exclude=express* 'CPU' ./*\"\n",
      "./shell.ipynb:      \"./expression.txt:CPU model is Intel(R) Core(TM) i7-8665U CPU @ 1.90GHz\\n\"\n",
      "./shell.ipynb:    \"grep -d skip --include=express* 'CPU' ./*\"\n",
      "./shell.ipynb:      \"./expression.txt:CPU model is Intel(R) Core(TM) i7-8665U CPU @ 1.90GHz\\n\"\n",
      "./shell.ipynb:    \"grep -r --include=expression* 'CPU' ./*\"\n",
      "./shell.ipynb:      \"./expression.txt:CPU model is Intel(R) Core(TM) i7-8665U CPU @ 1.90GHz\\n\",\n",
      "./shell.ipynb:      \"./test.txt:CPU model is Intel(R) Core(TM) i7-8665U CPU @ 1.90GHz\\n\",\n",
      "./shell.ipynb:      \"./expression.txt:CPU model is Intel(R) Core(TM) i7-8665U CPU @ 1.90GHz\\n\",\n",
      "./shell.ipynb:      \"./file-dir/expression.txt:CPU model is Intel(R) Core(TM) i7-8665U CPU @ 1.90GHz\\n\",\n",
      "./shell.ipynb:      \"./test.txt:CPU model is Intel(R) Core(TM) i7-8665U CPU @ 1.90GHz\\n\"\n",
      "./shell.ipynb:    \"grep -r 'CPU' ./*\\n\",\n",
      "./shell.ipynb:    \"grep -R 'CPU' ./*\"\n",
      "./shell.ipynb:      \"CPU model is Intel(R) Core(TM) i7-8665U CPU @ 1.90GHz\\n\"\n",
      "./shell.ipynb:    \"grep -U 'CPU' expression.txt\"\n",
      "./shell.ipynb:      \"CPU model is Intel(R) Core(TM) i7-8665U CPU @ 1.90GHz\\n\",\n",
      "./shell.ipynb:    \"grep -z 'CPU' expression.txt\"\n",
      "./test.txt:CPU model is Intel(R) Core(TM) i7-8665U CPU @ 1.90GHz\n"
     ]
    }
   ],
   "source": [
    "%%bash\n",
    "#!/bin/bash\n",
    "## --exlcude=GLOB 옵션\n",
    "## GLOB은 * ? /와 같은 와일드카드 문자가 포함된 파일명을 의미한다\n",
    "## --exclude는 해당 파일은 검색에서 제외한다는 의미이다.\n",
    "ls\n",
    "grep -d skip --exclude=express* 'CPU' ./*"
   ]
  },
  {
   "cell_type": "code",
   "execution_count": 69,
   "metadata": {
    "vscode": {
     "languageId": "shellscript"
    }
   },
   "outputs": [
    {
     "name": "stderr",
     "output_type": "stream",
     "text": [
      "mkdir: cannot create directory ‘file-dir’: File exists\n"
     ]
    },
    {
     "name": "stdout",
     "output_type": "stream",
     "text": [
      "./expression.txt:If you have any questions, Please send a mail to the email below.\n",
      "./expression.txt:e-mail: nalee999@gmail.com\n",
      "./file-dir/file1.txt:mail\n",
      "./shell.ipynb:      \"If you have any questions, Please send a mail to the email below.\\n\"\n",
      "./shell.ipynb:      \"If you have any questions, Please send a mail to the email below.\\n\",\n",
      "./shell.ipynb:      \"e-mail: nalee999@gmail.com\\n\",\n",
      "./shell.ipynb:    \"grep -e 'mail' --regexp='phone' expression.txt #=있어도 되고 없어도 되고\\n\"\n",
      "./shell.ipynb:      \"If you have any questions, Please send a mail to the email below.\\n\",\n",
      "./shell.ipynb:      \"e-mail: nalee999@gmail.com\\n\",\n",
      "./shell.ipynb:    \"echo 'mail' > file1.txt\\n\",\n",
      "./shell.ipynb:      \"If you have any questions, Please send a mail to the email below.\\n\",\n",
      "./shell.ipynb:      \"e-mail: nalee999@gmail.com\\n\",\n",
      "./shell.ipynb:      \"24:If you have any questions, Please send a mail to the email below.\\n\"\n",
      "./shell.ipynb:      \" 24:\\tIf you have any questions, Please send a mail to the email below.\\n\"\n",
      "./shell.ipynb:      \"591:If you have any questions, Please send a mail to the email below.\\n\",\n",
      "./shell.ipynb:      \"591:If you have any questions, Please send a mail to the email below.\\n\"\n",
      "./shell.ipynb:      \"If you have any questions, Please send a mail to the email below.\\n\",\n",
      "./shell.ipynb:      \"If you have any questions, Please send a mail to the email below.\\n\"\n",
      "./shell.ipynb:      \"If you have any questions, Please send a mail to the email below.\\n\",\n",
      "./shell.ipynb:      \"If you have any questions, Please send a mail to the email below.\\n\",\n",
      "./shell.ipynb:      \"e-mail: nalee999@gmail.com\\n\",\n",
      "./shell.ipynb:      \"e-mail: nalee999@gmail.com\\n\",\n",
      "./shell.ipynb:      \"e-mail: nalee999@gmail.com\\n\"\n",
      "./shell.ipynb:      \"./expression.txt:If you have any questions, Please send a mail to the email below.\\n\",\n",
      "./shell.ipynb:      \"./expression.txt:e-mail: nalee999@gmail.com\\n\",\n",
      "./shell.ipynb:      \"./file-dir/file1.txt:mail\\n\",\n",
      "./shell.ipynb:      \"./test.txt:If you have any questions, Please send a mail to the email below.\\n\",\n",
      "./shell.ipynb:      \"./test.txt:e-mail: nalee999@gmail.com\\n\",\n",
      "./shell.ipynb:      \"./expression.txt:If you have any questions, Please send a mail to the email below.\\n\",\n",
      "./shell.ipynb:      \"./expression.txt:e-mail: nalee999@gmail.com\\n\",\n",
      "./shell.ipynb:      \"./test.txt:If you have any questions, Please send a mail to the email below.\\n\",\n",
      "./shell.ipynb:      \"./test.txt:e-mail: nalee999@gmail.com\\n\"\n",
      "./shell.ipynb:    \"grep -r 'mail' ./*\\n\",\n",
      "./shell.ipynb:    \"grep -r --exclude-dir=file-dir 'mail' ./*\"\n",
      "./shell.ipynb:      \"If you have any questions, Please send a mail to the email below.\\n\",\n",
      "./shell.ipynb:      \"e-mail: nalee999@gmail.com\\n\",\n",
      "./test.txt:If you have any questions, Please send a mail to the email below.\n",
      "./test.txt:e-mail: nalee999@gmail.com\n",
      "./expression.txt:If you have any questions, Please send a mail to the email below.\n",
      "./expression.txt:e-mail: nalee999@gmail.com\n",
      "./shell.ipynb:      \"If you have any questions, Please send a mail to the email below.\\n\"\n",
      "./shell.ipynb:      \"If you have any questions, Please send a mail to the email below.\\n\",\n",
      "./shell.ipynb:      \"e-mail: nalee999@gmail.com\\n\",\n",
      "./shell.ipynb:    \"grep -e 'mail' --regexp='phone' expression.txt #=있어도 되고 없어도 되고\\n\"\n",
      "./shell.ipynb:      \"If you have any questions, Please send a mail to the email below.\\n\",\n",
      "./shell.ipynb:      \"e-mail: nalee999@gmail.com\\n\",\n",
      "./shell.ipynb:    \"echo 'mail' > file1.txt\\n\",\n",
      "./shell.ipynb:      \"If you have any questions, Please send a mail to the email below.\\n\",\n",
      "./shell.ipynb:      \"e-mail: nalee999@gmail.com\\n\",\n",
      "./shell.ipynb:      \"24:If you have any questions, Please send a mail to the email below.\\n\"\n",
      "./shell.ipynb:      \" 24:\\tIf you have any questions, Please send a mail to the email below.\\n\"\n",
      "./shell.ipynb:      \"591:If you have any questions, Please send a mail to the email below.\\n\",\n",
      "./shell.ipynb:      \"591:If you have any questions, Please send a mail to the email below.\\n\"\n",
      "./shell.ipynb:      \"If you have any questions, Please send a mail to the email below.\\n\",\n",
      "./shell.ipynb:      \"If you have any questions, Please send a mail to the email below.\\n\"\n",
      "./shell.ipynb:      \"If you have any questions, Please send a mail to the email below.\\n\",\n",
      "./shell.ipynb:      \"If you have any questions, Please send a mail to the email below.\\n\",\n",
      "./shell.ipynb:      \"e-mail: nalee999@gmail.com\\n\",\n",
      "./shell.ipynb:      \"e-mail: nalee999@gmail.com\\n\",\n",
      "./shell.ipynb:      \"e-mail: nalee999@gmail.com\\n\"\n",
      "./shell.ipynb:      \"./expression.txt:If you have any questions, Please send a mail to the email below.\\n\",\n",
      "./shell.ipynb:      \"./expression.txt:e-mail: nalee999@gmail.com\\n\",\n",
      "./shell.ipynb:      \"./file-dir/file1.txt:mail\\n\",\n",
      "./shell.ipynb:      \"./test.txt:If you have any questions, Please send a mail to the email below.\\n\",\n",
      "./shell.ipynb:      \"./test.txt:e-mail: nalee999@gmail.com\\n\",\n",
      "./shell.ipynb:      \"./expression.txt:If you have any questions, Please send a mail to the email below.\\n\",\n",
      "./shell.ipynb:      \"./expression.txt:e-mail: nalee999@gmail.com\\n\",\n",
      "./shell.ipynb:      \"./test.txt:If you have any questions, Please send a mail to the email below.\\n\",\n",
      "./shell.ipynb:      \"./test.txt:e-mail: nalee999@gmail.com\\n\"\n",
      "./shell.ipynb:    \"grep -r 'mail' ./*\\n\",\n",
      "./shell.ipynb:    \"grep -r --exclude-dir=file-dir 'mail' ./*\"\n",
      "./shell.ipynb:      \"If you have any questions, Please send a mail to the email below.\\n\",\n",
      "./shell.ipynb:      \"e-mail: nalee999@gmail.com\\n\",\n",
      "./test.txt:If you have any questions, Please send a mail to the email below.\n",
      "./test.txt:e-mail: nalee999@gmail.com\n"
     ]
    }
   ],
   "source": [
    "%%bash\n",
    "#!/bin/bash\n",
    "## --exlcude-dir=DIR 옵션\n",
    "## 디렉터리를 검색 대상에서 제외한다. -r와 같이 사용된다\n",
    "mkdir file-dir; mv file*.txt file-dir\n",
    "grep -r 'mail' ./*\n",
    "grep -r --exclude-dir=file-dir 'mail' ./*"
   ]
  },
  {
   "cell_type": "code",
   "execution_count": null,
   "metadata": {
    "vscode": {
     "languageId": "shellscript"
    }
   },
   "outputs": [
    {
     "ename": "CalledProcessError",
     "evalue": "Command 'b\"#!/bin/bash\\n## -I \\xec\\x98\\xb5\\xec\\x85\\x98\\n## \\xeb\\xb0\\x94\\xec\\x9d\\xb4\\xeb\\x84\\x88\\xeb\\xa6\\xac \\xed\\x8c\\x8c\\xec\\x9d\\xbc\\xec\\x97\\x90\\xec\\x84\\x9c \\xed\\x8c\\xa8\\xed\\x84\\xb4\\xec\\x9d\\xb4 \\xea\\xb2\\x80\\xec\\x83\\x89\\xeb\\x90\\x98\\xec\\x96\\xb4\\xeb\\x8f\\x84 \\xea\\xb2\\xb0\\xea\\xb3\\xbc\\xeb\\xa1\\x9c \\xec\\xb6\\x9c\\xeb\\xa0\\xa5\\xed\\x95\\x98\\xec\\xa7\\x80 \\xec\\x95\\x8a\\xeb\\x8a\\x94\\xeb\\x8b\\xa4\\ngrep -I -d skip '^Context' grep_binary_test\\n\"' returned non-zero exit status 1.",
     "output_type": "error",
     "traceback": [
      "\u001b[0;31m---------------------------------------------------------------------------\u001b[0m",
      "\u001b[0;31mCalledProcessError\u001b[0m                        Traceback (most recent call last)",
      "\u001b[1;32m/home/ubuntu/workspace/shellscript_study/220714/shell.ipynb 셀 52\u001b[0m in \u001b[0;36m<cell line: 1>\u001b[0;34m()\u001b[0m\n\u001b[0;32m----> <a href='vscode-notebook-cell://ssh-remote%2Boracle/home/ubuntu/workspace/shellscript_study/220714/shell.ipynb#ch0000055vscode-remote?line=0'>1</a>\u001b[0m get_ipython()\u001b[39m.\u001b[39;49mrun_cell_magic(\u001b[39m'\u001b[39;49m\u001b[39mbash\u001b[39;49m\u001b[39m'\u001b[39;49m, \u001b[39m'\u001b[39;49m\u001b[39m'\u001b[39;49m, \u001b[39m\"\u001b[39;49m\u001b[39m#!/bin/bash\u001b[39;49m\u001b[39m\\n\u001b[39;49;00m\u001b[39m## -I 옵션\u001b[39;49m\u001b[39m\\n\u001b[39;49;00m\u001b[39m## 바이너리 파일에서 패턴이 검색되어도 결과로 출력하지 않는다\u001b[39;49m\u001b[39m\\n\u001b[39;49;00m\u001b[39mgrep -I -d skip \u001b[39;49m\u001b[39m'\u001b[39;49m\u001b[39m^Context\u001b[39;49m\u001b[39m'\u001b[39;49m\u001b[39m grep_binary_test\u001b[39;49m\u001b[39m\\n\u001b[39;49;00m\u001b[39m\"\u001b[39;49m)\n",
      "File \u001b[0;32m~/.local/lib/python3.8/site-packages/IPython/core/interactiveshell.py:2358\u001b[0m, in \u001b[0;36mInteractiveShell.run_cell_magic\u001b[0;34m(self, magic_name, line, cell)\u001b[0m\n\u001b[1;32m   2356\u001b[0m \u001b[39mwith\u001b[39;00m \u001b[39mself\u001b[39m\u001b[39m.\u001b[39mbuiltin_trap:\n\u001b[1;32m   2357\u001b[0m     args \u001b[39m=\u001b[39m (magic_arg_s, cell)\n\u001b[0;32m-> 2358\u001b[0m     result \u001b[39m=\u001b[39m fn(\u001b[39m*\u001b[39;49margs, \u001b[39m*\u001b[39;49m\u001b[39m*\u001b[39;49mkwargs)\n\u001b[1;32m   2359\u001b[0m \u001b[39mreturn\u001b[39;00m result\n",
      "File \u001b[0;32m~/.local/lib/python3.8/site-packages/IPython/core/magics/script.py:153\u001b[0m, in \u001b[0;36mScriptMagics._make_script_magic.<locals>.named_script_magic\u001b[0;34m(line, cell)\u001b[0m\n\u001b[1;32m    151\u001b[0m \u001b[39melse\u001b[39;00m:\n\u001b[1;32m    152\u001b[0m     line \u001b[39m=\u001b[39m script\n\u001b[0;32m--> 153\u001b[0m \u001b[39mreturn\u001b[39;00m \u001b[39mself\u001b[39;49m\u001b[39m.\u001b[39;49mshebang(line, cell)\n",
      "File \u001b[0;32m~/.local/lib/python3.8/site-packages/IPython/core/magics/script.py:305\u001b[0m, in \u001b[0;36mScriptMagics.shebang\u001b[0;34m(self, line, cell)\u001b[0m\n\u001b[1;32m    300\u001b[0m \u001b[39mif\u001b[39;00m args\u001b[39m.\u001b[39mraise_error \u001b[39mand\u001b[39;00m p\u001b[39m.\u001b[39mreturncode \u001b[39m!=\u001b[39m \u001b[39m0\u001b[39m:\n\u001b[1;32m    301\u001b[0m     \u001b[39m# If we get here and p.returncode is still None, we must have\u001b[39;00m\n\u001b[1;32m    302\u001b[0m     \u001b[39m# killed it but not yet seen its return code. We don't wait for it,\u001b[39;00m\n\u001b[1;32m    303\u001b[0m     \u001b[39m# in case it's stuck in uninterruptible sleep. -9 = SIGKILL\u001b[39;00m\n\u001b[1;32m    304\u001b[0m     rc \u001b[39m=\u001b[39m p\u001b[39m.\u001b[39mreturncode \u001b[39mor\u001b[39;00m \u001b[39m-\u001b[39m\u001b[39m9\u001b[39m\n\u001b[0;32m--> 305\u001b[0m     \u001b[39mraise\u001b[39;00m CalledProcessError(rc, cell)\n",
      "\u001b[0;31mCalledProcessError\u001b[0m: Command 'b\"#!/bin/bash\\n## -I \\xec\\x98\\xb5\\xec\\x85\\x98\\n## \\xeb\\xb0\\x94\\xec\\x9d\\xb4\\xeb\\x84\\x88\\xeb\\xa6\\xac \\xed\\x8c\\x8c\\xec\\x9d\\xbc\\xec\\x97\\x90\\xec\\x84\\x9c \\xed\\x8c\\xa8\\xed\\x84\\xb4\\xec\\x9d\\xb4 \\xea\\xb2\\x80\\xec\\x83\\x89\\xeb\\x90\\x98\\xec\\x96\\xb4\\xeb\\x8f\\x84 \\xea\\xb2\\xb0\\xea\\xb3\\xbc\\xeb\\xa1\\x9c \\xec\\xb6\\x9c\\xeb\\xa0\\xa5\\xed\\x95\\x98\\xec\\xa7\\x80 \\xec\\x95\\x8a\\xeb\\x8a\\x94\\xeb\\x8b\\xa4\\ngrep -I -d skip '^Context' grep_binary_test\\n\"' returned non-zero exit status 1."
     ]
    }
   ],
   "source": [
    "%%bash\n",
    "#!/bin/bash\n",
    "## -I 옵션\n",
    "## 바이너리 파일에서 패턴이 검색되어도 결과로 출력하지 않는다\n",
    "grep -I '^Context' grep_binary_test"
   ]
  },
  {
   "cell_type": "code",
   "execution_count": null,
   "metadata": {
    "vscode": {
     "languageId": "shellscript"
    }
   },
   "outputs": [
    {
     "name": "stdout",
     "output_type": "stream",
     "text": [
      "./expression.txt:CPU model is Intel(R) Core(TM) i7-8665U CPU @ 1.90GHz\n"
     ]
    }
   ],
   "source": [
    "%%bash\n",
    "#!/bin/bash\n",
    "## --include=GLOB 옵션\n",
    "## --exclude의 반대이다\n",
    "grep -d skip --include=express* 'CPU' ./*"
   ]
  },
  {
   "cell_type": "code",
   "execution_count": 71,
   "metadata": {
    "vscode": {
     "languageId": "shellscript"
    }
   },
   "outputs": [
    {
     "name": "stdout",
     "output_type": "stream",
     "text": [
      "./expression.txt:CPU model is Intel(R) Core(TM) i7-8665U CPU @ 1.90GHz\n",
      "./test-dir/expression.txt:CPU model is Intel(R) Core(TM) i7-8665U CPU @ 1.90GHz\n"
     ]
    }
   ],
   "source": [
    "%%bash\n",
    "#!/bin/bash\n",
    "## -r 옵션\n",
    "## 하위 디렉터리 내의 파일까지 모두 검색하고 싶을 때. 매우 자주 사용된다\n",
    "grep -r --include=expression* 'CPU' ./*"
   ]
  },
  {
   "cell_type": "code",
   "execution_count": 76,
   "metadata": {
    "vscode": {
     "languageId": "shellscript"
    }
   },
   "outputs": [
    {
     "name": "stderr",
     "output_type": "stream",
     "text": [
      "ln: failed to create symbolic link 'expression.txt': File exists\n"
     ]
    },
    {
     "name": "stdout",
     "output_type": "stream",
     "text": [
      "lrwxrwxrwx 1 ubuntu ubuntu 17 Jul 14 07:13 expression.txt -> ../expression.txt\n",
      "./expression.txt:CPU model is Intel(R) Core(TM) i7-8665U CPU @ 1.90GHz\n",
      "./test-dir/expression.txt:CPU model is Intel(R) Core(TM) i7-8665U CPU @ 1.90GHz\n",
      "./test.txt:CPU model is Intel(R) Core(TM) i7-8665U CPU @ 1.90GHz\n"
     ]
    }
   ],
   "source": [
    "%%bash\n",
    "#!/bin/bash\n",
    "## -R 옵션\n",
    "## 심볼릭 링크도 파일로 보고 검색한다. -r은 심볼릭 링크는 제외한다.\n",
    "cd file-dir\n",
    "ln -s ../expression.txt expression.txt\n",
    "ls -l expression.txt\n",
    "cd ..\n",
    "grep --exclude=shell.ipynb -r 'CPU' ./*\n",
    "## grep -R 'CPU' ./*"
   ]
  },
  {
   "cell_type": "markdown",
   "metadata": {},
   "source": [
    "### 기타 옵션\n",
    "|옵션|설명|\n",
    "|----|----|\n",
    "|--line-buffered|grep의 경우 패턴이 일치하는 모든 라인 검색이 완료된 후 화면에 보여주지만, 이 옵션을 사용하면 검색된 라인별로 바로 보여준다. 많은 양의 로그 검색 시 유용하나 많이 사용하면 성능에 영향을 줄 수 있다|\n",
    "|-U, --binary|검색 대상 파일을 바이너리로 취급하여 캐리지 리턴이나 라인피드 같은 문자를 제거하여 검색함|\n",
    "|-z,--null-data|패턴이 포함된 파일의 전체 내용을 출력함|"
   ]
  },
  {
   "cell_type": "code",
   "execution_count": 80,
   "metadata": {
    "vscode": {
     "languageId": "shellscript"
    }
   },
   "outputs": [
    {
     "name": "stdout",
     "output_type": "stream",
     "text": [
      "CPU model is Intel(R) Core(TM) i7-8665U CPU @ 1.90GHz\n"
     ]
    }
   ],
   "source": [
    "%%bash\n",
    "#!/bin/bash\n",
    "## -U 옵션\n",
    "## 캐리지 리턴과 라인피드와 같은 문자를 제거하고 검색을 진행한다.\n",
    "## 일반적으로 결과에 차이가 없다\n",
    "grep -U 'CPU' expression.txt"
   ]
  },
  {
   "cell_type": "code",
   "execution_count": 81,
   "metadata": {
    "vscode": {
     "languageId": "shellscript"
    }
   },
   "outputs": [
    {
     "name": "stdout",
     "output_type": "stream",
     "text": [
      "====================\n",
      " Regular Expression\n",
      "====================\n",
      "  \n",
      "#===========================================#\n",
      "# Date: 2020-05-05\n",
      "# Author: NaleeJang\n",
      "# Description: regular expression test file\n",
      "#===========================================#\n",
      "\n",
      "\n",
      "Today is 05-May-2020.\n",
      "Current time is 6:04PM.\n",
      "This is an example file for testing regular expressions.\tThis example file includes control characters.\n",
      "\n",
      "# System Information\n",
      "CPU model is Intel(R) Core(TM) i7-8665U CPU @ 1.90GHz\n",
      "Memory size is 32GiB\n",
      "Disk is 512 GB\n",
      "IP Address is 192.168.35.7\n",
      "\n",
      "# Help\n",
      "Do you have any questions? or Do you need any help?\n",
      "If you have any questions, Please send a mail to the email below.\n",
      "\n",
      "# Contacts\n",
      "e-mail: nalee999@gmail.com\n",
      "phone: 010-2222-5668\n",
      "\u0000"
     ]
    }
   ],
   "source": [
    "%%bash\n",
    "#!/bin/bash\n",
    "## -z 옵션\n",
    "## 파일 내용을 그대로 보여준다\n",
    "grep -z 'CPU' expression.txt"
   ]
  },
  {
   "cell_type": "code",
   "execution_count": null,
   "metadata": {
    "vscode": {
     "languageId": "shellscript"
    }
   },
   "outputs": [],
   "source": []
  }
 ],
 "metadata": {
  "kernelspec": {
   "display_name": "Python 3.8.10 64-bit",
   "language": "python",
   "name": "python3"
  },
  "language_info": {
   "codemirror_mode": {
    "name": "ipython",
    "version": 3
   },
   "file_extension": ".py",
   "mimetype": "text/x-python",
   "name": "python",
   "nbconvert_exporter": "python",
   "pygments_lexer": "ipython3",
   "version": "3.8.10"
  },
  "orig_nbformat": 4,
  "vscode": {
   "interpreter": {
    "hash": "e7370f93d1d0cde622a1f8e1c04877d8463912d04d973331ad4851f04de6915a"
   }
  }
 },
 "nbformat": 4,
 "nbformat_minor": 2
}
